{
  "nbformat": 4,
  "nbformat_minor": 0,
  "metadata": {
    "colab": {
      "provenance": [],
      "authorship_tag": "ABX9TyNi7+w2YVWJN6HhAFsZ/OkH",
      "include_colab_link": true
    },
    "kernelspec": {
      "name": "python3",
      "display_name": "Python 3"
    },
    "language_info": {
      "name": "python"
    }
  },
  "cells": [
    {
      "cell_type": "markdown",
      "metadata": {
        "id": "view-in-github",
        "colab_type": "text"
      },
      "source": [
        "<a href=\"https://colab.research.google.com/github/novtryrezki/Terbaru/blob/main/1CNN_bs_32_ep_40.ipynb\" target=\"_parent\"><img src=\"https://colab.research.google.com/assets/colab-badge.svg\" alt=\"Open In Colab\"/></a>"
      ]
    },
    {
      "cell_type": "code",
      "execution_count": 1,
      "metadata": {
        "id": "Gj0QELQHjUVZ"
      },
      "outputs": [],
      "source": [
        "import os\n",
        "import zipfile\n",
        "import random\n",
        "import shutil\n",
        "import numpy as np\n",
        "import tensorflow as tf\n",
        "import pandas as pd\n",
        "from google.colab import drive\n",
        "from sklearn.model_selection import train_test_split"
      ]
    },
    {
      "cell_type": "code",
      "source": [
        "# Melakukan mount pada Google Drive\n",
        "drive.mount('/content/drive')\n",
        "\n",
        "# Menentukan path file ZIP di Google Drive\n",
        "zip_path = '/content/drive/MyDrive/images.zip'\n",
        "\n",
        "# Membuat objek zip_ref\n",
        "zip_ref = zipfile.ZipFile(zip_path, 'r')\n",
        "\n",
        "# Mengekstrak file ZIP\n",
        "extract_path ='/content/images'\n",
        "zip_ref.extractall(extract_path)\n",
        "\n",
        "# Tutup objek zip_ref setelah selesai\n",
        "zip_ref.close()"
      ],
      "metadata": {
        "colab": {
          "base_uri": "https://localhost:8080/"
        },
        "id": "HXtZwYwdjXH4",
        "outputId": "1e8d3837-d5a0-4678-d801-60dfb70b90ec"
      },
      "execution_count": 2,
      "outputs": [
        {
          "output_type": "stream",
          "name": "stdout",
          "text": [
            "Mounted at /content/drive\n"
          ]
        }
      ]
    },
    {
      "cell_type": "code",
      "source": [
        "# Mendefinisikan path direktori dataset\n",
        "dataset_dir = os.path.join(extract_path, 'images')\n",
        "train_dir = os.path.join(dataset_dir, 'train')\n",
        "test_dir = os.path.join(dataset_dir, 'test')\n",
        "list_train = sorted(os.listdir(train_dir))\n",
        "list_test = sorted(os.listdir(test_dir))\n",
        "\n",
        "print(\"Daftar Angka pada Dataset Train yaitu : \", list_train)\n",
        "print(\"Daftar Angka pada Dataset Test yaitu : \", list_test)"
      ],
      "metadata": {
        "colab": {
          "base_uri": "https://localhost:8080/"
        },
        "id": "P9SpMwZxCMpv",
        "outputId": "6459e8a0-1e5e-4e0b-b4f8-c90b8d873847"
      },
      "execution_count": 3,
      "outputs": [
        {
          "output_type": "stream",
          "name": "stdout",
          "text": [
            "Daftar Angka pada Dataset Train yaitu :  ['angka 0', 'angka 1', 'angka 2', 'angka 3', 'angka 4', 'angka 5', 'angka 6', 'angka 7', 'angka 8', 'angka 9']\n",
            "Daftar Angka pada Dataset Test yaitu :  ['angka 0', 'angka 1', 'angka 2', 'angka 3', 'angka 4', 'angka 5', 'angka 6', 'angka 7', 'angka 8', 'angka 9']\n"
          ]
        }
      ]
    },
    {
      "cell_type": "code",
      "source": [
        "def count_images(directory):\n",
        "    return sum(1 for file in os.listdir(directory) if file.endswith(('.jpg', '.jpeg', '.png', '.gif')))\n",
        "\n",
        "# Menghitung jumlah gambar di data train\n",
        "train_image_count = sum(count_images(os.path.join(train_dir, angka)) for angka in list_train)\n",
        "\n",
        "# Menghitung jumlah gambar di data test\n",
        "test_image_count = sum(count_images(os.path.join(test_dir, angka)) for angka in list_test)\n",
        "\n",
        "print(f\"Jumlah gambar di Dataset Train: {train_image_count}\")\n",
        "print(f\"Jumlah gambar di Dataset Test: {test_image_count}\")"
      ],
      "metadata": {
        "colab": {
          "base_uri": "https://localhost:8080/"
        },
        "id": "JycQg0kGCHHe",
        "outputId": "e3854f9f-0615-4a16-c7c3-8ebe66a9988c"
      },
      "execution_count": 4,
      "outputs": [
        {
          "output_type": "stream",
          "name": "stdout",
          "text": [
            "Jumlah gambar di Dataset Train: 1763\n",
            "Jumlah gambar di Dataset Test: 445\n"
          ]
        }
      ]
    },
    {
      "cell_type": "markdown",
      "source": [
        "# Preprocessing"
      ],
      "metadata": {
        "id": "Cs-YBymEElj8"
      }
    },
    {
      "cell_type": "code",
      "source": [
        "import cv2\n",
        "\n",
        "def resize_images(directory, target_resolution):\n",
        "    for angka in os.listdir(directory):\n",
        "        angka_dir = os.path.join(directory, angka)\n",
        "        for file_name in os.listdir(angka_dir):\n",
        "            file_path = os.path.join(angka_dir, file_name)\n",
        "            img = cv2.imread(file_path)\n",
        "            resized_img = cv2.resize(img, (target_resolution[0], target_resolution[1]))\n",
        "            cv2.imwrite(file_path, resized_img)\n",
        "\n",
        "target_resolution = (52, 78)\n",
        "resize_images(train_dir, target_resolution)\n",
        "resize_images(test_dir, target_resolution)"
      ],
      "metadata": {
        "id": "j-iPjxpXF_bf"
      },
      "execution_count": 5,
      "outputs": []
    },
    {
      "cell_type": "code",
      "source": [
        "from tensorflow.keras.preprocessing.image import ImageDataGenerator\n",
        "\n",
        "# Membuat generator data dengan augmentasi\n",
        "image_size = (52, 78)\n",
        "batch_size = 32\n",
        "\n",
        "train_datagen = ImageDataGenerator(\n",
        "    rescale = 1./255,\n",
        "    width_shift_range = 0.2,\n",
        "    height_shift_range = 0.2,\n",
        "    zoom_range = 0.2,\n",
        ")\n",
        "\n",
        "test_datagen = ImageDataGenerator(\n",
        "    rescale=1./255,\n",
        ")\n",
        "\n",
        "train_generator = train_datagen.flow_from_directory(\n",
        "    train_dir,\n",
        "    target_size=image_size,\n",
        "    batch_size=batch_size,\n",
        "    class_mode='categorical',\n",
        "    color_mode='grayscale'\n",
        ")\n",
        "\n",
        "test_generator = test_datagen.flow_from_directory(\n",
        "    test_dir,\n",
        "    target_size=image_size,\n",
        "    batch_size=batch_size,\n",
        "    class_mode='categorical',\n",
        "    color_mode='grayscale'\n",
        ")"
      ],
      "metadata": {
        "colab": {
          "base_uri": "https://localhost:8080/"
        },
        "id": "MrR6ROkiF9Uj",
        "outputId": "0bf7c37d-9857-4814-b29d-1c0acd587285"
      },
      "execution_count": 6,
      "outputs": [
        {
          "output_type": "stream",
          "name": "stdout",
          "text": [
            "Found 1763 images belonging to 10 classes.\n",
            "Found 445 images belonging to 10 classes.\n"
          ]
        }
      ]
    },
    {
      "cell_type": "markdown",
      "source": [
        "# Membuat Model CNN"
      ],
      "metadata": {
        "id": "gPqE7ywQJ01c"
      }
    },
    {
      "cell_type": "code",
      "source": [
        "from tensorflow.keras.models import Sequential\n",
        "from tensorflow.keras.layers import Conv2D, AveragePooling2D, Flatten, Dense\n",
        "import math\n",
        "\n",
        "img_size = 52*78*1\n",
        "\n",
        "# Perhitungan jumlah neuron pada lapisan tersembunyi\n",
        "hidden_neurons = int(math.sqrt(img_size * 10))\n",
        "\n",
        "model1c = Sequential()\n",
        "model1c.add(Conv2D(32, (3, 3), activation='relu', input_shape=(52, 78, 1)))\n",
        "model1c.add(AveragePooling2D((2, 2)))\n",
        "model1c.add(Conv2D(64, (3, 3), activation='relu'))\n",
        "model1c.add(AveragePooling2D((2, 2)))\n",
        "model1c.add(Flatten())\n",
        "model1c.add(Dense(hidden_neurons, activation='relu'))\n",
        "model1c.add(Dense(10, activation='softmax'))\n",
        "\n",
        "model1c.compile(optimizer='SGD', loss='categorical_crossentropy', metrics=['accuracy'])"
      ],
      "metadata": {
        "id": "SvNzs3QB71R6"
      },
      "execution_count": 7,
      "outputs": []
    },
    {
      "cell_type": "code",
      "source": [
        "model1c.summary()"
      ],
      "metadata": {
        "colab": {
          "base_uri": "https://localhost:8080/"
        },
        "id": "RfHd4NJznjOh",
        "outputId": "4e92924e-9955-4bcb-fc03-60bb04641310"
      },
      "execution_count": 8,
      "outputs": [
        {
          "output_type": "stream",
          "name": "stdout",
          "text": [
            "Model: \"sequential\"\n",
            "_________________________________________________________________\n",
            " Layer (type)                Output Shape              Param #   \n",
            "=================================================================\n",
            " conv2d (Conv2D)             (None, 50, 76, 32)        320       \n",
            "                                                                 \n",
            " average_pooling2d (Average  (None, 25, 38, 32)        0         \n",
            " Pooling2D)                                                      \n",
            "                                                                 \n",
            " conv2d_1 (Conv2D)           (None, 23, 36, 64)        18496     \n",
            "                                                                 \n",
            " average_pooling2d_1 (Avera  (None, 11, 18, 64)        0         \n",
            " gePooling2D)                                                    \n",
            "                                                                 \n",
            " flatten (Flatten)           (None, 12672)             0         \n",
            "                                                                 \n",
            " dense (Dense)               (None, 201)               2547273   \n",
            "                                                                 \n",
            " dense_1 (Dense)             (None, 10)                2020      \n",
            "                                                                 \n",
            "=================================================================\n",
            "Total params: 2568109 (9.80 MB)\n",
            "Trainable params: 2568109 (9.80 MB)\n",
            "Non-trainable params: 0 (0.00 Byte)\n",
            "_________________________________________________________________\n"
          ]
        }
      ]
    },
    {
      "cell_type": "code",
      "source": [
        "history = model1c.fit(train_generator, epochs=40, verbose = 1)"
      ],
      "metadata": {
        "colab": {
          "base_uri": "https://localhost:8080/"
        },
        "id": "I_Klj8ReYASB",
        "outputId": "c1d6da0e-75f2-4dcb-e8c8-206cbe673074"
      },
      "execution_count": 9,
      "outputs": [
        {
          "output_type": "stream",
          "name": "stdout",
          "text": [
            "Epoch 1/40\n",
            "56/56 [==============================] - 10s 149ms/step - loss: 2.0766 - accuracy: 0.2944\n",
            "Epoch 2/40\n",
            "56/56 [==============================] - 10s 172ms/step - loss: 1.9948 - accuracy: 0.3449\n",
            "Epoch 3/40\n",
            "56/56 [==============================] - 8s 134ms/step - loss: 1.9685 - accuracy: 0.3568\n",
            "Epoch 4/40\n",
            "56/56 [==============================] - 8s 134ms/step - loss: 1.9274 - accuracy: 0.3806\n",
            "Epoch 5/40\n",
            "56/56 [==============================] - 9s 158ms/step - loss: 1.8903 - accuracy: 0.3704\n",
            "Epoch 6/40\n",
            "56/56 [==============================] - 9s 167ms/step - loss: 1.8448 - accuracy: 0.3971\n",
            "Epoch 7/40\n",
            "56/56 [==============================] - 10s 174ms/step - loss: 1.7924 - accuracy: 0.4107\n",
            "Epoch 8/40\n",
            "56/56 [==============================] - 7s 131ms/step - loss: 1.8002 - accuracy: 0.3971\n",
            "Epoch 9/40\n",
            "56/56 [==============================] - 9s 156ms/step - loss: 1.7658 - accuracy: 0.4044\n",
            "Epoch 10/40\n",
            "56/56 [==============================] - 9s 162ms/step - loss: 1.7851 - accuracy: 0.3971\n",
            "Epoch 11/40\n",
            "56/56 [==============================] - 8s 133ms/step - loss: 1.7442 - accuracy: 0.4192\n",
            "Epoch 12/40\n",
            "56/56 [==============================] - 8s 142ms/step - loss: 1.7088 - accuracy: 0.4175\n",
            "Epoch 13/40\n",
            "56/56 [==============================] - 9s 166ms/step - loss: 1.7289 - accuracy: 0.4220\n",
            "Epoch 14/40\n",
            "56/56 [==============================] - 9s 162ms/step - loss: 1.6960 - accuracy: 0.4424\n",
            "Epoch 15/40\n",
            "56/56 [==============================] - 7s 133ms/step - loss: 1.6777 - accuracy: 0.4515\n",
            "Epoch 16/40\n",
            "56/56 [==============================] - 9s 163ms/step - loss: 1.6642 - accuracy: 0.4430\n",
            "Epoch 17/40\n",
            "56/56 [==============================] - 9s 156ms/step - loss: 1.6357 - accuracy: 0.4583\n",
            "Epoch 18/40\n",
            "56/56 [==============================] - 8s 134ms/step - loss: 1.5996 - accuracy: 0.4787\n",
            "Epoch 19/40\n",
            "56/56 [==============================] - 9s 162ms/step - loss: 1.6129 - accuracy: 0.4708\n",
            "Epoch 20/40\n",
            "56/56 [==============================] - 11s 196ms/step - loss: 1.5692 - accuracy: 0.4855\n",
            "Epoch 21/40\n",
            "56/56 [==============================] - 9s 163ms/step - loss: 1.5595 - accuracy: 0.4878\n",
            "Epoch 22/40\n",
            "56/56 [==============================] - 9s 163ms/step - loss: 1.4972 - accuracy: 0.5179\n",
            "Epoch 23/40\n",
            "56/56 [==============================] - 8s 135ms/step - loss: 1.4839 - accuracy: 0.5156\n",
            "Epoch 24/40\n",
            "56/56 [==============================] - 9s 161ms/step - loss: 1.4965 - accuracy: 0.5173\n",
            "Epoch 25/40\n",
            "56/56 [==============================] - 8s 141ms/step - loss: 1.4584 - accuracy: 0.5241\n",
            "Epoch 26/40\n",
            "56/56 [==============================] - 9s 153ms/step - loss: 1.4217 - accuracy: 0.5389\n",
            "Epoch 27/40\n",
            "56/56 [==============================] - 9s 163ms/step - loss: 1.4023 - accuracy: 0.5644\n",
            "Epoch 28/40\n",
            "56/56 [==============================] - 7s 132ms/step - loss: 1.3391 - accuracy: 0.5780\n",
            "Epoch 29/40\n",
            "56/56 [==============================] - 8s 144ms/step - loss: 1.3732 - accuracy: 0.5695\n",
            "Epoch 30/40\n",
            "56/56 [==============================] - 9s 165ms/step - loss: 1.2826 - accuracy: 0.5910\n",
            "Epoch 31/40\n",
            "56/56 [==============================] - 9s 160ms/step - loss: 1.3144 - accuracy: 0.5791\n",
            "Epoch 32/40\n",
            "56/56 [==============================] - 8s 135ms/step - loss: 1.2887 - accuracy: 0.5876\n",
            "Epoch 33/40\n",
            "56/56 [==============================] - 8s 146ms/step - loss: 1.2270 - accuracy: 0.6103\n",
            "Epoch 34/40\n",
            "56/56 [==============================] - 9s 163ms/step - loss: 1.2303 - accuracy: 0.6115\n",
            "Epoch 35/40\n",
            "56/56 [==============================] - 9s 156ms/step - loss: 1.1922 - accuracy: 0.6268\n",
            "Epoch 36/40\n",
            "56/56 [==============================] - 9s 166ms/step - loss: 1.1770 - accuracy: 0.6160\n",
            "Epoch 37/40\n",
            "56/56 [==============================] - 8s 147ms/step - loss: 1.1423 - accuracy: 0.6387\n",
            "Epoch 38/40\n",
            "56/56 [==============================] - 9s 165ms/step - loss: 1.1181 - accuracy: 0.6512\n",
            "Epoch 39/40\n",
            "56/56 [==============================] - 8s 133ms/step - loss: 1.0857 - accuracy: 0.6512\n",
            "Epoch 40/40\n",
            "56/56 [==============================] - 9s 165ms/step - loss: 1.0931 - accuracy: 0.6636\n"
          ]
        }
      ]
    },
    {
      "cell_type": "markdown",
      "source": [
        "#Matriks Konfusi"
      ],
      "metadata": {
        "id": "6VOcIXg0IvCs"
      }
    },
    {
      "cell_type": "code",
      "source": [
        "from sklearn.metrics import confusion_matrix, classification_report\n",
        "import seaborn as sns\n",
        "import matplotlib.pyplot as plt\n",
        "\n",
        "# Fungsi untuk mendapatkan prediksi model dan label sebenarnya\n",
        "def get_predictions_and_labels(model, data_generator):\n",
        "    predictions = model.predict(data_generator)\n",
        "    predicted_classes = np.argmax(predictions, axis=1)\n",
        "    true_classes = data_generator.classes\n",
        "    class_labels = list(data_generator.class_indices.keys())\n",
        "    return predicted_classes, true_classes, class_labels\n",
        "\n",
        "# Mendapatkan prediksi dan label sebenarnya untuk data uji\n",
        "y_pred, y_true, class_labels = get_predictions_and_labels(model1c, test_generator)\n",
        "\n",
        "# Membuat matriks konfusi\n",
        "cf_matrix = confusion_matrix(y_true, y_pred)\n",
        "\n",
        "# Membuat visualisasi matriks konfusi\n",
        "fig, ax = plt.subplots(figsize=(8, 6))\n",
        "sns.heatmap(cf_matrix, annot=True, fmt='g', cmap='Blues', ax=ax)\n",
        "\n",
        "# Menetapkan label dan judul\n",
        "ax.set_title('Confusion Matrix with labels')\n",
        "ax.set_xlabel('Predicted Values')\n",
        "ax.set_ylabel('Actual Values')\n",
        "\n",
        "# Menetapkan label pada sumbu x dan y sesuai dengan jenis kelas\n",
        "ax.xaxis.set_ticklabels(class_labels, rotation=45)\n",
        "ax.yaxis.set_ticklabels(class_labels, rotation=45)\n",
        "\n",
        "# Menampilkan visualisasi Matriks Konfusi\n",
        "plt.show()"
      ],
      "metadata": {
        "colab": {
          "base_uri": "https://localhost:8080/",
          "height": 617
        },
        "id": "Lz5lA0bDIxJg",
        "outputId": "50d3b531-5225-4bd1-b567-f1e010fb4201"
      },
      "execution_count": 16,
      "outputs": [
        {
          "output_type": "stream",
          "name": "stdout",
          "text": [
            "14/14 [==============================] - 1s 74ms/step\n"
          ]
        },
        {
          "output_type": "display_data",
          "data": {
            "text/plain": [
              "<Figure size 800x600 with 2 Axes>"
            ],
            "image/png": "[encoded data removed]"
          },
          "metadata": {}
        }
      ]
    },
    {
      "cell_type": "code",
      "source": [
        "from sklearn.metrics import accuracy_score\n",
        "\n",
        "test_accuracy = accuracy_score(y_true, y_pred)\n",
        "print(f\"Test Accuracy: {test_accuracy}\")"
      ],
      "metadata": {
        "colab": {
          "base_uri": "https://localhost:8080/"
        },
        "id": "S7iwBJlGZEUM",
        "outputId": "6386ee12-9445-489e-f5e8-db0857c46d71"
      },
      "execution_count": 17,
      "outputs": [
        {
          "output_type": "stream",
          "name": "stdout",
          "text": [
            "Test Accuracy: 0.19325842696629214\n"
          ]
        }
      ]
    }
  ]
}