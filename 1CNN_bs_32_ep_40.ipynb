{
  "nbformat": 4,
  "nbformat_minor": 0,
  "metadata": {
    "colab": {
      "provenance": [],
      "authorship_tag": "ABX9TyOJaaPbntE4pnUx59SBKInN",
      "include_colab_link": true
    },
    "kernelspec": {
      "name": "python3",
      "display_name": "Python 3"
    },
    "language_info": {
      "name": "python"
    }
  },
  "cells": [
    {
      "cell_type": "markdown",
      "metadata": {
        "id": "view-in-github",
        "colab_type": "text"
      },
      "source": [
        "<a href=\"https://colab.research.google.com/github/novtryrezki/Terbaru/blob/main/1CNN_bs_32_ep_40.ipynb\" target=\"_parent\"><img src=\"https://colab.research.google.com/assets/colab-badge.svg\" alt=\"Open In Colab\"/></a>"
      ]
    },
    {
      "cell_type": "code",
      "execution_count": 1,
      "metadata": {
        "id": "Gj0QELQHjUVZ"
      },
      "outputs": [],
      "source": [
        "import os\n",
        "import zipfile\n",
        "import random\n",
        "import shutil\n",
        "import numpy as np\n",
        "import tensorflow as tf\n",
        "import pandas as pd\n",
        "from google.colab import drive\n",
        "from sklearn.model_selection import train_test_split"
      ]
    },
    {
      "cell_type": "code",
      "source": [
        "# Melakukan mount pada Google Drive\n",
        "drive.mount('/content/drive')\n",
        "\n",
        "# Menentukan path file ZIP di Google Drive\n",
        "zip_path = '/content/drive/MyDrive/images.zip'\n",
        "\n",
        "# Membuat objek zip_ref\n",
        "zip_ref = zipfile.ZipFile(zip_path, 'r')\n",
        "\n",
        "# Mengekstrak file ZIP\n",
        "extract_path ='/content/images'\n",
        "zip_ref.extractall(extract_path)\n",
        "\n",
        "# Tutup objek zip_ref setelah selesai\n",
        "zip_ref.close()"
      ],
      "metadata": {
        "colab": {
          "base_uri": "https://localhost:8080/"
        },
        "id": "HXtZwYwdjXH4",
        "outputId": "00b2178a-91d4-4da4-a234-a338ae4c454a"
      },
      "execution_count": 2,
      "outputs": [
        {
          "output_type": "stream",
          "name": "stdout",
          "text": [
            "Mounted at /content/drive\n"
          ]
        }
      ]
    },
    {
      "cell_type": "code",
      "source": [
        "# Mendefinisikan path direktori dataset\n",
        "dataset_dir = os.path.join(extract_path, 'images')\n",
        "train_dir = os.path.join(dataset_dir, 'train')\n",
        "test_dir = os.path.join(dataset_dir, 'test')\n",
        "list_train = sorted(os.listdir(train_dir))\n",
        "list_test = sorted(os.listdir(test_dir))\n",
        "\n",
        "print(\"Daftar Angka pada Dataset Train yaitu : \", list_train)\n",
        "print(\"Daftar Angka pada Dataset Test yaitu : \", list_test)"
      ],
      "metadata": {
        "colab": {
          "base_uri": "https://localhost:8080/"
        },
        "id": "P9SpMwZxCMpv",
        "outputId": "ac9da7d5-1ced-49ff-8f2a-149b6be5d5c9"
      },
      "execution_count": 3,
      "outputs": [
        {
          "output_type": "stream",
          "name": "stdout",
          "text": [
            "Daftar Angka pada Dataset Train yaitu :  ['angka 0', 'angka 1', 'angka 2', 'angka 3', 'angka 4', 'angka 5', 'angka 6', 'angka 7', 'angka 8', 'angka 9']\n",
            "Daftar Angka pada Dataset Test yaitu :  ['angka 0', 'angka 1', 'angka 2', 'angka 3', 'angka 4', 'angka 5', 'angka 6', 'angka 7', 'angka 8', 'angka 9']\n"
          ]
        }
      ]
    },
    {
      "cell_type": "code",
      "source": [
        "def count_images(directory):\n",
        "    return sum(1 for file in os.listdir(directory) if file.endswith(('.jpg', '.jpeg', '.png', '.gif')))\n",
        "\n",
        "# Menghitung jumlah gambar di data train\n",
        "train_image_count = sum(count_images(os.path.join(train_dir, angka)) for angka in list_train)\n",
        "\n",
        "# Menghitung jumlah gambar di data test\n",
        "test_image_count = sum(count_images(os.path.join(test_dir, angka)) for angka in list_test)\n",
        "\n",
        "print(f\"Jumlah gambar di Dataset Train: {train_image_count}\")\n",
        "print(f\"Jumlah gambar di Dataset Test: {test_image_count}\")"
      ],
      "metadata": {
        "colab": {
          "base_uri": "https://localhost:8080/"
        },
        "id": "JycQg0kGCHHe",
        "outputId": "acec9914-76c5-4af5-9cff-dda716315b13"
      },
      "execution_count": 4,
      "outputs": [
        {
          "output_type": "stream",
          "name": "stdout",
          "text": [
            "Jumlah gambar di Dataset Train: 1763\n",
            "Jumlah gambar di Dataset Test: 445\n"
          ]
        }
      ]
    },
    {
      "cell_type": "markdown",
      "source": [
        "# Preprocessing"
      ],
      "metadata": {
        "id": "Cs-YBymEElj8"
      }
    },
    {
      "cell_type": "code",
      "source": [
        "import cv2\n",
        "\n",
        "def resize_images(directory, target_resolution):\n",
        "    for angka in os.listdir(directory):\n",
        "        angka_dir = os.path.join(directory, angka)\n",
        "        for file_name in os.listdir(angka_dir):\n",
        "            file_path = os.path.join(angka_dir, file_name)\n",
        "            img = cv2.imread(file_path)\n",
        "            resized_img = cv2.resize(img, (target_resolution[0], target_resolution[1]))\n",
        "            cv2.imwrite(file_path, resized_img)\n",
        "\n",
        "target_resolution = (52, 78)\n",
        "resize_images(train_dir, target_resolution)\n",
        "resize_images(test_dir, target_resolution)"
      ],
      "metadata": {
        "id": "j-iPjxpXF_bf"
      },
      "execution_count": 7,
      "outputs": []
    },
    {
      "cell_type": "code",
      "source": [
        "from tensorflow.keras.preprocessing.image import ImageDataGenerator\n",
        "\n",
        "# Membuat generator data dengan augmentasi\n",
        "image_size = (52, 78)\n",
        "batch_size = 32\n",
        "\n",
        "train_datagen = ImageDataGenerator(\n",
        "    rescale = 1./255,\n",
        "    rotation_range = 90,\n",
        "    width_shift_range = 0.2,\n",
        "    height_shift_range = 0.2,\n",
        "    zoom_range = 0.2,\n",
        ")\n",
        "\n",
        "test_datagen = ImageDataGenerator(\n",
        "    rescale=1./255,\n",
        ")\n",
        "\n",
        "train_generator = train_datagen.flow_from_directory(\n",
        "    train_dir,\n",
        "    target_size=image_size,\n",
        "    batch_size=batch_size,\n",
        "    class_mode='categorical',\n",
        "    color_mode='grayscale'\n",
        ")\n",
        "\n",
        "test_generator = test_datagen.flow_from_directory(\n",
        "    test_dir,\n",
        "    target_size=image_size,\n",
        "    batch_size=batch_size,\n",
        "    class_mode='categorical',\n",
        "    color_mode='grayscale'\n",
        ")"
      ],
      "metadata": {
        "colab": {
          "base_uri": "https://localhost:8080/"
        },
        "id": "MrR6ROkiF9Uj",
        "outputId": "5996bc62-4f3e-4368-8d77-16a5150a7c19"
      },
      "execution_count": 8,
      "outputs": [
        {
          "output_type": "stream",
          "name": "stdout",
          "text": [
            "Found 1763 images belonging to 10 classes.\n",
            "Found 445 images belonging to 10 classes.\n"
          ]
        }
      ]
    },
    {
      "cell_type": "markdown",
      "source": [
        "# Membuat Model CNN"
      ],
      "metadata": {
        "id": "gPqE7ywQJ01c"
      }
    },
    {
      "cell_type": "code",
      "source": [
        "from tensorflow.keras.models import Sequential\n",
        "from tensorflow.keras.layers import Conv2D, AveragePooling2D, Flatten, Dense\n",
        "import math\n",
        "\n",
        "img_size = 52*78*1\n",
        "\n",
        "# Perhitungan jumlah neuron pada lapisan tersembunyi\n",
        "hidden_neurons = int(math.sqrt(img_size * 10))\n",
        "\n",
        "model1c = Sequential()\n",
        "model1c.add(Conv2D(32, (3, 3), activation='relu', input_shape=(52, 78, 1)))\n",
        "model1c.add(AveragePooling2D((2, 2)))\n",
        "model1c.add(Conv2D(64, (3, 3), activation='relu'))\n",
        "model1c.add(AveragePooling2D((2, 2)))\n",
        "model1c.add(Flatten())\n",
        "model1c.add(Dense(hidden_neurons, activation='relu'))\n",
        "model1c.add(Dense(10, activation='softmax'))\n",
        "\n",
        "model1c.compile(optimizer='SGD', loss='categorical_crossentropy', metrics=['accuracy'])"
      ],
      "metadata": {
        "id": "SvNzs3QB71R6"
      },
      "execution_count": 9,
      "outputs": []
    },
    {
      "cell_type": "code",
      "source": [
        "model1c.summary()"
      ],
      "metadata": {
        "colab": {
          "base_uri": "https://localhost:8080/"
        },
        "id": "RfHd4NJznjOh",
        "outputId": "19539dff-e1fd-4173-829b-d98959b4c5a4"
      },
      "execution_count": 10,
      "outputs": [
        {
          "output_type": "stream",
          "name": "stdout",
          "text": [
            "Model: \"sequential\"\n",
            "_________________________________________________________________\n",
            " Layer (type)                Output Shape              Param #   \n",
            "=================================================================\n",
            " conv2d (Conv2D)             (None, 50, 76, 32)        320       \n",
            "                                                                 \n",
            " average_pooling2d (Average  (None, 25, 38, 32)        0         \n",
            " Pooling2D)                                                      \n",
            "                                                                 \n",
            " conv2d_1 (Conv2D)           (None, 23, 36, 64)        18496     \n",
            "                                                                 \n",
            " average_pooling2d_1 (Avera  (None, 11, 18, 64)        0         \n",
            " gePooling2D)                                                    \n",
            "                                                                 \n",
            " flatten (Flatten)           (None, 12672)             0         \n",
            "                                                                 \n",
            " dense (Dense)               (None, 201)               2547273   \n",
            "                                                                 \n",
            " dense_1 (Dense)             (None, 10)                2020      \n",
            "                                                                 \n",
            "=================================================================\n",
            "Total params: 2568109 (9.80 MB)\n",
            "Trainable params: 2568109 (9.80 MB)\n",
            "Non-trainable params: 0 (0.00 Byte)\n",
            "_________________________________________________________________\n"
          ]
        }
      ]
    },
    {
      "cell_type": "code",
      "source": [
        "history = model1c.fit(train_generator, epochs=40, verbose = 1)"
      ],
      "metadata": {
        "colab": {
          "base_uri": "https://localhost:8080/"
        },
        "id": "I_Klj8ReYASB",
        "outputId": "de4f8221-32e3-4f81-9a8b-8a19dadc34fa"
      },
      "execution_count": 11,
      "outputs": [
        {
          "output_type": "stream",
          "name": "stdout",
          "text": [
            "Epoch 1/40\n",
            "56/56 [==============================] - 11s 183ms/step - loss: 2.0683 - accuracy: 0.2711\n",
            "Epoch 2/40\n",
            "56/56 [==============================] - 10s 179ms/step - loss: 2.0281 - accuracy: 0.2881\n",
            "Epoch 3/40\n",
            "56/56 [==============================] - 10s 178ms/step - loss: 2.0208 - accuracy: 0.2927\n",
            "Epoch 4/40\n",
            "56/56 [==============================] - 9s 162ms/step - loss: 2.0211 - accuracy: 0.2876\n",
            "Epoch 5/40\n",
            "56/56 [==============================] - 8s 145ms/step - loss: 2.0131 - accuracy: 0.2984\n",
            "Epoch 6/40\n",
            "56/56 [==============================] - 10s 171ms/step - loss: 2.0076 - accuracy: 0.3091\n",
            "Epoch 7/40\n",
            "56/56 [==============================] - 10s 177ms/step - loss: 2.0112 - accuracy: 0.2989\n",
            "Epoch 8/40\n",
            "56/56 [==============================] - 8s 145ms/step - loss: 2.0051 - accuracy: 0.3057\n",
            "Epoch 9/40\n",
            "56/56 [==============================] - 10s 182ms/step - loss: 1.9973 - accuracy: 0.3125\n",
            "Epoch 10/40\n",
            "56/56 [==============================] - 10s 179ms/step - loss: 1.9937 - accuracy: 0.3137\n",
            "Epoch 11/40\n",
            "56/56 [==============================] - 8s 148ms/step - loss: 1.9935 - accuracy: 0.3114\n",
            "Epoch 12/40\n",
            "56/56 [==============================] - 10s 168ms/step - loss: 1.9766 - accuracy: 0.3250\n",
            "Epoch 13/40\n",
            "56/56 [==============================] - 11s 191ms/step - loss: 1.9857 - accuracy: 0.3114\n",
            "Epoch 14/40\n",
            "56/56 [==============================] - 9s 163ms/step - loss: 1.9676 - accuracy: 0.3188\n",
            "Epoch 15/40\n",
            "56/56 [==============================] - 9s 161ms/step - loss: 1.9686 - accuracy: 0.3210\n",
            "Epoch 16/40\n",
            "56/56 [==============================] - 10s 179ms/step - loss: 1.9601 - accuracy: 0.3290\n",
            "Epoch 17/40\n",
            "56/56 [==============================] - 8s 148ms/step - loss: 1.9648 - accuracy: 0.3284\n",
            "Epoch 18/40\n",
            "56/56 [==============================] - 8s 148ms/step - loss: 1.9549 - accuracy: 0.3233\n",
            "Epoch 19/40\n",
            "56/56 [==============================] - 10s 180ms/step - loss: 1.9673 - accuracy: 0.3273\n",
            "Epoch 20/40\n",
            "56/56 [==============================] - 9s 168ms/step - loss: 1.9427 - accuracy: 0.3313\n",
            "Epoch 21/40\n",
            "56/56 [==============================] - 8s 149ms/step - loss: 1.9537 - accuracy: 0.3205\n",
            "Epoch 22/40\n",
            "56/56 [==============================] - 10s 179ms/step - loss: 1.9457 - accuracy: 0.3375\n",
            "Epoch 23/40\n",
            "56/56 [==============================] - 10s 180ms/step - loss: 1.9362 - accuracy: 0.3290\n",
            "Epoch 24/40\n",
            "56/56 [==============================] - 8s 147ms/step - loss: 1.9441 - accuracy: 0.3244\n",
            "Epoch 25/40\n",
            "56/56 [==============================] - 8s 147ms/step - loss: 1.9215 - accuracy: 0.3415\n",
            "Epoch 26/40\n",
            "56/56 [==============================] - 10s 176ms/step - loss: 1.9315 - accuracy: 0.3318\n",
            "Epoch 27/40\n",
            "56/56 [==============================] - 10s 177ms/step - loss: 1.9308 - accuracy: 0.3375\n",
            "Epoch 28/40\n",
            "56/56 [==============================] - 8s 143ms/step - loss: 1.9147 - accuracy: 0.3505\n",
            "Epoch 29/40\n",
            "56/56 [==============================] - 10s 176ms/step - loss: 1.9122 - accuracy: 0.3522\n",
            "Epoch 30/40\n",
            "56/56 [==============================] - 10s 175ms/step - loss: 1.9159 - accuracy: 0.3324\n",
            "Epoch 31/40\n",
            "56/56 [==============================] - 8s 143ms/step - loss: 1.8951 - accuracy: 0.3522\n",
            "Epoch 32/40\n",
            "56/56 [==============================] - 9s 166ms/step - loss: 1.8783 - accuracy: 0.3585\n",
            "Epoch 33/40\n",
            "56/56 [==============================] - 10s 178ms/step - loss: 1.8921 - accuracy: 0.3647\n",
            "Epoch 34/40\n",
            "56/56 [==============================] - 8s 150ms/step - loss: 1.8759 - accuracy: 0.3613\n",
            "Epoch 35/40\n",
            "56/56 [==============================] - 10s 167ms/step - loss: 1.8891 - accuracy: 0.3545\n",
            "Epoch 36/40\n",
            "56/56 [==============================] - 10s 177ms/step - loss: 1.8749 - accuracy: 0.3619\n",
            "Epoch 37/40\n",
            "56/56 [==============================] - 8s 143ms/step - loss: 1.8539 - accuracy: 0.3710\n",
            "Epoch 38/40\n",
            "56/56 [==============================] - 8s 143ms/step - loss: 1.8601 - accuracy: 0.3710\n",
            "Epoch 39/40\n",
            "56/56 [==============================] - 10s 177ms/step - loss: 1.8694 - accuracy: 0.3528\n",
            "Epoch 40/40\n",
            "56/56 [==============================] - 9s 163ms/step - loss: 1.8524 - accuracy: 0.3670\n"
          ]
        }
      ]
    },
    {
      "cell_type": "markdown",
      "source": [
        "#Matriks Konfusi"
      ],
      "metadata": {
        "id": "6VOcIXg0IvCs"
      }
    },
    {
      "cell_type": "code",
      "source": [
        "from sklearn.metrics import confusion_matrix, classification_report\n",
        "import seaborn as sns\n",
        "import matplotlib.pyplot as plt\n",
        "\n",
        "# Fungsi untuk mendapatkan prediksi model dan label sebenarnya\n",
        "def get_predictions_and_labels(model, data_generator):\n",
        "    predictions = model.predict(data_generator)\n",
        "    predicted_classes = np.argmax(predictions, axis=1)\n",
        "    true_classes = data_generator.classes\n",
        "    class_labels = list(data_generator.class_indices.keys())\n",
        "    return predicted_classes, true_classes, class_labels\n",
        "\n",
        "# Mendapatkan prediksi dan label sebenarnya untuk data uji\n",
        "y_pred, y_true, class_labels = get_predictions_and_labels(model1c, test_generator)\n",
        "\n",
        "# Membuat matriks konfusi\n",
        "cf_matrix = confusion_matrix(y_true, y_pred)\n",
        "\n",
        "# Membuat visualisasi matriks konfusi\n",
        "fig, ax = plt.subplots(figsize=(8, 6))\n",
        "sns.heatmap(cf_matrix, annot=True, fmt='g', cmap='Blues', ax=ax)\n",
        "\n",
        "# Menetapkan label dan judul\n",
        "ax.set_title('Confusion Matrix with labels')\n",
        "ax.set_xlabel('Predicted Values')\n",
        "ax.set_ylabel('Actual Values')\n",
        "\n",
        "# Menetapkan label pada sumbu x dan y sesuai dengan jenis kelas\n",
        "ax.xaxis.set_ticklabels(class_labels, rotation=45)\n",
        "ax.yaxis.set_ticklabels(class_labels, rotation=45)\n",
        "\n",
        "# Menampilkan visualisasi Matriks Konfusi\n",
        "plt.show()"
      ],
      "metadata": {
        "colab": {
          "base_uri": "https://localhost:8080/",
          "height": 617
        },
        "id": "Lz5lA0bDIxJg",
        "outputId": "82d1bf25-af79-45f1-f7a9-28fe5435c30a"
      },
      "execution_count": 15,
      "outputs": [
        {
          "output_type": "stream",
          "name": "stdout",
          "text": [
            "14/14 [==============================] - 1s 84ms/step\n"
          ]
        },
        {
          "output_type": "display_data",
          "data": {
            "text/plain": [
              "<Figure size 800x600 with 2 Axes>"
            ],
            "image/png": "[encoded data removed]"
          },
          "metadata": {}
        }
      ]
    },
    {
      "cell_type": "code",
      "source": [
        "from sklearn.metrics import accuracy_score\n",
        "\n",
        "test_accuracy = accuracy_score(y_true, y_pred)\n",
        "print(f\"Test Accuracy: {test_accuracy}\")"
      ],
      "metadata": {
        "colab": {
          "base_uri": "https://localhost:8080/"
        },
        "id": "S7iwBJlGZEUM",
        "outputId": "045c0a9b-3687-4278-c4d4-c63574131624"
      },
      "execution_count": 16,
      "outputs": [
        {
          "output_type": "stream",
          "name": "stdout",
          "text": [
            "Test Accuracy: 0.25842696629213485\n"
          ]
        }
      ]
    }
  ]
}