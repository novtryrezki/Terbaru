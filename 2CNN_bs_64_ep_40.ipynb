{
  "cells": [
    {
      "cell_type": "markdown",
      "metadata": {
        "id": "view-in-github",
        "colab_type": "text"
      },
      "source": [
        "<a href=\"https://colab.research.google.com/github/novtryrezki/Terbaru/blob/main/2CNN_bs_64_ep_40.ipynb\" target=\"_parent\"><img src=\"https://colab.research.google.com/assets/colab-badge.svg\" alt=\"Open In Colab\"/></a>"
      ]
    },
    {
      "cell_type": "code",
      "execution_count": 1,
      "metadata": {
        "id": "Gj0QELQHjUVZ"
      },
      "outputs": [],
      "source": [
        "import os\n",
        "import zipfile\n",
        "import random\n",
        "import shutil\n",
        "import numpy as np\n",
        "import tensorflow as tf\n",
        "import pandas as pd\n",
        "from google.colab import drive\n",
        "from sklearn.model_selection import train_test_split"
      ]
    },
    {
      "cell_type": "code",
      "execution_count": 2,
      "metadata": {
        "colab": {
          "base_uri": "https://localhost:8080/"
        },
        "id": "HXtZwYwdjXH4",
        "outputId": "c443dd28-c4ac-4347-ad4d-3bcaccfd47ef"
      },
      "outputs": [
        {
          "output_type": "stream",
          "name": "stdout",
          "text": [
            "Mounted at /content/drive\n"
          ]
        }
      ],
      "source": [
        "# Melakukan mount pada Google Drive\n",
        "drive.mount('/content/drive')\n",
        "\n",
        "# Menentukan path file ZIP di Google Drive\n",
        "zip_path = '/content/drive/MyDrive/images.zip'\n",
        "\n",
        "# Membuat objek zip_ref\n",
        "zip_ref = zipfile.ZipFile(zip_path, 'r')\n",
        "\n",
        "# Mengekstrak file ZIP\n",
        "extract_path ='/content/images'\n",
        "zip_ref.extractall(extract_path)\n",
        "\n",
        "# Tutup objek zip_ref setelah selesai\n",
        "zip_ref.close()"
      ]
    },
    {
      "cell_type": "code",
      "execution_count": 3,
      "metadata": {
        "colab": {
          "base_uri": "https://localhost:8080/"
        },
        "id": "P9SpMwZxCMpv",
        "outputId": "e7f8baab-72c9-4929-8d9f-d7e5d7685db4"
      },
      "outputs": [
        {
          "output_type": "stream",
          "name": "stdout",
          "text": [
            "Daftar Angka pada Dataset Train yaitu :  ['angka 0', 'angka 1', 'angka 2', 'angka 3', 'angka 4', 'angka 5', 'angka 6', 'angka 7', 'angka 8', 'angka 9']\n",
            "Daftar Angka pada Dataset Test yaitu :  ['angka 0', 'angka 1', 'angka 2', 'angka 3', 'angka 4', 'angka 5', 'angka 6', 'angka 7', 'angka 8', 'angka 9']\n"
          ]
        }
      ],
      "source": [
        "# Mendefinisikan path direktori dataset\n",
        "dataset_dir = os.path.join(extract_path, 'images')\n",
        "train_dir = os.path.join(dataset_dir, 'train')\n",
        "test_dir = os.path.join(dataset_dir, 'test')\n",
        "list_train = sorted(os.listdir(train_dir))\n",
        "list_test = sorted(os.listdir(test_dir))\n",
        "\n",
        "print(\"Daftar Angka pada Dataset Train yaitu : \", list_train)\n",
        "print(\"Daftar Angka pada Dataset Test yaitu : \", list_test)"
      ]
    },
    {
      "cell_type": "code",
      "execution_count": 4,
      "metadata": {
        "colab": {
          "base_uri": "https://localhost:8080/"
        },
        "id": "JycQg0kGCHHe",
        "outputId": "4a246467-2525-432f-a1b6-ba9f8f484671"
      },
      "outputs": [
        {
          "output_type": "stream",
          "name": "stdout",
          "text": [
            "Jumlah gambar di Dataset Train: 1763\n",
            "Jumlah gambar di Dataset Test: 445\n"
          ]
        }
      ],
      "source": [
        "def count_images(directory):\n",
        "    return sum(1 for file in os.listdir(directory) if file.endswith(('.jpg', '.jpeg', '.png', '.gif')))\n",
        "\n",
        "# Menghitung jumlah gambar di data train\n",
        "train_image_count = sum(count_images(os.path.join(train_dir, angka)) for angka in list_train)\n",
        "\n",
        "# Menghitung jumlah gambar di data test\n",
        "test_image_count = sum(count_images(os.path.join(test_dir, angka)) for angka in list_test)\n",
        "\n",
        "print(f\"Jumlah gambar di Dataset Train: {train_image_count}\")\n",
        "print(f\"Jumlah gambar di Dataset Test: {test_image_count}\")"
      ]
    },
    {
      "cell_type": "markdown",
      "metadata": {
        "id": "Cs-YBymEElj8"
      },
      "source": [
        "# Preprocessing"
      ]
    },
    {
      "cell_type": "code",
      "execution_count": 5,
      "metadata": {
        "id": "j-iPjxpXF_bf"
      },
      "outputs": [],
      "source": [
        "import cv2\n",
        "\n",
        "def resize_images(directory, target_resolution):\n",
        "    for angka in os.listdir(directory):\n",
        "        angka_dir = os.path.join(directory, angka)\n",
        "        for file_name in os.listdir(angka_dir):\n",
        "            file_path = os.path.join(angka_dir, file_name)\n",
        "            img = cv2.imread(file_path)\n",
        "            resized_img = cv2.resize(img, (target_resolution[0], target_resolution[1]))\n",
        "            cv2.imwrite(file_path, resized_img)\n",
        "\n",
        "target_resolution = (52, 78)\n",
        "resize_images(train_dir, target_resolution)\n",
        "resize_images(test_dir, target_resolution)"
      ]
    },
    {
      "cell_type": "code",
      "execution_count": 6,
      "metadata": {
        "colab": {
          "base_uri": "https://localhost:8080/"
        },
        "id": "MrR6ROkiF9Uj",
        "outputId": "ee8bec13-cd5f-42bc-ac64-4ff908f1bd4e"
      },
      "outputs": [
        {
          "output_type": "stream",
          "name": "stdout",
          "text": [
            "Found 1763 images belonging to 10 classes.\n",
            "Found 445 images belonging to 10 classes.\n"
          ]
        }
      ],
      "source": [
        "from tensorflow.keras.preprocessing.image import ImageDataGenerator\n",
        "\n",
        "# Membuat generator data dengan augmentasi\n",
        "image_size = (52, 78)\n",
        "batch_size = 64\n",
        "\n",
        "train_datagen = ImageDataGenerator(\n",
        "    rescale = 1./255,\n",
        "    width_shift_range = 0.2,\n",
        "    height_shift_range = 0.2,\n",
        "    zoom_range = 0.2,\n",
        ")\n",
        "\n",
        "test_datagen = ImageDataGenerator(\n",
        "    rescale=1./255,\n",
        ")\n",
        "\n",
        "train_generator = train_datagen.flow_from_directory(\n",
        "    train_dir,\n",
        "    target_size=image_size,\n",
        "    batch_size=batch_size,\n",
        "    class_mode='categorical',\n",
        "    color_mode='grayscale'\n",
        ")\n",
        "\n",
        "test_generator = test_datagen.flow_from_directory(\n",
        "    test_dir,\n",
        "    target_size=image_size,\n",
        "    batch_size=batch_size,\n",
        "    class_mode='categorical',\n",
        "    color_mode='grayscale'\n",
        ")"
      ]
    },
    {
      "cell_type": "markdown",
      "metadata": {
        "id": "gPqE7ywQJ01c"
      },
      "source": [
        "# Membuat Model CNN"
      ]
    },
    {
      "cell_type": "code",
      "execution_count": 7,
      "metadata": {
        "id": "SvNzs3QB71R6"
      },
      "outputs": [],
      "source": [
        "from tensorflow.keras.models import Sequential\n",
        "from tensorflow.keras.layers import Conv2D, AveragePooling2D, Flatten, Dense\n",
        "import math\n",
        "\n",
        "img_size = 52*78*1\n",
        "\n",
        "# Perhitungan jumlah neuron pada lapisan tersembunyi\n",
        "r1 = (img_size/10) ** (1/2)\n",
        "r2 = (img_size/10)**(1/3)\n",
        "\n",
        "hidden_neurons1 = 10 * r1**(2)\n",
        "hidden_neurons2 = 10 * r2**(1)\n",
        "\n",
        "model2c = Sequential()\n",
        "model2c.add(Conv2D(32, (3, 3), input_shape=(52, 78, 1)))\n",
        "model2c.add(AveragePooling2D((2, 2)))\n",
        "model2c.add(Conv2D(64, (3, 3)))\n",
        "model2c.add(AveragePooling2D((2, 2)))\n",
        "model2c.add(Flatten())\n",
        "model2c.add(Dense(hidden_neurons1, activation='relu'))\n",
        "model2c.add(Dense(hidden_neurons2, activation='relu'))\n",
        "model2c.add(Dense(10, activation='softmax'))\n",
        "\n",
        "model2c.compile(optimizer='SGD', loss='categorical_crossentropy', metrics=['accuracy'])"
      ]
    },
    {
      "cell_type": "code",
      "execution_count": 8,
      "metadata": {
        "id": "RfHd4NJznjOh",
        "colab": {
          "base_uri": "https://localhost:8080/"
        },
        "outputId": "beef0935-9873-47df-fa95-976ea0e5d0c3"
      },
      "outputs": [
        {
          "output_type": "stream",
          "name": "stdout",
          "text": [
            "Model: \"sequential\"\n",
            "_________________________________________________________________\n",
            " Layer (type)                Output Shape              Param #   \n",
            "=================================================================\n",
            " conv2d (Conv2D)             (None, 50, 76, 32)        320       \n",
            "                                                                 \n",
            " average_pooling2d (Average  (None, 25, 38, 32)        0         \n",
            " Pooling2D)                                                      \n",
            "                                                                 \n",
            " conv2d_1 (Conv2D)           (None, 23, 36, 64)        18496     \n",
            "                                                                 \n",
            " average_pooling2d_1 (Avera  (None, 11, 18, 64)        0         \n",
            " gePooling2D)                                                    \n",
            "                                                                 \n",
            " flatten (Flatten)           (None, 12672)             0         \n",
            "                                                                 \n",
            " dense (Dense)               (None, 4055)              51389015  \n",
            "                                                                 \n",
            " dense_1 (Dense)             (None, 74)                300144    \n",
            "                                                                 \n",
            " dense_2 (Dense)             (None, 10)                750       \n",
            "                                                                 \n",
            "=================================================================\n",
            "Total params: 51708725 (197.25 MB)\n",
            "Trainable params: 51708725 (197.25 MB)\n",
            "Non-trainable params: 0 (0.00 Byte)\n",
            "_________________________________________________________________\n"
          ]
        }
      ],
      "source": [
        "model2c.summary()"
      ]
    },
    {
      "cell_type": "code",
      "execution_count": 9,
      "metadata": {
        "id": "I_Klj8ReYASB",
        "colab": {
          "base_uri": "https://localhost:8080/"
        },
        "outputId": "0181e4ad-35a5-41c6-d9eb-34c6d9135dd8"
      },
      "outputs": [
        {
          "output_type": "stream",
          "name": "stdout",
          "text": [
            "Epoch 1/40\n",
            "28/28 [==============================] - 28s 956ms/step - loss: 2.0904 - accuracy: 0.2921\n",
            "Epoch 2/40\n",
            "28/28 [==============================] - 27s 956ms/step - loss: 1.9701 - accuracy: 0.3545\n",
            "Epoch 3/40\n",
            "28/28 [==============================] - 27s 969ms/step - loss: 1.9311 - accuracy: 0.3715\n",
            "Epoch 4/40\n",
            "28/28 [==============================] - 26s 952ms/step - loss: 1.9062 - accuracy: 0.3704\n",
            "Epoch 5/40\n",
            "28/28 [==============================] - 25s 897ms/step - loss: 1.8775 - accuracy: 0.3806\n",
            "Epoch 6/40\n",
            "28/28 [==============================] - 26s 923ms/step - loss: 1.8613 - accuracy: 0.3834\n",
            "Epoch 7/40\n",
            "28/28 [==============================] - 27s 974ms/step - loss: 1.8447 - accuracy: 0.3953\n",
            "Epoch 8/40\n",
            "28/28 [==============================] - 26s 937ms/step - loss: 1.8367 - accuracy: 0.3727\n",
            "Epoch 9/40\n",
            "28/28 [==============================] - 25s 885ms/step - loss: 1.7953 - accuracy: 0.4033\n",
            "Epoch 10/40\n",
            "28/28 [==============================] - 26s 935ms/step - loss: 1.7516 - accuracy: 0.4180\n",
            "Epoch 11/40\n",
            "28/28 [==============================] - 26s 942ms/step - loss: 1.7683 - accuracy: 0.3965\n",
            "Epoch 12/40\n",
            "28/28 [==============================] - 25s 887ms/step - loss: 1.7216 - accuracy: 0.4192\n",
            "Epoch 13/40\n",
            "28/28 [==============================] - 25s 905ms/step - loss: 1.6999 - accuracy: 0.4328\n",
            "Epoch 14/40\n",
            "28/28 [==============================] - 27s 958ms/step - loss: 1.6638 - accuracy: 0.4475\n",
            "Epoch 15/40\n",
            "28/28 [==============================] - 26s 941ms/step - loss: 1.6799 - accuracy: 0.4549\n",
            "Epoch 16/40\n",
            "28/28 [==============================] - 26s 919ms/step - loss: 1.6543 - accuracy: 0.4447\n",
            "Epoch 17/40\n",
            "28/28 [==============================] - 26s 932ms/step - loss: 1.6284 - accuracy: 0.4594\n",
            "Epoch 18/40\n",
            "28/28 [==============================] - 26s 921ms/step - loss: 1.6084 - accuracy: 0.4657\n",
            "Epoch 19/40\n",
            "28/28 [==============================] - 26s 921ms/step - loss: 1.5711 - accuracy: 0.4884\n",
            "Epoch 20/40\n",
            "28/28 [==============================] - 25s 888ms/step - loss: 1.5622 - accuracy: 0.4946\n",
            "Epoch 21/40\n",
            "28/28 [==============================] - 26s 924ms/step - loss: 1.5383 - accuracy: 0.5060\n",
            "Epoch 22/40\n",
            "28/28 [==============================] - 26s 917ms/step - loss: 1.4874 - accuracy: 0.5139\n",
            "Epoch 23/40\n",
            "28/28 [==============================] - 26s 945ms/step - loss: 1.4726 - accuracy: 0.5122\n",
            "Epoch 24/40\n",
            "28/28 [==============================] - 25s 883ms/step - loss: 1.4506 - accuracy: 0.5360\n",
            "Epoch 25/40\n",
            "28/28 [==============================] - 27s 933ms/step - loss: 1.4566 - accuracy: 0.5133\n",
            "Epoch 26/40\n",
            "28/28 [==============================] - 27s 968ms/step - loss: 1.4022 - accuracy: 0.5632\n",
            "Epoch 27/40\n",
            "28/28 [==============================] - 27s 948ms/step - loss: 1.3455 - accuracy: 0.5746\n",
            "Epoch 28/40\n",
            "28/28 [==============================] - 27s 950ms/step - loss: 1.3485 - accuracy: 0.5644\n",
            "Epoch 29/40\n",
            "28/28 [==============================] - 27s 943ms/step - loss: 1.2964 - accuracy: 0.5842\n",
            "Epoch 30/40\n",
            "28/28 [==============================] - 27s 948ms/step - loss: 1.2781 - accuracy: 0.5842\n",
            "Epoch 31/40\n",
            "28/28 [==============================] - 27s 968ms/step - loss: 1.2460 - accuracy: 0.6132\n",
            "Epoch 32/40\n",
            "28/28 [==============================] - 27s 955ms/step - loss: 1.2353 - accuracy: 0.6211\n",
            "Epoch 33/40\n",
            "28/28 [==============================] - 26s 939ms/step - loss: 1.1867 - accuracy: 0.6364\n",
            "Epoch 34/40\n",
            "28/28 [==============================] - 26s 928ms/step - loss: 1.1982 - accuracy: 0.6273\n",
            "Epoch 35/40\n",
            "28/28 [==============================] - 25s 901ms/step - loss: 1.1506 - accuracy: 0.6370\n",
            "Epoch 36/40\n",
            "28/28 [==============================] - 26s 893ms/step - loss: 1.1347 - accuracy: 0.6421\n",
            "Epoch 37/40\n",
            "28/28 [==============================] - 25s 875ms/step - loss: 1.0637 - accuracy: 0.6773\n",
            "Epoch 38/40\n",
            "28/28 [==============================] - 26s 921ms/step - loss: 1.0367 - accuracy: 0.6818\n",
            "Epoch 39/40\n",
            "28/28 [==============================] - 27s 944ms/step - loss: 1.0638 - accuracy: 0.6693\n",
            "Epoch 40/40\n",
            "28/28 [==============================] - 25s 883ms/step - loss: 1.0114 - accuracy: 0.6880\n"
          ]
        }
      ],
      "source": [
        "history = model2c.fit(train_generator, epochs=40, verbose = 1)"
      ]
    },
    {
      "cell_type": "markdown",
      "metadata": {
        "id": "6VOcIXg0IvCs"
      },
      "source": [
        "#Matriks Konfusi"
      ]
    },
    {
      "cell_type": "code",
      "execution_count": 21,
      "metadata": {
        "colab": {
          "base_uri": "https://localhost:8080/",
          "height": 617
        },
        "id": "Lz5lA0bDIxJg",
        "outputId": "c6070a9a-0242-415c-9570-b544be46094b"
      },
      "outputs": [
        {
          "output_type": "stream",
          "name": "stdout",
          "text": [
            "7/7 [==============================] - 1s 197ms/step\n"
          ]
        },
        {
          "output_type": "display_data",
          "data": {
            "text/plain": [
              "<Figure size 800x600 with 2 Axes>"
            ],
            "image/png": "[encoded data removed]"
          },
          "metadata": {}
        }
      ],
      "source": [
        "from sklearn.metrics import confusion_matrix, classification_report\n",
        "import seaborn as sns\n",
        "import matplotlib.pyplot as plt\n",
        "\n",
        "# Fungsi untuk mendapatkan prediksi model dan label sebenarnya\n",
        "def get_predictions_and_labels(model, data_generator):\n",
        "    predictions = model.predict(data_generator)\n",
        "    true_classes = data_generator.classes\n",
        "    return predictions, true_classes\n",
        "\n",
        "# Mendapatkan prediksi dan label sebenarnya untuk data uji\n",
        "y_pred_prob, y_true = get_predictions_and_labels(model2c, test_generator)\n",
        "y_pred = np.argmax(y_pred_prob, axis=1)\n",
        "\n",
        "# Membuat matriks konfusi\n",
        "cf_matrix = confusion_matrix(y_true, y_pred)\n",
        "\n",
        "# Membuat visualisasi matriks konfusi\n",
        "fig, ax = plt.subplots(figsize=(8, 6))\n",
        "sns.heatmap(cf_matrix, annot=True, fmt='g', cmap='Blues', ax=ax)\n",
        "\n",
        "# Menetapkan label dan judul\n",
        "ax.set_title('Confusion Matrix with labels')\n",
        "ax.set_xlabel('Predicted Values')\n",
        "ax.set_ylabel('Actual Values')\n",
        "\n",
        "class_labels = list(test_generator.class_indices.keys())\n",
        "\n",
        "# Menetapkan label pada sumbu x dan y sesuai dengan jenis kelas\n",
        "ax.xaxis.set_ticklabels(class_labels, rotation=45)\n",
        "ax.yaxis.set_ticklabels(class_labels, rotation=45)\n",
        "\n",
        "# Menampilkan visualisasi Matriks Konfusi\n",
        "plt.show()"
      ]
    },
    {
      "cell_type": "code",
      "execution_count": 22,
      "metadata": {
        "colab": {
          "base_uri": "https://localhost:8080/"
        },
        "id": "S7iwBJlGZEUM",
        "outputId": "3bb66572-f3fe-44a8-d39e-8a63b040b470"
      },
      "outputs": [
        {
          "output_type": "stream",
          "name": "stdout",
          "text": [
            "Test Accuracy: 0.1707865168539326\n"
          ]
        }
      ],
      "source": [
        "from sklearn.metrics import accuracy_score\n",
        "\n",
        "test_accuracy = accuracy_score(y_true, y_pred)\n",
        "print(f\"Test Accuracy: {test_accuracy}\")"
      ]
    }
  ],
  "metadata": {
    "colab": {
      "provenance": [],
      "include_colab_link": true
    },
    "kernelspec": {
      "display_name": "Python 3",
      "name": "python3"
    },
    "language_info": {
      "name": "python"
    }
  },
  "nbformat": 4,
  "nbformat_minor": 0
}