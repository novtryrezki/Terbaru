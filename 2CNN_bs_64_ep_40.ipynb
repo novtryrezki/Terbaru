{
  "cells": [
    {
      "cell_type": "markdown",
      "metadata": {
        "id": "view-in-github",
        "colab_type": "text"
      },
      "source": [
        "<a href=\"https://colab.research.google.com/github/novtryrezki/Terbaru/blob/main/2CNN_bs_64_ep_40.ipynb\" target=\"_parent\"><img src=\"https://colab.research.google.com/assets/colab-badge.svg\" alt=\"Open In Colab\"/></a>"
      ]
    },
    {
      "cell_type": "code",
      "execution_count": null,
      "metadata": {
        "id": "Gj0QELQHjUVZ"
      },
      "outputs": [],
      "source": [
        "import os\n",
        "import zipfile\n",
        "import random\n",
        "import shutil\n",
        "import numpy as np\n",
        "import tensorflow as tf\n",
        "import pandas as pd\n",
        "from google.colab import drive\n",
        "from sklearn.model_selection import train_test_split"
      ]
    },
    {
      "cell_type": "code",
      "execution_count": null,
      "metadata": {
        "colab": {
          "base_uri": "https://localhost:8080/"
        },
        "id": "HXtZwYwdjXH4",
        "outputId": "40531907-b7e9-4547-bb5c-c0e26f5f1ccc"
      },
      "outputs": [
        {
          "output_type": "stream",
          "name": "stdout",
          "text": [
            "Mounted at /content/drive\n"
          ]
        }
      ],
      "source": [
        "# Melakukan mount pada Google Drive\n",
        "drive.mount('/content/drive')\n",
        "\n",
        "# Menentukan path file ZIP di Google Drive\n",
        "zip_path = '/content/drive/MyDrive/images.zip'\n",
        "\n",
        "# Membuat objek zip_ref\n",
        "zip_ref = zipfile.ZipFile(zip_path, 'r')\n",
        "\n",
        "# Mengekstrak file ZIP\n",
        "extract_path ='/content/images'\n",
        "zip_ref.extractall(extract_path)\n",
        "\n",
        "# Tutup objek zip_ref setelah selesai\n",
        "zip_ref.close()"
      ]
    },
    {
      "cell_type": "code",
      "execution_count": null,
      "metadata": {
        "colab": {
          "base_uri": "https://localhost:8080/"
        },
        "id": "P9SpMwZxCMpv",
        "outputId": "0996f8da-6833-4c0d-d68f-f99dfb2681fb"
      },
      "outputs": [
        {
          "output_type": "stream",
          "name": "stdout",
          "text": [
            "Daftar Angka pada Dataset Train yaitu :  ['angka 0', 'angka 1', 'angka 2', 'angka 3', 'angka 4', 'angka 5', 'angka 6', 'angka 7', 'angka 8', 'angka 9']\n",
            "Daftar Angka pada Dataset Test yaitu :  ['angka 0', 'angka 1', 'angka 2', 'angka 3', 'angka 4', 'angka 5', 'angka 6', 'angka 7', 'angka 8', 'angka 9']\n"
          ]
        }
      ],
      "source": [
        "# Mendefinisikan path direktori dataset\n",
        "dataset_dir = os.path.join(extract_path, 'images')\n",
        "train_dir = os.path.join(dataset_dir, 'train')\n",
        "test_dir = os.path.join(dataset_dir, 'test')\n",
        "list_train = sorted(os.listdir(train_dir))\n",
        "list_test = sorted(os.listdir(test_dir))\n",
        "\n",
        "print(\"Daftar Angka pada Dataset Train yaitu : \", list_train)\n",
        "print(\"Daftar Angka pada Dataset Test yaitu : \", list_test)"
      ]
    },
    {
      "cell_type": "code",
      "execution_count": null,
      "metadata": {
        "colab": {
          "base_uri": "https://localhost:8080/"
        },
        "id": "JycQg0kGCHHe",
        "outputId": "906d7ab0-4020-4b90-f058-70cc42d43c16"
      },
      "outputs": [
        {
          "output_type": "stream",
          "name": "stdout",
          "text": [
            "Jumlah gambar di Dataset Train: 1763\n",
            "Jumlah gambar di Dataset Test: 445\n"
          ]
        }
      ],
      "source": [
        "def count_images(directory):\n",
        "    return sum(1 for file in os.listdir(directory) if file.endswith(('.jpg', '.jpeg', '.png', '.gif')))\n",
        "\n",
        "# Menghitung jumlah gambar di data train\n",
        "train_image_count = sum(count_images(os.path.join(train_dir, angka)) for angka in list_train)\n",
        "\n",
        "# Menghitung jumlah gambar di data test\n",
        "test_image_count = sum(count_images(os.path.join(test_dir, angka)) for angka in list_test)\n",
        "\n",
        "print(f\"Jumlah gambar di Dataset Train: {train_image_count}\")\n",
        "print(f\"Jumlah gambar di Dataset Test: {test_image_count}\")"
      ]
    },
    {
      "cell_type": "markdown",
      "metadata": {
        "id": "Cs-YBymEElj8"
      },
      "source": [
        "# Preprocessing"
      ]
    },
    {
      "cell_type": "code",
      "execution_count": null,
      "metadata": {
        "id": "j-iPjxpXF_bf"
      },
      "outputs": [],
      "source": [
        "import cv2\n",
        "\n",
        "def resize_images(directory, target_resolution):\n",
        "    for angka in os.listdir(directory):\n",
        "        angka_dir = os.path.join(directory, angka)\n",
        "        for file_name in os.listdir(angka_dir):\n",
        "            file_path = os.path.join(angka_dir, file_name)\n",
        "            img = cv2.imread(file_path)\n",
        "            resized_img = cv2.resize(img, (target_resolution[0], target_resolution[1]))\n",
        "            cv2.imwrite(file_path, resized_img)\n",
        "\n",
        "target_resolution = (52, 78)\n",
        "resize_images(train_dir, target_resolution)\n",
        "resize_images(test_dir, target_resolution)"
      ]
    },
    {
      "cell_type": "code",
      "execution_count": null,
      "metadata": {
        "colab": {
          "base_uri": "https://localhost:8080/"
        },
        "id": "MrR6ROkiF9Uj",
        "outputId": "2a3258e5-70f8-44a5-cfe2-05b2a2626bc1"
      },
      "outputs": [
        {
          "output_type": "stream",
          "name": "stdout",
          "text": [
            "Found 1763 images belonging to 10 classes.\n",
            "Found 445 images belonging to 10 classes.\n"
          ]
        }
      ],
      "source": [
        "from tensorflow.keras.preprocessing.image import ImageDataGenerator\n",
        "\n",
        "# Membuat generator data dengan augmentasi\n",
        "image_size = (52, 78)\n",
        "batch_size = 64\n",
        "\n",
        "train_datagen = ImageDataGenerator(\n",
        "    rescale = 1./255,\n",
        "    width_shift_range = 0.2,\n",
        "    height_shift_range = 0.2,\n",
        "    zoom_range = 0.2,\n",
        ")\n",
        "\n",
        "test_datagen = ImageDataGenerator(\n",
        "    rescale=1./255,\n",
        ")\n",
        "\n",
        "train_generator = train_datagen.flow_from_directory(\n",
        "    train_dir,\n",
        "    target_size=image_size,\n",
        "    batch_size=batch_size,\n",
        "    class_mode='categorical',\n",
        "    color_mode='grayscale'\n",
        ")\n",
        "\n",
        "test_generator = test_datagen.flow_from_directory(\n",
        "    test_dir,\n",
        "    target_size=image_size,\n",
        "    batch_size=batch_size,\n",
        "    class_mode='categorical',\n",
        "    color_mode='grayscale'\n",
        ")"
      ]
    },
    {
      "cell_type": "markdown",
      "metadata": {
        "id": "gPqE7ywQJ01c"
      },
      "source": [
        "# Membuat Model CNN"
      ]
    },
    {
      "cell_type": "code",
      "execution_count": null,
      "metadata": {
        "id": "SvNzs3QB71R6"
      },
      "outputs": [],
      "source": [
        "from tensorflow.keras.models import Sequential\n",
        "from tensorflow.keras.layers import Conv2D, AveragePooling2D, Flatten, Dense\n",
        "import math\n",
        "\n",
        "img_size = 52*78*1\n",
        "\n",
        "# Perhitungan jumlah neuron pada lapisan tersembunyi\n",
        "r1 = (img_size/10) ** (1/2)\n",
        "r2 = (img_size/10)**(1/3)\n",
        "\n",
        "hidden_neurons1 = 10 * r1**(2)\n",
        "hidden_neurons2 = 10 * r2**(1)\n",
        "\n",
        "model2c = Sequential()\n",
        "model2c.add(Conv2D(32, (3, 3), input_shape=(52, 78, 1)))\n",
        "model2c.add(AveragePooling2D((2, 2)))\n",
        "model2c.add(Conv2D(64, (3, 3)))\n",
        "model2c.add(AveragePooling2D((2, 2)))\n",
        "model2c.add(Flatten())\n",
        "model2c.add(Dense(hidden_neurons1, activation='relu'))\n",
        "model2c.add(Dense(hidden_neurons2, activation='relu'))\n",
        "model2c.add(Dense(10, activation='softmax'))\n",
        "\n",
        "model2c.compile(optimizer='SGD', loss='categorical_crossentropy', metrics=['accuracy'])"
      ]
    },
    {
      "cell_type": "code",
      "execution_count": null,
      "metadata": {
        "id": "RfHd4NJznjOh",
        "colab": {
          "base_uri": "https://localhost:8080/"
        },
        "outputId": "21f3ef78-f493-4279-f18b-09e7560c3925"
      },
      "outputs": [
        {
          "output_type": "stream",
          "name": "stdout",
          "text": [
            "Model: \"sequential\"\n",
            "_________________________________________________________________\n",
            " Layer (type)                Output Shape              Param #   \n",
            "=================================================================\n",
            " conv2d (Conv2D)             (None, 50, 76, 32)        320       \n",
            "                                                                 \n",
            " average_pooling2d (Average  (None, 25, 38, 32)        0         \n",
            " Pooling2D)                                                      \n",
            "                                                                 \n",
            " conv2d_1 (Conv2D)           (None, 23, 36, 64)        18496     \n",
            "                                                                 \n",
            " average_pooling2d_1 (Avera  (None, 11, 18, 64)        0         \n",
            " gePooling2D)                                                    \n",
            "                                                                 \n",
            " flatten (Flatten)           (None, 12672)             0         \n",
            "                                                                 \n",
            " dense (Dense)               (None, 4055)              51389015  \n",
            "                                                                 \n",
            " dense_1 (Dense)             (None, 74)                300144    \n",
            "                                                                 \n",
            " dense_2 (Dense)             (None, 10)                750       \n",
            "                                                                 \n",
            "=================================================================\n",
            "Total params: 51708725 (197.25 MB)\n",
            "Trainable params: 51708725 (197.25 MB)\n",
            "Non-trainable params: 0 (0.00 Byte)\n",
            "_________________________________________________________________\n"
          ]
        }
      ],
      "source": [
        "model2c.summary()"
      ]
    },
    {
      "cell_type": "code",
      "execution_count": null,
      "metadata": {
        "id": "I_Klj8ReYASB",
        "colab": {
          "base_uri": "https://localhost:8080/"
        },
        "outputId": "223e6999-b93b-42fb-92a4-87523fd90ec3"
      },
      "outputs": [
        {
          "output_type": "stream",
          "name": "stdout",
          "text": [
            "Epoch 1/40\n",
            "28/28 [==============================] - 38s 1s/step - loss: 2.0536 - accuracy: 0.2836\n",
            "Epoch 2/40\n",
            "28/28 [==============================] - 35s 1s/step - loss: 1.9992 - accuracy: 0.3381\n",
            "Epoch 3/40\n",
            "28/28 [==============================] - 37s 1s/step - loss: 1.9715 - accuracy: 0.3562\n",
            "Epoch 4/40\n",
            "28/28 [==============================] - 30s 1s/step - loss: 1.9468 - accuracy: 0.3732\n",
            "Epoch 5/40\n",
            "28/28 [==============================] - 33s 1s/step - loss: 1.9099 - accuracy: 0.3988\n",
            "Epoch 6/40\n",
            "28/28 [==============================] - 33s 1s/step - loss: 1.8738 - accuracy: 0.3988\n",
            "Epoch 7/40\n",
            "28/28 [==============================] - 33s 1s/step - loss: 1.8465 - accuracy: 0.3902\n",
            "Epoch 8/40\n",
            "28/28 [==============================] - 33s 1s/step - loss: 1.8585 - accuracy: 0.3789\n",
            "Epoch 9/40\n",
            "28/28 [==============================] - 34s 1s/step - loss: 1.8047 - accuracy: 0.4073\n",
            "Epoch 10/40\n",
            "28/28 [==============================] - 34s 1s/step - loss: 1.8088 - accuracy: 0.4056\n",
            "Epoch 11/40\n",
            "28/28 [==============================] - 34s 1s/step - loss: 1.7787 - accuracy: 0.4095\n",
            "Epoch 12/40\n",
            "28/28 [==============================] - 36s 1s/step - loss: 1.7732 - accuracy: 0.4027\n",
            "Epoch 13/40\n",
            "28/28 [==============================] - 33s 1s/step - loss: 1.7870 - accuracy: 0.4056\n",
            "Epoch 14/40\n",
            "28/28 [==============================] - 33s 1s/step - loss: 1.7522 - accuracy: 0.4152\n",
            "Epoch 15/40\n",
            "28/28 [==============================] - 33s 1s/step - loss: 1.7104 - accuracy: 0.4192\n",
            "Epoch 16/40\n",
            "28/28 [==============================] - 34s 1s/step - loss: 1.7052 - accuracy: 0.4214\n",
            "Epoch 17/40\n",
            "28/28 [==============================] - 34s 1s/step - loss: 1.6969 - accuracy: 0.4254\n",
            "Epoch 18/40\n",
            "28/28 [==============================] - 32s 1s/step - loss: 1.6638 - accuracy: 0.4351\n",
            "Epoch 19/40\n",
            "28/28 [==============================] - 33s 1s/step - loss: 1.6671 - accuracy: 0.4356\n",
            "Epoch 20/40\n",
            "28/28 [==============================] - 34s 1s/step - loss: 1.6370 - accuracy: 0.4526\n",
            "Epoch 21/40\n",
            "28/28 [==============================] - 35s 1s/step - loss: 1.5843 - accuracy: 0.4691\n",
            "Epoch 22/40\n",
            "28/28 [==============================] - 33s 1s/step - loss: 1.5971 - accuracy: 0.4736\n",
            "Epoch 23/40\n",
            "28/28 [==============================] - 33s 1s/step - loss: 1.5845 - accuracy: 0.4799\n",
            "Epoch 24/40\n",
            "28/28 [==============================] - 33s 1s/step - loss: 1.5462 - accuracy: 0.4816\n",
            "Epoch 25/40\n",
            "28/28 [==============================] - 32s 1s/step - loss: 1.5427 - accuracy: 0.4821\n",
            "Epoch 26/40\n",
            "28/28 [==============================] - 32s 1s/step - loss: 1.4965 - accuracy: 0.5122\n",
            "Epoch 27/40\n",
            "28/28 [==============================] - 33s 1s/step - loss: 1.4932 - accuracy: 0.5145\n",
            "Epoch 28/40\n",
            "28/28 [==============================] - 33s 1s/step - loss: 1.4708 - accuracy: 0.5326\n",
            "Epoch 29/40\n",
            "28/28 [==============================] - 33s 1s/step - loss: 1.4291 - accuracy: 0.5417\n",
            "Epoch 30/40\n",
            "28/28 [==============================] - 33s 1s/step - loss: 1.4256 - accuracy: 0.5372\n",
            "Epoch 31/40\n",
            "28/28 [==============================] - 35s 1s/step - loss: 1.3636 - accuracy: 0.5610\n",
            "Epoch 32/40\n",
            "28/28 [==============================] - 32s 1s/step - loss: 1.3592 - accuracy: 0.5649\n",
            "Epoch 33/40\n",
            "28/28 [==============================] - 35s 1s/step - loss: 1.3317 - accuracy: 0.5729\n",
            "Epoch 34/40\n",
            "28/28 [==============================] - 33s 1s/step - loss: 1.3192 - accuracy: 0.5757\n",
            "Epoch 35/40\n",
            "28/28 [==============================] - 32s 1s/step - loss: 1.2802 - accuracy: 0.5825\n",
            "Epoch 36/40\n",
            "28/28 [==============================] - 33s 1s/step - loss: 1.2297 - accuracy: 0.6115\n",
            "Epoch 37/40\n",
            "28/28 [==============================] - 33s 1s/step - loss: 1.2351 - accuracy: 0.6171\n",
            "Epoch 38/40\n",
            "28/28 [==============================] - 33s 1s/step - loss: 1.2059 - accuracy: 0.6313\n",
            "Epoch 39/40\n",
            "28/28 [==============================] - 33s 1s/step - loss: 1.1653 - accuracy: 0.6438\n",
            "Epoch 40/40\n",
            "28/28 [==============================] - 32s 1s/step - loss: 1.1443 - accuracy: 0.6512\n"
          ]
        }
      ],
      "source": [
        "history = model2c.fit(train_generator, epochs=40, verbose = 1)"
      ]
    },
    {
      "cell_type": "markdown",
      "metadata": {
        "id": "6VOcIXg0IvCs"
      },
      "source": [
        "#Matriks Konfusi"
      ]
    },
    {
      "cell_type": "code",
      "execution_count": null,
      "metadata": {
        "colab": {
          "base_uri": "https://localhost:8080/",
          "height": 617
        },
        "id": "Lz5lA0bDIxJg",
        "outputId": "e40d5187-51e0-49f6-f25e-7156f144c15d"
      },
      "outputs": [
        {
          "output_type": "stream",
          "name": "stdout",
          "text": [
            "7/7 [==============================] - 2s 250ms/step\n"
          ]
        },
        {
          "output_type": "display_data",
          "data": {
            "text/plain": [
              "<Figure size 800x600 with 2 Axes>"
            ],
            "image/png": "[encoded data removed]"
          },
          "metadata": {}
        }
      ],
      "source": [
        "from sklearn.metrics import confusion_matrix, classification_report\n",
        "import seaborn as sns\n",
        "import matplotlib.pyplot as plt\n",
        "\n",
        "# Fungsi untuk mendapatkan prediksi model dan label sebenarnya\n",
        "def get_predictions_and_labels(model, data_generator):\n",
        "    predictions = model.predict(data_generator)\n",
        "    true_classes = data_generator.classes\n",
        "    return predictions, true_classes\n",
        "\n",
        "# Mendapatkan prediksi dan label sebenarnya untuk data uji\n",
        "y_pred_prob, y_true = get_predictions_and_labels(model2c, test_generator)\n",
        "y_pred = np.argmax(y_pred_prob, axis=1)\n",
        "\n",
        "# Membuat matriks konfusi\n",
        "cf_matrix = confusion_matrix(y_true, y_pred)\n",
        "\n",
        "# Membuat visualisasi matriks konfusi\n",
        "fig, ax = plt.subplots(figsize=(8, 6))\n",
        "sns.heatmap(cf_matrix, annot=True, fmt='g', cmap='Blues', ax=ax)\n",
        "\n",
        "# Menetapkan label dan judul\n",
        "ax.set_title('Confusion Matrix with labels')\n",
        "ax.set_xlabel('Predicted Values')\n",
        "ax.set_ylabel('Actual Values')\n",
        "\n",
        "class_labels = list(test_generator.class_indices.keys())\n",
        "\n",
        "# Menetapkan label pada sumbu x dan y sesuai dengan jenis kelas\n",
        "ax.xaxis.set_ticklabels(class_labels, rotation=45)\n",
        "ax.yaxis.set_ticklabels(class_labels, rotation=45)\n",
        "\n",
        "# Menampilkan visualisasi Matriks Konfusi\n",
        "plt.show()"
      ]
    },
    {
      "cell_type": "code",
      "execution_count": null,
      "metadata": {
        "colab": {
          "base_uri": "https://localhost:8080/"
        },
        "id": "S7iwBJlGZEUM",
        "outputId": "837ef382-1454-45e9-9336-d27ab7715a36"
      },
      "outputs": [
        {
          "output_type": "stream",
          "name": "stdout",
          "text": [
            "Test Accuracy: 0.19101123595505617\n"
          ]
        }
      ],
      "source": [
        "from sklearn.metrics import accuracy_score\n",
        "\n",
        "test_accuracy = accuracy_score(y_true, y_pred)\n",
        "print(f\"Test Accuracy: {test_accuracy}\")"
      ]
    }
  ],
  "metadata": {
    "colab": {
      "provenance": [],
      "include_colab_link": true
    },
    "kernelspec": {
      "display_name": "Python 3",
      "name": "python3"
    },
    "language_info": {
      "name": "python"
    }
  },
  "nbformat": 4,
  "nbformat_minor": 0
}