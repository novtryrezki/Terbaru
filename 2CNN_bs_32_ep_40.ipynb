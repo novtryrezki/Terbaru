{
  "cells": [
    {
      "cell_type": "markdown",
      "metadata": {
        "id": "view-in-github",
        "colab_type": "text"
      },
      "source": [
        "<a href=\"https://colab.research.google.com/github/novtryrezki/Terbaru/blob/main/2CNN_bs_32_ep_40.ipynb\" target=\"_parent\"><img src=\"https://colab.research.google.com/assets/colab-badge.svg\" alt=\"Open In Colab\"/></a>"
      ]
    },
    {
      "cell_type": "code",
      "execution_count": 1,
      "metadata": {
        "id": "Gj0QELQHjUVZ"
      },
      "outputs": [],
      "source": [
        "import os\n",
        "import zipfile\n",
        "import random\n",
        "import shutil\n",
        "import numpy as np\n",
        "import tensorflow as tf\n",
        "import pandas as pd\n",
        "from google.colab import drive\n",
        "from sklearn.model_selection import train_test_split"
      ]
    },
    {
      "cell_type": "code",
      "execution_count": 2,
      "metadata": {
        "colab": {
          "base_uri": "https://localhost:8080/"
        },
        "id": "HXtZwYwdjXH4",
        "outputId": "38aeb9e2-bf6c-483e-d5fb-a91832eab512"
      },
      "outputs": [
        {
          "output_type": "stream",
          "name": "stdout",
          "text": [
            "Mounted at /content/drive\n"
          ]
        }
      ],
      "source": [
        "# Melakukan mount pada Google Drive\n",
        "drive.mount('/content/drive')\n",
        "\n",
        "# Menentukan path file ZIP di Google Drive\n",
        "zip_path = '/content/drive/MyDrive/images.zip'\n",
        "\n",
        "# Membuat objek zip_ref\n",
        "zip_ref = zipfile.ZipFile(zip_path, 'r')\n",
        "\n",
        "# Mengekstrak file ZIP\n",
        "extract_path ='/content/images'\n",
        "zip_ref.extractall(extract_path)\n",
        "\n",
        "# Tutup objek zip_ref setelah selesai\n",
        "zip_ref.close()"
      ]
    },
    {
      "cell_type": "code",
      "execution_count": 3,
      "metadata": {
        "colab": {
          "base_uri": "https://localhost:8080/"
        },
        "id": "P9SpMwZxCMpv",
        "outputId": "1dc86daf-a490-43fe-dd80-3d4cb5a2c297"
      },
      "outputs": [
        {
          "output_type": "stream",
          "name": "stdout",
          "text": [
            "Daftar Angka pada Dataset Train yaitu :  ['angka 0', 'angka 1', 'angka 2', 'angka 3', 'angka 4', 'angka 5', 'angka 6', 'angka 7', 'angka 8', 'angka 9']\n",
            "Daftar Angka pada Dataset Test yaitu :  ['angka 0', 'angka 1', 'angka 2', 'angka 3', 'angka 4', 'angka 5', 'angka 6', 'angka 7', 'angka 8', 'angka 9']\n"
          ]
        }
      ],
      "source": [
        "# Mendefinisikan path direktori dataset\n",
        "dataset_dir = os.path.join(extract_path, 'images')\n",
        "train_dir = os.path.join(dataset_dir, 'train')\n",
        "test_dir = os.path.join(dataset_dir, 'test')\n",
        "list_train = sorted(os.listdir(train_dir))\n",
        "list_test = sorted(os.listdir(test_dir))\n",
        "\n",
        "print(\"Daftar Angka pada Dataset Train yaitu : \", list_train)\n",
        "print(\"Daftar Angka pada Dataset Test yaitu : \", list_test)"
      ]
    },
    {
      "cell_type": "code",
      "execution_count": 4,
      "metadata": {
        "colab": {
          "base_uri": "https://localhost:8080/"
        },
        "id": "JycQg0kGCHHe",
        "outputId": "b5b84731-cbf0-4de2-fd5e-d09e1075a08e"
      },
      "outputs": [
        {
          "output_type": "stream",
          "name": "stdout",
          "text": [
            "Jumlah gambar di Dataset Train: 1763\n",
            "Jumlah gambar di Dataset Test: 445\n"
          ]
        }
      ],
      "source": [
        "def count_images(directory):\n",
        "    return sum(1 for file in os.listdir(directory) if file.endswith(('.jpg', '.jpeg', '.png', '.gif')))\n",
        "\n",
        "# Menghitung jumlah gambar di data train\n",
        "train_image_count = sum(count_images(os.path.join(train_dir, angka)) for angka in list_train)\n",
        "\n",
        "# Menghitung jumlah gambar di data test\n",
        "test_image_count = sum(count_images(os.path.join(test_dir, angka)) for angka in list_test)\n",
        "\n",
        "print(f\"Jumlah gambar di Dataset Train: {train_image_count}\")\n",
        "print(f\"Jumlah gambar di Dataset Test: {test_image_count}\")"
      ]
    },
    {
      "cell_type": "markdown",
      "metadata": {
        "id": "Cs-YBymEElj8"
      },
      "source": [
        "# Preprocessing"
      ]
    },
    {
      "cell_type": "code",
      "execution_count": 5,
      "metadata": {
        "id": "j-iPjxpXF_bf"
      },
      "outputs": [],
      "source": [
        "import cv2\n",
        "\n",
        "def resize_images(directory, target_resolution):\n",
        "    for angka in os.listdir(directory):\n",
        "        angka_dir = os.path.join(directory, angka)\n",
        "        for file_name in os.listdir(angka_dir):\n",
        "            file_path = os.path.join(angka_dir, file_name)\n",
        "            img = cv2.imread(file_path)\n",
        "            resized_img = cv2.resize(img, (target_resolution[0], target_resolution[1]))\n",
        "            cv2.imwrite(file_path, resized_img)\n",
        "\n",
        "target_resolution = (52, 78)\n",
        "resize_images(train_dir, target_resolution)\n",
        "resize_images(test_dir, target_resolution)"
      ]
    },
    {
      "cell_type": "code",
      "execution_count": 7,
      "metadata": {
        "colab": {
          "base_uri": "https://localhost:8080/"
        },
        "id": "MrR6ROkiF9Uj",
        "outputId": "5c28b6ca-7d35-4902-d745-1ec9deb8f461"
      },
      "outputs": [
        {
          "output_type": "stream",
          "name": "stdout",
          "text": [
            "Found 1763 images belonging to 10 classes.\n",
            "Found 445 images belonging to 10 classes.\n"
          ]
        }
      ],
      "source": [
        "from tensorflow.keras.preprocessing.image import ImageDataGenerator\n",
        "\n",
        "# Membuat generator data dengan augmentasi\n",
        "image_size = (52, 78)\n",
        "batch_size = 32\n",
        "\n",
        "train_datagen = ImageDataGenerator(\n",
        "    rescale = 1./255,\n",
        "    width_shift_range = 0.2,\n",
        "    height_shift_range = 0.2,\n",
        "    zoom_range = 0.2,\n",
        ")\n",
        "\n",
        "test_datagen = ImageDataGenerator(\n",
        "    rescale=1./255,\n",
        ")\n",
        "\n",
        "train_generator = train_datagen.flow_from_directory(\n",
        "    train_dir,\n",
        "    target_size=image_size,\n",
        "    batch_size=batch_size,\n",
        "    class_mode='categorical',\n",
        "    color_mode='grayscale'\n",
        ")\n",
        "\n",
        "test_generator = test_datagen.flow_from_directory(\n",
        "    test_dir,\n",
        "    target_size=image_size,\n",
        "    batch_size=batch_size,\n",
        "    class_mode='categorical',\n",
        "    color_mode='grayscale'\n",
        ")"
      ]
    },
    {
      "cell_type": "markdown",
      "metadata": {
        "id": "gPqE7ywQJ01c"
      },
      "source": [
        "# Membuat Model CNN"
      ]
    },
    {
      "cell_type": "code",
      "execution_count": 9,
      "metadata": {
        "id": "SvNzs3QB71R6"
      },
      "outputs": [],
      "source": [
        "from tensorflow.keras.models import Sequential\n",
        "from tensorflow.keras.layers import Conv2D, AveragePooling2D, Flatten, Dense\n",
        "import math\n",
        "\n",
        "img_size = 52*78*1\n",
        "\n",
        "# Perhitungan jumlah neuron pada lapisan tersembunyi\n",
        "r1 = (img_size/10) ** (1/2)\n",
        "r2 = (img_size/10)**(1/3)\n",
        "\n",
        "hidden_neurons1 = 10 * r1**(2)\n",
        "hidden_neurons2 = 10 * r2**(1)\n",
        "\n",
        "model2c = Sequential()\n",
        "model2c.add(Conv2D(32, (3, 3), input_shape=(52, 78, 1)))\n",
        "model2c.add(AveragePooling2D((2, 2)))\n",
        "model2c.add(Conv2D(64, (3, 3)))\n",
        "model2c.add(AveragePooling2D((2, 2)))\n",
        "model2c.add(Flatten())\n",
        "model2c.add(Dense(hidden_neurons1, activation='relu'))\n",
        "model2c.add(Dense(hidden_neurons2, activation='relu'))\n",
        "model2c.add(Dense(10, activation='softmax'))\n",
        "\n",
        "model2c.compile(optimizer='SGD', loss='categorical_crossentropy', metrics=['accuracy'])"
      ]
    },
    {
      "cell_type": "code",
      "execution_count": 10,
      "metadata": {
        "id": "RfHd4NJznjOh",
        "colab": {
          "base_uri": "https://localhost:8080/"
        },
        "outputId": "482ac823-dfa4-4957-ce3b-a3cd8425d94b"
      },
      "outputs": [
        {
          "output_type": "stream",
          "name": "stdout",
          "text": [
            "Model: \"sequential_1\"\n",
            "_________________________________________________________________\n",
            " Layer (type)                Output Shape              Param #   \n",
            "=================================================================\n",
            " conv2d_2 (Conv2D)           (None, 50, 76, 32)        320       \n",
            "                                                                 \n",
            " average_pooling2d_2 (Avera  (None, 25, 38, 32)        0         \n",
            " gePooling2D)                                                    \n",
            "                                                                 \n",
            " conv2d_3 (Conv2D)           (None, 23, 36, 64)        18496     \n",
            "                                                                 \n",
            " average_pooling2d_3 (Avera  (None, 11, 18, 64)        0         \n",
            " gePooling2D)                                                    \n",
            "                                                                 \n",
            " flatten_1 (Flatten)         (None, 12672)             0         \n",
            "                                                                 \n",
            " dense_3 (Dense)             (None, 4055)              51389015  \n",
            "                                                                 \n",
            " dense_4 (Dense)             (None, 74)                300144    \n",
            "                                                                 \n",
            " dense_5 (Dense)             (None, 10)                750       \n",
            "                                                                 \n",
            "=================================================================\n",
            "Total params: 51708725 (197.25 MB)\n",
            "Trainable params: 51708725 (197.25 MB)\n",
            "Non-trainable params: 0 (0.00 Byte)\n",
            "_________________________________________________________________\n"
          ]
        }
      ],
      "source": [
        "model2c.summary()"
      ]
    },
    {
      "cell_type": "code",
      "execution_count": 11,
      "metadata": {
        "id": "I_Klj8ReYASB",
        "colab": {
          "base_uri": "https://localhost:8080/"
        },
        "outputId": "0ecda547-d466-4561-dec5-b77adc4c476c"
      },
      "outputs": [
        {
          "output_type": "stream",
          "name": "stdout",
          "text": [
            "Epoch 1/40\n",
            "56/56 [==============================] - 38s 654ms/step - loss: 2.0274 - accuracy: 0.3035\n",
            "Epoch 2/40\n",
            "56/56 [==============================] - 38s 680ms/step - loss: 1.9632 - accuracy: 0.3568\n",
            "Epoch 3/40\n",
            "56/56 [==============================] - 38s 665ms/step - loss: 1.9062 - accuracy: 0.3971\n",
            "Epoch 4/40\n",
            "56/56 [==============================] - 37s 649ms/step - loss: 1.8533 - accuracy: 0.3959\n",
            "Epoch 5/40\n",
            "56/56 [==============================] - 39s 699ms/step - loss: 1.8308 - accuracy: 0.3959\n",
            "Epoch 6/40\n",
            "56/56 [==============================] - 38s 681ms/step - loss: 1.7805 - accuracy: 0.4056\n",
            "Epoch 7/40\n",
            "56/56 [==============================] - 37s 667ms/step - loss: 1.7349 - accuracy: 0.4226\n",
            "Epoch 8/40\n",
            "56/56 [==============================] - 37s 659ms/step - loss: 1.6796 - accuracy: 0.4441\n",
            "Epoch 9/40\n",
            "56/56 [==============================] - 40s 715ms/step - loss: 1.6737 - accuracy: 0.4356\n",
            "Epoch 10/40\n",
            "56/56 [==============================] - 37s 659ms/step - loss: 1.6342 - accuracy: 0.4600\n",
            "Epoch 11/40\n",
            "56/56 [==============================] - 40s 705ms/step - loss: 1.6055 - accuracy: 0.4623\n",
            "Epoch 12/40\n",
            "56/56 [==============================] - 37s 669ms/step - loss: 1.5597 - accuracy: 0.4816\n",
            "Epoch 13/40\n",
            "56/56 [==============================] - 39s 698ms/step - loss: 1.5051 - accuracy: 0.5048\n",
            "Epoch 14/40\n",
            "56/56 [==============================] - 37s 668ms/step - loss: 1.4610 - accuracy: 0.5349\n",
            "Epoch 15/40\n",
            "56/56 [==============================] - 38s 675ms/step - loss: 1.3598 - accuracy: 0.5689\n",
            "Epoch 16/40\n",
            "56/56 [==============================] - 37s 655ms/step - loss: 1.3606 - accuracy: 0.5666\n",
            "Epoch 17/40\n",
            "56/56 [==============================] - 40s 707ms/step - loss: 1.3214 - accuracy: 0.5814\n",
            "Epoch 18/40\n",
            "56/56 [==============================] - 38s 670ms/step - loss: 1.2441 - accuracy: 0.6069\n",
            "Epoch 19/40\n",
            "56/56 [==============================] - 37s 666ms/step - loss: 1.2057 - accuracy: 0.6160\n",
            "Epoch 20/40\n",
            "56/56 [==============================] - 36s 648ms/step - loss: 1.1491 - accuracy: 0.6461\n",
            "Epoch 21/40\n",
            "56/56 [==============================] - 38s 672ms/step - loss: 1.0980 - accuracy: 0.6659\n",
            "Epoch 22/40\n",
            "56/56 [==============================] - 38s 679ms/step - loss: 1.0669 - accuracy: 0.6733\n",
            "Epoch 23/40\n",
            "56/56 [==============================] - 39s 695ms/step - loss: 1.0085 - accuracy: 0.6892\n",
            "Epoch 24/40\n",
            "56/56 [==============================] - 40s 702ms/step - loss: 0.9717 - accuracy: 0.6994\n",
            "Epoch 25/40\n",
            "56/56 [==============================] - 38s 677ms/step - loss: 0.9267 - accuracy: 0.7187\n",
            "Epoch 26/40\n",
            "56/56 [==============================] - 37s 668ms/step - loss: 0.8896 - accuracy: 0.7243\n",
            "Epoch 27/40\n",
            "56/56 [==============================] - 37s 648ms/step - loss: 0.8929 - accuracy: 0.7255\n",
            "Epoch 28/40\n",
            "56/56 [==============================] - 39s 699ms/step - loss: 0.8441 - accuracy: 0.7379\n",
            "Epoch 29/40\n",
            "56/56 [==============================] - 40s 718ms/step - loss: 0.7634 - accuracy: 0.7708\n",
            "Epoch 30/40\n",
            "56/56 [==============================] - 37s 662ms/step - loss: 0.7670 - accuracy: 0.7731\n",
            "Epoch 31/40\n",
            "56/56 [==============================] - 38s 681ms/step - loss: 0.7809 - accuracy: 0.7697\n",
            "Epoch 32/40\n",
            "56/56 [==============================] - 38s 681ms/step - loss: 0.7785 - accuracy: 0.7521\n",
            "Epoch 33/40\n",
            "56/56 [==============================] - 39s 696ms/step - loss: 0.7393 - accuracy: 0.7680\n",
            "Epoch 34/40\n",
            "56/56 [==============================] - 40s 713ms/step - loss: 0.6905 - accuracy: 0.7952\n",
            "Epoch 35/40\n",
            "56/56 [==============================] - 37s 666ms/step - loss: 0.7124 - accuracy: 0.7777\n",
            "Epoch 36/40\n",
            "56/56 [==============================] - 35s 618ms/step - loss: 0.6675 - accuracy: 0.7975\n",
            "Epoch 37/40\n",
            "56/56 [==============================] - 37s 659ms/step - loss: 0.6345 - accuracy: 0.8037\n",
            "Epoch 38/40\n",
            "56/56 [==============================] - 38s 679ms/step - loss: 0.6326 - accuracy: 0.8049\n",
            "Epoch 39/40\n",
            "56/56 [==============================] - 37s 661ms/step - loss: 0.6725 - accuracy: 0.8071\n",
            "Epoch 40/40\n",
            "56/56 [==============================] - 39s 693ms/step - loss: 0.6127 - accuracy: 0.8100\n"
          ]
        }
      ],
      "source": [
        "history = model2c.fit(train_generator, epochs=40, verbose = 1)"
      ]
    },
    {
      "cell_type": "markdown",
      "metadata": {
        "id": "6VOcIXg0IvCs"
      },
      "source": [
        "#Matriks Konfusi"
      ]
    },
    {
      "cell_type": "code",
      "execution_count": 18,
      "metadata": {
        "colab": {
          "base_uri": "https://localhost:8080/",
          "height": 617
        },
        "id": "Lz5lA0bDIxJg",
        "outputId": "8efd4975-11d6-406d-f51b-cda5030cf60d"
      },
      "outputs": [
        {
          "output_type": "stream",
          "name": "stdout",
          "text": [
            "14/14 [==============================] - 2s 126ms/step\n"
          ]
        },
        {
          "output_type": "display_data",
          "data": {
            "text/plain": [
              "<Figure size 800x600 with 2 Axes>"
            ],
            "image/png": "[encoded data removed]"
          },
          "metadata": {}
        }
      ],
      "source": [
        "from sklearn.metrics import confusion_matrix, classification_report\n",
        "import seaborn as sns\n",
        "import matplotlib.pyplot as plt\n",
        "\n",
        "# Fungsi untuk mendapatkan prediksi model dan label sebenarnya\n",
        "def get_predictions_and_labels(model, data_generator):\n",
        "    predictions = model.predict(data_generator)\n",
        "    true_classes = data_generator.classes\n",
        "    return predictions, true_classes\n",
        "\n",
        "# Mendapatkan prediksi dan label sebenarnya untuk data uji\n",
        "y_pred_prob, y_true = get_predictions_and_labels(model2c, test_generator)\n",
        "y_pred = np.argmax(y_pred_prob, axis=1)\n",
        "\n",
        "# Membuat matriks konfusi\n",
        "cf_matrix = confusion_matrix(y_true, y_pred)\n",
        "\n",
        "# Membuat visualisasi matriks konfusi\n",
        "fig, ax = plt.subplots(figsize=(8, 6))\n",
        "sns.heatmap(cf_matrix, annot=True, fmt='g', cmap='Blues', ax=ax)\n",
        "\n",
        "# Menetapkan label dan judul\n",
        "ax.set_title('Confusion Matrix with labels')\n",
        "ax.set_xlabel('Predicted Values')\n",
        "ax.set_ylabel('Actual Values')\n",
        "\n",
        "class_labels = list(test_generator.class_indices.keys())\n",
        "\n",
        "# Menetapkan label pada sumbu x dan y sesuai dengan jenis kelas\n",
        "ax.xaxis.set_ticklabels(class_labels, rotation=45)\n",
        "ax.yaxis.set_ticklabels(class_labels, rotation=45)\n",
        "\n",
        "# Menampilkan visualisasi Matriks Konfusi\n",
        "plt.show()"
      ]
    },
    {
      "cell_type": "code",
      "execution_count": 19,
      "metadata": {
        "colab": {
          "base_uri": "https://localhost:8080/"
        },
        "id": "S7iwBJlGZEUM",
        "outputId": "3b50ed07-cbd7-4730-f5e1-4db7e2088e3d"
      },
      "outputs": [
        {
          "output_type": "stream",
          "name": "stdout",
          "text": [
            "Test Accuracy: 0.19101123595505617\n"
          ]
        }
      ],
      "source": [
        "from sklearn.metrics import accuracy_score\n",
        "\n",
        "test_accuracy = accuracy_score(y_true, y_pred)\n",
        "print(f\"Test Accuracy: {test_accuracy}\")"
      ]
    }
  ],
  "metadata": {
    "colab": {
      "provenance": [],
      "include_colab_link": true
    },
    "kernelspec": {
      "display_name": "Python 3",
      "name": "python3"
    },
    "language_info": {
      "name": "python"
    }
  },
  "nbformat": 4,
  "nbformat_minor": 0
}