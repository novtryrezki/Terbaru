{
  "nbformat": 4,
  "nbformat_minor": 0,
  "metadata": {
    "colab": {
      "provenance": [],
      "include_colab_link": true
    },
    "kernelspec": {
      "name": "python3",
      "display_name": "Python 3"
    },
    "language_info": {
      "name": "python"
    }
  },
  "cells": [
    {
      "cell_type": "markdown",
      "metadata": {
        "id": "view-in-github",
        "colab_type": "text"
      },
      "source": [
        "<a href=\"https://colab.research.google.com/github/novtryrezki/Terbaru/blob/main/MembagiData.ipynb\" target=\"_parent\"><img src=\"https://colab.research.google.com/assets/colab-badge.svg\" alt=\"Open In Colab\"/></a>"
      ]
    },
    {
      "cell_type": "markdown",
      "source": [
        "# Import Library"
      ],
      "metadata": {
        "id": "A15OBzXyS6on"
      }
    },
    {
      "cell_type": "code",
      "execution_count": 1,
      "metadata": {
        "id": "fII8FhayS4o3"
      },
      "outputs": [],
      "source": [
        "import os\n",
        "import zipfile\n",
        "import random\n",
        "import shutil\n",
        "import numpy as np\n",
        "import tensorflow as tf\n",
        "import pandas as pd\n",
        "from google.colab import drive\n",
        "from sklearn.model_selection import train_test_split"
      ]
    },
    {
      "cell_type": "markdown",
      "source": [
        "# Mount Google Drive dan Load Data"
      ],
      "metadata": {
        "id": "yJrM2MNXS-rS"
      }
    },
    {
      "cell_type": "code",
      "source": [
        "# Melakukan mount pada Google Drive\n",
        "drive.mount('/content/drive')\n",
        "\n",
        "# Membuat direktori jika belum ada\n",
        "os.makedirs('/content/images', exist_ok=True)\n",
        "\n",
        "# Menentukan path file ZIP di Google Drive\n",
        "zip_path = '/content/drive/MyDrive/Data baru.zip'\n",
        "\n",
        "# Membuat objek zip_ref\n",
        "zip_ref = zipfile.ZipFile(zip_path, 'r')\n",
        "\n",
        "# Mengekstrak file ZIP\n",
        "extract_path = '/content/images'\n",
        "zip_ref.extractall(extract_path)\n",
        "\n",
        "# Tutup objek zip_ref setelah selesai\n",
        "zip_ref.close()"
      ],
      "metadata": {
        "colab": {
          "base_uri": "https://localhost:8080/"
        },
        "id": "_wdo4hGuTCR9",
        "outputId": "eb8d0baa-d1e3-4d8d-fbc8-1d05990cf0ec"
      },
      "execution_count": 2,
      "outputs": [
        {
          "output_type": "stream",
          "name": "stdout",
          "text": [
            "Mounted at /content/drive\n"
          ]
        }
      ]
    },
    {
      "cell_type": "code",
      "source": [
        "import os\n",
        "\n",
        "# Mendefinisikan path direktori dataset\n",
        "dataset_dir = '/content/images/Data baru'\n",
        "\n",
        "# Fungsi untuk memeriksa duplikat dalam folder tertentu\n",
        "def check_duplicates(folder_path):\n",
        "    print(f\"Memeriksa duplikat di {folder_path}\")\n",
        "\n",
        "    # Membuat list semua file dalam folder\n",
        "    all_files = []\n",
        "    for root, dirs, files in os.walk(folder_path):\n",
        "        all_files.extend(files)\n",
        "\n",
        "    # Menghitung jumlah file sebelum penghapusan duplikat\n",
        "    initial_file_count = len(all_files)\n",
        "\n",
        "    # Menghapus duplikat\n",
        "    unique_files = set(all_files)\n",
        "\n",
        "    # Menghitung jumlah file setelah penghapusan duplikat\n",
        "    final_file_count = len(unique_files)\n",
        "\n",
        "    # Cetak hasil\n",
        "    print(f\"Jumlah file sebelum penghapusan duplikat: {initial_file_count}\")\n",
        "    print(f\"Jumlah file setelah penghapusan duplikat: {final_file_count}\")\n",
        "\n",
        "    # Jika terdapat duplikat, tampilkan file yang duplikat\n",
        "    if initial_file_count > final_file_count:\n",
        "        duplicate_files = [file for file in all_files if all_files.count(file) > 1]\n",
        "        print(\"File duplikat:\")\n",
        "        print(duplicate_files)\n",
        "    else:\n",
        "        print(\"Tidak ada duplikat.\")\n",
        "\n",
        "# Memeriksa duplikat untuk setiap folder di dalam dataset_dir\n",
        "for folder_name in os.listdir(dataset_dir):\n",
        "    if folder_name not in ['train', 'test']:\n",
        "        folder_path = os.path.join(dataset_dir, folder_name)\n",
        "        check_duplicates(folder_path)\n"
      ],
      "metadata": {
        "colab": {
          "base_uri": "https://localhost:8080/"
        },
        "id": "FRWf1uftHHKc",
        "outputId": "7fd0b169-025b-4a44-b044-b9f311a6f4e6"
      },
      "execution_count": 4,
      "outputs": [
        {
          "output_type": "stream",
          "name": "stdout",
          "text": [
            "Memeriksa duplikat di /content/images/Data baru/angka 9\n",
            "Jumlah file sebelum penghapusan duplikat: 151\n",
            "Jumlah file setelah penghapusan duplikat: 151\n",
            "Tidak ada duplikat.\n",
            "Memeriksa duplikat di /content/images/Data baru/angka 2\n",
            "Jumlah file sebelum penghapusan duplikat: 210\n",
            "Jumlah file setelah penghapusan duplikat: 210\n",
            "Tidak ada duplikat.\n",
            "Memeriksa duplikat di /content/images/Data baru/angka 7\n",
            "Jumlah file sebelum penghapusan duplikat: 91\n",
            "Jumlah file setelah penghapusan duplikat: 91\n",
            "Tidak ada duplikat.\n",
            "Memeriksa duplikat di /content/images/Data baru/angka 0\n",
            "Jumlah file sebelum penghapusan duplikat: 625\n",
            "Jumlah file setelah penghapusan duplikat: 625\n",
            "Tidak ada duplikat.\n",
            "Memeriksa duplikat di /content/images/Data baru/angka 8\n",
            "Jumlah file sebelum penghapusan duplikat: 70\n",
            "Jumlah file setelah penghapusan duplikat: 70\n",
            "Tidak ada duplikat.\n",
            "Memeriksa duplikat di /content/images/Data baru/angka 4\n",
            "Jumlah file sebelum penghapusan duplikat: 114\n",
            "Jumlah file setelah penghapusan duplikat: 114\n",
            "Tidak ada duplikat.\n",
            "Memeriksa duplikat di /content/images/Data baru/angka 1\n",
            "Jumlah file sebelum penghapusan duplikat: 459\n",
            "Jumlah file setelah penghapusan duplikat: 459\n",
            "Tidak ada duplikat.\n",
            "Memeriksa duplikat di /content/images/Data baru/angka 6\n",
            "Jumlah file sebelum penghapusan duplikat: 56\n",
            "Jumlah file setelah penghapusan duplikat: 56\n",
            "Tidak ada duplikat.\n",
            "Memeriksa duplikat di /content/images/Data baru/angka 3\n",
            "Jumlah file sebelum penghapusan duplikat: 149\n",
            "Jumlah file setelah penghapusan duplikat: 149\n",
            "Tidak ada duplikat.\n",
            "Memeriksa duplikat di /content/images/Data baru/angka 5\n",
            "Jumlah file sebelum penghapusan duplikat: 283\n",
            "Jumlah file setelah penghapusan duplikat: 283\n",
            "Tidak ada duplikat.\n"
          ]
        }
      ]
    },
    {
      "cell_type": "code",
      "source": [
        "# Mendefinisikan path direktori dataset\n",
        "dataset_dir = os.path.join(extract_path, 'Data baru')\n",
        "train_dir = os.path.join(dataset_dir, 'train')\n",
        "test_dir = os.path.join(dataset_dir, 'test')\n",
        "list_angka = sorted(os.listdir(dataset_dir))\n",
        "\n",
        "# Mendefinisikan proporsi pembagian subset data\n",
        "train_ratio = 0.8\n",
        "test_ratio = 0.2\n",
        "\n",
        "print(list_angka)"
      ],
      "metadata": {
        "colab": {
          "base_uri": "https://localhost:8080/"
        },
        "id": "97TQVttedKw1",
        "outputId": "246a4011-bb9d-4af4-b7b3-1d61cae8643d"
      },
      "execution_count": 6,
      "outputs": [
        {
          "output_type": "stream",
          "name": "stdout",
          "text": [
            "['angka 0', 'angka 1', 'angka 2', 'angka 3', 'angka 4', 'angka 5', 'angka 6', 'angka 7', 'angka 8', 'angka 9']\n"
          ]
        }
      ]
    },
    {
      "cell_type": "code",
      "source": [
        "for angka in list_angka:\n",
        "    class_dir = os.path.join(dataset_dir, angka)\n",
        "    image_files = os.listdir(class_dir)\n",
        "    random.shuffle(image_files)\n",
        "\n",
        "    train_files, test_files = train_test_split(image_files, test_size=test_ratio, random_state=42)\n",
        "\n",
        "    for file_name in train_files:\n",
        "        src_path = os.path.join(class_dir, file_name)\n",
        "        dst_path = os.path.join(train_dir, angka, file_name)\n",
        "        if os.path.isdir(src_path):\n",
        "            shutil.copytree(src_path, dst_path)\n",
        "        else:\n",
        "            os.makedirs(os.path.dirname(dst_path), exist_ok=True)\n",
        "            shutil.copy2(src_path, dst_path)\n",
        "\n",
        "    for file_name in test_files:\n",
        "        src_path = os.path.join(class_dir, file_name)\n",
        "        dst_path = os.path.join(test_dir, angka, file_name)\n",
        "        if os.path.isdir(src_path):\n",
        "            shutil.copytree(src_path, dst_path)\n",
        "        else:\n",
        "            os.makedirs(os.path.dirname(dst_path), exist_ok=True)\n",
        "            shutil.copy2(src_path, dst_path)\n"
      ],
      "metadata": {
        "id": "VAhY9nALH67H"
      },
      "execution_count": 7,
      "outputs": []
    },
    {
      "cell_type": "code",
      "source": [
        "def count_images(directory):\n",
        "    return sum(1 for file in os.listdir(directory) if file.endswith(('.jpg', '.jpeg', '.png', '.gif')))\n",
        "\n",
        "# Menghitung jumlah gambar di data train\n",
        "train_image_count = sum(count_images(os.path.join(train_dir, angka)) for angka in list_angka)\n",
        "\n",
        "# Menghitung jumlah gambar di data test\n",
        "test_image_count = sum(count_images(os.path.join(test_dir, angka)) for angka in list_angka)\n",
        "\n",
        "print(f\"Jumlah gambar di data train: {train_image_count}\")\n",
        "print(f\"Jumlah gambar di data test: {test_image_count}\")"
      ],
      "metadata": {
        "colab": {
          "base_uri": "https://localhost:8080/"
        },
        "id": "R9fuePh2IL79",
        "outputId": "83513021-0756-48aa-989e-3c587ac3a175"
      },
      "execution_count": 8,
      "outputs": [
        {
          "output_type": "stream",
          "name": "stdout",
          "text": [
            "Jumlah gambar di data train: 1763\n",
            "Jumlah gambar di data test: 445\n"
          ]
        }
      ]
    },
    {
      "cell_type": "code",
      "source": [
        "from google.colab import files\n",
        "import shutil\n",
        "\n",
        "# Menentukan path folder train dan test di Colab\n",
        "train_dir_colab = '/content/images/Data/train'\n",
        "test_dir_colab = '/content/images/Data/test'\n",
        "\n",
        "# Membuat zip file dari folder train\n",
        "shutil.make_archive('/content/train', 'zip', train_dir_colab)\n",
        "\n",
        "# Membuat zip file dari folder test\n",
        "shutil.make_archive('/content/test', 'zip', test_dir_colab)\n",
        "\n",
        "# Mengunduh file zip\n",
        "files.download('/content/train.zip')\n",
        "files.download('/content/test.zip')"
      ],
      "metadata": {
        "colab": {
          "base_uri": "https://localhost:8080/",
          "height": 17
        },
        "id": "26jp8EQDIcF7",
        "outputId": "9ac3b903-f4f5-4560-8b18-6b02eab605c4"
      },
      "execution_count": 9,
      "outputs": [
        {
          "output_type": "display_data",
          "data": {
            "text/plain": [
              "<IPython.core.display.Javascript object>"
            ],
            "application/javascript": [
              "\n",
              "    async function download(id, filename, size) {\n",
              "      if (!google.colab.kernel.accessAllowed) {\n",
              "        return;\n",
              "      }\n",
              "      const div = document.createElement('div');\n",
              "      const label = document.createElement('label');\n",
              "      label.textContent = `Downloading \"${filename}\": `;\n",
              "      div.appendChild(label);\n",
              "      const progress = document.createElement('progress');\n",
              "      progress.max = size;\n",
              "      div.appendChild(progress);\n",
              "      document.body.appendChild(div);\n",
              "\n",
              "      const buffers = [];\n",
              "      let downloaded = 0;\n",
              "\n",
              "      const channel = await google.colab.kernel.comms.open(id);\n",
              "      // Send a message to notify the kernel that we're ready.\n",
              "      channel.send({})\n",
              "\n",
              "      for await (const message of channel.messages) {\n",
              "        // Send a message to notify the kernel that we're ready.\n",
              "        channel.send({})\n",
              "        if (message.buffers) {\n",
              "          for (const buffer of message.buffers) {\n",
              "            buffers.push(buffer);\n",
              "            downloaded += buffer.byteLength;\n",
              "            progress.value = downloaded;\n",
              "          }\n",
              "        }\n",
              "      }\n",
              "      const blob = new Blob(buffers, {type: 'application/binary'});\n",
              "      const a = document.createElement('a');\n",
              "      a.href = window.URL.createObjectURL(blob);\n",
              "      a.download = filename;\n",
              "      div.appendChild(a);\n",
              "      a.click();\n",
              "      div.remove();\n",
              "    }\n",
              "  "
            ]
          },
          "metadata": {}
        },
        {
          "output_type": "display_data",
          "data": {
            "text/plain": [
              "<IPython.core.display.Javascript object>"
            ],
            "application/javascript": [
              "download(\"download_b7b93f89-213b-4c50-8466-d2d34411473e\", \"train.zip\", 22)"
            ]
          },
          "metadata": {}
        },
        {
          "output_type": "display_data",
          "data": {
            "text/plain": [
              "<IPython.core.display.Javascript object>"
            ],
            "application/javascript": [
              "\n",
              "    async function download(id, filename, size) {\n",
              "      if (!google.colab.kernel.accessAllowed) {\n",
              "        return;\n",
              "      }\n",
              "      const div = document.createElement('div');\n",
              "      const label = document.createElement('label');\n",
              "      label.textContent = `Downloading \"${filename}\": `;\n",
              "      div.appendChild(label);\n",
              "      const progress = document.createElement('progress');\n",
              "      progress.max = size;\n",
              "      div.appendChild(progress);\n",
              "      document.body.appendChild(div);\n",
              "\n",
              "      const buffers = [];\n",
              "      let downloaded = 0;\n",
              "\n",
              "      const channel = await google.colab.kernel.comms.open(id);\n",
              "      // Send a message to notify the kernel that we're ready.\n",
              "      channel.send({})\n",
              "\n",
              "      for await (const message of channel.messages) {\n",
              "        // Send a message to notify the kernel that we're ready.\n",
              "        channel.send({})\n",
              "        if (message.buffers) {\n",
              "          for (const buffer of message.buffers) {\n",
              "            buffers.push(buffer);\n",
              "            downloaded += buffer.byteLength;\n",
              "            progress.value = downloaded;\n",
              "          }\n",
              "        }\n",
              "      }\n",
              "      const blob = new Blob(buffers, {type: 'application/binary'});\n",
              "      const a = document.createElement('a');\n",
              "      a.href = window.URL.createObjectURL(blob);\n",
              "      a.download = filename;\n",
              "      div.appendChild(a);\n",
              "      a.click();\n",
              "      div.remove();\n",
              "    }\n",
              "  "
            ]
          },
          "metadata": {}
        },
        {
          "output_type": "display_data",
          "data": {
            "text/plain": [
              "<IPython.core.display.Javascript object>"
            ],
            "application/javascript": [
              "download(\"download_3f9ea88b-730d-43f3-8d9f-9390656acfbf\", \"test.zip\", 22)"
            ]
          },
          "metadata": {}
        }
      ]
    }
  ]
}