{
  "nbformat": 4,
  "nbformat_minor": 0,
  "metadata": {
    "colab": {
      "provenance": [],
      "authorship_tag": "ABX9TyMeGpvP9fFGlMfjQSRhoB9p",
      "include_colab_link": true
    },
    "kernelspec": {
      "name": "python3",
      "display_name": "Python 3"
    },
    "language_info": {
      "name": "python"
    }
  },
  "cells": [
    {
      "cell_type": "markdown",
      "metadata": {
        "id": "view-in-github",
        "colab_type": "text"
      },
      "source": [
        "<a href=\"https://colab.research.google.com/github/novtryrezki/Terbaru/blob/main/1CNN_bs_64_ep_20.ipynb\" target=\"_parent\"><img src=\"https://colab.research.google.com/assets/colab-badge.svg\" alt=\"Open In Colab\"/></a>"
      ]
    },
    {
      "cell_type": "code",
      "execution_count": 1,
      "metadata": {
        "id": "Gj0QELQHjUVZ"
      },
      "outputs": [],
      "source": [
        "import os\n",
        "import zipfile\n",
        "import random\n",
        "import shutil\n",
        "import numpy as np\n",
        "import tensorflow as tf\n",
        "import pandas as pd\n",
        "from google.colab import drive\n",
        "from sklearn.model_selection import train_test_split"
      ]
    },
    {
      "cell_type": "code",
      "source": [
        "# Melakukan mount pada Google Drive\n",
        "drive.mount('/content/drive')\n",
        "\n",
        "# Menentukan path file ZIP di Google Drive\n",
        "zip_path = '/content/drive/MyDrive/images.zip'\n",
        "\n",
        "# Membuat objek zip_ref\n",
        "zip_ref = zipfile.ZipFile(zip_path, 'r')\n",
        "\n",
        "# Mengekstrak file ZIP\n",
        "extract_path ='/content/images'\n",
        "zip_ref.extractall(extract_path)\n",
        "\n",
        "# Tutup objek zip_ref setelah selesai\n",
        "zip_ref.close()"
      ],
      "metadata": {
        "colab": {
          "base_uri": "https://localhost:8080/"
        },
        "id": "HXtZwYwdjXH4",
        "outputId": "8743dcc1-8fd9-4b3e-b0e4-3df48e10b816"
      },
      "execution_count": 2,
      "outputs": [
        {
          "output_type": "stream",
          "name": "stdout",
          "text": [
            "Mounted at /content/drive\n"
          ]
        }
      ]
    },
    {
      "cell_type": "code",
      "source": [
        "# Mendefinisikan path direktori dataset\n",
        "dataset_dir = os.path.join(extract_path, 'images')\n",
        "train_dir = os.path.join(dataset_dir, 'train')\n",
        "test_dir = os.path.join(dataset_dir, 'test')\n",
        "list_train = sorted(os.listdir(train_dir))\n",
        "list_test = sorted(os.listdir(test_dir))\n",
        "\n",
        "print(\"Daftar Angka pada Dataset Train yaitu : \", list_train)\n",
        "print(\"Daftar Angka pada Dataset Test yaitu : \", list_test)"
      ],
      "metadata": {
        "colab": {
          "base_uri": "https://localhost:8080/"
        },
        "id": "P9SpMwZxCMpv",
        "outputId": "eb053224-b1fb-42bb-f7ce-9a81baf5feca"
      },
      "execution_count": 3,
      "outputs": [
        {
          "output_type": "stream",
          "name": "stdout",
          "text": [
            "Daftar Angka pada Dataset Train yaitu :  ['angka 0', 'angka 1', 'angka 2', 'angka 3', 'angka 4', 'angka 5', 'angka 6', 'angka 7', 'angka 8', 'angka 9']\n",
            "Daftar Angka pada Dataset Test yaitu :  ['angka 0', 'angka 1', 'angka 2', 'angka 3', 'angka 4', 'angka 5', 'angka 6', 'angka 7', 'angka 8', 'angka 9']\n"
          ]
        }
      ]
    },
    {
      "cell_type": "code",
      "source": [
        "def count_images(directory):\n",
        "    return sum(1 for file in os.listdir(directory) if file.endswith(('.jpg', '.jpeg', '.png', '.gif')))\n",
        "\n",
        "# Menghitung jumlah gambar di data train\n",
        "train_image_count = sum(count_images(os.path.join(train_dir, angka)) for angka in list_train)\n",
        "\n",
        "# Menghitung jumlah gambar di data test\n",
        "test_image_count = sum(count_images(os.path.join(test_dir, angka)) for angka in list_test)\n",
        "\n",
        "print(f\"Jumlah gambar di Dataset Train: {train_image_count}\")\n",
        "print(f\"Jumlah gambar di Dataset Test: {test_image_count}\")"
      ],
      "metadata": {
        "colab": {
          "base_uri": "https://localhost:8080/"
        },
        "id": "JycQg0kGCHHe",
        "outputId": "f431273f-e709-4d49-e430-90dda45f07a2"
      },
      "execution_count": 4,
      "outputs": [
        {
          "output_type": "stream",
          "name": "stdout",
          "text": [
            "Jumlah gambar di Dataset Train: 1763\n",
            "Jumlah gambar di Dataset Test: 445\n"
          ]
        }
      ]
    },
    {
      "cell_type": "markdown",
      "source": [
        "# Preprocessing"
      ],
      "metadata": {
        "id": "Cs-YBymEElj8"
      }
    },
    {
      "cell_type": "code",
      "source": [
        "import cv2\n",
        "\n",
        "def resize_images(directory, target_resolution):\n",
        "    for angka in os.listdir(directory):\n",
        "        angka_dir = os.path.join(directory, angka)\n",
        "        for file_name in os.listdir(angka_dir):\n",
        "            file_path = os.path.join(angka_dir, file_name)\n",
        "            img = cv2.imread(file_path)\n",
        "            resized_img = cv2.resize(img, (target_resolution[0], target_resolution[1]))\n",
        "            cv2.imwrite(file_path, resized_img)\n",
        "\n",
        "target_resolution = (52, 78)\n",
        "resize_images(train_dir, target_resolution)\n",
        "resize_images(test_dir, target_resolution)"
      ],
      "metadata": {
        "id": "j-iPjxpXF_bf"
      },
      "execution_count": 5,
      "outputs": []
    },
    {
      "cell_type": "code",
      "source": [
        "from tensorflow.keras.preprocessing.image import ImageDataGenerator\n",
        "\n",
        "# Membuat generator data dengan augmentasi\n",
        "image_size = (52, 78)\n",
        "batch_size = 64\n",
        "\n",
        "train_datagen = ImageDataGenerator(\n",
        "    rescale = 1./255,\n",
        "    width_shift_range = 0.2,\n",
        "    height_shift_range = 0.2,\n",
        "    zoom_range = 0.2,\n",
        ")\n",
        "\n",
        "test_datagen = ImageDataGenerator(\n",
        "    rescale=1./255,\n",
        ")\n",
        "\n",
        "train_generator = train_datagen.flow_from_directory(\n",
        "    train_dir,\n",
        "    target_size=image_size,\n",
        "    batch_size=batch_size,\n",
        "    class_mode='categorical',\n",
        "    color_mode='grayscale'\n",
        ")\n",
        "\n",
        "test_generator = test_datagen.flow_from_directory(\n",
        "    test_dir,\n",
        "    target_size=image_size,\n",
        "    batch_size=batch_size,\n",
        "    class_mode='categorical',\n",
        "    color_mode='grayscale'\n",
        ")"
      ],
      "metadata": {
        "colab": {
          "base_uri": "https://localhost:8080/"
        },
        "id": "MrR6ROkiF9Uj",
        "outputId": "2cdcee76-f8bc-4d54-ae1e-1f085f1bee5b"
      },
      "execution_count": 6,
      "outputs": [
        {
          "output_type": "stream",
          "name": "stdout",
          "text": [
            "Found 1763 images belonging to 10 classes.\n",
            "Found 445 images belonging to 10 classes.\n"
          ]
        }
      ]
    },
    {
      "cell_type": "markdown",
      "source": [
        "# Membuat Model CNN"
      ],
      "metadata": {
        "id": "gPqE7ywQJ01c"
      }
    },
    {
      "cell_type": "code",
      "source": [
        "from tensorflow.keras.models import Sequential\n",
        "from tensorflow.keras.layers import Conv2D, AveragePooling2D, Flatten, Dense\n",
        "import math\n",
        "\n",
        "img_size = 52*78*1\n",
        "\n",
        "# Perhitungan jumlah neuron pada lapisan tersembunyi\n",
        "hidden_neurons = 201\n",
        "\n",
        "model1c = Sequential()\n",
        "model1c.add(Conv2D(32, (3, 3), activation='relu', input_shape=(52, 78, 1)))\n",
        "model1c.add(AveragePooling2D((2, 2)))\n",
        "model1c.add(Conv2D(64, (3, 3), activation='relu'))\n",
        "model1c.add(AveragePooling2D((2, 2)))\n",
        "model1c.add(Flatten())\n",
        "model1c.add(Dense(hidden_neurons, activation='relu'))\n",
        "model1c.add(Dense(10, activation='softmax'))\n",
        "\n",
        "model1c.compile(optimizer='SGD', loss='categorical_crossentropy', metrics=['accuracy'])"
      ],
      "metadata": {
        "id": "SvNzs3QB71R6"
      },
      "execution_count": 7,
      "outputs": []
    },
    {
      "cell_type": "code",
      "source": [
        "# Mendapatkan bobot dari model\n",
        "weights = []\n",
        "for layer in model1c.layers:\n",
        "    weights.append(layer.get_weights())\n",
        "\n",
        "print(\"Bobot dari model:\")\n",
        "for i, layer_weights in enumerate(weights):\n",
        "    print(\"Layer\", i+1)\n",
        "    for j, w in enumerate(layer_weights):\n",
        "        print(\"  Bobot {}: {}\".format(j+1, w.shape))"
      ],
      "metadata": {
        "id": "FRLCRXpXVwqm",
        "outputId": "87bd9776-a913-4c88-c928-c7f90b0fa1e2",
        "colab": {
          "base_uri": "https://localhost:8080/"
        }
      },
      "execution_count": 8,
      "outputs": [
        {
          "output_type": "stream",
          "name": "stdout",
          "text": [
            "Bobot dari model:\n",
            "Layer 1\n",
            "  Bobot 1: (3, 3, 1, 32)\n",
            "  Bobot 2: (32,)\n",
            "Layer 2\n",
            "Layer 3\n",
            "  Bobot 1: (3, 3, 32, 64)\n",
            "  Bobot 2: (64,)\n",
            "Layer 4\n",
            "Layer 5\n",
            "Layer 6\n",
            "  Bobot 1: (12672, 201)\n",
            "  Bobot 2: (201,)\n",
            "Layer 7\n",
            "  Bobot 1: (201, 10)\n",
            "  Bobot 2: (10,)\n"
          ]
        }
      ]
    },
    {
      "cell_type": "code",
      "source": [
        "\n",
        "# Menampilkan matriks bobot dan vektor bias dari setiap layer\n",
        "for i, layer in enumerate(model1c.layers):\n",
        "    weights = layer.get_weights()\n",
        "    if weights:\n",
        "        print(\"Layer\", i+1)\n",
        "        for j, w in enumerate(weights):\n",
        "            if j == 0:\n",
        "                print(\"  Bobot:\")\n",
        "            else:\n",
        "                print(\"  Bias:\")\n",
        "            print(\"    Ukuran:\", w.shape)\n",
        "            print(\"    Nilai:\")\n",
        "            print(w)"
      ],
      "metadata": {
        "id": "JuOxpFngVy2M",
        "outputId": "3fac4a5b-0c51-4037-9c3e-8ad91792baf3",
        "colab": {
          "base_uri": "https://localhost:8080/"
        }
      },
      "execution_count": 9,
      "outputs": [
        {
          "output_type": "stream",
          "name": "stdout",
          "text": [
            "Layer 1\n",
            "  Bobot:\n",
            "    Ukuran: (3, 3, 1, 32)\n",
            "    Nilai:\n",
            "[[[[ 2.22352147e-02 -5.48947155e-02  1.02963373e-01  1.29288331e-01\n",
            "    -5.66269010e-02  4.79772538e-02 -1.20559037e-01  5.66589832e-03\n",
            "     7.43198544e-02  3.15272957e-02  6.67976141e-02 -4.07616645e-02\n",
            "     1.11914948e-01 -1.25275716e-01 -7.34657943e-02 -1.28614962e-01\n",
            "     1.09745041e-01  6.73747063e-02  1.29346773e-01 -1.17896497e-02\n",
            "    -6.12618774e-02 -5.27945459e-02 -1.09421015e-01 -1.05942309e-01\n",
            "     8.28629881e-02  8.48130733e-02 -9.75080132e-02 -5.00402898e-02\n",
            "     8.63121450e-02  8.42780173e-02  9.35375392e-02 -9.84581113e-02]]\n",
            "\n",
            "  [[ 6.89325780e-02 -3.97585630e-02 -8.91128331e-02 -7.96062127e-02\n",
            "    -1.23398386e-01 -7.33125880e-02 -6.19311854e-02 -1.67046338e-02\n",
            "     2.26627737e-02  1.28925726e-01 -2.69417614e-02  8.91043544e-02\n",
            "     8.15280378e-02  3.37464064e-02  6.11240864e-02  3.17794085e-02\n",
            "     7.06588030e-02  1.21213034e-01 -6.67364076e-02 -6.80319220e-02\n",
            "     7.32751489e-02 -2.91865617e-02 -7.51876459e-02  1.26229003e-01\n",
            "     6.75436109e-02 -3.24605182e-02  1.36264279e-01 -1.25702754e-01\n",
            "    -1.07589707e-01 -7.10130632e-02 -1.16827056e-01 -5.85707128e-02]]\n",
            "\n",
            "  [[ 1.89127028e-02 -1.37247905e-01  5.51969558e-02  1.26076445e-01\n",
            "    -1.56602263e-02 -6.71176091e-02  4.08303440e-02 -2.51049623e-02\n",
            "     1.30997598e-02  9.63058323e-02  1.23709902e-01  9.30096060e-02\n",
            "     7.85804838e-02  9.62666273e-02 -3.34087834e-02 -1.24334626e-01\n",
            "     1.32967219e-01  1.18491098e-01 -8.17845315e-02  6.91979229e-02\n",
            "     1.03159100e-02 -1.13385625e-01  1.13805637e-01  8.46992135e-02\n",
            "    -5.31169176e-02  1.37958631e-01  3.22740674e-02 -6.70360401e-02\n",
            "    -1.03478894e-01 -1.20367877e-01 -9.12118107e-02  1.06128618e-01]]]\n",
            "\n",
            "\n",
            " [[[-1.23502962e-01  5.95736802e-02  8.17471892e-02  1.00541711e-01\n",
            "     1.21021256e-01  1.25517532e-01  1.38665482e-01 -1.86942220e-02\n",
            "    -8.50438774e-02 -7.52117708e-02 -5.02698123e-03 -6.81091547e-02\n",
            "    -5.48761487e-02  1.03049383e-01  4.69605327e-02 -6.01110607e-02\n",
            "     1.32820651e-01 -2.72543356e-02  6.47438020e-02 -1.24157771e-01\n",
            "    -8.85219723e-02  1.41525194e-01  7.02887774e-05 -8.67115781e-02\n",
            "    -1.35290071e-01  1.35506287e-01 -4.01517898e-02 -9.05151665e-03\n",
            "     1.24704972e-01 -3.77677828e-02 -1.30951807e-01  3.55648398e-02]]\n",
            "\n",
            "  [[-5.25800064e-02  1.14358559e-01 -9.61230695e-02 -8.88442770e-02\n",
            "     6.12540841e-02  2.04227865e-02  7.42487311e-02 -3.83006632e-02\n",
            "    -7.12347552e-02 -8.83767679e-02  4.31615561e-02  5.32326847e-02\n",
            "     1.13434628e-01 -1.28374770e-01  2.50963569e-02  1.30101293e-02\n",
            "    -3.23730558e-02  4.77550626e-02  5.53637147e-02 -1.02405518e-01\n",
            "     1.04084969e-01  9.17618126e-02 -7.68809915e-02 -1.29072487e-01\n",
            "     5.66943735e-02 -1.30110279e-01  8.15482438e-03 -4.76985052e-02\n",
            "    -9.45655406e-02  1.02354854e-01 -3.69268656e-02 -1.16723865e-01]]\n",
            "\n",
            "  [[-9.14651603e-02 -6.59534410e-02  1.13202706e-01 -3.25562805e-02\n",
            "     1.41936108e-01  1.10886559e-01 -1.43811107e-02 -3.50377187e-02\n",
            "     5.76389432e-02  5.38019240e-02  6.77132159e-02  3.02397460e-02\n",
            "    -8.90266895e-02  1.05056792e-01 -3.92679423e-02 -1.23279512e-01\n",
            "    -7.98249915e-02  9.44417864e-02 -8.41836631e-03 -6.85182437e-02\n",
            "    -3.91528010e-04  1.25442848e-01 -1.70370042e-02 -9.16202217e-02\n",
            "     1.39887348e-01  2.69582272e-02 -2.94807330e-02  9.94591117e-02\n",
            "    -1.15545742e-01 -1.12274587e-02  1.03122070e-01  8.68420750e-02]]]\n",
            "\n",
            "\n",
            " [[[-8.87323767e-02 -1.34494349e-01 -7.38309324e-02  3.95475775e-02\n",
            "    -1.23372190e-01  4.71721590e-03  1.06132746e-01 -8.80982131e-02\n",
            "    -1.23884261e-01  1.35520026e-01  5.57134002e-02 -5.83490208e-02\n",
            "    -1.37185797e-01 -3.48036885e-02 -2.84274146e-02  1.07800722e-01\n",
            "     9.25325751e-02 -7.45336860e-02 -9.91539210e-02 -2.43915021e-02\n",
            "    -1.83117390e-02  4.63596880e-02 -6.55077919e-02  6.48554265e-02\n",
            "     8.51252079e-02 -4.13502529e-02  9.49237943e-02 -4.61791977e-02\n",
            "    -5.87602481e-02  1.36825189e-01 -5.76124489e-02  1.35017619e-01]]\n",
            "\n",
            "  [[-1.13185585e-01 -5.73894009e-02 -1.37442991e-01 -9.64096934e-02\n",
            "     7.34867156e-03 -8.71547535e-02  4.40731347e-02 -5.57369888e-02\n",
            "     8.59079659e-02 -1.28459364e-01  8.36334229e-02  7.79880881e-02\n",
            "    -9.09141824e-02 -2.39302590e-02  1.01713806e-01 -6.71163201e-03\n",
            "     9.48860198e-02  4.05512601e-02 -1.14188418e-01  3.11112851e-02\n",
            "    -2.96884328e-02  1.24291077e-01  1.62528455e-02  3.60463411e-02\n",
            "    -2.22245753e-02  1.40568122e-01 -9.63114500e-02 -1.32377580e-01\n",
            "     1.07788175e-01 -9.77594927e-02 -1.38893515e-01 -5.84113747e-02]]\n",
            "\n",
            "  [[-1.41600668e-02  1.38886824e-01 -4.55669910e-02 -2.85506994e-02\n",
            "     7.15067685e-02 -9.36347246e-02 -3.09153870e-02  1.04230925e-01\n",
            "     9.18306410e-03  6.58726245e-02  4.47766334e-02  9.17076916e-02\n",
            "     3.07269692e-02 -1.06462240e-02 -5.13318703e-02  9.99782383e-02\n",
            "     2.74365842e-02  3.30142379e-02 -1.00486711e-01  1.38376817e-01\n",
            "     7.45475441e-02 -8.16743970e-02 -1.40240341e-02 -8.92635286e-02\n",
            "    -1.19982339e-01  1.35061666e-01 -3.18935812e-02  1.06895223e-01\n",
            "     1.56014562e-02 -4.10463512e-02  3.98944914e-02  6.05503768e-02]]]]\n",
            "  Bias:\n",
            "    Ukuran: (32,)\n",
            "    Nilai:\n",
            "[0. 0. 0. 0. 0. 0. 0. 0. 0. 0. 0. 0. 0. 0. 0. 0. 0. 0. 0. 0. 0. 0. 0. 0.\n",
            " 0. 0. 0. 0. 0. 0. 0. 0.]\n",
            "Layer 3\n",
            "  Bobot:\n",
            "    Ukuran: (3, 3, 32, 64)\n",
            "    Nilai:\n",
            "[[[[ 0.03248185 -0.02502634  0.04702235 ...  0.05002358 -0.03724184\n",
            "    -0.06716649]\n",
            "   [-0.02247328 -0.00526381 -0.05577704 ... -0.04855696 -0.0614932\n",
            "    -0.07607262]\n",
            "   [ 0.00810587 -0.06784014  0.03942406 ... -0.0826365  -0.00274625\n",
            "    -0.05740428]\n",
            "   ...\n",
            "   [-0.06089147 -0.06406599  0.07425801 ... -0.00733437  0.0773327\n",
            "     0.03651798]\n",
            "   [ 0.06475516  0.01456871 -0.01426969 ... -0.07978652 -0.07841669\n",
            "    -0.03567962]\n",
            "   [ 0.04575517 -0.00238901 -0.04452946 ... -0.04469379  0.04897977\n",
            "    -0.0272482 ]]\n",
            "\n",
            "  [[ 0.06096872  0.02575884 -0.0154381  ...  0.04501901  0.06868381\n",
            "    -0.06223963]\n",
            "   [ 0.02372503 -0.02448545 -0.02938553 ... -0.0706391   0.04080558\n",
            "     0.01646688]\n",
            "   [-0.0504938   0.00919125  0.05437008 ... -0.03066083  0.08217705\n",
            "     0.06918935]\n",
            "   ...\n",
            "   [ 0.01530663 -0.04200598  0.00025996 ... -0.0201025   0.04547747\n",
            "    -0.05664178]\n",
            "   [-0.02360652 -0.07948327  0.08210792 ...  0.0203561  -0.06908634\n",
            "    -0.05115628]\n",
            "   [ 0.01857033 -0.0679061   0.04912625 ... -0.06582135 -0.03709942\n",
            "     0.04654423]]\n",
            "\n",
            "  [[-0.06281328  0.04156413 -0.04728228 ... -0.0771216  -0.04629324\n",
            "    -0.08282389]\n",
            "   [ 0.07017574 -0.0282055  -0.02927013 ... -0.01074902  0.0820929\n",
            "    -0.0195997 ]\n",
            "   [-0.00761231  0.02861878 -0.059255   ...  0.04173503  0.06355271\n",
            "     0.03218514]\n",
            "   ...\n",
            "   [ 0.03981948  0.04534406  0.06133821 ...  0.07169989 -0.00242674\n",
            "    -0.05351337]\n",
            "   [ 0.0013234   0.05636457 -0.01994648 ... -0.03917883 -0.0500676\n",
            "     0.00764278]\n",
            "   [ 0.03688216 -0.05821908 -0.06075221 ...  0.05792674 -0.00123165\n",
            "    -0.02936228]]]\n",
            "\n",
            "\n",
            " [[[-0.01733055  0.06772926  0.02440202 ... -0.00929675 -0.08241355\n",
            "     0.02284286]\n",
            "   [ 0.01614058 -0.01942396  0.03405148 ...  0.04647776 -0.06533037\n",
            "     0.08012465]\n",
            "   [-0.00594322 -0.07190393 -0.07681672 ...  0.01278037 -0.04111699\n",
            "    -0.00210518]\n",
            "   ...\n",
            "   [ 0.04729427 -0.05960363  0.02492458 ... -0.0715126   0.08289678\n",
            "     0.03276358]\n",
            "   [-0.07962388  0.02246115 -0.00502431 ... -0.0204732   0.04192808\n",
            "    -0.06148907]\n",
            "   [-0.05852415 -0.0702741  -0.04818138 ...  0.07704882  0.06016215\n",
            "     0.02631458]]\n",
            "\n",
            "  [[-0.06649943  0.05983967  0.0677527  ...  0.03408251  0.00884333\n",
            "    -0.0185205 ]\n",
            "   [-0.06494103 -0.07402601 -0.00186811 ... -0.02238945 -0.04677027\n",
            "    -0.06869178]\n",
            "   [ 0.03306554 -0.05956684  0.02247234 ... -0.01924739  0.07151601\n",
            "    -0.04227406]\n",
            "   ...\n",
            "   [-0.03633754 -0.08017825 -0.01409521 ... -0.07843523 -0.04527392\n",
            "    -0.0182238 ]\n",
            "   [-0.07832044  0.01249411  0.02317587 ...  0.0282742   0.01329169\n",
            "    -0.05728175]\n",
            "   [-0.06012428 -0.02883127 -0.03960542 ... -0.03185322 -0.06315251\n",
            "     0.07934461]]\n",
            "\n",
            "  [[-0.03429693 -0.03689416  0.04523698 ...  0.00018968  0.03702956\n",
            "    -0.058355  ]\n",
            "   [-0.03503323  0.06384126 -0.00175377 ... -0.02679505 -0.0103933\n",
            "    -0.00910447]\n",
            "   [-0.01510224  0.06357601  0.06570634 ...  0.04497535  0.02383111\n",
            "     0.04113976]\n",
            "   ...\n",
            "   [-0.01928356  0.05331976 -0.01135453 ...  0.06382648  0.04033009\n",
            "     0.03590497]\n",
            "   [ 0.05306733 -0.05966179  0.06546909 ...  0.05792914 -0.06040013\n",
            "    -0.08237422]\n",
            "   [-0.03262013  0.04289825 -0.0636227  ...  0.01690388  0.06677354\n",
            "     0.07580932]]]\n",
            "\n",
            "\n",
            " [[[-0.01856411  0.07551704 -0.07774717 ... -0.08232689  0.0526692\n",
            "    -0.02835504]\n",
            "   [ 0.01073822  0.07972179 -0.00829146 ... -0.04036967  0.08045713\n",
            "    -0.00139455]\n",
            "   [ 0.05777932  0.06949503  0.03390672 ...  0.02655157 -0.00332423\n",
            "     0.0362669 ]\n",
            "   ...\n",
            "   [-0.01291724  0.01808333  0.07284719 ... -0.02193739  0.02964785\n",
            "     0.03661052]\n",
            "   [ 0.054014   -0.03073037  0.06072045 ... -0.02283552 -0.08106071\n",
            "    -0.07106465]\n",
            "   [-0.03221472 -0.07640193 -0.0701772  ...  0.04716683 -0.01489321\n",
            "     0.08207092]]\n",
            "\n",
            "  [[ 0.00681981  0.03310259  0.03760723 ...  0.04782695  0.06944587\n",
            "    -0.00908152]\n",
            "   [-0.01898565  0.07137261 -0.02724852 ... -0.06459266 -0.04916861\n",
            "    -0.00483445]\n",
            "   [ 0.02426007 -0.07382204  0.05259389 ... -0.00995702  0.0739179\n",
            "     0.06654457]\n",
            "   ...\n",
            "   [-0.0617396   0.06168506  0.03657886 ... -0.01058376 -0.03391862\n",
            "     0.01916292]\n",
            "   [-0.03024143 -0.0012239  -0.07687931 ...  0.03485513 -0.0223216\n",
            "     0.03753543]\n",
            "   [ 0.05580427 -0.0480605  -0.01538589 ... -0.06605139 -0.05537174\n",
            "     0.0479606 ]]\n",
            "\n",
            "  [[ 0.03987237  0.0805547   0.07835806 ... -0.08279097 -0.03692367\n",
            "     0.01363518]\n",
            "   [-0.03439718 -0.05637123 -0.02456927 ... -0.01179186  0.07739312\n",
            "    -0.07395896]\n",
            "   [ 0.0690451  -0.0593284  -0.02932062 ... -0.00881004 -0.00064498\n",
            "    -0.08312871]\n",
            "   ...\n",
            "   [ 0.01311167 -0.04651865 -0.07451028 ... -0.06432544 -0.04001854\n",
            "     0.02903757]\n",
            "   [-0.06232796 -0.02420455 -0.05024149 ...  0.01334316 -0.081149\n",
            "    -0.06549686]\n",
            "   [-0.03881222 -0.02089288  0.0179837  ... -0.0736024   0.00339852\n",
            "     0.06810298]]]]\n",
            "  Bias:\n",
            "    Ukuran: (64,)\n",
            "    Nilai:\n",
            "[0. 0. 0. 0. 0. 0. 0. 0. 0. 0. 0. 0. 0. 0. 0. 0. 0. 0. 0. 0. 0. 0. 0. 0.\n",
            " 0. 0. 0. 0. 0. 0. 0. 0. 0. 0. 0. 0. 0. 0. 0. 0. 0. 0. 0. 0. 0. 0. 0. 0.\n",
            " 0. 0. 0. 0. 0. 0. 0. 0. 0. 0. 0. 0. 0. 0. 0. 0.]\n",
            "Layer 6\n",
            "  Bobot:\n",
            "    Ukuran: (12672, 201)\n",
            "    Nilai:\n",
            "[[-0.00392265 -0.01293894  0.00310513 ... -0.01815819  0.01621199\n",
            "  -0.01231474]\n",
            " [-0.01470182  0.01232959  0.02047614 ...  0.01662863 -0.01007012\n",
            "  -0.0062708 ]\n",
            " [-0.00814324  0.01226078 -0.01342614 ...  0.00378663  0.01304279\n",
            "   0.01690177]\n",
            " ...\n",
            " [ 0.00560187 -0.00849488 -0.01301045 ...  0.01790896 -0.00852837\n",
            "   0.02127274]\n",
            " [-0.01158268  0.00802453  0.004435   ...  0.01253792  0.00444342\n",
            "   0.00686659]\n",
            " [ 0.00769078 -0.01505688  0.00587722 ...  0.01937361 -0.00307224\n",
            "  -0.00083581]]\n",
            "  Bias:\n",
            "    Ukuran: (201,)\n",
            "    Nilai:\n",
            "[0. 0. 0. 0. 0. 0. 0. 0. 0. 0. 0. 0. 0. 0. 0. 0. 0. 0. 0. 0. 0. 0. 0. 0.\n",
            " 0. 0. 0. 0. 0. 0. 0. 0. 0. 0. 0. 0. 0. 0. 0. 0. 0. 0. 0. 0. 0. 0. 0. 0.\n",
            " 0. 0. 0. 0. 0. 0. 0. 0. 0. 0. 0. 0. 0. 0. 0. 0. 0. 0. 0. 0. 0. 0. 0. 0.\n",
            " 0. 0. 0. 0. 0. 0. 0. 0. 0. 0. 0. 0. 0. 0. 0. 0. 0. 0. 0. 0. 0. 0. 0. 0.\n",
            " 0. 0. 0. 0. 0. 0. 0. 0. 0. 0. 0. 0. 0. 0. 0. 0. 0. 0. 0. 0. 0. 0. 0. 0.\n",
            " 0. 0. 0. 0. 0. 0. 0. 0. 0. 0. 0. 0. 0. 0. 0. 0. 0. 0. 0. 0. 0. 0. 0. 0.\n",
            " 0. 0. 0. 0. 0. 0. 0. 0. 0. 0. 0. 0. 0. 0. 0. 0. 0. 0. 0. 0. 0. 0. 0. 0.\n",
            " 0. 0. 0. 0. 0. 0. 0. 0. 0. 0. 0. 0. 0. 0. 0. 0. 0. 0. 0. 0. 0. 0. 0. 0.\n",
            " 0. 0. 0. 0. 0. 0. 0. 0. 0.]\n",
            "Layer 7\n",
            "  Bobot:\n",
            "    Ukuran: (201, 10)\n",
            "    Nilai:\n",
            "[[ 5.61057627e-02 -9.67924520e-02  1.14517212e-02 ... -1.07938066e-01\n",
            "   1.22825950e-02 -6.46870807e-02]\n",
            " [-2.24723816e-02  5.73833436e-02 -3.83035690e-02 ... -1.64019302e-01\n",
            "   7.46179521e-02  2.91590244e-02]\n",
            " [ 1.13345355e-01 -1.50539055e-01 -1.17904551e-01 ... -5.67931756e-02\n",
            "  -7.48727322e-02 -9.72554088e-02]\n",
            " ...\n",
            " [ 7.31749833e-03  1.32354558e-01  2.48832405e-02 ... -8.98488984e-02\n",
            "  -1.42768025e-04 -1.17211908e-01]\n",
            " [ 4.29950655e-03 -4.62431982e-02 -1.09667331e-02 ...  7.58835077e-02\n",
            "   2.11817026e-03  1.29595399e-03]\n",
            " [-6.70139566e-02 -7.05608800e-02 -8.15152302e-02 ... -6.12934232e-02\n",
            "  -1.00257397e-01  8.11040401e-04]]\n",
            "  Bias:\n",
            "    Ukuran: (10,)\n",
            "    Nilai:\n",
            "[0. 0. 0. 0. 0. 0. 0. 0. 0. 0.]\n"
          ]
        }
      ]
    },
    {
      "cell_type": "code",
      "source": [
        "model1c.summary()"
      ],
      "metadata": {
        "colab": {
          "base_uri": "https://localhost:8080/"
        },
        "id": "RfHd4NJznjOh",
        "outputId": "8a0a6073-4d11-4d46-9173-98e4a242dc36"
      },
      "execution_count": 10,
      "outputs": [
        {
          "output_type": "stream",
          "name": "stdout",
          "text": [
            "Model: \"sequential\"\n",
            "_________________________________________________________________\n",
            " Layer (type)                Output Shape              Param #   \n",
            "=================================================================\n",
            " conv2d (Conv2D)             (None, 50, 76, 32)        320       \n",
            "                                                                 \n",
            " average_pooling2d (Average  (None, 25, 38, 32)        0         \n",
            " Pooling2D)                                                      \n",
            "                                                                 \n",
            " conv2d_1 (Conv2D)           (None, 23, 36, 64)        18496     \n",
            "                                                                 \n",
            " average_pooling2d_1 (Avera  (None, 11, 18, 64)        0         \n",
            " gePooling2D)                                                    \n",
            "                                                                 \n",
            " flatten (Flatten)           (None, 12672)             0         \n",
            "                                                                 \n",
            " dense (Dense)               (None, 201)               2547273   \n",
            "                                                                 \n",
            " dense_1 (Dense)             (None, 10)                2020      \n",
            "                                                                 \n",
            "=================================================================\n",
            "Total params: 2568109 (9.80 MB)\n",
            "Trainable params: 2568109 (9.80 MB)\n",
            "Non-trainable params: 0 (0.00 Byte)\n",
            "_________________________________________________________________\n"
          ]
        }
      ]
    },
    {
      "cell_type": "code",
      "source": [
        "history = model1c.fit(train_generator, epochs=20, verbose = 1)"
      ],
      "metadata": {
        "colab": {
          "base_uri": "https://localhost:8080/"
        },
        "id": "I_Klj8ReYASB",
        "outputId": "6b26c3be-2ecc-49b8-f1d1-4b6f9535bb40"
      },
      "execution_count": 11,
      "outputs": [
        {
          "output_type": "stream",
          "name": "stdout",
          "text": [
            "Epoch 1/20\n",
            "28/28 [==============================] - 12s 376ms/step - loss: 2.0860 - accuracy: 0.2796\n",
            "Epoch 2/20\n",
            "28/28 [==============================] - 11s 400ms/step - loss: 2.0016 - accuracy: 0.3313\n",
            "Epoch 3/20\n",
            "28/28 [==============================] - 9s 306ms/step - loss: 1.9821 - accuracy: 0.3449\n",
            "Epoch 4/20\n",
            "28/28 [==============================] - 11s 366ms/step - loss: 1.9548 - accuracy: 0.3744\n",
            "Epoch 5/20\n",
            "28/28 [==============================] - 12s 431ms/step - loss: 1.9207 - accuracy: 0.3800\n",
            "Epoch 6/20\n",
            "28/28 [==============================] - 10s 333ms/step - loss: 1.8952 - accuracy: 0.3908\n",
            "Epoch 7/20\n",
            "28/28 [==============================] - 11s 382ms/step - loss: 1.8685 - accuracy: 0.3874\n",
            "Epoch 8/20\n",
            "28/28 [==============================] - 9s 318ms/step - loss: 1.8530 - accuracy: 0.3857\n",
            "Epoch 9/20\n",
            "28/28 [==============================] - 10s 352ms/step - loss: 1.8239 - accuracy: 0.3959\n",
            "Epoch 10/20\n",
            "28/28 [==============================] - 11s 379ms/step - loss: 1.8272 - accuracy: 0.3914\n",
            "Epoch 11/20\n",
            "28/28 [==============================] - 9s 308ms/step - loss: 1.8143 - accuracy: 0.3874\n",
            "Epoch 12/20\n",
            "28/28 [==============================] - 9s 314ms/step - loss: 1.7885 - accuracy: 0.4124\n",
            "Epoch 13/20\n",
            "28/28 [==============================] - 10s 371ms/step - loss: 1.7582 - accuracy: 0.4180\n",
            "Epoch 14/20\n",
            "28/28 [==============================] - 9s 304ms/step - loss: 1.7816 - accuracy: 0.3982\n",
            "Epoch 15/20\n",
            "28/28 [==============================] - 9s 316ms/step - loss: 1.7181 - accuracy: 0.4186\n",
            "Epoch 16/20\n",
            "28/28 [==============================] - 11s 375ms/step - loss: 1.7604 - accuracy: 0.4061\n",
            "Epoch 17/20\n",
            "28/28 [==============================] - 10s 357ms/step - loss: 1.7391 - accuracy: 0.4248\n",
            "Epoch 18/20\n",
            "28/28 [==============================] - 9s 303ms/step - loss: 1.7198 - accuracy: 0.4163\n",
            "Epoch 19/20\n",
            "28/28 [==============================] - 11s 377ms/step - loss: 1.6912 - accuracy: 0.4458\n",
            "Epoch 20/20\n",
            "28/28 [==============================] - 9s 323ms/step - loss: 1.7021 - accuracy: 0.4424\n"
          ]
        }
      ]
    },
    {
      "cell_type": "markdown",
      "source": [
        "#Matriks Konfusi"
      ],
      "metadata": {
        "id": "6VOcIXg0IvCs"
      }
    },
    {
      "cell_type": "code",
      "source": [
        "from sklearn.metrics import confusion_matrix, classification_report\n",
        "import seaborn as sns\n",
        "import matplotlib.pyplot as plt\n",
        "\n",
        "# Fungsi untuk mendapatkan prediksi model dan label sebenarnya\n",
        "def get_predictions_and_labels(model, data_generator):\n",
        "    predictions = model.predict(data_generator)\n",
        "    predicted_classes = np.argmax(predictions, axis=1)\n",
        "    true_classes = data_generator.classes\n",
        "    class_labels = list(data_generator.class_indices.keys())\n",
        "    return predicted_classes, true_classes, class_labels\n",
        "\n",
        "# Mendapatkan prediksi dan label sebenarnya untuk data uji\n",
        "y_pred, y_true, class_labels = get_predictions_and_labels(model1c, test_generator)\n",
        "\n",
        "# Membuat matriks konfusi\n",
        "cf_matrix = confusion_matrix(y_true, y_pred)\n",
        "\n",
        "# Membuat visualisasi matriks konfusi\n",
        "fig, ax = plt.subplots(figsize=(8, 6))\n",
        "sns.heatmap(cf_matrix, annot=True, fmt='g', cmap='Blues', ax=ax)\n",
        "\n",
        "# Menetapkan label dan judul\n",
        "ax.set_title('Confusion Matrix with labels')\n",
        "ax.set_xlabel('Predicted Values')\n",
        "ax.set_ylabel('Actual Values')\n",
        "\n",
        "# Menetapkan label pada sumbu x dan y sesuai dengan jenis kelas\n",
        "ax.xaxis.set_ticklabels(class_labels, rotation=45)\n",
        "ax.yaxis.set_ticklabels(class_labels, rotation=45)\n",
        "\n",
        "# Menampilkan visualisasi Matriks Konfusi\n",
        "plt.show()"
      ],
      "metadata": {
        "colab": {
          "base_uri": "https://localhost:8080/",
          "height": 617
        },
        "id": "Lz5lA0bDIxJg",
        "outputId": "58e3edca-16bf-4c28-e800-02863e0a9e4d"
      },
      "execution_count": 12,
      "outputs": [
        {
          "output_type": "stream",
          "name": "stdout",
          "text": [
            "7/7 [==============================] - 1s 105ms/step\n"
          ]
        },
        {
          "output_type": "display_data",
          "data": {
            "text/plain": [
              "<Figure size 800x600 with 2 Axes>"
            ],
            "image/png": "[encoded data removed]"
          },
          "metadata": {}
        }
      ]
    },
    {
      "cell_type": "code",
      "source": [
        "from sklearn.metrics import accuracy_score\n",
        "\n",
        "test_accuracy = accuracy_score(y_true, y_pred)\n",
        "print(f\"Test Accuracy: {test_accuracy}\")"
      ],
      "metadata": {
        "colab": {
          "base_uri": "https://localhost:8080/"
        },
        "id": "S7iwBJlGZEUM",
        "outputId": "600fdcdb-d4cb-4b7d-985c-33fb345ba67d"
      },
      "execution_count": 13,
      "outputs": [
        {
          "output_type": "stream",
          "name": "stdout",
          "text": [
            "Test Accuracy: 0.2292134831460674\n"
          ]
        }
      ]
    }
  ]
}