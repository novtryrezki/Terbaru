{
  "nbformat": 4,
  "nbformat_minor": 0,
  "metadata": {
    "colab": {
      "provenance": [],
      "authorship_tag": "ABX9TyM3ZqBJ9Kaz4vSD8Z34EeO7",
      "include_colab_link": true
    },
    "kernelspec": {
      "name": "python3",
      "display_name": "Python 3"
    },
    "language_info": {
      "name": "python"
    }
  },
  "cells": [
    {
      "cell_type": "markdown",
      "metadata": {
        "id": "view-in-github",
        "colab_type": "text"
      },
      "source": [
        "<a href=\"https://colab.research.google.com/github/novtryrezki/Terbaru/blob/main/1CNN_bs_64_ep_20.ipynb\" target=\"_parent\"><img src=\"https://colab.research.google.com/assets/colab-badge.svg\" alt=\"Open In Colab\"/></a>"
      ]
    },
    {
      "cell_type": "code",
      "execution_count": 1,
      "metadata": {
        "id": "Gj0QELQHjUVZ"
      },
      "outputs": [],
      "source": [
        "import os\n",
        "import zipfile\n",
        "import random\n",
        "import shutil\n",
        "import numpy as np\n",
        "import tensorflow as tf\n",
        "import pandas as pd\n",
        "from google.colab import drive\n",
        "from sklearn.model_selection import train_test_split"
      ]
    },
    {
      "cell_type": "code",
      "source": [
        "# Melakukan mount pada Google Drive\n",
        "drive.mount('/content/drive')\n",
        "\n",
        "# Menentukan path file ZIP di Google Drive\n",
        "zip_path = '/content/drive/MyDrive/images.zip'\n",
        "\n",
        "# Membuat objek zip_ref\n",
        "zip_ref = zipfile.ZipFile(zip_path, 'r')\n",
        "\n",
        "# Mengekstrak file ZIP\n",
        "extract_path ='/content/images'\n",
        "zip_ref.extractall(extract_path)\n",
        "\n",
        "# Tutup objek zip_ref setelah selesai\n",
        "zip_ref.close()"
      ],
      "metadata": {
        "colab": {
          "base_uri": "https://localhost:8080/"
        },
        "id": "HXtZwYwdjXH4",
        "outputId": "f0943d7b-1484-4f75-b050-aba63bbbbd99"
      },
      "execution_count": 2,
      "outputs": [
        {
          "output_type": "stream",
          "name": "stdout",
          "text": [
            "Mounted at /content/drive\n"
          ]
        }
      ]
    },
    {
      "cell_type": "code",
      "source": [
        "# Mendefinisikan path direktori dataset\n",
        "dataset_dir = os.path.join(extract_path, 'images')\n",
        "train_dir = os.path.join(dataset_dir, 'train')\n",
        "test_dir = os.path.join(dataset_dir, 'test')\n",
        "list_train = sorted(os.listdir(train_dir))\n",
        "list_test = sorted(os.listdir(test_dir))\n",
        "\n",
        "print(\"Daftar Angka pada Dataset Train yaitu : \", list_train)\n",
        "print(\"Daftar Angka pada Dataset Test yaitu : \", list_test)"
      ],
      "metadata": {
        "colab": {
          "base_uri": "https://localhost:8080/"
        },
        "id": "P9SpMwZxCMpv",
        "outputId": "102d2850-bde2-4b8b-873b-5353af71c208"
      },
      "execution_count": 3,
      "outputs": [
        {
          "output_type": "stream",
          "name": "stdout",
          "text": [
            "Daftar Angka pada Dataset Train yaitu :  ['angka 0', 'angka 1', 'angka 2', 'angka 3', 'angka 4', 'angka 5', 'angka 6', 'angka 7', 'angka 8', 'angka 9']\n",
            "Daftar Angka pada Dataset Test yaitu :  ['angka 0', 'angka 1', 'angka 2', 'angka 3', 'angka 4', 'angka 5', 'angka 6', 'angka 7', 'angka 8', 'angka 9']\n"
          ]
        }
      ]
    },
    {
      "cell_type": "code",
      "source": [
        "def count_images(directory):\n",
        "    return sum(1 for file in os.listdir(directory) if file.endswith(('.jpg', '.jpeg', '.png', '.gif')))\n",
        "\n",
        "# Menghitung jumlah gambar di data train\n",
        "train_image_count = sum(count_images(os.path.join(train_dir, angka)) for angka in list_train)\n",
        "\n",
        "# Menghitung jumlah gambar di data test\n",
        "test_image_count = sum(count_images(os.path.join(test_dir, angka)) for angka in list_test)\n",
        "\n",
        "print(f\"Jumlah gambar di Dataset Train: {train_image_count}\")\n",
        "print(f\"Jumlah gambar di Dataset Test: {test_image_count}\")"
      ],
      "metadata": {
        "colab": {
          "base_uri": "https://localhost:8080/"
        },
        "id": "JycQg0kGCHHe",
        "outputId": "dc654206-9a9d-4b87-c511-d5d1b1b3d787"
      },
      "execution_count": 4,
      "outputs": [
        {
          "output_type": "stream",
          "name": "stdout",
          "text": [
            "Jumlah gambar di Dataset Train: 1763\n",
            "Jumlah gambar di Dataset Test: 445\n"
          ]
        }
      ]
    },
    {
      "cell_type": "markdown",
      "source": [
        "# Preprocessing"
      ],
      "metadata": {
        "id": "Cs-YBymEElj8"
      }
    },
    {
      "cell_type": "code",
      "source": [
        "import cv2\n",
        "\n",
        "def resize_images(directory, target_resolution):\n",
        "    for angka in os.listdir(directory):\n",
        "        angka_dir = os.path.join(directory, angka)\n",
        "        for file_name in os.listdir(angka_dir):\n",
        "            file_path = os.path.join(angka_dir, file_name)\n",
        "            img = cv2.imread(file_path)\n",
        "            resized_img = cv2.resize(img, (target_resolution[0], target_resolution[1]))\n",
        "            cv2.imwrite(file_path, resized_img)\n",
        "\n",
        "target_resolution = (52, 78)\n",
        "resize_images(train_dir, target_resolution)\n",
        "resize_images(test_dir, target_resolution)"
      ],
      "metadata": {
        "id": "j-iPjxpXF_bf"
      },
      "execution_count": 5,
      "outputs": []
    },
    {
      "cell_type": "code",
      "source": [
        "from tensorflow.keras.preprocessing.image import ImageDataGenerator\n",
        "\n",
        "# Membuat generator data dengan augmentasi\n",
        "image_size = (52, 78)\n",
        "batch_size = 64\n",
        "\n",
        "train_datagen = ImageDataGenerator(\n",
        "    rescale = 1./255,\n",
        "    width_shift_range = 0.2,\n",
        "    height_shift_range = 0.2,\n",
        "    zoom_range = 0.2,\n",
        ")\n",
        "\n",
        "test_datagen = ImageDataGenerator(\n",
        "    rescale=1./255,\n",
        ")\n",
        "\n",
        "train_generator = train_datagen.flow_from_directory(\n",
        "    train_dir,\n",
        "    target_size=image_size,\n",
        "    batch_size=batch_size,\n",
        "    class_mode='categorical',\n",
        "    color_mode='grayscale'\n",
        ")\n",
        "\n",
        "test_generator = test_datagen.flow_from_directory(\n",
        "    test_dir,\n",
        "    target_size=image_size,\n",
        "    batch_size=batch_size,\n",
        "    class_mode='categorical',\n",
        "    color_mode='grayscale'\n",
        ")"
      ],
      "metadata": {
        "colab": {
          "base_uri": "https://localhost:8080/"
        },
        "id": "MrR6ROkiF9Uj",
        "outputId": "024f46df-caca-431e-928c-8f2a06d5283a"
      },
      "execution_count": 6,
      "outputs": [
        {
          "output_type": "stream",
          "name": "stdout",
          "text": [
            "Found 1763 images belonging to 10 classes.\n",
            "Found 445 images belonging to 10 classes.\n"
          ]
        }
      ]
    },
    {
      "cell_type": "markdown",
      "source": [
        "# Membuat Model CNN"
      ],
      "metadata": {
        "id": "gPqE7ywQJ01c"
      }
    },
    {
      "cell_type": "code",
      "source": [
        "from tensorflow.keras.models import Sequential\n",
        "from tensorflow.keras.layers import Conv2D, AveragePooling2D, Flatten, Dense\n",
        "import math\n",
        "\n",
        "img_size = 52*78*1\n",
        "\n",
        "# Perhitungan jumlah neuron pada lapisan tersembunyi\n",
        "hidden_neurons = 201\n",
        "\n",
        "model1c = Sequential()\n",
        "model1c.add(Conv2D(32, (3, 3), activation='relu', input_shape=(52, 78, 1)))\n",
        "model1c.add(AveragePooling2D((2, 2)))\n",
        "model1c.add(Conv2D(64, (3, 3), activation='relu'))\n",
        "model1c.add(AveragePooling2D((2, 2)))\n",
        "model1c.add(Flatten())\n",
        "model1c.add(Dense(hidden_neurons, activation='relu'))\n",
        "model1c.add(Dense(10, activation='softmax'))\n",
        "\n",
        "model1c.compile(optimizer='SGD', loss='categorical_crossentropy', metrics=['accuracy'])"
      ],
      "metadata": {
        "id": "SvNzs3QB71R6"
      },
      "execution_count": 7,
      "outputs": []
    },
    {
      "cell_type": "code",
      "source": [
        "# Mendapatkan bobot dari model\n",
        "weights = []\n",
        "for layer in model1c.layers:\n",
        "    weights.append(layer.get_weights())\n",
        "\n",
        "print(\"Bobot dari model:\")\n",
        "for i, layer_weights in enumerate(weights):\n",
        "    print(\"Layer\", i+1)\n",
        "    for j, w in enumerate(layer_weights):\n",
        "        print(\"  Bobot {}: {}\".format(j+1, w.shape))"
      ],
      "metadata": {
        "id": "FRLCRXpXVwqm",
        "outputId": "0d25d76c-88d3-4db1-8e3b-cb79634764ee",
        "colab": {
          "base_uri": "https://localhost:8080/"
        }
      },
      "execution_count": 8,
      "outputs": [
        {
          "output_type": "stream",
          "name": "stdout",
          "text": [
            "Bobot dari model:\n",
            "Layer 1\n",
            "  Bobot 1: (3, 3, 1, 32)\n",
            "  Bobot 2: (32,)\n",
            "Layer 2\n",
            "Layer 3\n",
            "  Bobot 1: (3, 3, 32, 64)\n",
            "  Bobot 2: (64,)\n",
            "Layer 4\n",
            "Layer 5\n",
            "Layer 6\n",
            "  Bobot 1: (12672, 201)\n",
            "  Bobot 2: (201,)\n",
            "Layer 7\n",
            "  Bobot 1: (201, 10)\n",
            "  Bobot 2: (10,)\n"
          ]
        }
      ]
    },
    {
      "cell_type": "code",
      "source": [
        "model1c.summary()"
      ],
      "metadata": {
        "colab": {
          "base_uri": "https://localhost:8080/"
        },
        "id": "RfHd4NJznjOh",
        "outputId": "82fa4c76-2de8-43ca-fd70-1264c1659b9f"
      },
      "execution_count": 10,
      "outputs": [
        {
          "output_type": "stream",
          "name": "stdout",
          "text": [
            "Model: \"sequential\"\n",
            "_________________________________________________________________\n",
            " Layer (type)                Output Shape              Param #   \n",
            "=================================================================\n",
            " conv2d (Conv2D)             (None, 50, 76, 32)        320       \n",
            "                                                                 \n",
            " average_pooling2d (Average  (None, 25, 38, 32)        0         \n",
            " Pooling2D)                                                      \n",
            "                                                                 \n",
            " conv2d_1 (Conv2D)           (None, 23, 36, 64)        18496     \n",
            "                                                                 \n",
            " average_pooling2d_1 (Avera  (None, 11, 18, 64)        0         \n",
            " gePooling2D)                                                    \n",
            "                                                                 \n",
            " flatten (Flatten)           (None, 12672)             0         \n",
            "                                                                 \n",
            " dense (Dense)               (None, 201)               2547273   \n",
            "                                                                 \n",
            " dense_1 (Dense)             (None, 10)                2020      \n",
            "                                                                 \n",
            "=================================================================\n",
            "Total params: 2568109 (9.80 MB)\n",
            "Trainable params: 2568109 (9.80 MB)\n",
            "Non-trainable params: 0 (0.00 Byte)\n",
            "_________________________________________________________________\n"
          ]
        }
      ]
    },
    {
      "cell_type": "code",
      "source": [
        "history = model1c.fit(train_generator, epochs=20, verbose = 1)"
      ],
      "metadata": {
        "colab": {
          "base_uri": "https://localhost:8080/"
        },
        "id": "I_Klj8ReYASB",
        "outputId": "feab32f3-7dd6-4dce-ec9a-d99f490ad4a5"
      },
      "execution_count": 11,
      "outputs": [
        {
          "output_type": "stream",
          "name": "stdout",
          "text": [
            "Epoch 1/20\n",
            "28/28 [==============================] - 15s 481ms/step - loss: 2.1221 - accuracy: 0.2530\n",
            "Epoch 2/20\n",
            "28/28 [==============================] - 10s 362ms/step - loss: 2.0124 - accuracy: 0.3063\n",
            "Epoch 3/20\n",
            "28/28 [==============================] - 9s 303ms/step - loss: 1.9969 - accuracy: 0.3369\n",
            "Epoch 4/20\n",
            "28/28 [==============================] - 9s 315ms/step - loss: 1.9801 - accuracy: 0.3698\n",
            "Epoch 5/20\n",
            "28/28 [==============================] - 10s 363ms/step - loss: 1.9592 - accuracy: 0.3727\n",
            "Epoch 6/20\n",
            "28/28 [==============================] - 8s 284ms/step - loss: 1.9378 - accuracy: 0.3766\n",
            "Epoch 7/20\n",
            "28/28 [==============================] - 8s 280ms/step - loss: 1.9057 - accuracy: 0.3857\n",
            "Epoch 8/20\n",
            "28/28 [==============================] - 10s 355ms/step - loss: 1.8792 - accuracy: 0.3942\n",
            "Epoch 9/20\n",
            "28/28 [==============================] - 10s 359ms/step - loss: 1.8458 - accuracy: 0.3885\n",
            "Epoch 10/20\n",
            "28/28 [==============================] - 9s 299ms/step - loss: 1.8353 - accuracy: 0.3959\n",
            "Epoch 11/20\n",
            "28/28 [==============================] - 10s 354ms/step - loss: 1.8142 - accuracy: 0.3953\n",
            "Epoch 12/20\n",
            "28/28 [==============================] - 9s 330ms/step - loss: 1.7992 - accuracy: 0.3897\n",
            "Epoch 13/20\n",
            "28/28 [==============================] - 8s 276ms/step - loss: 1.7937 - accuracy: 0.4016\n",
            "Epoch 14/20\n",
            "28/28 [==============================] - 10s 374ms/step - loss: 1.7594 - accuracy: 0.4090\n",
            "Epoch 15/20\n",
            "28/28 [==============================] - 8s 274ms/step - loss: 1.7642 - accuracy: 0.3988\n",
            "Epoch 16/20\n",
            "28/28 [==============================] - 8s 286ms/step - loss: 1.7667 - accuracy: 0.3976\n",
            "Epoch 17/20\n",
            "28/28 [==============================] - 10s 344ms/step - loss: 1.7513 - accuracy: 0.4095\n",
            "Epoch 18/20\n",
            "28/28 [==============================] - 8s 271ms/step - loss: 1.7351 - accuracy: 0.4237\n",
            "Epoch 19/20\n",
            "28/28 [==============================] - 8s 271ms/step - loss: 1.7110 - accuracy: 0.4322\n",
            "Epoch 20/20\n",
            "28/28 [==============================] - 10s 337ms/step - loss: 1.7239 - accuracy: 0.4254\n"
          ]
        }
      ]
    },
    {
      "cell_type": "code",
      "source": [
        "# Loop melalui semua layer dalam model yang sudah dimuat\n",
        "for layer in model1c.layers:\n",
        "    # Periksa apakah layer adalah lapisan Dense\n",
        "    if isinstance(layer, Dense):\n",
        "        # Peroleh bobot dari lapisan\n",
        "        weights = layer.get_weights()\n",
        "        # Cetak informasi tentang bobot\n",
        "        print(f\"Layer Name: {layer.name}\")\n",
        "        print(\"Weight Matrix Shape:\", weights[0].shape)  # Ukuran matriks bobot\n",
        "        print(\"Weight Matrix:\")\n",
        "        print(weights[0])  # Bobot\n",
        "        print(\"Bias Vector Shape:\", weights[1].shape)    # Ukuran vektor bias\n",
        "        print(\"Bias Vector:\")\n",
        "        print(weights[1])    # Bias\n",
        "        print(\"-----------------------------------\")"
      ],
      "metadata": {
        "id": "JuOxpFngVy2M",
        "outputId": "2bee0ea8-8d7a-48c7-9581-925b41688aa4",
        "colab": {
          "base_uri": "https://localhost:8080/"
        }
      },
      "execution_count": 12,
      "outputs": [
        {
          "output_type": "stream",
          "name": "stdout",
          "text": [
            "Layer Name: dense\n",
            "Weight Matrix Shape: (12672, 201)\n",
            "Weight Matrix:\n",
            "[[ 0.00825051  0.01193616  0.01992071 ... -0.01992617  0.00104549\n",
            "  -0.01574634]\n",
            " [-0.01814388  0.0207247   0.01843412 ... -0.01272789  0.00394971\n",
            "  -0.00444752]\n",
            " [-0.00451278  0.00011819 -0.01177213 ... -0.00662558 -0.01277741\n",
            "  -0.01199462]\n",
            " ...\n",
            " [-0.00879805  0.00234008  0.02229479 ...  0.00337368  0.00789846\n",
            "  -0.00454189]\n",
            " [-0.01494729 -0.00937369 -0.01464434 ...  0.01637746 -0.01652492\n",
            "   0.00742224]\n",
            " [ 0.01709861  0.02188485  0.00282234 ... -0.00970402 -0.00950084\n",
            "  -0.01881508]]\n",
            "Bias Vector Shape: (201,)\n",
            "Bias Vector:\n",
            "[ 2.70638335e-03  6.99022179e-03  9.95298196e-03  4.18693526e-03\n",
            "  0.00000000e+00 -4.88791382e-03 -1.46005838e-03  5.58754476e-03\n",
            " -8.69166385e-03 -9.83762462e-03 -1.88584195e-03 -1.76656793e-03\n",
            " -9.36164215e-05 -1.60532290e-04  3.61095037e-04 -1.61077688e-03\n",
            "  4.34633344e-03 -8.23321054e-04 -5.68396295e-04  9.93920397e-03\n",
            "  0.00000000e+00  1.02559980e-02 -1.12490701e-02 -1.37275353e-03\n",
            "  2.84605171e-03  1.88042014e-03  4.23804251e-03 -1.46776310e-03\n",
            " -4.85125347e-05 -1.75954390e-03 -8.09901030e-05 -1.27521222e-02\n",
            "  9.70987603e-03 -4.63806558e-03  1.18510670e-03 -4.40305099e-03\n",
            "  4.04370890e-04  1.85970363e-04 -6.98296295e-04  1.00641395e-03\n",
            " -8.27200245e-03 -1.78735156e-03  7.71126535e-04  3.57808080e-04\n",
            " -8.42639536e-04 -1.56584865e-05 -9.69340908e-04  1.11286761e-03\n",
            "  1.69204461e-04 -1.88917693e-06 -1.21909066e-03 -9.92688583e-04\n",
            "  2.33429135e-03  3.20797251e-03  3.18959705e-03  6.85821986e-03\n",
            "  5.90921519e-03  4.11545509e-04  5.34028281e-03 -3.66757187e-04\n",
            "  1.12796819e-03 -3.56729538e-03  1.02449511e-03  4.93381219e-03\n",
            "  5.05044241e-04 -1.36270355e-02  6.09295070e-03 -5.25210460e-04\n",
            " -1.03567145e-04 -1.47977297e-03  6.22274121e-03 -1.08577067e-03\n",
            "  1.16326287e-02  7.95526430e-03  7.27471150e-03 -9.81553644e-03\n",
            " -1.57398943e-04 -1.42740051e-03  1.42221693e-02  8.72450801e-06\n",
            " -1.39559066e-04 -2.41919141e-03 -6.49444264e-05 -6.92148285e-04\n",
            " -4.33566095e-03 -1.75448530e-03 -1.47200394e-02  2.20348919e-03\n",
            "  3.95006600e-06  3.08124861e-03 -7.52307915e-06  2.70444248e-03\n",
            " -2.75040948e-04  6.80865394e-03 -2.25342810e-03 -8.26332660e-04\n",
            "  9.41953901e-03  1.17044458e-02 -6.77530843e-05  8.01978912e-03\n",
            " -4.13482165e-04  7.25272344e-03 -1.02624446e-02  8.66356026e-03\n",
            " -4.31361143e-03  6.36794278e-03 -4.67168121e-03 -3.16857616e-03\n",
            " -2.53742933e-03  4.73390007e-03 -1.28264364e-05  0.00000000e+00\n",
            "  1.19543560e-02  9.13853198e-03  6.97534299e-03  1.40365941e-04\n",
            " -1.38602091e-03 -8.27773940e-03 -7.14246929e-03  1.09118770e-03\n",
            " -2.43124843e-04 -7.09198648e-04 -6.71963266e-04 -3.64754442e-03\n",
            "  1.49892988e-02  5.78425638e-03 -1.46375492e-03  9.14490782e-03\n",
            "  1.78956871e-05 -5.20970070e-06 -1.65558886e-04  1.63856708e-02\n",
            "  8.70022905e-06  2.16484070e-04 -1.90028851e-03  2.20232201e-03\n",
            "  5.32817212e-04 -4.45695641e-03 -5.51064825e-03 -7.82991480e-03\n",
            " -2.09459616e-03  1.18452804e-02 -6.58005127e-04  3.97816126e-04\n",
            " -3.03313136e-03  1.56543916e-04 -5.27057797e-03  4.25403519e-03\n",
            " -2.75395578e-03 -4.64768382e-03 -6.80550234e-03  1.10435970e-02\n",
            " -2.19526089e-04  3.66906310e-03 -1.65073108e-03 -9.46668908e-04\n",
            " -4.05983860e-03 -1.11999991e-03 -8.87825678e-04 -4.92791599e-03\n",
            "  3.65096936e-03 -5.85976988e-03  6.05939841e-03  0.00000000e+00\n",
            " -1.82413508e-03 -6.66896766e-03  4.95290197e-03 -1.25244004e-03\n",
            " -1.20914578e-02  1.78570859e-03  7.74685852e-03 -1.96430390e-03\n",
            " -1.39851682e-03  4.38686293e-05 -2.45310552e-03 -2.77456915e-04\n",
            " -2.72557628e-03  0.00000000e+00 -9.32721514e-03 -8.53452715e-04\n",
            " -2.70312745e-03  1.47870472e-02  6.36618352e-03 -3.28563357e-04\n",
            " -5.82246168e-04 -5.98716596e-03 -1.05894927e-03 -2.47016875e-03\n",
            " -1.25184571e-02  1.69395022e-02  2.54195882e-04 -4.88318736e-04\n",
            "  4.80902614e-03 -1.24339815e-04  9.55159776e-03 -5.03406802e-04\n",
            " -2.79393513e-03 -6.73211692e-03  6.38315221e-03 -3.31997243e-03\n",
            " -2.64009903e-03]\n",
            "-----------------------------------\n",
            "Layer Name: dense_1\n",
            "Weight Matrix Shape: (201, 10)\n",
            "Weight Matrix:\n",
            "[[ 0.07954118  0.12656611  0.14302869 ... -0.05122744 -0.13167669\n",
            "   0.08800665]\n",
            " [ 0.12100303  0.12850639 -0.04362601 ... -0.09906752  0.06539255\n",
            "   0.09110629]\n",
            " [ 0.16089211 -0.00941531  0.10232912 ...  0.04822558  0.02596591\n",
            "   0.04969695]\n",
            " ...\n",
            " [ 0.17780225  0.077269    0.12884985 ... -0.03694839 -0.04094958\n",
            "  -0.13809283]\n",
            " [-0.11424895  0.04210681  0.11086117 ... -0.04979592  0.09041404\n",
            "   0.15864664]\n",
            " [-0.00797492  0.13330996 -0.13029014 ... -0.13415079 -0.16615371\n",
            "  -0.1418493 ]]\n",
            "Bias Vector Shape: (10,)\n",
            "Bias Vector:\n",
            "[ 0.06980287 -0.03628162 -0.00401818 -0.00452193 -0.00872701  0.00717638\n",
            " -0.01124285 -0.02191778 -0.00451373  0.01424383]\n",
            "-----------------------------------\n"
          ]
        }
      ]
    },
    {
      "cell_type": "markdown",
      "source": [
        "#Matriks Konfusi"
      ],
      "metadata": {
        "id": "6VOcIXg0IvCs"
      }
    },
    {
      "cell_type": "code",
      "source": [
        "from sklearn.metrics import confusion_matrix, classification_report\n",
        "import seaborn as sns\n",
        "import matplotlib.pyplot as plt\n",
        "\n",
        "# Fungsi untuk mendapatkan prediksi model dan label sebenarnya\n",
        "def get_predictions_and_labels(model, data_generator):\n",
        "    predictions = model.predict(data_generator)\n",
        "    predicted_classes = np.argmax(predictions, axis=1)\n",
        "    true_classes = data_generator.classes\n",
        "    class_labels = list(data_generator.class_indices.keys())\n",
        "    return predicted_classes, true_classes, class_labels\n",
        "\n",
        "# Mendapatkan prediksi dan label sebenarnya untuk data uji\n",
        "y_pred, y_true, class_labels = get_predictions_and_labels(model1c, test_generator)\n",
        "\n",
        "# Membuat matriks konfusi\n",
        "cf_matrix = confusion_matrix(y_true, y_pred)\n",
        "\n",
        "# Membuat visualisasi matriks konfusi\n",
        "fig, ax = plt.subplots(figsize=(8, 6))\n",
        "sns.heatmap(cf_matrix, annot=True, fmt='g', cmap='Blues', ax=ax)\n",
        "\n",
        "# Menetapkan label dan judul\n",
        "ax.set_title('Confusion Matrix with labels')\n",
        "ax.set_xlabel('Predicted Values')\n",
        "ax.set_ylabel('Actual Values')\n",
        "\n",
        "# Menetapkan label pada sumbu x dan y sesuai dengan jenis kelas\n",
        "ax.xaxis.set_ticklabels(class_labels, rotation=45)\n",
        "ax.yaxis.set_ticklabels(class_labels, rotation=45)\n",
        "\n",
        "# Menampilkan visualisasi Matriks Konfusi\n",
        "plt.show()"
      ],
      "metadata": {
        "colab": {
          "base_uri": "https://localhost:8080/",
          "height": 617
        },
        "id": "Lz5lA0bDIxJg",
        "outputId": "4f53fed6-b392-47ef-fdd1-b58e6ca6afac"
      },
      "execution_count": 13,
      "outputs": [
        {
          "output_type": "stream",
          "name": "stdout",
          "text": [
            "7/7 [==============================] - 1s 92ms/step\n"
          ]
        },
        {
          "output_type": "display_data",
          "data": {
            "text/plain": [
              "<Figure size 800x600 with 2 Axes>"
            ],
            "image/png": "[encoded data removed]"
          },
          "metadata": {}
        }
      ]
    },
    {
      "cell_type": "code",
      "source": [
        "from sklearn.metrics import accuracy_score\n",
        "\n",
        "test_accuracy = accuracy_score(y_true, y_pred)\n",
        "print(f\"Test Accuracy: {test_accuracy}\")"
      ],
      "metadata": {
        "colab": {
          "base_uri": "https://localhost:8080/"
        },
        "id": "S7iwBJlGZEUM",
        "outputId": "600fdcdb-d4cb-4b7d-985c-33fb345ba67d"
      },
      "execution_count": null,
      "outputs": [
        {
          "output_type": "stream",
          "name": "stdout",
          "text": [
            "Test Accuracy: 0.2292134831460674\n"
          ]
        }
      ]
    }
  ]
}