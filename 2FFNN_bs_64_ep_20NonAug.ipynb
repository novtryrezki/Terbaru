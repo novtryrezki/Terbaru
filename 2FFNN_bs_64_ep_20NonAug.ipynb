{
  "cells": [
    {
      "cell_type": "markdown",
      "metadata": {
        "id": "view-in-github",
        "colab_type": "text"
      },
      "source": [
        "<a href=\"https://colab.research.google.com/github/novtryrezki/Terbaru/blob/main/2FFNN_bs_64_ep_20NonAug.ipynb\" target=\"_parent\"><img src=\"https://colab.research.google.com/assets/colab-badge.svg\" alt=\"Open In Colab\"/></a>"
      ]
    },
    {
      "cell_type": "code",
      "execution_count": 1,
      "metadata": {
        "id": "Gj0QELQHjUVZ"
      },
      "outputs": [],
      "source": [
        "import os\n",
        "import zipfile\n",
        "import random\n",
        "import shutil\n",
        "import numpy as np\n",
        "import tensorflow as tf\n",
        "import pandas as pd\n",
        "from google.colab import drive\n",
        "from sklearn.model_selection import train_test_split"
      ]
    },
    {
      "cell_type": "code",
      "execution_count": 2,
      "metadata": {
        "colab": {
          "base_uri": "https://localhost:8080/"
        },
        "id": "HXtZwYwdjXH4",
        "outputId": "0214fff3-5a61-4029-ad8c-825736d8e7be"
      },
      "outputs": [
        {
          "output_type": "stream",
          "name": "stdout",
          "text": [
            "Mounted at /content/drive\n"
          ]
        }
      ],
      "source": [
        "# Melakukan mount pada Google Drive\n",
        "drive.mount('/content/drive')\n",
        "\n",
        "# Menentukan path file ZIP di Google Drive\n",
        "zip_path = '/content/drive/MyDrive/images.zip'\n",
        "\n",
        "# Membuat objek zip_ref\n",
        "zip_ref = zipfile.ZipFile(zip_path, 'r')\n",
        "\n",
        "# Mengekstrak file ZIP\n",
        "extract_path ='/content/images'\n",
        "zip_ref.extractall(extract_path)\n",
        "\n",
        "# Tutup objek zip_ref setelah selesai\n",
        "zip_ref.close()"
      ]
    },
    {
      "cell_type": "code",
      "execution_count": 3,
      "metadata": {
        "colab": {
          "base_uri": "https://localhost:8080/"
        },
        "id": "P9SpMwZxCMpv",
        "outputId": "c0915878-ed05-4e05-c01e-86999417e0d2"
      },
      "outputs": [
        {
          "output_type": "stream",
          "name": "stdout",
          "text": [
            "Daftar Angka pada Dataset Train yaitu :  ['angka 0', 'angka 1', 'angka 2', 'angka 3', 'angka 4', 'angka 5', 'angka 6', 'angka 7', 'angka 8', 'angka 9']\n",
            "Daftar Angka pada Dataset Test yaitu :  ['angka 0', 'angka 1', 'angka 2', 'angka 3', 'angka 4', 'angka 5', 'angka 6', 'angka 7', 'angka 8', 'angka 9']\n"
          ]
        }
      ],
      "source": [
        "# Mendefinisikan path direktori dataset\n",
        "dataset_dir = os.path.join(extract_path, 'images')\n",
        "train_dir = os.path.join(dataset_dir, 'train')\n",
        "test_dir = os.path.join(dataset_dir, 'test')\n",
        "list_train = sorted(os.listdir(train_dir))\n",
        "list_test = sorted(os.listdir(test_dir))\n",
        "\n",
        "print(\"Daftar Angka pada Dataset Train yaitu : \", list_train)\n",
        "print(\"Daftar Angka pada Dataset Test yaitu : \", list_test)"
      ]
    },
    {
      "cell_type": "code",
      "execution_count": 4,
      "metadata": {
        "colab": {
          "base_uri": "https://localhost:8080/"
        },
        "id": "JycQg0kGCHHe",
        "outputId": "cf4e72b3-b9c8-440b-f471-d63945f40c0f"
      },
      "outputs": [
        {
          "output_type": "stream",
          "name": "stdout",
          "text": [
            "Jumlah gambar di Dataset Train: 1763\n",
            "Jumlah gambar di Dataset Test: 445\n"
          ]
        }
      ],
      "source": [
        "def count_images(directory):\n",
        "    return sum(1 for file in os.listdir(directory) if file.endswith(('.jpg', '.jpeg', '.png', '.gif')))\n",
        "\n",
        "# Menghitung jumlah gambar di data train\n",
        "train_image_count = sum(count_images(os.path.join(train_dir, angka)) for angka in list_train)\n",
        "\n",
        "# Menghitung jumlah gambar di data test\n",
        "test_image_count = sum(count_images(os.path.join(test_dir, angka)) for angka in list_test)\n",
        "\n",
        "print(f\"Jumlah gambar di Dataset Train: {train_image_count}\")\n",
        "print(f\"Jumlah gambar di Dataset Test: {test_image_count}\")"
      ]
    },
    {
      "cell_type": "markdown",
      "metadata": {
        "id": "Cs-YBymEElj8"
      },
      "source": [
        "# Preprocessing"
      ]
    },
    {
      "cell_type": "code",
      "execution_count": 5,
      "metadata": {
        "id": "j-iPjxpXF_bf"
      },
      "outputs": [],
      "source": [
        "import cv2\n",
        "\n",
        "def resize_images(directory, target_resolution):\n",
        "    for angka in os.listdir(directory):\n",
        "        angka_dir = os.path.join(directory, angka)\n",
        "        for file_name in os.listdir(angka_dir):\n",
        "            file_path = os.path.join(angka_dir, file_name)\n",
        "            img = cv2.imread(file_path)\n",
        "            resized_img = cv2.resize(img, (target_resolution[0], target_resolution[1]))\n",
        "            cv2.imwrite(file_path, resized_img)\n",
        "\n",
        "target_resolution = (52, 78)\n",
        "resize_images(train_dir, target_resolution)\n",
        "resize_images(test_dir, target_resolution)"
      ]
    },
    {
      "cell_type": "code",
      "execution_count": 6,
      "metadata": {
        "colab": {
          "base_uri": "https://localhost:8080/"
        },
        "id": "MrR6ROkiF9Uj",
        "outputId": "6450e39a-4f4d-49ee-e2e9-8ac404f240b9"
      },
      "outputs": [
        {
          "output_type": "stream",
          "name": "stdout",
          "text": [
            "Found 1763 images belonging to 10 classes.\n",
            "Found 445 images belonging to 10 classes.\n"
          ]
        }
      ],
      "source": [
        "from tensorflow.keras.preprocessing.image import ImageDataGenerator\n",
        "\n",
        "# Membuat generator data dengan augmentasi\n",
        "image_size = (52, 78)\n",
        "batch_size = 64\n",
        "\n",
        "train_datagen = ImageDataGenerator(\n",
        "    rescale = 1./255,\n",
        ")\n",
        "\n",
        "test_datagen = ImageDataGenerator(\n",
        "    rescale=1./255,\n",
        ")\n",
        "\n",
        "train_generator = train_datagen.flow_from_directory(\n",
        "    train_dir,\n",
        "    target_size=image_size,\n",
        "    batch_size=batch_size,\n",
        "    class_mode='categorical',\n",
        "    color_mode='grayscale'\n",
        ")\n",
        "\n",
        "test_generator = test_datagen.flow_from_directory(\n",
        "    test_dir,\n",
        "    target_size=image_size,\n",
        "    batch_size=batch_size,\n",
        "    class_mode='categorical',\n",
        "    color_mode='grayscale'\n",
        ")\n",
        "\n",
        "for i in range(10):\n",
        "    batch = train_generator.next()"
      ]
    },
    {
      "cell_type": "markdown",
      "metadata": {
        "id": "gPqE7ywQJ01c"
      },
      "source": [
        "# Membuat Model FFNN"
      ]
    },
    {
      "cell_type": "code",
      "execution_count": 7,
      "metadata": {
        "id": "SvNzs3QB71R6"
      },
      "outputs": [],
      "source": [
        "from tensorflow.keras.models import Sequential\n",
        "from tensorflow.keras.layers import Flatten, Dense\n",
        "import math\n",
        "\n",
        "img_size = 52*78*1\n",
        "\n",
        "# Perhitungan jumlah neuron pada lapisan tersembunyi\n",
        "hidden_neurons1 = 548\n",
        "hidden_neurons2 = 74\n",
        "\n",
        "model2f = Sequential()\n",
        "model2f.add(Flatten(input_shape=(52, 78, 1)))\n",
        "model2f.add(Dense(hidden_neurons1, activation='relu'))\n",
        "model2f.add(Dense(hidden_neurons2, activation='relu'))\n",
        "model2f.add(Dense(10, activation='softmax'))\n",
        "\n",
        "model2f.compile(optimizer='SGD', loss='categorical_crossentropy', metrics=['accuracy'])"
      ]
    },
    {
      "cell_type": "code",
      "source": [
        "# Mendapatkan bobot dari model\n",
        "weights = []\n",
        "for layer in model2f.layers:\n",
        "    weights.append(layer.get_weights())\n",
        "\n",
        "print(\"Bobot dari model:\")\n",
        "for i, layer_weights in enumerate(weights):\n",
        "    print(\"Layer\", i+1)\n",
        "    for j, w in enumerate(layer_weights):\n",
        "        print(\"  Bobot {}: {}\".format(j+1, w.shape))"
      ],
      "metadata": {
        "colab": {
          "base_uri": "https://localhost:8080/"
        },
        "id": "9G3qeoYfS5CE",
        "outputId": "939891b9-c0d8-4622-aa17-95b93bd36c80"
      },
      "execution_count": 8,
      "outputs": [
        {
          "output_type": "stream",
          "name": "stdout",
          "text": [
            "Bobot dari model:\n",
            "Layer 1\n",
            "Layer 2\n",
            "  Bobot 1: (4056, 548)\n",
            "  Bobot 2: (548,)\n",
            "Layer 3\n",
            "  Bobot 1: (548, 74)\n",
            "  Bobot 2: (74,)\n",
            "Layer 4\n",
            "  Bobot 1: (74, 10)\n",
            "  Bobot 2: (10,)\n"
          ]
        }
      ]
    },
    {
      "cell_type": "code",
      "source": [
        "# Menampilkan matriks bobot dan vektor bias dari setiap layer\n",
        "for i, layer in enumerate(model2f.layers):\n",
        "    weights = layer.get_weights()\n",
        "    if weights:\n",
        "        print(\"Layer\", i+1)\n",
        "        for j, w in enumerate(weights):\n",
        "            if j == 0:\n",
        "                print(\"  Bobot:\")\n",
        "            else:\n",
        "                print(\"  Bias:\")\n",
        "            print(\"    Ukuran:\", w.shape)\n",
        "            print(\"    Nilai:\")\n",
        "            print(w)"
      ],
      "metadata": {
        "colab": {
          "base_uri": "https://localhost:8080/"
        },
        "id": "qLFE04T4TYZ0",
        "outputId": "89313026-1d04-4d10-afb3-ba7baedde1f3"
      },
      "execution_count": 9,
      "outputs": [
        {
          "output_type": "stream",
          "name": "stdout",
          "text": [
            "Layer 2\n",
            "  Bobot:\n",
            "    Ukuran: (4056, 548)\n",
            "    Nilai:\n",
            "[[-0.00884023 -0.00123044 -0.01232002 ... -0.02139503 -0.02673766\n",
            "   0.00086044]\n",
            " [-0.00706352 -0.0052879   0.01024879 ...  0.02542822  0.03302043\n",
            "  -0.03210779]\n",
            " [-0.00101882 -0.00685166 -0.0358071  ...  0.00829506 -0.02489897\n",
            "   0.03142224]\n",
            " ...\n",
            " [-0.0173529  -0.02719552 -0.00973905 ...  0.02343158  0.03296845\n",
            "   0.01228554]\n",
            " [-0.00511473 -0.0239608   0.0188136  ...  0.01201265  0.03319083\n",
            "   0.02544756]\n",
            " [-0.01875256  0.03371598 -0.00464863 ... -0.01266433  0.01385035\n",
            "  -0.0209427 ]]\n",
            "  Bias:\n",
            "    Ukuran: (548,)\n",
            "    Nilai:\n",
            "[0. 0. 0. 0. 0. 0. 0. 0. 0. 0. 0. 0. 0. 0. 0. 0. 0. 0. 0. 0. 0. 0. 0. 0.\n",
            " 0. 0. 0. 0. 0. 0. 0. 0. 0. 0. 0. 0. 0. 0. 0. 0. 0. 0. 0. 0. 0. 0. 0. 0.\n",
            " 0. 0. 0. 0. 0. 0. 0. 0. 0. 0. 0. 0. 0. 0. 0. 0. 0. 0. 0. 0. 0. 0. 0. 0.\n",
            " 0. 0. 0. 0. 0. 0. 0. 0. 0. 0. 0. 0. 0. 0. 0. 0. 0. 0. 0. 0. 0. 0. 0. 0.\n",
            " 0. 0. 0. 0. 0. 0. 0. 0. 0. 0. 0. 0. 0. 0. 0. 0. 0. 0. 0. 0. 0. 0. 0. 0.\n",
            " 0. 0. 0. 0. 0. 0. 0. 0. 0. 0. 0. 0. 0. 0. 0. 0. 0. 0. 0. 0. 0. 0. 0. 0.\n",
            " 0. 0. 0. 0. 0. 0. 0. 0. 0. 0. 0. 0. 0. 0. 0. 0. 0. 0. 0. 0. 0. 0. 0. 0.\n",
            " 0. 0. 0. 0. 0. 0. 0. 0. 0. 0. 0. 0. 0. 0. 0. 0. 0. 0. 0. 0. 0. 0. 0. 0.\n",
            " 0. 0. 0. 0. 0. 0. 0. 0. 0. 0. 0. 0. 0. 0. 0. 0. 0. 0. 0. 0. 0. 0. 0. 0.\n",
            " 0. 0. 0. 0. 0. 0. 0. 0. 0. 0. 0. 0. 0. 0. 0. 0. 0. 0. 0. 0. 0. 0. 0. 0.\n",
            " 0. 0. 0. 0. 0. 0. 0. 0. 0. 0. 0. 0. 0. 0. 0. 0. 0. 0. 0. 0. 0. 0. 0. 0.\n",
            " 0. 0. 0. 0. 0. 0. 0. 0. 0. 0. 0. 0. 0. 0. 0. 0. 0. 0. 0. 0. 0. 0. 0. 0.\n",
            " 0. 0. 0. 0. 0. 0. 0. 0. 0. 0. 0. 0. 0. 0. 0. 0. 0. 0. 0. 0. 0. 0. 0. 0.\n",
            " 0. 0. 0. 0. 0. 0. 0. 0. 0. 0. 0. 0. 0. 0. 0. 0. 0. 0. 0. 0. 0. 0. 0. 0.\n",
            " 0. 0. 0. 0. 0. 0. 0. 0. 0. 0. 0. 0. 0. 0. 0. 0. 0. 0. 0. 0. 0. 0. 0. 0.\n",
            " 0. 0. 0. 0. 0. 0. 0. 0. 0. 0. 0. 0. 0. 0. 0. 0. 0. 0. 0. 0. 0. 0. 0. 0.\n",
            " 0. 0. 0. 0. 0. 0. 0. 0. 0. 0. 0. 0. 0. 0. 0. 0. 0. 0. 0. 0. 0. 0. 0. 0.\n",
            " 0. 0. 0. 0. 0. 0. 0. 0. 0. 0. 0. 0. 0. 0. 0. 0. 0. 0. 0. 0. 0. 0. 0. 0.\n",
            " 0. 0. 0. 0. 0. 0. 0. 0. 0. 0. 0. 0. 0. 0. 0. 0. 0. 0. 0. 0. 0. 0. 0. 0.\n",
            " 0. 0. 0. 0. 0. 0. 0. 0. 0. 0. 0. 0. 0. 0. 0. 0. 0. 0. 0. 0. 0. 0. 0. 0.\n",
            " 0. 0. 0. 0. 0. 0. 0. 0. 0. 0. 0. 0. 0. 0. 0. 0. 0. 0. 0. 0. 0. 0. 0. 0.\n",
            " 0. 0. 0. 0. 0. 0. 0. 0. 0. 0. 0. 0. 0. 0. 0. 0. 0. 0. 0. 0. 0. 0. 0. 0.\n",
            " 0. 0. 0. 0. 0. 0. 0. 0. 0. 0. 0. 0. 0. 0. 0. 0. 0. 0. 0. 0.]\n",
            "Layer 3\n",
            "  Bobot:\n",
            "    Ukuran: (548, 74)\n",
            "    Nilai:\n",
            "[[-0.00473302 -0.00965     0.09089788 ...  0.06546698  0.03876772\n",
            "  -0.00780678]\n",
            " [ 0.04922263 -0.03230173  0.04463954 ... -0.09395991  0.02831719\n",
            "   0.08142983]\n",
            " [ 0.00592965  0.02386361 -0.03121331 ... -0.01844066  0.04213672\n",
            "  -0.07342528]\n",
            " ...\n",
            " [-0.02602     0.04672695 -0.00594039 ...  0.05482733  0.0387985\n",
            "   0.01628851]\n",
            " [ 0.06906901  0.00861438  0.06789628 ... -0.02214128  0.04729206\n",
            "   0.08942851]\n",
            " [ 0.08499608 -0.0839382  -0.09684952 ... -0.05273036 -0.0259439\n",
            "  -0.03148698]]\n",
            "  Bias:\n",
            "    Ukuran: (74,)\n",
            "    Nilai:\n",
            "[0. 0. 0. 0. 0. 0. 0. 0. 0. 0. 0. 0. 0. 0. 0. 0. 0. 0. 0. 0. 0. 0. 0. 0.\n",
            " 0. 0. 0. 0. 0. 0. 0. 0. 0. 0. 0. 0. 0. 0. 0. 0. 0. 0. 0. 0. 0. 0. 0. 0.\n",
            " 0. 0. 0. 0. 0. 0. 0. 0. 0. 0. 0. 0. 0. 0. 0. 0. 0. 0. 0. 0. 0. 0. 0. 0.\n",
            " 0. 0.]\n",
            "Layer 4\n",
            "  Bobot:\n",
            "    Ukuran: (74, 10)\n",
            "    Nilai:\n",
            "[[ 0.2160019  -0.15063769 -0.01664138  0.22332555 -0.20082939  0.05621237\n",
            "  -0.2149941  -0.19335759 -0.07448484 -0.07338631]\n",
            " [-0.19056275 -0.09290478  0.00558621  0.1383099  -0.243685    0.25389633\n",
            "  -0.05113381  0.16227889 -0.21958807 -0.22424862]\n",
            " [ 0.07402408  0.21265596 -0.11553399 -0.1685009   0.14371133  0.16678333\n",
            "   0.20196337  0.1824916   0.14454809 -0.04604417]\n",
            " [-0.16888168  0.11096194  0.25186566 -0.2624128  -0.14579     0.1131933\n",
            "   0.05455214  0.03401324 -0.05596462 -0.05229715]\n",
            " [-0.23504935 -0.01948324 -0.07516257  0.02702335 -0.2250265  -0.2223314\n",
            "   0.14730132 -0.03688052  0.18505946  0.07021394]\n",
            " [ 0.2494056  -0.10959905  0.02417907  0.10047039 -0.24130622 -0.1980879\n",
            "  -0.13391557 -0.08862355 -0.05468002 -0.01467153]\n",
            " [ 0.17459235  0.04912096  0.02214819 -0.11965401  0.22499332 -0.14509588\n",
            "   0.21015394 -0.01488715 -0.13483308 -0.07165307]\n",
            " [ 0.23619094  0.16428372 -0.18058522 -0.01951502  0.14543775 -0.14322233\n",
            "   0.03108257  0.18717554  0.08613503 -0.01869431]\n",
            " [-0.04555212 -0.20506838  0.16911599 -0.01044664 -0.08468221  0.02531803\n",
            "  -0.11061105 -0.02204153 -0.14268364 -0.00858349]\n",
            " [ 0.1386129   0.0821881  -0.24016422 -0.2157769   0.02459708 -0.0264679\n",
            "   0.18967807 -0.05272126  0.25812468 -0.25062075]\n",
            " [ 0.18890813 -0.19393049  0.20327204 -0.2052559   0.00680855  0.02991256\n",
            "  -0.08344598  0.01113394 -0.14196303  0.08668724]\n",
            " [ 0.24533758 -0.05060792  0.2657465  -0.1648765  -0.18378773 -0.12242915\n",
            "  -0.04482687 -0.00138628 -0.02248712  0.16586345]\n",
            " [-0.26015377  0.2335681   0.13528913 -0.16846006 -0.06443472  0.25235012\n",
            "  -0.0743618  -0.2163495   0.01222655  0.15012532]\n",
            " [-0.11822592 -0.05488253 -0.10281523  0.1762169  -0.01167497  0.00341666\n",
            "  -0.12791684  0.23352978  0.02201706  0.24465021]\n",
            " [ 0.12950793 -0.22526279  0.05217817  0.09923932  0.21232125 -0.23780105\n",
            "   0.22554514  0.05930525  0.10375094  0.2234999 ]\n",
            " [-0.18625242  0.24712476  0.101008   -0.1462591  -0.10423586 -0.08411282\n",
            "  -0.1604307  -0.07086363 -0.05967407  0.21500042]\n",
            " [ 0.06216514  0.04030281  0.16329569 -0.00907341 -0.21567419  0.06854245\n",
            "  -0.22141288  0.13840407  0.25498495 -0.03253004]\n",
            " [-0.0117656  -0.02382231  0.14715558  0.07747802 -0.05968644 -0.14360496\n",
            "  -0.2631463  -0.03601827  0.21282157  0.01702172]\n",
            " [-0.00970036  0.20559934  0.25020012  0.00227576 -0.03232294  0.26173583\n",
            "  -0.22179615 -0.00286886 -0.01327601 -0.18715921]\n",
            " [-0.2517422  -0.03696394  0.21422493 -0.11147338 -0.23244882 -0.06536345\n",
            "  -0.18104586  0.05796537 -0.09672627  0.1432598 ]\n",
            " [-0.23378006  0.18716776 -0.06602645  0.22799656 -0.14362727  0.20144856\n",
            "  -0.14941058  0.11794499  0.11098775 -0.13998803]\n",
            " [ 0.23386052  0.14724237  0.2600185  -0.15556529 -0.03515442  0.14667118\n",
            "   0.20966998  0.04313007 -0.1705697   0.00043172]\n",
            " [-0.24196795  0.26478043 -0.21301726 -0.26465815 -0.19010124 -0.17183372\n",
            "   0.00850299 -0.11928833  0.22893879 -0.12448443]\n",
            " [ 0.06290716 -0.06072743 -0.08767508  0.18927044 -0.10674675  0.04798126\n",
            "   0.10518375  0.05247653 -0.13995592  0.19802463]\n",
            " [-0.0288697   0.26457974  0.10816485 -0.12513916  0.2625151   0.05086708\n",
            "   0.11772731 -0.14176174  0.17497614  0.17571065]\n",
            " [-0.02462257  0.00955668 -0.14583951 -0.2219069   0.06182685 -0.13073926\n",
            "   0.12091687  0.14829433  0.07987633  0.2214657 ]\n",
            " [-0.17719142 -0.08330861 -0.11330284  0.11371535 -0.2277766   0.05378819\n",
            "   0.10262993 -0.22503275  0.06567046 -0.08537529]\n",
            " [ 0.14334983  0.20688039 -0.07236412 -0.14704745  0.04467738  0.17926869\n",
            "  -0.125682    0.19479856  0.13116744 -0.19991043]\n",
            " [-0.2403508   0.03142002  0.02041501  0.22128123 -0.10888901  0.13137162\n",
            "  -0.15863812  0.09830615  0.22012931  0.01347405]\n",
            " [ 0.24079707 -0.03939071 -0.08687565 -0.0176892   0.12151942  0.24047306\n",
            "   0.16985399 -0.23043737 -0.19942723  0.19145179]\n",
            " [ 0.05081379  0.17321005  0.08756542 -0.12105852  0.14177322 -0.10256849\n",
            "  -0.14927688 -0.01624867  0.01305106  0.03034744]\n",
            " [ 0.26208368 -0.2655861  -0.21877946 -0.14511508 -0.0387539  -0.12144034\n",
            "  -0.10044955  0.16119516 -0.12849434 -0.24486224]\n",
            " [-0.15718919 -0.14351621 -0.04511647 -0.19219826  0.05907238 -0.11827415\n",
            "  -0.09073843  0.10924521 -0.19987155  0.18415755]\n",
            " [-0.04652302  0.1756652  -0.2459068   0.00985971  0.08438236 -0.1625894\n",
            "   0.20989624 -0.16926166  0.2394335   0.01053572]\n",
            " [ 0.12571335  0.19610181  0.20675734 -0.16458791 -0.14864802  0.15318394\n",
            "  -0.21694024  0.02791765 -0.16095    -0.23517546]\n",
            " [-0.14363371  0.04789555  0.07016104 -0.26500592 -0.08903512  0.06306157\n",
            "   0.2362059  -0.01395655  0.05383217 -0.17979077]\n",
            " [ 0.11519992 -0.16145907 -0.20133826 -0.14198852  0.0379307   0.03149381\n",
            "  -0.0340026   0.1115455   0.25413755 -0.03648056]\n",
            " [-0.10875769 -0.03625664 -0.19412318 -0.23318389 -0.09799862 -0.185134\n",
            "   0.1759705  -0.05708972 -0.08071572  0.25710657]\n",
            " [ 0.12455785 -0.00465214 -0.22460341 -0.25903773  0.14805353 -0.02023864\n",
            "   0.15195918  0.1240814   0.14074776 -0.04472995]\n",
            " [ 0.07945687  0.0324142  -0.08107267 -0.14191397  0.24644962  0.15966338\n",
            "  -0.22120446  0.08432245 -0.22811592  0.21104214]\n",
            " [ 0.02190357 -0.13608919 -0.07744803 -0.13569273 -0.2550268   0.13127354\n",
            "   0.26461145  0.10535371 -0.24947366  0.07529187]\n",
            " [ 0.12306896 -0.17311493  0.23115885 -0.26297334  0.2665864   0.07237813\n",
            "   0.22000423  0.04034862  0.06041825 -0.07117714]\n",
            " [-0.12590551 -0.04247445 -0.2265266  -0.24139932 -0.07927558 -0.18609229\n",
            "   0.10985178 -0.25397688  0.24502096  0.14341593]\n",
            " [-0.04026814 -0.01655471  0.03105581  0.1568242   0.25076976 -0.16044994\n",
            "  -0.21611533 -0.19619885  0.02981263 -0.19303846]\n",
            " [ 0.22871959  0.1431089  -0.26079467  0.17193148 -0.07318865  0.21368626\n",
            "   0.12631646 -0.00433251 -0.06554677 -0.11288834]\n",
            " [-0.0404001  -0.11134097 -0.15335579 -0.03120135 -0.20309146 -0.21322593\n",
            "  -0.08692618  0.22545826 -0.02372105  0.23607907]\n",
            " [-0.13832042  0.07420492 -0.16764247 -0.09510708  0.16268766 -0.2034035\n",
            "   0.04149202  0.1358113   0.18220887 -0.22956848]\n",
            " [-0.08634277 -0.06682092 -0.2545159  -0.21710585 -0.07748465  0.25880978\n",
            "  -0.13540854 -0.00113383 -0.2551265   0.1436525 ]\n",
            " [-0.13600464  0.10711899 -0.00169176  0.01528063  0.2408525   0.15305778\n",
            "   0.14547196  0.18933079 -0.13288018 -0.18100749]\n",
            " [-0.14763762 -0.15534425  0.21297649  0.1728858  -0.14682041  0.0335086\n",
            "   0.21676457  0.03413567 -0.06301574  0.12909427]\n",
            " [ 0.00356176  0.15507501 -0.07554445  0.1748473  -0.10827756  0.22637367\n",
            "  -0.19859436 -0.24439102  0.16734597  0.11413291]\n",
            " [-0.2169189   0.23825535  0.02301225  0.22211355  0.22588259  0.23397604\n",
            "  -0.06398505 -0.20597893 -0.12873584 -0.26022986]\n",
            " [ 0.14650717  0.02202675 -0.06297708 -0.10340361  0.10162887  0.01011142\n",
            "   0.26507142  0.07867527 -0.0028806   0.00842661]\n",
            " [-0.04522581  0.03449866 -0.24673083  0.20806703  0.0073624  -0.01056632\n",
            "  -0.20739639 -0.1676496  -0.18888158 -0.13862978]\n",
            " [ 0.0945051  -0.051477    0.06559023 -0.13126177  0.06153622 -0.23906569\n",
            "   0.20330498 -0.08880344  0.1867539   0.01298264]\n",
            " [-0.01051998 -0.22003633 -0.00591537  0.19916597 -0.1789132   0.2208822\n",
            "   0.19897634 -0.04930064 -0.15020414 -0.14674777]\n",
            " [ 0.16943344  0.0810338   0.00607768 -0.2277615  -0.17864788 -0.2326285\n",
            "   0.05192214 -0.1995183   0.24141636 -0.2097574 ]\n",
            " [ 0.25123897 -0.02552287  0.12480763 -0.02239613 -0.23160471  0.05932036\n",
            "   0.12373376 -0.02072661  0.22527876  0.21794206]\n",
            " [-0.05256961 -0.13094462  0.04199806 -0.25372684 -0.11576517 -0.06005034\n",
            "  -0.08094707  0.20103452  0.03621134  0.16299427]\n",
            " [-0.13443565 -0.18538958  0.19393197  0.05712223 -0.0220588  -0.05789942\n",
            "  -0.03417031 -0.21724515 -0.18703382  0.14890233]\n",
            " [-0.22035825  0.04840881 -0.1157207   0.02921724  0.17664999  0.15662992\n",
            "   0.10694677  0.22113964 -0.11288688  0.25415424]\n",
            " [ 0.01842076  0.15793511 -0.23873262 -0.05485283  0.08791283  0.25441077\n",
            "  -0.0018124   0.12144327  0.22316614 -0.15926614]\n",
            " [-0.03816767 -0.05986938 -0.24725161  0.00465104 -0.05745311  0.19032884\n",
            "   0.22163916 -0.08539264 -0.23762268  0.00581357]\n",
            " [ 0.17205375 -0.2020813   0.04072151 -0.15566501  0.03002018  0.00652945\n",
            "   0.12377408  0.10399792  0.10905579  0.12870792]\n",
            " [-0.21631643 -0.00915369  0.10458148 -0.04013127 -0.11429369  0.04207236\n",
            "  -0.19376832  0.10189345  0.14693359 -0.11026154]\n",
            " [-0.11051439  0.11042887  0.11090243 -0.06353723 -0.05672321  0.21085665\n",
            "  -0.06839907  0.20919207 -0.17463344 -0.13863423]\n",
            " [ 0.15487877 -0.224477    0.00107598  0.03189743  0.16176632  0.0619128\n",
            "   0.07592025 -0.00463614  0.11713892  0.14916804]\n",
            " [ 0.12204006 -0.06876622 -0.16122898  0.03846416 -0.16474167 -0.13208483\n",
            "  -0.17582922 -0.11885069 -0.04359828  0.06702176]\n",
            " [ 0.11844486 -0.20927855  0.1843119   0.24627182  0.16809183  0.13471559\n",
            "   0.04230094 -0.1914967  -0.17629647  0.16334894]\n",
            " [ 0.08435997  0.19334382  0.13258076 -0.2311804   0.14678887  0.13348234\n",
            "   0.08404431 -0.21986309 -0.02922831 -0.1495482 ]\n",
            " [ 0.14925444 -0.2111632   0.17140967 -0.23987187  0.0104169  -0.19908091\n",
            "   0.2491531  -0.10310005 -0.10428505  0.25496003]\n",
            " [-0.06656922  0.00046313 -0.17032942 -0.18592961 -0.23022625 -0.07774119\n",
            "   0.19005752 -0.01985969  0.26239738 -0.26632017]\n",
            " [-0.15453105  0.05828506 -0.23843282 -0.09619235 -0.14514527  0.11890134\n",
            "  -0.19675456  0.08637863  0.09419319 -0.2185045 ]\n",
            " [-0.08749896  0.07970747 -0.20643434  0.24810562 -0.15649381 -0.18062721\n",
            "   0.16075248 -0.04989006  0.12482253 -0.23964243]]\n",
            "  Bias:\n",
            "    Ukuran: (10,)\n",
            "    Nilai:\n",
            "[0. 0. 0. 0. 0. 0. 0. 0. 0. 0.]\n"
          ]
        }
      ]
    },
    {
      "cell_type": "code",
      "execution_count": 10,
      "metadata": {
        "id": "RfHd4NJznjOh",
        "colab": {
          "base_uri": "https://localhost:8080/"
        },
        "outputId": "33bbb697-271a-46c9-a6b3-a5ea4c9610cd"
      },
      "outputs": [
        {
          "output_type": "stream",
          "name": "stdout",
          "text": [
            "Model: \"sequential\"\n",
            "_________________________________________________________________\n",
            " Layer (type)                Output Shape              Param #   \n",
            "=================================================================\n",
            " flatten (Flatten)           (None, 4056)              0         \n",
            "                                                                 \n",
            " dense (Dense)               (None, 548)               2223236   \n",
            "                                                                 \n",
            " dense_1 (Dense)             (None, 74)                40626     \n",
            "                                                                 \n",
            " dense_2 (Dense)             (None, 10)                750       \n",
            "                                                                 \n",
            "=================================================================\n",
            "Total params: 2264612 (8.64 MB)\n",
            "Trainable params: 2264612 (8.64 MB)\n",
            "Non-trainable params: 0 (0.00 Byte)\n",
            "_________________________________________________________________\n"
          ]
        }
      ],
      "source": [
        "model2f.summary()"
      ]
    },
    {
      "cell_type": "code",
      "execution_count": 11,
      "metadata": {
        "id": "I_Klj8ReYASB",
        "colab": {
          "base_uri": "https://localhost:8080/"
        },
        "outputId": "df2d10f1-576c-4192-b9ea-499be0b1ed1d"
      },
      "outputs": [
        {
          "output_type": "stream",
          "name": "stdout",
          "text": [
            "Epoch 1/20\n",
            "28/28 [==============================] - 2s 42ms/step - loss: 2.0266 - accuracy: 0.3341\n",
            "Epoch 2/20\n",
            "28/28 [==============================] - 1s 42ms/step - loss: 1.7422 - accuracy: 0.4158\n",
            "Epoch 3/20\n",
            "28/28 [==============================] - 1s 43ms/step - loss: 1.5937 - accuracy: 0.4663\n",
            "Epoch 4/20\n",
            "28/28 [==============================] - 1s 42ms/step - loss: 1.4990 - accuracy: 0.5275\n",
            "Epoch 5/20\n",
            "28/28 [==============================] - 1s 51ms/step - loss: 1.3469 - accuracy: 0.5859\n",
            "Epoch 6/20\n",
            "28/28 [==============================] - 2s 60ms/step - loss: 1.2590 - accuracy: 0.5905\n",
            "Epoch 7/20\n",
            "28/28 [==============================] - 1s 41ms/step - loss: 1.2515 - accuracy: 0.6200\n",
            "Epoch 8/20\n",
            "28/28 [==============================] - 1s 42ms/step - loss: 1.2602 - accuracy: 0.6064\n",
            "Epoch 9/20\n",
            "28/28 [==============================] - 1s 40ms/step - loss: 1.1054 - accuracy: 0.6597\n",
            "Epoch 10/20\n",
            "28/28 [==============================] - 1s 42ms/step - loss: 1.0867 - accuracy: 0.6687\n",
            "Epoch 11/20\n",
            "28/28 [==============================] - 1s 43ms/step - loss: 1.0716 - accuracy: 0.6699\n",
            "Epoch 12/20\n",
            "28/28 [==============================] - 1s 42ms/step - loss: 1.0494 - accuracy: 0.6716\n",
            "Epoch 13/20\n",
            "28/28 [==============================] - 1s 41ms/step - loss: 0.9832 - accuracy: 0.6875\n",
            "Epoch 14/20\n",
            "28/28 [==============================] - 1s 47ms/step - loss: 0.9562 - accuracy: 0.7022\n",
            "Epoch 15/20\n",
            "28/28 [==============================] - 2s 65ms/step - loss: 0.9666 - accuracy: 0.7085\n",
            "Epoch 16/20\n",
            "28/28 [==============================] - 1s 40ms/step - loss: 0.9279 - accuracy: 0.7141\n",
            "Epoch 17/20\n",
            "28/28 [==============================] - 1s 41ms/step - loss: 0.8585 - accuracy: 0.7300\n",
            "Epoch 18/20\n",
            "28/28 [==============================] - 1s 42ms/step - loss: 0.8409 - accuracy: 0.7385\n",
            "Epoch 19/20\n",
            "28/28 [==============================] - 1s 42ms/step - loss: 0.7949 - accuracy: 0.7504\n",
            "Epoch 20/20\n",
            "28/28 [==============================] - 1s 42ms/step - loss: 0.7861 - accuracy: 0.7606\n"
          ]
        }
      ],
      "source": [
        "history = model2f.fit(train_generator, epochs=20, verbose = 1)"
      ]
    },
    {
      "cell_type": "markdown",
      "metadata": {
        "id": "6VOcIXg0IvCs"
      },
      "source": [
        "#Matriks Konfusi"
      ]
    },
    {
      "cell_type": "code",
      "execution_count": 22,
      "metadata": {
        "id": "Lz5lA0bDIxJg",
        "colab": {
          "base_uri": "https://localhost:8080/",
          "height": 617
        },
        "outputId": "45372208-91b4-4508-bb61-52d6388f668f"
      },
      "outputs": [
        {
          "output_type": "stream",
          "name": "stdout",
          "text": [
            "7/7 [==============================] - 0s 34ms/step\n"
          ]
        },
        {
          "output_type": "display_data",
          "data": {
            "text/plain": [
              "<Figure size 800x600 with 2 Axes>"
            ],
            "image/png": "[encoded data removed]"
          },
          "metadata": {}
        }
      ],
      "source": [
        "from sklearn.metrics import confusion_matrix, classification_report\n",
        "import seaborn as sns\n",
        "import matplotlib.pyplot as plt\n",
        "\n",
        "# Fungsi untuk mendapatkan prediksi model dan label sebenarnya\n",
        "def get_predictions_and_labels(model, data_generator):\n",
        "    predictions = model.predict(data_generator)\n",
        "    true_classes = data_generator.classes\n",
        "    return predictions, true_classes\n",
        "\n",
        "# Mendapatkan prediksi dan label sebenarnya untuk data uji\n",
        "y_pred_prob, y_true = get_predictions_and_labels(model2f, test_generator)\n",
        "y_pred = np.argmax(y_pred_prob, axis=1)\n",
        "\n",
        "# Membuat matriks konfusi\n",
        "cf_matrix = confusion_matrix(y_true, y_pred)\n",
        "\n",
        "# Membuat visualisasi matriks konfusi\n",
        "fig, ax = plt.subplots(figsize=(8, 6))\n",
        "sns.heatmap(cf_matrix, annot=True, fmt='g', cmap='Blues', ax=ax)\n",
        "\n",
        "# Menetapkan label dan judul\n",
        "ax.set_title('Confusion Matrix with labels')\n",
        "ax.set_xlabel('Predicted Values')\n",
        "ax.set_ylabel('Actual Values')\n",
        "\n",
        "class_labels = list(test_generator.class_indices.keys())\n",
        "\n",
        "# Menetapkan label pada sumbu x dan y sesuai dengan jenis kelas\n",
        "ax.xaxis.set_ticklabels(class_labels, rotation=45)\n",
        "ax.yaxis.set_ticklabels(class_labels, rotation=45)\n",
        "\n",
        "# Menampilkan visualisasi Matriks Konfusi\n",
        "plt.show()"
      ]
    },
    {
      "cell_type": "code",
      "execution_count": 23,
      "metadata": {
        "id": "S7iwBJlGZEUM",
        "colab": {
          "base_uri": "https://localhost:8080/"
        },
        "outputId": "b34b5d03-8a7f-42bf-8578-967bf6a4dafe"
      },
      "outputs": [
        {
          "output_type": "stream",
          "name": "stdout",
          "text": [
            "Test Accuracy: 0.1797752808988764\n"
          ]
        }
      ],
      "source": [
        "from sklearn.metrics import accuracy_score\n",
        "\n",
        "test_accuracy = accuracy_score(y_true, y_pred)\n",
        "print(f\"Test Accuracy: {test_accuracy}\")"
      ]
    }
  ],
  "metadata": {
    "colab": {
      "provenance": [],
      "include_colab_link": true
    },
    "kernelspec": {
      "display_name": "Python 3",
      "name": "python3"
    },
    "language_info": {
      "name": "python"
    }
  },
  "nbformat": 4,
  "nbformat_minor": 0
}