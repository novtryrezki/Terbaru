{
  "cells": [
    {
      "cell_type": "markdown",
      "metadata": {
        "id": "view-in-github",
        "colab_type": "text"
      },
      "source": [
        "<a href=\"https://colab.research.google.com/github/novtryrezki/Terbaru/blob/main/1FFNN_bs_64_ep_20.ipynb\" target=\"_parent\"><img src=\"https://colab.research.google.com/assets/colab-badge.svg\" alt=\"Open In Colab\"/></a>"
      ]
    },
    {
      "cell_type": "code",
      "execution_count": 1,
      "metadata": {
        "id": "Gj0QELQHjUVZ"
      },
      "outputs": [],
      "source": [
        "import os\n",
        "import zipfile\n",
        "import random\n",
        "import shutil\n",
        "import numpy as np\n",
        "import tensorflow as tf\n",
        "import pandas as pd\n",
        "from google.colab import drive\n",
        "from sklearn.model_selection import train_test_split"
      ]
    },
    {
      "cell_type": "code",
      "execution_count": 2,
      "metadata": {
        "colab": {
          "base_uri": "https://localhost:8080/"
        },
        "id": "HXtZwYwdjXH4",
        "outputId": "3839b7d4-6662-4d30-d5fe-e6f03125291b"
      },
      "outputs": [
        {
          "output_type": "stream",
          "name": "stdout",
          "text": [
            "Mounted at /content/drive\n"
          ]
        }
      ],
      "source": [
        "# Melakukan mount pada Google Drive\n",
        "drive.mount('/content/drive')\n",
        "\n",
        "# Menentukan path file ZIP di Google Drive\n",
        "zip_path = '/content/drive/MyDrive/images.zip'\n",
        "\n",
        "# Membuat objek zip_ref\n",
        "zip_ref = zipfile.ZipFile(zip_path, 'r')\n",
        "\n",
        "# Mengekstrak file ZIP\n",
        "extract_path ='/content/images'\n",
        "zip_ref.extractall(extract_path)\n",
        "\n",
        "# Tutup objek zip_ref setelah selesai\n",
        "zip_ref.close()"
      ]
    },
    {
      "cell_type": "code",
      "execution_count": 3,
      "metadata": {
        "colab": {
          "base_uri": "https://localhost:8080/"
        },
        "id": "P9SpMwZxCMpv",
        "outputId": "f28fa9ab-f673-401c-bb42-bcfaffe70951"
      },
      "outputs": [
        {
          "output_type": "stream",
          "name": "stdout",
          "text": [
            "Daftar Angka pada Dataset Train yaitu :  ['angka 0', 'angka 1', 'angka 2', 'angka 3', 'angka 4', 'angka 5', 'angka 6', 'angka 7', 'angka 8', 'angka 9']\n",
            "Daftar Angka pada Dataset Test yaitu :  ['angka 0', 'angka 1', 'angka 2', 'angka 3', 'angka 4', 'angka 5', 'angka 6', 'angka 7', 'angka 8', 'angka 9']\n"
          ]
        }
      ],
      "source": [
        "# Mendefinisikan path direktori dataset\n",
        "dataset_dir = os.path.join(extract_path, 'images')\n",
        "train_dir = os.path.join(dataset_dir, 'train')\n",
        "test_dir = os.path.join(dataset_dir, 'test')\n",
        "list_train = sorted(os.listdir(train_dir))\n",
        "list_test = sorted(os.listdir(test_dir))\n",
        "\n",
        "print(\"Daftar Angka pada Dataset Train yaitu : \", list_train)\n",
        "print(\"Daftar Angka pada Dataset Test yaitu : \", list_test)"
      ]
    },
    {
      "cell_type": "code",
      "execution_count": 4,
      "metadata": {
        "colab": {
          "base_uri": "https://localhost:8080/"
        },
        "id": "JycQg0kGCHHe",
        "outputId": "6d8905f3-0c19-4fd5-d2af-55dc9a280868"
      },
      "outputs": [
        {
          "output_type": "stream",
          "name": "stdout",
          "text": [
            "Jumlah gambar di Dataset Train: 1763\n",
            "Jumlah gambar di Dataset Test: 445\n"
          ]
        }
      ],
      "source": [
        "def count_images(directory):\n",
        "    return sum(1 for file in os.listdir(directory) if file.endswith(('.jpg', '.jpeg', '.png', '.gif')))\n",
        "\n",
        "# Menghitung jumlah gambar di data train\n",
        "train_image_count = sum(count_images(os.path.join(train_dir, angka)) for angka in list_train)\n",
        "\n",
        "# Menghitung jumlah gambar di data test\n",
        "test_image_count = sum(count_images(os.path.join(test_dir, angka)) for angka in list_test)\n",
        "\n",
        "print(f\"Jumlah gambar di Dataset Train: {train_image_count}\")\n",
        "print(f\"Jumlah gambar di Dataset Test: {test_image_count}\")"
      ]
    },
    {
      "cell_type": "markdown",
      "metadata": {
        "id": "Cs-YBymEElj8"
      },
      "source": [
        "# Preprocessing"
      ]
    },
    {
      "cell_type": "code",
      "execution_count": 5,
      "metadata": {
        "id": "j-iPjxpXF_bf"
      },
      "outputs": [],
      "source": [
        "import cv2\n",
        "\n",
        "def resize_images(directory, target_resolution):\n",
        "    for angka in os.listdir(directory):\n",
        "        angka_dir = os.path.join(directory, angka)\n",
        "        for file_name in os.listdir(angka_dir):\n",
        "            file_path = os.path.join(angka_dir, file_name)\n",
        "            img = cv2.imread(file_path)\n",
        "            resized_img = cv2.resize(img, (target_resolution[0], target_resolution[1]))\n",
        "            cv2.imwrite(file_path, resized_img)\n",
        "\n",
        "target_resolution = (52, 78)\n",
        "resize_images(train_dir, target_resolution)\n",
        "resize_images(test_dir, target_resolution)"
      ]
    },
    {
      "cell_type": "code",
      "execution_count": 6,
      "metadata": {
        "colab": {
          "base_uri": "https://localhost:8080/"
        },
        "id": "MrR6ROkiF9Uj",
        "outputId": "b63d8a24-ba9e-48fb-aa09-df7f901a70ce"
      },
      "outputs": [
        {
          "output_type": "stream",
          "name": "stdout",
          "text": [
            "Found 1763 images belonging to 10 classes.\n",
            "Found 445 images belonging to 10 classes.\n"
          ]
        }
      ],
      "source": [
        "from tensorflow.keras.preprocessing.image import ImageDataGenerator\n",
        "\n",
        "# Membuat generator data dengan augmentasi\n",
        "image_size = (52, 78)\n",
        "batch_size = 64\n",
        "\n",
        "train_datagen = ImageDataGenerator(\n",
        "    rescale = 1./255,\n",
        "    width_shift_range = 0.2,\n",
        "    height_shift_range = 0.2,\n",
        "    zoom_range = 0.2,\n",
        ")\n",
        "\n",
        "test_datagen = ImageDataGenerator(\n",
        "    rescale=1./255,\n",
        ")\n",
        "\n",
        "train_generator = train_datagen.flow_from_directory(\n",
        "    train_dir,\n",
        "    target_size=image_size,\n",
        "    batch_size=batch_size,\n",
        "    class_mode='categorical',\n",
        "    color_mode='grayscale'\n",
        ")\n",
        "\n",
        "test_generator = test_datagen.flow_from_directory(\n",
        "    test_dir,\n",
        "    target_size=image_size,\n",
        "    batch_size=batch_size,\n",
        "    class_mode='categorical',\n",
        "    color_mode='grayscale'\n",
        ")"
      ]
    },
    {
      "cell_type": "markdown",
      "metadata": {
        "id": "gPqE7ywQJ01c"
      },
      "source": [
        "# Membuat Model FFNN"
      ]
    },
    {
      "cell_type": "code",
      "execution_count": 7,
      "metadata": {
        "id": "SvNzs3QB71R6"
      },
      "outputs": [],
      "source": [
        "from tensorflow.keras.models import Sequential\n",
        "from tensorflow.keras.layers import Conv2D, AveragePooling2D, Flatten, Dense\n",
        "import math\n",
        "\n",
        "img_size = 52*78*1\n",
        "\n",
        "# Perhitungan jumlah neuron pada lapisan tersembunyi\n",
        "hidden_neurons = 201\n",
        "\n",
        "model1f = Sequential()\n",
        "model1f.add(Flatten(input_shape=(52, 78, 1)))\n",
        "model1f.add(Dense(hidden_neurons, activation='relu'))\n",
        "model1f.add(Dense(10, activation='softmax'))\n",
        "\n",
        "model1f.compile(optimizer='SGD', loss='categorical_crossentropy', metrics=['accuracy'])"
      ]
    },
    {
      "cell_type": "code",
      "source": [
        "# Mendapatkan bobot dari model\n",
        "weights = []\n",
        "for layer in model1f.layers:\n",
        "    weights.append(layer.get_weights())\n",
        "\n",
        "print(\"Bobot dari model:\")\n",
        "for i, layer_weights in enumerate(weights):\n",
        "    print(\"Layer\", i+1)\n",
        "    for j, w in enumerate(layer_weights):\n",
        "        print(\"  Bobot {}: {}\".format(j+1, w.shape))"
      ],
      "metadata": {
        "id": "CcvQWPa6W3p2",
        "outputId": "13aad3e0-5636-4974-c447-1a1b6f5bffd0",
        "colab": {
          "base_uri": "https://localhost:8080/"
        }
      },
      "execution_count": 8,
      "outputs": [
        {
          "output_type": "stream",
          "name": "stdout",
          "text": [
            "Bobot dari model:\n",
            "Layer 1\n",
            "Layer 2\n",
            "  Bobot 1: (4056, 201)\n",
            "  Bobot 2: (201,)\n",
            "Layer 3\n",
            "  Bobot 1: (201, 10)\n",
            "  Bobot 2: (10,)\n"
          ]
        }
      ]
    },
    {
      "cell_type": "code",
      "execution_count": 9,
      "metadata": {
        "colab": {
          "base_uri": "https://localhost:8080/"
        },
        "id": "RfHd4NJznjOh",
        "outputId": "597fed8f-61b7-46f5-a6e8-20b220bf6d9e"
      },
      "outputs": [
        {
          "output_type": "stream",
          "name": "stdout",
          "text": [
            "Model: \"sequential\"\n",
            "_________________________________________________________________\n",
            " Layer (type)                Output Shape              Param #   \n",
            "=================================================================\n",
            " flatten (Flatten)           (None, 4056)              0         \n",
            "                                                                 \n",
            " dense (Dense)               (None, 201)               815457    \n",
            "                                                                 \n",
            " dense_1 (Dense)             (None, 10)                2020      \n",
            "                                                                 \n",
            "=================================================================\n",
            "Total params: 817477 (3.12 MB)\n",
            "Trainable params: 817477 (3.12 MB)\n",
            "Non-trainable params: 0 (0.00 Byte)\n",
            "_________________________________________________________________\n"
          ]
        }
      ],
      "source": [
        "model1f.summary()"
      ]
    },
    {
      "cell_type": "code",
      "execution_count": 10,
      "metadata": {
        "colab": {
          "base_uri": "https://localhost:8080/"
        },
        "id": "I_Klj8ReYASB",
        "outputId": "75e8f90f-7680-47f4-c554-a98c56ab46ab"
      },
      "outputs": [
        {
          "output_type": "stream",
          "name": "stdout",
          "text": [
            "Epoch 1/20\n",
            "28/28 [==============================] - 3s 72ms/step - loss: 2.1078 - accuracy: 0.2638\n",
            "Epoch 2/20\n",
            "28/28 [==============================] - 2s 75ms/step - loss: 1.9915 - accuracy: 0.3261\n",
            "Epoch 3/20\n",
            "28/28 [==============================] - 2s 80ms/step - loss: 1.9269 - accuracy: 0.3727\n",
            "Epoch 4/20\n",
            "28/28 [==============================] - 3s 109ms/step - loss: 1.9101 - accuracy: 0.3676\n",
            "Epoch 5/20\n",
            "28/28 [==============================] - 2s 74ms/step - loss: 1.8668 - accuracy: 0.3772\n",
            "Epoch 6/20\n",
            "28/28 [==============================] - 2s 76ms/step - loss: 1.8575 - accuracy: 0.3738\n",
            "Epoch 7/20\n",
            "28/28 [==============================] - 2s 74ms/step - loss: 1.8518 - accuracy: 0.3789\n",
            "Epoch 8/20\n",
            "28/28 [==============================] - 3s 93ms/step - loss: 1.8065 - accuracy: 0.3857\n",
            "Epoch 9/20\n",
            "28/28 [==============================] - 3s 103ms/step - loss: 1.7978 - accuracy: 0.4033\n",
            "Epoch 10/20\n",
            "28/28 [==============================] - 2s 73ms/step - loss: 1.8021 - accuracy: 0.4056\n",
            "Epoch 11/20\n",
            "28/28 [==============================] - 2s 75ms/step - loss: 1.7451 - accuracy: 0.4044\n",
            "Epoch 12/20\n",
            "28/28 [==============================] - 2s 72ms/step - loss: 1.7895 - accuracy: 0.4005\n",
            "Epoch 13/20\n",
            "28/28 [==============================] - 3s 104ms/step - loss: 1.7807 - accuracy: 0.3931\n",
            "Epoch 14/20\n",
            "28/28 [==============================] - 2s 75ms/step - loss: 1.7437 - accuracy: 0.4056\n",
            "Epoch 15/20\n",
            "28/28 [==============================] - 2s 75ms/step - loss: 1.7233 - accuracy: 0.4282\n",
            "Epoch 16/20\n",
            "28/28 [==============================] - 2s 73ms/step - loss: 1.7324 - accuracy: 0.4226\n",
            "Epoch 17/20\n",
            "28/28 [==============================] - 2s 83ms/step - loss: 1.7161 - accuracy: 0.4146\n",
            "Epoch 18/20\n",
            "28/28 [==============================] - 3s 110ms/step - loss: 1.7124 - accuracy: 0.4180\n",
            "Epoch 19/20\n",
            "28/28 [==============================] - 2s 75ms/step - loss: 1.7163 - accuracy: 0.4288\n",
            "Epoch 20/20\n",
            "28/28 [==============================] - 2s 74ms/step - loss: 1.7029 - accuracy: 0.4237\n"
          ]
        }
      ],
      "source": [
        "history = model1f.fit(train_generator, epochs=20, verbose = 1)"
      ]
    },
    {
      "cell_type": "code",
      "source": [
        "# Loop melalui semua layer dalam model yang sudah dimuat\n",
        "for layer in model1f.layers:\n",
        "    # Periksa apakah layer adalah lapisan Dense\n",
        "    if isinstance(layer, Dense):\n",
        "        # Peroleh bobot dari lapisan\n",
        "        weights = layer.get_weights()\n",
        "        # Cetak informasi tentang bobot\n",
        "        print(f\"Layer Name: {layer.name}\")\n",
        "        print(\"Weight Matrix Shape:\", weights[0].shape)  # Ukuran matriks bobot\n",
        "        print(\"Weight Matrix:\")\n",
        "        print(weights[0])  # Bobot\n",
        "        print(\"Bias Vector Shape:\", weights[1].shape)    # Ukuran vektor bias\n",
        "        print(\"Bias Vector:\")\n",
        "        print(weights[1])    # Bias\n",
        "        print(\"-----------------------------------\")"
      ],
      "metadata": {
        "id": "9yU5481fW9PD",
        "outputId": "c8d1330f-c571-414c-e8c7-84fd0ab75cf1",
        "colab": {
          "base_uri": "https://localhost:8080/"
        }
      },
      "execution_count": 12,
      "outputs": [
        {
          "output_type": "stream",
          "name": "stdout",
          "text": [
            "Layer Name: dense\n",
            "Weight Matrix Shape: (4056, 201)\n",
            "Weight Matrix:\n",
            "[[ 0.0274903   0.0010668  -0.03707519 ... -0.00255087  0.01591191\n",
            "   0.01100459]\n",
            " [ 0.02025164  0.00544424 -0.03044458 ...  0.01561011  0.02948541\n",
            "   0.01946244]\n",
            " [-0.01748049 -0.01480967 -0.01830059 ...  0.0134363   0.02558027\n",
            "  -0.02281135]\n",
            " ...\n",
            " [-0.032057    0.01889618 -0.03007298 ...  0.01415464 -0.02837485\n",
            "  -0.0095921 ]\n",
            " [ 0.02610924 -0.00884114  0.0150192  ...  0.03142965  0.02763907\n",
            "  -0.00021875]\n",
            " [ 0.00114325  0.02538603  0.01922794 ...  0.00480771 -0.03573713\n",
            "   0.02174581]]\n",
            "Bias Vector Shape: (201,)\n",
            "Bias Vector:\n",
            "[ 4.9170638e-05 -3.5016536e-05  1.6538741e-04  1.6646615e-04\n",
            " -2.5069356e-05 -3.4704935e-03 -8.9887986e-03  4.9114216e-04\n",
            " -9.0190530e-04  8.4467838e-03  2.9813882e-03  0.0000000e+00\n",
            "  1.9846943e-03 -9.1081986e-04  7.7525526e-04 -5.1683946e-05\n",
            "  8.2277990e-04  3.9098384e-05  5.6858100e-03  2.9109418e-03\n",
            " -3.2008532e-04 -5.4608023e-04 -4.5086490e-05 -7.0334604e-04\n",
            " -2.0255090e-04 -3.0793421e-04 -7.1664327e-03  5.0808780e-05\n",
            " -3.6433695e-03  1.9447946e-03  1.0522425e-03 -3.7724075e-03\n",
            " -4.7579661e-04 -3.1478959e-04  6.0535327e-04  6.3269641e-03\n",
            " -1.7720594e-03  6.7813490e-03 -2.1240082e-04  1.5389578e-05\n",
            " -2.1716761e-03 -2.2314706e-04 -3.0291174e-04  4.3801577e-03\n",
            " -2.5850568e-07 -5.5467254e-03 -4.4037411e-06 -5.7950534e-04\n",
            "  9.7130460e-04 -8.3499699e-04 -5.4477138e-04  0.0000000e+00\n",
            " -1.0957100e-03 -4.9654406e-04 -1.7637813e-03 -2.3995145e-04\n",
            "  3.4086274e-03  1.5482847e-03  2.7751032e-04 -1.9015293e-03\n",
            " -1.1699598e-03 -6.4655324e-04 -4.5953738e-03  1.4746165e-03\n",
            "  2.8031562e-03 -2.2543477e-06  2.5257684e-04 -7.9012144e-04\n",
            " -6.9907177e-03  5.3603034e-03 -6.1379949e-04 -8.8851340e-04\n",
            "  4.5785593e-05 -1.3975736e-03 -9.4991125e-04 -1.9888817e-07\n",
            "  9.7579183e-04 -1.3750773e-03 -1.9013319e-03 -6.3439965e-04\n",
            "  0.0000000e+00 -1.0729278e-03 -1.4751313e-04 -8.2286465e-04\n",
            "  1.7220324e-05 -2.2902894e-03  1.8773015e-03  3.7666042e-03\n",
            " -2.0418577e-03  9.3821720e-05  2.1290320e-03 -6.9251563e-04\n",
            "  2.3818132e-03 -8.7645531e-05  3.1777017e-05 -1.7658676e-03\n",
            "  2.9049872e-03  3.8777212e-06  1.5390415e-03  1.8547465e-04\n",
            "  1.8870904e-03 -8.2976528e-04  2.5758715e-03 -4.9981503e-03\n",
            "  1.1763056e-03  1.2290291e-03 -5.5285080e-05  2.1575890e-03\n",
            " -1.3194660e-03  3.9653413e-04 -1.1256997e-03  2.0866946e-03\n",
            "  1.1873799e-04 -7.9482119e-04 -8.4560725e-08 -4.7930572e-03\n",
            " -1.8567189e-05 -8.4963010e-04 -2.0024814e-03  0.0000000e+00\n",
            "  4.6308655e-03 -2.6299385e-04 -6.5049162e-04 -6.4737011e-05\n",
            " -5.2223471e-03 -1.4915492e-03  1.4931415e-04  7.7557296e-04\n",
            " -5.3274317e-04  0.0000000e+00  3.8713277e-03  1.9046959e-03\n",
            " -8.0879149e-04  6.7401543e-04 -2.1858467e-03  1.0045330e-03\n",
            "  6.8429690e-03 -5.6713686e-04 -4.3215256e-04 -1.2487108e-03\n",
            " -8.1060751e-04 -8.2326420e-03 -3.9253798e-03 -4.9328608e-03\n",
            "  9.7650300e-06  3.1297877e-03 -8.1061572e-04  2.4297989e-03\n",
            "  4.1229543e-03 -1.1621329e-03 -5.5423833e-04 -2.9217021e-03\n",
            " -7.4682641e-04 -2.7451845e-04  5.3041964e-04  1.7462447e-03\n",
            "  9.9212781e-04 -4.2993357e-04 -9.4368425e-04  0.0000000e+00\n",
            "  0.0000000e+00  9.5964008e-04 -8.2805491e-04 -5.0950359e-07\n",
            "  4.9125543e-03  0.0000000e+00  5.0033252e-03 -5.8935245e-04\n",
            " -4.4166014e-04  3.3266870e-03  2.2876612e-04  6.1195879e-03\n",
            " -1.1157715e-03  2.5233149e-03 -5.5903592e-04 -9.9611818e-04\n",
            " -1.3958731e-04  2.8047904e-03  7.0530581e-03 -1.5692510e-04\n",
            " -6.9025264e-05  4.3595341e-04  5.4187985e-04 -6.3455704e-04\n",
            "  0.0000000e+00  2.9916270e-03  1.6532720e-03 -4.7995077e-04\n",
            "  3.4343678e-04 -1.1942529e-04  4.9549835e-03  5.3196173e-04\n",
            " -2.5692131e-04 -2.0612217e-03 -3.7419432e-04  0.0000000e+00\n",
            "  4.1085979e-04  5.3526424e-03 -7.0423759e-03  1.8343321e-04\n",
            " -1.3527932e-04]\n",
            "-----------------------------------\n",
            "Layer Name: dense_1\n",
            "Weight Matrix Shape: (201, 10)\n",
            "Weight Matrix:\n",
            "[[-0.06281815 -0.15751821 -0.04878278 ...  0.06337594 -0.13645017\n",
            "   0.12018133]\n",
            " [-0.08796007  0.03849666 -0.01182175 ...  0.06680924  0.12278159\n",
            "   0.04649594]\n",
            " [-0.0212024  -0.02670127  0.12978053 ... -0.10204561  0.13795185\n",
            "  -0.06438389]\n",
            " ...\n",
            " [-0.12346379  0.0818209  -0.10411872 ...  0.01347208 -0.12108609\n",
            "  -0.1313529 ]\n",
            " [ 0.08578423  0.0520055   0.1498477  ...  0.01761429  0.11680694\n",
            "  -0.11103227]\n",
            " [-0.03295561  0.0704224   0.09863163 ...  0.1537745  -0.09387267\n",
            "   0.02488384]]\n",
            "Bias Vector Shape: (10,)\n",
            "Bias Vector:\n",
            "[ 0.03746283 -0.02470902 -0.00123618  0.00307683 -0.00271163  0.00316832\n",
            " -0.00878495 -0.0165371   0.00252483  0.00774602]\n",
            "-----------------------------------\n"
          ]
        }
      ]
    },
    {
      "cell_type": "markdown",
      "metadata": {
        "id": "6VOcIXg0IvCs"
      },
      "source": [
        "#Matriks Konfusi"
      ]
    },
    {
      "cell_type": "code",
      "execution_count": 21,
      "metadata": {
        "colab": {
          "base_uri": "https://localhost:8080/",
          "height": 617
        },
        "id": "Lz5lA0bDIxJg",
        "outputId": "a14cd5ca-8884-48ba-f40b-380cdcfd857a"
      },
      "outputs": [
        {
          "output_type": "stream",
          "name": "stdout",
          "text": [
            "7/7 [==============================] - 0s 33ms/step\n"
          ]
        },
        {
          "output_type": "display_data",
          "data": {
            "text/plain": [
              "<Figure size 800x600 with 2 Axes>"
            ],
            "image/png": "[encoded data removed]"
          },
          "metadata": {}
        }
      ],
      "source": [
        "from sklearn.metrics import confusion_matrix, classification_report\n",
        "import seaborn as sns\n",
        "import matplotlib.pyplot as plt\n",
        "\n",
        "# Fungsi untuk mendapatkan prediksi model dan label sebenarnya\n",
        "def get_predictions_and_labels(model, data_generator):\n",
        "    predictions = model.predict(data_generator)\n",
        "    true_classes = data_generator.classes\n",
        "    return predictions, true_classes\n",
        "\n",
        "# Mendapatkan prediksi dan label sebenarnya untuk data uji\n",
        "y_pred_prob, y_true = get_predictions_and_labels(model1f, test_generator)\n",
        "y_pred = np.argmax(y_pred_prob, axis=1)\n",
        "\n",
        "# Membuat matriks konfusi\n",
        "cf_matrix = confusion_matrix(y_true, y_pred)\n",
        "\n",
        "# Membuat visualisasi matriks konfusi\n",
        "fig, ax = plt.subplots(figsize=(8, 6))\n",
        "sns.heatmap(cf_matrix, annot=True, fmt='g', cmap='Blues', ax=ax)\n",
        "\n",
        "# Menetapkan label dan judul\n",
        "ax.set_title('Confusion Matrix with labels')\n",
        "ax.set_xlabel('Predicted Values')\n",
        "ax.set_ylabel('Actual Values')\n",
        "\n",
        "class_labels = list(test_generator.class_indices.keys())\n",
        "\n",
        "# Menetapkan label pada sumbu x dan y sesuai dengan jenis kelas\n",
        "ax.xaxis.set_ticklabels(class_labels, rotation=45)\n",
        "ax.yaxis.set_ticklabels(class_labels, rotation=45)\n",
        "\n",
        "# Menampilkan visualisasi Matriks Konfusi\n",
        "plt.show()"
      ]
    },
    {
      "cell_type": "code",
      "execution_count": 22,
      "metadata": {
        "colab": {
          "base_uri": "https://localhost:8080/"
        },
        "id": "S7iwBJlGZEUM",
        "outputId": "ff676d44-d34d-45bf-d7b5-9da28549a49b"
      },
      "outputs": [
        {
          "output_type": "stream",
          "name": "stdout",
          "text": [
            "Test Accuracy: 0.2292134831460674\n"
          ]
        }
      ],
      "source": [
        "from sklearn.metrics import accuracy_score\n",
        "\n",
        "test_accuracy = accuracy_score(y_true, y_pred)\n",
        "print(f\"Test Accuracy: {test_accuracy}\")"
      ]
    }
  ],
  "metadata": {
    "colab": {
      "provenance": [],
      "include_colab_link": true
    },
    "kernelspec": {
      "display_name": "Python 3",
      "name": "python3"
    },
    "language_info": {
      "name": "python"
    }
  },
  "nbformat": 4,
  "nbformat_minor": 0
}