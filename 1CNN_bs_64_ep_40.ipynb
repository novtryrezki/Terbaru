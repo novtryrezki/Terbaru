{
  "nbformat": 4,
  "nbformat_minor": 0,
  "metadata": {
    "colab": {
      "provenance": [],
      "authorship_tag": "ABX9TyO0kqaqURQ11MFfU2ZjZxWw",
      "include_colab_link": true
    },
    "kernelspec": {
      "name": "python3",
      "display_name": "Python 3"
    },
    "language_info": {
      "name": "python"
    }
  },
  "cells": [
    {
      "cell_type": "markdown",
      "metadata": {
        "id": "view-in-github",
        "colab_type": "text"
      },
      "source": [
        "<a href=\"https://colab.research.google.com/github/novtryrezki/Terbaru/blob/main/1CNN_bs_64_ep_40.ipynb\" target=\"_parent\"><img src=\"https://colab.research.google.com/assets/colab-badge.svg\" alt=\"Open In Colab\"/></a>"
      ]
    },
    {
      "cell_type": "code",
      "execution_count": 1,
      "metadata": {
        "id": "Gj0QELQHjUVZ"
      },
      "outputs": [],
      "source": [
        "import os\n",
        "import zipfile\n",
        "import random\n",
        "import shutil\n",
        "import numpy as np\n",
        "import tensorflow as tf\n",
        "import pandas as pd\n",
        "from google.colab import drive\n",
        "from sklearn.model_selection import train_test_split"
      ]
    },
    {
      "cell_type": "code",
      "source": [
        "# Melakukan mount pada Google Drive\n",
        "drive.mount('/content/drive')\n",
        "\n",
        "# Menentukan path file ZIP di Google Drive\n",
        "zip_path = '/content/drive/MyDrive/images.zip'\n",
        "\n",
        "# Membuat objek zip_ref\n",
        "zip_ref = zipfile.ZipFile(zip_path, 'r')\n",
        "\n",
        "# Mengekstrak file ZIP\n",
        "extract_path ='/content/images'\n",
        "zip_ref.extractall(extract_path)\n",
        "\n",
        "# Tutup objek zip_ref setelah selesai\n",
        "zip_ref.close()"
      ],
      "metadata": {
        "colab": {
          "base_uri": "https://localhost:8080/"
        },
        "id": "HXtZwYwdjXH4",
        "outputId": "808e7e1a-cf74-4f13-b676-a008d2f6e5bc"
      },
      "execution_count": 2,
      "outputs": [
        {
          "output_type": "stream",
          "name": "stdout",
          "text": [
            "Mounted at /content/drive\n"
          ]
        }
      ]
    },
    {
      "cell_type": "code",
      "source": [
        "# Mendefinisikan path direktori dataset\n",
        "dataset_dir = os.path.join(extract_path, 'images')\n",
        "train_dir = os.path.join(dataset_dir, 'train')\n",
        "test_dir = os.path.join(dataset_dir, 'test')\n",
        "list_train = sorted(os.listdir(train_dir))\n",
        "list_test = sorted(os.listdir(test_dir))\n",
        "\n",
        "print(\"Daftar Angka pada Dataset Train yaitu : \", list_train)\n",
        "print(\"Daftar Angka pada Dataset Test yaitu : \", list_test)"
      ],
      "metadata": {
        "colab": {
          "base_uri": "https://localhost:8080/"
        },
        "id": "P9SpMwZxCMpv",
        "outputId": "57ba8c61-4307-4a76-c302-26a4ca6323c8"
      },
      "execution_count": 3,
      "outputs": [
        {
          "output_type": "stream",
          "name": "stdout",
          "text": [
            "Daftar Angka pada Dataset Train yaitu :  ['angka 0', 'angka 1', 'angka 2', 'angka 3', 'angka 4', 'angka 5', 'angka 6', 'angka 7', 'angka 8', 'angka 9']\n",
            "Daftar Angka pada Dataset Test yaitu :  ['angka 0', 'angka 1', 'angka 2', 'angka 3', 'angka 4', 'angka 5', 'angka 6', 'angka 7', 'angka 8', 'angka 9']\n"
          ]
        }
      ]
    },
    {
      "cell_type": "code",
      "source": [
        "def count_images(directory):\n",
        "    return sum(1 for file in os.listdir(directory) if file.endswith(('.jpg', '.jpeg', '.png', '.gif')))\n",
        "\n",
        "# Menghitung jumlah gambar di data train\n",
        "train_image_count = sum(count_images(os.path.join(train_dir, angka)) for angka in list_train)\n",
        "\n",
        "# Menghitung jumlah gambar di data test\n",
        "test_image_count = sum(count_images(os.path.join(test_dir, angka)) for angka in list_test)\n",
        "\n",
        "print(f\"Jumlah gambar di Dataset Train: {train_image_count}\")\n",
        "print(f\"Jumlah gambar di Dataset Test: {test_image_count}\")"
      ],
      "metadata": {
        "colab": {
          "base_uri": "https://localhost:8080/"
        },
        "id": "JycQg0kGCHHe",
        "outputId": "1c803459-c75a-4152-d5b7-66afbb11cb06"
      },
      "execution_count": 4,
      "outputs": [
        {
          "output_type": "stream",
          "name": "stdout",
          "text": [
            "Jumlah gambar di Dataset Train: 1763\n",
            "Jumlah gambar di Dataset Test: 445\n"
          ]
        }
      ]
    },
    {
      "cell_type": "markdown",
      "source": [
        "# Preprocessing"
      ],
      "metadata": {
        "id": "Cs-YBymEElj8"
      }
    },
    {
      "cell_type": "code",
      "source": [
        "import cv2\n",
        "\n",
        "def resize_images(directory, target_resolution):\n",
        "    for angka in os.listdir(directory):\n",
        "        angka_dir = os.path.join(directory, angka)\n",
        "        for file_name in os.listdir(angka_dir):\n",
        "            file_path = os.path.join(angka_dir, file_name)\n",
        "            img = cv2.imread(file_path)\n",
        "            resized_img = cv2.resize(img, (target_resolution[0], target_resolution[1]))\n",
        "            cv2.imwrite(file_path, resized_img)\n",
        "\n",
        "target_resolution = (52, 78)\n",
        "resize_images(train_dir, target_resolution)\n",
        "resize_images(test_dir, target_resolution)"
      ],
      "metadata": {
        "id": "j-iPjxpXF_bf"
      },
      "execution_count": 5,
      "outputs": []
    },
    {
      "cell_type": "code",
      "source": [
        "from tensorflow.keras.preprocessing.image import ImageDataGenerator\n",
        "\n",
        "# Membuat generator data dengan augmentasi\n",
        "image_size = (52, 78)\n",
        "batch_size = 64\n",
        "\n",
        "train_datagen = ImageDataGenerator(\n",
        "    rescale = 1./255,\n",
        "    width_shift_range = 0.2,\n",
        "    height_shift_range = 0.2,\n",
        "    zoom_range = 0.2,\n",
        ")\n",
        "\n",
        "test_datagen = ImageDataGenerator(\n",
        "    rescale=1./255,\n",
        ")\n",
        "\n",
        "train_generator = train_datagen.flow_from_directory(\n",
        "    train_dir,\n",
        "    target_size=image_size,\n",
        "    batch_size=batch_size,\n",
        "    class_mode='categorical',\n",
        "    color_mode='grayscale'\n",
        ")\n",
        "\n",
        "test_generator = test_datagen.flow_from_directory(\n",
        "    test_dir,\n",
        "    target_size=image_size,\n",
        "    batch_size=batch_size,\n",
        "    class_mode='categorical',\n",
        "    color_mode='grayscale'\n",
        ")"
      ],
      "metadata": {
        "colab": {
          "base_uri": "https://localhost:8080/"
        },
        "id": "MrR6ROkiF9Uj",
        "outputId": "5e5bfc04-f60a-4c98-ca69-942349f22363"
      },
      "execution_count": 6,
      "outputs": [
        {
          "output_type": "stream",
          "name": "stdout",
          "text": [
            "Found 1763 images belonging to 10 classes.\n",
            "Found 445 images belonging to 10 classes.\n"
          ]
        }
      ]
    },
    {
      "cell_type": "markdown",
      "source": [
        "# Membuat Model CNN"
      ],
      "metadata": {
        "id": "gPqE7ywQJ01c"
      }
    },
    {
      "cell_type": "code",
      "source": [
        "from tensorflow.keras.models import Sequential\n",
        "from tensorflow.keras.layers import Conv2D, AveragePooling2D, Flatten, Dense\n",
        "import math\n",
        "\n",
        "img_size = 52*78*1\n",
        "\n",
        "# Perhitungan jumlah neuron pada lapisan tersembunyi\n",
        "hidden_neurons = int(math.sqrt(img_size * 10))\n",
        "\n",
        "model1c = Sequential()\n",
        "model1c.add(Conv2D(32, (3, 3), activation='relu', input_shape=(52, 78, 1)))\n",
        "model1c.add(AveragePooling2D((2, 2)))\n",
        "model1c.add(Conv2D(64, (3, 3), activation='relu'))\n",
        "model1c.add(AveragePooling2D((2, 2)))\n",
        "model1c.add(Flatten())\n",
        "model1c.add(Dense(hidden_neurons, activation='relu'))\n",
        "model1c.add(Dense(10, activation='softmax'))\n",
        "\n",
        "model1c.compile(optimizer='SGD', loss='categorical_crossentropy', metrics=['accuracy'])"
      ],
      "metadata": {
        "id": "SvNzs3QB71R6"
      },
      "execution_count": 7,
      "outputs": []
    },
    {
      "cell_type": "code",
      "source": [
        "model1c.summary()"
      ],
      "metadata": {
        "colab": {
          "base_uri": "https://localhost:8080/"
        },
        "id": "RfHd4NJznjOh",
        "outputId": "257b72be-1196-437f-da9b-ca061360ab74"
      },
      "execution_count": 8,
      "outputs": [
        {
          "output_type": "stream",
          "name": "stdout",
          "text": [
            "Model: \"sequential\"\n",
            "_________________________________________________________________\n",
            " Layer (type)                Output Shape              Param #   \n",
            "=================================================================\n",
            " conv2d (Conv2D)             (None, 50, 76, 32)        320       \n",
            "                                                                 \n",
            " average_pooling2d (Average  (None, 25, 38, 32)        0         \n",
            " Pooling2D)                                                      \n",
            "                                                                 \n",
            " conv2d_1 (Conv2D)           (None, 23, 36, 64)        18496     \n",
            "                                                                 \n",
            " average_pooling2d_1 (Avera  (None, 11, 18, 64)        0         \n",
            " gePooling2D)                                                    \n",
            "                                                                 \n",
            " flatten (Flatten)           (None, 12672)             0         \n",
            "                                                                 \n",
            " dense (Dense)               (None, 201)               2547273   \n",
            "                                                                 \n",
            " dense_1 (Dense)             (None, 10)                2020      \n",
            "                                                                 \n",
            "=================================================================\n",
            "Total params: 2568109 (9.80 MB)\n",
            "Trainable params: 2568109 (9.80 MB)\n",
            "Non-trainable params: 0 (0.00 Byte)\n",
            "_________________________________________________________________\n"
          ]
        }
      ]
    },
    {
      "cell_type": "code",
      "source": [
        "history = model1c.fit(train_generator, epochs=40, verbose = 1)"
      ],
      "metadata": {
        "colab": {
          "base_uri": "https://localhost:8080/"
        },
        "id": "I_Klj8ReYASB",
        "outputId": "c2051d84-8bc4-4d08-f933-30c86a81eecc"
      },
      "execution_count": 9,
      "outputs": [
        {
          "output_type": "stream",
          "name": "stdout",
          "text": [
            "Epoch 1/40\n",
            "28/28 [==============================] - 5s 164ms/step - loss: 2.0847 - accuracy: 0.2717\n",
            "Epoch 2/40\n",
            "28/28 [==============================] - 5s 187ms/step - loss: 1.9969 - accuracy: 0.3284\n",
            "Epoch 3/40\n",
            "28/28 [==============================] - 5s 192ms/step - loss: 1.9801 - accuracy: 0.3505\n",
            "Epoch 4/40\n",
            "28/28 [==============================] - 5s 183ms/step - loss: 1.9570 - accuracy: 0.3670\n",
            "Epoch 5/40\n",
            "28/28 [==============================] - 5s 170ms/step - loss: 1.9264 - accuracy: 0.3846\n",
            "Epoch 6/40\n",
            "28/28 [==============================] - 5s 172ms/step - loss: 1.9084 - accuracy: 0.3846\n",
            "Epoch 7/40\n",
            "28/28 [==============================] - 5s 158ms/step - loss: 1.8663 - accuracy: 0.3953\n",
            "Epoch 8/40\n",
            "28/28 [==============================] - 5s 191ms/step - loss: 1.8412 - accuracy: 0.3902\n",
            "Epoch 9/40\n",
            "28/28 [==============================] - 5s 184ms/step - loss: 1.8119 - accuracy: 0.4022\n",
            "Epoch 10/40\n",
            "28/28 [==============================] - 5s 160ms/step - loss: 1.8241 - accuracy: 0.3868\n",
            "Epoch 11/40\n",
            "28/28 [==============================] - 5s 189ms/step - loss: 1.7933 - accuracy: 0.4107\n",
            "Epoch 12/40\n",
            "28/28 [==============================] - 5s 163ms/step - loss: 1.7702 - accuracy: 0.4090\n",
            "Epoch 13/40\n",
            "28/28 [==============================] - 5s 187ms/step - loss: 1.8069 - accuracy: 0.4073\n",
            "Epoch 14/40\n",
            "28/28 [==============================] - 5s 159ms/step - loss: 1.7675 - accuracy: 0.4084\n",
            "Epoch 15/40\n",
            "28/28 [==============================] - 5s 169ms/step - loss: 1.7523 - accuracy: 0.4152\n",
            "Epoch 16/40\n",
            "28/28 [==============================] - 4s 157ms/step - loss: 1.7527 - accuracy: 0.4186\n",
            "Epoch 17/40\n",
            "28/28 [==============================] - 5s 190ms/step - loss: 1.7235 - accuracy: 0.4175\n",
            "Epoch 18/40\n",
            "28/28 [==============================] - 5s 167ms/step - loss: 1.7273 - accuracy: 0.4243\n",
            "Epoch 19/40\n",
            "28/28 [==============================] - 5s 174ms/step - loss: 1.6991 - accuracy: 0.4248\n",
            "Epoch 20/40\n",
            "28/28 [==============================] - 4s 156ms/step - loss: 1.7151 - accuracy: 0.4277\n",
            "Epoch 21/40\n",
            "28/28 [==============================] - 5s 187ms/step - loss: 1.6744 - accuracy: 0.4407\n",
            "Epoch 22/40\n",
            "28/28 [==============================] - 5s 170ms/step - loss: 1.6956 - accuracy: 0.4299\n",
            "Epoch 23/40\n",
            "28/28 [==============================] - 5s 160ms/step - loss: 1.6692 - accuracy: 0.4487\n",
            "Epoch 24/40\n",
            "28/28 [==============================] - 4s 160ms/step - loss: 1.6917 - accuracy: 0.4305\n",
            "Epoch 25/40\n",
            "28/28 [==============================] - 5s 187ms/step - loss: 1.6258 - accuracy: 0.4606\n",
            "Epoch 26/40\n",
            "28/28 [==============================] - 5s 185ms/step - loss: 1.6402 - accuracy: 0.4538\n",
            "Epoch 27/40\n",
            "28/28 [==============================] - 4s 157ms/step - loss: 1.6350 - accuracy: 0.4532\n",
            "Epoch 28/40\n",
            "28/28 [==============================] - 5s 167ms/step - loss: 1.6099 - accuracy: 0.4697\n",
            "Epoch 29/40\n",
            "28/28 [==============================] - 4s 158ms/step - loss: 1.5945 - accuracy: 0.4697\n",
            "Epoch 30/40\n",
            "28/28 [==============================] - 5s 186ms/step - loss: 1.5942 - accuracy: 0.4742\n",
            "Epoch 31/40\n",
            "28/28 [==============================] - 4s 157ms/step - loss: 1.5832 - accuracy: 0.4748\n",
            "Epoch 32/40\n",
            "28/28 [==============================] - 5s 186ms/step - loss: 1.5562 - accuracy: 0.4833\n",
            "Epoch 33/40\n",
            "28/28 [==============================] - 4s 158ms/step - loss: 1.5448 - accuracy: 0.5031\n",
            "Epoch 34/40\n",
            "28/28 [==============================] - 5s 181ms/step - loss: 1.5233 - accuracy: 0.5167\n",
            "Epoch 35/40\n",
            "28/28 [==============================] - 5s 187ms/step - loss: 1.5002 - accuracy: 0.5162\n",
            "Epoch 36/40\n",
            "28/28 [==============================] - 4s 157ms/step - loss: 1.5253 - accuracy: 0.5031\n",
            "Epoch 37/40\n",
            "28/28 [==============================] - 4s 157ms/step - loss: 1.4722 - accuracy: 0.5150\n",
            "Epoch 38/40\n",
            "28/28 [==============================] - 5s 170ms/step - loss: 1.4702 - accuracy: 0.5320\n",
            "Epoch 39/40\n",
            "28/28 [==============================] - 4s 158ms/step - loss: 1.4567 - accuracy: 0.5281\n",
            "Epoch 40/40\n",
            "28/28 [==============================] - 5s 186ms/step - loss: 1.4306 - accuracy: 0.5377\n"
          ]
        }
      ]
    },
    {
      "cell_type": "markdown",
      "source": [
        "#Matriks Konfusi"
      ],
      "metadata": {
        "id": "6VOcIXg0IvCs"
      }
    },
    {
      "cell_type": "code",
      "source": [
        "from sklearn.metrics import confusion_matrix, classification_report\n",
        "import seaborn as sns\n",
        "import matplotlib.pyplot as plt\n",
        "\n",
        "# Fungsi untuk mendapatkan prediksi model dan label sebenarnya\n",
        "def get_predictions_and_labels(model, data_generator):\n",
        "    predictions = model.predict(data_generator)\n",
        "    predicted_classes = np.argmax(predictions, axis=1)\n",
        "    true_classes = data_generator.classes\n",
        "    class_labels = list(data_generator.class_indices.keys())\n",
        "    return predicted_classes, true_classes, class_labels\n",
        "\n",
        "# Mendapatkan prediksi dan label sebenarnya untuk data uji\n",
        "y_pred, y_true, class_labels = get_predictions_and_labels(model1c, test_generator)\n",
        "\n",
        "# Membuat matriks konfusi\n",
        "cf_matrix = confusion_matrix(y_true, y_pred)\n",
        "\n",
        "# Membuat visualisasi matriks konfusi\n",
        "fig, ax = plt.subplots(figsize=(8, 6))\n",
        "sns.heatmap(cf_matrix, annot=True, fmt='g', cmap='Blues', ax=ax)\n",
        "\n",
        "# Menetapkan label dan judul\n",
        "ax.set_title('Confusion Matrix with labels')\n",
        "ax.set_xlabel('Predicted Values')\n",
        "ax.set_ylabel('Actual Values')\n",
        "\n",
        "# Menetapkan label pada sumbu x dan y sesuai dengan jenis kelas\n",
        "ax.xaxis.set_ticklabels(class_labels, rotation=45)\n",
        "ax.yaxis.set_ticklabels(class_labels, rotation=45)\n",
        "\n",
        "# Menampilkan visualisasi Matriks Konfusi\n",
        "plt.show()"
      ],
      "metadata": {
        "colab": {
          "base_uri": "https://localhost:8080/",
          "height": 617
        },
        "id": "Lz5lA0bDIxJg",
        "outputId": "1d4be9c4-d120-48d2-a23b-b371514e4e4e"
      },
      "execution_count": 12,
      "outputs": [
        {
          "output_type": "stream",
          "name": "stdout",
          "text": [
            "7/7 [==============================] - 0s 55ms/step\n"
          ]
        },
        {
          "output_type": "display_data",
          "data": {
            "text/plain": [
              "<Figure size 800x600 with 2 Axes>"
            ],
            "image/png": "[encoded data removed]"
          },
          "metadata": {}
        }
      ]
    },
    {
      "cell_type": "code",
      "source": [
        "from sklearn.metrics import accuracy_score\n",
        "\n",
        "test_accuracy = accuracy_score(y_true, y_pred)\n",
        "print(f\"Test Accuracy: {test_accuracy}\")"
      ],
      "metadata": {
        "colab": {
          "base_uri": "https://localhost:8080/"
        },
        "id": "S7iwBJlGZEUM",
        "outputId": "683e5a57-b487-498b-a824-aa619a9de6cd"
      },
      "execution_count": 13,
      "outputs": [
        {
          "output_type": "stream",
          "name": "stdout",
          "text": [
            "Test Accuracy: 0.20674157303370785\n"
          ]
        }
      ]
    }
  ]
}