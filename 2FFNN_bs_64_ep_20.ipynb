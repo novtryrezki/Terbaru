{
  "cells": [
    {
      "cell_type": "markdown",
      "metadata": {
        "id": "view-in-github",
        "colab_type": "text"
      },
      "source": [
        "<a href=\"https://colab.research.google.com/github/novtryrezki/Terbaru/blob/main/2FFNN_bs_64_ep_20.ipynb\" target=\"_parent\"><img src=\"https://colab.research.google.com/assets/colab-badge.svg\" alt=\"Open In Colab\"/></a>"
      ]
    },
    {
      "cell_type": "code",
      "execution_count": 1,
      "metadata": {
        "id": "Gj0QELQHjUVZ"
      },
      "outputs": [],
      "source": [
        "import os\n",
        "import zipfile\n",
        "import random\n",
        "import shutil\n",
        "import numpy as np\n",
        "import tensorflow as tf\n",
        "import pandas as pd\n",
        "from google.colab import drive\n",
        "from sklearn.model_selection import train_test_split"
      ]
    },
    {
      "cell_type": "code",
      "execution_count": 2,
      "metadata": {
        "colab": {
          "base_uri": "https://localhost:8080/"
        },
        "id": "HXtZwYwdjXH4",
        "outputId": "18033938-ce2b-4b13-89c7-282c2fc3bc1e"
      },
      "outputs": [
        {
          "output_type": "stream",
          "name": "stdout",
          "text": [
            "Mounted at /content/drive\n"
          ]
        }
      ],
      "source": [
        "# Melakukan mount pada Google Drive\n",
        "drive.mount('/content/drive')\n",
        "\n",
        "# Menentukan path file ZIP di Google Drive\n",
        "zip_path = '/content/drive/MyDrive/images.zip'\n",
        "\n",
        "# Membuat objek zip_ref\n",
        "zip_ref = zipfile.ZipFile(zip_path, 'r')\n",
        "\n",
        "# Mengekstrak file ZIP\n",
        "extract_path ='/content/images'\n",
        "zip_ref.extractall(extract_path)\n",
        "\n",
        "# Tutup objek zip_ref setelah selesai\n",
        "zip_ref.close()"
      ]
    },
    {
      "cell_type": "code",
      "execution_count": 3,
      "metadata": {
        "colab": {
          "base_uri": "https://localhost:8080/"
        },
        "id": "P9SpMwZxCMpv",
        "outputId": "1b7a4d51-82ac-4a85-e60a-b9047b7dfe6a"
      },
      "outputs": [
        {
          "output_type": "stream",
          "name": "stdout",
          "text": [
            "Daftar Angka pada Dataset Train yaitu :  ['angka 0', 'angka 1', 'angka 2', 'angka 3', 'angka 4', 'angka 5', 'angka 6', 'angka 7', 'angka 8', 'angka 9']\n",
            "Daftar Angka pada Dataset Test yaitu :  ['angka 0', 'angka 1', 'angka 2', 'angka 3', 'angka 4', 'angka 5', 'angka 6', 'angka 7', 'angka 8', 'angka 9']\n"
          ]
        }
      ],
      "source": [
        "# Mendefinisikan path direktori dataset\n",
        "dataset_dir = os.path.join(extract_path, 'images')\n",
        "train_dir = os.path.join(dataset_dir, 'train')\n",
        "test_dir = os.path.join(dataset_dir, 'test')\n",
        "list_train = sorted(os.listdir(train_dir))\n",
        "list_test = sorted(os.listdir(test_dir))\n",
        "\n",
        "print(\"Daftar Angka pada Dataset Train yaitu : \", list_train)\n",
        "print(\"Daftar Angka pada Dataset Test yaitu : \", list_test)"
      ]
    },
    {
      "cell_type": "code",
      "execution_count": 4,
      "metadata": {
        "colab": {
          "base_uri": "https://localhost:8080/"
        },
        "id": "JycQg0kGCHHe",
        "outputId": "fb8d73a3-562f-4627-b307-659ec404de2f"
      },
      "outputs": [
        {
          "output_type": "stream",
          "name": "stdout",
          "text": [
            "Jumlah gambar di Dataset Train: 1763\n",
            "Jumlah gambar di Dataset Test: 445\n"
          ]
        }
      ],
      "source": [
        "def count_images(directory):\n",
        "    return sum(1 for file in os.listdir(directory) if file.endswith(('.jpg', '.jpeg', '.png', '.gif')))\n",
        "\n",
        "# Menghitung jumlah gambar di data train\n",
        "train_image_count = sum(count_images(os.path.join(train_dir, angka)) for angka in list_train)\n",
        "\n",
        "# Menghitung jumlah gambar di data test\n",
        "test_image_count = sum(count_images(os.path.join(test_dir, angka)) for angka in list_test)\n",
        "\n",
        "print(f\"Jumlah gambar di Dataset Train: {train_image_count}\")\n",
        "print(f\"Jumlah gambar di Dataset Test: {test_image_count}\")"
      ]
    },
    {
      "cell_type": "markdown",
      "metadata": {
        "id": "Cs-YBymEElj8"
      },
      "source": [
        "# Preprocessing"
      ]
    },
    {
      "cell_type": "code",
      "execution_count": 5,
      "metadata": {
        "id": "j-iPjxpXF_bf"
      },
      "outputs": [],
      "source": [
        "import cv2\n",
        "\n",
        "def resize_images(directory, target_resolution):\n",
        "    for angka in os.listdir(directory):\n",
        "        angka_dir = os.path.join(directory, angka)\n",
        "        for file_name in os.listdir(angka_dir):\n",
        "            file_path = os.path.join(angka_dir, file_name)\n",
        "            img = cv2.imread(file_path)\n",
        "            resized_img = cv2.resize(img, (target_resolution[0], target_resolution[1]))\n",
        "            cv2.imwrite(file_path, resized_img)\n",
        "\n",
        "target_resolution = (52, 78)\n",
        "resize_images(train_dir, target_resolution)\n",
        "resize_images(test_dir, target_resolution)"
      ]
    },
    {
      "cell_type": "code",
      "execution_count": 6,
      "metadata": {
        "colab": {
          "base_uri": "https://localhost:8080/"
        },
        "id": "MrR6ROkiF9Uj",
        "outputId": "3671c45d-db11-4122-d43d-f28088477434"
      },
      "outputs": [
        {
          "output_type": "stream",
          "name": "stdout",
          "text": [
            "Found 1763 images belonging to 10 classes.\n",
            "Found 445 images belonging to 10 classes.\n"
          ]
        }
      ],
      "source": [
        "from tensorflow.keras.preprocessing.image import ImageDataGenerator\n",
        "\n",
        "# Membuat generator data dengan augmentasi\n",
        "image_size = (52, 78)\n",
        "batch_size = 64\n",
        "\n",
        "train_datagen = ImageDataGenerator(\n",
        "    rescale = 1./255,\n",
        "    width_shift_range = 0.2,\n",
        "    height_shift_range = 0.2,\n",
        "    zoom_range = 0.2,\n",
        ")\n",
        "\n",
        "test_datagen = ImageDataGenerator(\n",
        "    rescale=1./255,\n",
        ")\n",
        "\n",
        "train_generator = train_datagen.flow_from_directory(\n",
        "    train_dir,\n",
        "    target_size=image_size,\n",
        "    batch_size=batch_size,\n",
        "    class_mode='categorical',\n",
        "    color_mode='grayscale'\n",
        ")\n",
        "\n",
        "test_generator = test_datagen.flow_from_directory(\n",
        "    test_dir,\n",
        "    target_size=image_size,\n",
        "    batch_size=batch_size,\n",
        "    class_mode='categorical',\n",
        "    color_mode='grayscale'\n",
        ")\n",
        "\n",
        "for i in range(10):\n",
        "    batch = train_generator.next()"
      ]
    },
    {
      "cell_type": "markdown",
      "metadata": {
        "id": "gPqE7ywQJ01c"
      },
      "source": [
        "# Membuat Model FFNN"
      ]
    },
    {
      "cell_type": "code",
      "execution_count": 7,
      "metadata": {
        "id": "SvNzs3QB71R6"
      },
      "outputs": [],
      "source": [
        "from tensorflow.keras.models import Sequential\n",
        "from tensorflow.keras.layers import Flatten, Dense\n",
        "import math\n",
        "\n",
        "img_size = 52*78*1\n",
        "\n",
        "# Perhitungan jumlah neuron pada lapisan tersembunyi\n",
        "hidden_neurons1 = 548\n",
        "hidden_neurons2 = 74\n",
        "\n",
        "model2f = Sequential()\n",
        "model2f.add(Flatten(input_shape=(52, 78, 1)))\n",
        "model2f.add(Dense(hidden_neurons1, activation='relu'))\n",
        "model2f.add(Dense(hidden_neurons2, activation='relu'))\n",
        "model2f.add(Dense(10, activation='softmax'))\n",
        "\n",
        "model2f.compile(optimizer='SGD', loss='categorical_crossentropy', metrics=['accuracy'])"
      ]
    },
    {
      "cell_type": "code",
      "source": [
        "# Mendapatkan bobot dari model\n",
        "weights = []\n",
        "for layer in model2f.layers:\n",
        "    weights.append(layer.get_weights())\n",
        "\n",
        "print(\"Bobot dari model:\")\n",
        "for i, layer_weights in enumerate(weights):\n",
        "    print(\"Layer\", i+1)\n",
        "    for j, w in enumerate(layer_weights):\n",
        "        print(\"  Bobot {}: {}\".format(j+1, w.shape))"
      ],
      "metadata": {
        "colab": {
          "base_uri": "https://localhost:8080/"
        },
        "id": "9G3qeoYfS5CE",
        "outputId": "5a2e08c8-bd90-46ff-991e-0ea6ea555f42"
      },
      "execution_count": 8,
      "outputs": [
        {
          "output_type": "stream",
          "name": "stdout",
          "text": [
            "Bobot dari model:\n",
            "Layer 1\n",
            "Layer 2\n",
            "  Bobot 1: (4056, 548)\n",
            "  Bobot 2: (548,)\n",
            "Layer 3\n",
            "  Bobot 1: (548, 74)\n",
            "  Bobot 2: (74,)\n",
            "Layer 4\n",
            "  Bobot 1: (74, 10)\n",
            "  Bobot 2: (10,)\n"
          ]
        }
      ]
    },
    {
      "cell_type": "code",
      "source": [
        "# Menampilkan matriks bobot dan vektor bias dari setiap layer\n",
        "for i, layer in enumerate(model2f.layers):\n",
        "    weights = layer.get_weights()\n",
        "    if weights:\n",
        "        print(\"Layer\", i+1)\n",
        "        for j, w in enumerate(weights):\n",
        "            if j == 0:\n",
        "                print(\"  Bobot:\")\n",
        "            else:\n",
        "                print(\"  Bias:\")\n",
        "            print(\"    Ukuran:\", w.shape)\n",
        "            print(\"    Nilai:\")\n",
        "            print(w)"
      ],
      "metadata": {
        "colab": {
          "base_uri": "https://localhost:8080/"
        },
        "id": "xqfGSTgNTx-H",
        "outputId": "0bec13ef-4978-4668-d27e-f66f8d33d151"
      },
      "execution_count": 10,
      "outputs": [
        {
          "output_type": "stream",
          "name": "stdout",
          "text": [
            "Layer 2\n",
            "  Bobot:\n",
            "    Ukuran: (4056, 548)\n",
            "    Nilai:\n",
            "[[-0.0156268  -0.01732506  0.01676915 ...  0.01588315  0.00299472\n",
            "  -0.02966558]\n",
            " [ 0.0081736  -0.03188071 -0.03335292 ... -0.03321003 -0.0283655\n",
            "   0.01802876]\n",
            " [ 0.00947303 -0.01103084  0.00920361 ...  0.03269584 -0.01742513\n",
            "  -0.01425559]\n",
            " ...\n",
            " [-0.01728289  0.0072866   0.01224111 ... -0.00793603 -0.00571624\n",
            "   0.03476207]\n",
            " [-0.00994585  0.02950776  0.0282857  ...  0.02312897 -0.00119291\n",
            "  -0.02680735]\n",
            " [ 0.0162636  -0.03033109 -0.01250765 ...  0.03533411 -0.01817588\n",
            "   0.02181244]]\n",
            "  Bias:\n",
            "    Ukuran: (548,)\n",
            "    Nilai:\n",
            "[0. 0. 0. 0. 0. 0. 0. 0. 0. 0. 0. 0. 0. 0. 0. 0. 0. 0. 0. 0. 0. 0. 0. 0.\n",
            " 0. 0. 0. 0. 0. 0. 0. 0. 0. 0. 0. 0. 0. 0. 0. 0. 0. 0. 0. 0. 0. 0. 0. 0.\n",
            " 0. 0. 0. 0. 0. 0. 0. 0. 0. 0. 0. 0. 0. 0. 0. 0. 0. 0. 0. 0. 0. 0. 0. 0.\n",
            " 0. 0. 0. 0. 0. 0. 0. 0. 0. 0. 0. 0. 0. 0. 0. 0. 0. 0. 0. 0. 0. 0. 0. 0.\n",
            " 0. 0. 0. 0. 0. 0. 0. 0. 0. 0. 0. 0. 0. 0. 0. 0. 0. 0. 0. 0. 0. 0. 0. 0.\n",
            " 0. 0. 0. 0. 0. 0. 0. 0. 0. 0. 0. 0. 0. 0. 0. 0. 0. 0. 0. 0. 0. 0. 0. 0.\n",
            " 0. 0. 0. 0. 0. 0. 0. 0. 0. 0. 0. 0. 0. 0. 0. 0. 0. 0. 0. 0. 0. 0. 0. 0.\n",
            " 0. 0. 0. 0. 0. 0. 0. 0. 0. 0. 0. 0. 0. 0. 0. 0. 0. 0. 0. 0. 0. 0. 0. 0.\n",
            " 0. 0. 0. 0. 0. 0. 0. 0. 0. 0. 0. 0. 0. 0. 0. 0. 0. 0. 0. 0. 0. 0. 0. 0.\n",
            " 0. 0. 0. 0. 0. 0. 0. 0. 0. 0. 0. 0. 0. 0. 0. 0. 0. 0. 0. 0. 0. 0. 0. 0.\n",
            " 0. 0. 0. 0. 0. 0. 0. 0. 0. 0. 0. 0. 0. 0. 0. 0. 0. 0. 0. 0. 0. 0. 0. 0.\n",
            " 0. 0. 0. 0. 0. 0. 0. 0. 0. 0. 0. 0. 0. 0. 0. 0. 0. 0. 0. 0. 0. 0. 0. 0.\n",
            " 0. 0. 0. 0. 0. 0. 0. 0. 0. 0. 0. 0. 0. 0. 0. 0. 0. 0. 0. 0. 0. 0. 0. 0.\n",
            " 0. 0. 0. 0. 0. 0. 0. 0. 0. 0. 0. 0. 0. 0. 0. 0. 0. 0. 0. 0. 0. 0. 0. 0.\n",
            " 0. 0. 0. 0. 0. 0. 0. 0. 0. 0. 0. 0. 0. 0. 0. 0. 0. 0. 0. 0. 0. 0. 0. 0.\n",
            " 0. 0. 0. 0. 0. 0. 0. 0. 0. 0. 0. 0. 0. 0. 0. 0. 0. 0. 0. 0. 0. 0. 0. 0.\n",
            " 0. 0. 0. 0. 0. 0. 0. 0. 0. 0. 0. 0. 0. 0. 0. 0. 0. 0. 0. 0. 0. 0. 0. 0.\n",
            " 0. 0. 0. 0. 0. 0. 0. 0. 0. 0. 0. 0. 0. 0. 0. 0. 0. 0. 0. 0. 0. 0. 0. 0.\n",
            " 0. 0. 0. 0. 0. 0. 0. 0. 0. 0. 0. 0. 0. 0. 0. 0. 0. 0. 0. 0. 0. 0. 0. 0.\n",
            " 0. 0. 0. 0. 0. 0. 0. 0. 0. 0. 0. 0. 0. 0. 0. 0. 0. 0. 0. 0. 0. 0. 0. 0.\n",
            " 0. 0. 0. 0. 0. 0. 0. 0. 0. 0. 0. 0. 0. 0. 0. 0. 0. 0. 0. 0. 0. 0. 0. 0.\n",
            " 0. 0. 0. 0. 0. 0. 0. 0. 0. 0. 0. 0. 0. 0. 0. 0. 0. 0. 0. 0. 0. 0. 0. 0.\n",
            " 0. 0. 0. 0. 0. 0. 0. 0. 0. 0. 0. 0. 0. 0. 0. 0. 0. 0. 0. 0.]\n",
            "Layer 3\n",
            "  Bobot:\n",
            "    Ukuran: (548, 74)\n",
            "    Nilai:\n",
            "[[ 0.07281982  0.07842419 -0.06970284 ... -0.03168705  0.01765861\n",
            "  -0.07690904]\n",
            " [ 0.09376702  0.00710627  0.02954965 ... -0.03389752 -0.02344623\n",
            "  -0.03776083]\n",
            " [ 0.03254164 -0.05538506 -0.02665985 ...  0.05315157 -0.04526453\n",
            "  -0.00756188]\n",
            " ...\n",
            " [ 0.0308665   0.0190036  -0.07809552 ...  0.04205742  0.0692668\n",
            "   0.01284231]\n",
            " [-0.03687871  0.03651955 -0.09680641 ...  0.07973137  0.06149068\n",
            "   0.05780511]\n",
            " [-0.01307932 -0.01848014  0.09770369 ...  0.09011742  0.01424623\n",
            "   0.03634236]]\n",
            "  Bias:\n",
            "    Ukuran: (74,)\n",
            "    Nilai:\n",
            "[0. 0. 0. 0. 0. 0. 0. 0. 0. 0. 0. 0. 0. 0. 0. 0. 0. 0. 0. 0. 0. 0. 0. 0.\n",
            " 0. 0. 0. 0. 0. 0. 0. 0. 0. 0. 0. 0. 0. 0. 0. 0. 0. 0. 0. 0. 0. 0. 0. 0.\n",
            " 0. 0. 0. 0. 0. 0. 0. 0. 0. 0. 0. 0. 0. 0. 0. 0. 0. 0. 0. 0. 0. 0. 0. 0.\n",
            " 0. 0.]\n",
            "Layer 4\n",
            "  Bobot:\n",
            "    Ukuran: (74, 10)\n",
            "    Nilai:\n",
            "[[ 2.30241418e-01 -2.29044259e-02  6.22168183e-02  2.39410847e-01\n",
            "   2.84030139e-02 -1.54937327e-01 -2.45966822e-01 -1.91195697e-01\n",
            "  -1.60362422e-02  2.63227135e-01]\n",
            " [-1.42277747e-01  4.92650270e-03  6.12402558e-02  8.32705498e-02\n",
            "  -2.47716576e-01 -1.40099481e-01  2.28506327e-02  4.59155142e-02\n",
            "   9.52754915e-02  2.97518373e-02]\n",
            " [ 1.97655559e-01  2.58974820e-01  5.00461161e-02 -2.24554911e-01\n",
            "   2.32906610e-01  1.88981980e-01 -9.11663771e-02 -3.88070941e-02\n",
            "  -1.09711394e-01  1.89123452e-01]\n",
            " [ 1.71869338e-01  5.57973385e-02  8.79415572e-02  1.91820592e-01\n",
            "   7.80272484e-03  2.63959140e-01  4.58511710e-02  8.41334462e-03\n",
            "   1.19445592e-01  2.43446320e-01]\n",
            " [ 2.47544020e-01  1.31936759e-01 -4.81763035e-02  3.43776047e-02\n",
            "   2.44109780e-01 -7.12027550e-02  2.49592096e-01 -2.40960032e-01\n",
            "   4.59806323e-02  1.89862460e-01]\n",
            " [ 2.29121298e-01 -3.25334221e-02  2.49402910e-01 -2.89348215e-02\n",
            "  -2.34241322e-01 -2.13804200e-01 -9.09590274e-02  6.56827986e-02\n",
            "   1.75472379e-01 -2.24969357e-01]\n",
            " [ 2.31099844e-01 -3.20232064e-02 -1.82185292e-01  4.36711013e-02\n",
            "   2.02491164e-01 -1.25099778e-01  7.43539035e-02  3.68100405e-02\n",
            "  -2.26625755e-01 -2.31671482e-01]\n",
            " [ 1.02698684e-01 -1.54791728e-01  2.24579573e-01 -3.46598774e-02\n",
            "   1.38531208e-01  2.36137003e-01 -1.23021424e-01  4.50622439e-02\n",
            "   1.54419780e-01  1.01851463e-01]\n",
            " [-4.46062684e-02 -2.11307973e-01 -2.36497134e-01 -1.36922777e-01\n",
            "   2.48679429e-01  3.16942930e-02  2.13954151e-02 -3.83478701e-02\n",
            "  -1.44999743e-01 -1.97033584e-01]\n",
            " [-8.77940506e-02 -1.87013999e-01 -6.52092695e-03  2.63150066e-01\n",
            "  -2.62606680e-01  2.32180238e-01 -1.66018695e-01  6.50955141e-02\n",
            "   9.07774866e-02 -3.03599834e-02]\n",
            " [ 2.65552700e-02 -8.25621188e-02 -2.92083770e-02 -2.21285671e-02\n",
            "  -6.77428842e-02 -8.60035419e-04 -6.68648779e-02  9.60221887e-03\n",
            "   3.95663381e-02  2.69074440e-02]\n",
            " [ 1.93089128e-01 -9.32045132e-02 -1.82154581e-01  1.19452894e-01\n",
            "  -2.49959469e-01  1.09392732e-01 -1.09659269e-01 -7.75328279e-02\n",
            "  -8.40575099e-02 -2.03546792e-01]\n",
            " [ 2.14293897e-01  1.27615511e-01 -2.27347136e-01 -2.03278795e-01\n",
            "   1.14062816e-01  5.96133471e-02 -2.58691907e-01  1.39897943e-01\n",
            "   1.78786278e-01  2.26079404e-01]\n",
            " [-2.53832310e-01 -2.62454063e-01  2.38687843e-01  7.63165951e-02\n",
            "   2.42570907e-01 -5.01407236e-02 -1.24756068e-01  2.46454328e-01\n",
            "  -5.31539321e-03  6.42077029e-02]\n",
            " [ 1.54584646e-04 -2.43592113e-01 -1.04161888e-01 -2.11567312e-01\n",
            "  -4.06301320e-02  1.67535871e-01 -4.16365266e-02  1.90625787e-01\n",
            "  -1.99434370e-01  8.59217048e-02]\n",
            " [ 2.18290716e-01 -2.55540580e-01  1.39129847e-01  2.20396787e-01\n",
            "  -1.19774818e-01  2.56977111e-01  1.19279385e-01  2.06251383e-01\n",
            "   1.49425656e-01  2.07518220e-01]\n",
            " [ 1.08514607e-01  2.29944855e-01 -2.18060568e-01 -2.08954021e-01\n",
            "  -1.82778522e-01 -5.78503460e-02 -9.98178273e-02  2.13176012e-03\n",
            "   1.57182574e-01 -7.43036866e-02]\n",
            " [ 7.24147856e-02  2.21647888e-01  3.23437154e-02  1.28078550e-01\n",
            "  -9.92126763e-02  1.75381899e-02  8.00089836e-02 -1.19274497e-01\n",
            "  -2.72036791e-02 -2.97649056e-02]\n",
            " [-2.32789010e-01  1.44215852e-01 -2.36957073e-02  2.14730799e-02\n",
            "   1.67650163e-01  2.47811884e-01  2.49199063e-01  1.85866475e-01\n",
            "   1.20730549e-01 -2.45922670e-01]\n",
            " [-2.23504871e-01  7.19340742e-02  1.59217268e-01  8.41317475e-02\n",
            "  -2.01959983e-01 -1.07952654e-02 -6.91016465e-02  1.95345700e-01\n",
            "   1.27457619e-01 -1.15172699e-01]\n",
            " [-1.08533651e-01  2.45169997e-02  4.42422330e-02 -1.29581213e-01\n",
            "  -2.22720474e-01  5.69493473e-02 -1.99646115e-01 -1.76206440e-01\n",
            "   2.30301112e-01 -1.33703128e-01]\n",
            " [ 9.87851620e-03  2.60442197e-02  2.23397821e-01  4.35377359e-02\n",
            "   2.29136765e-01 -2.63860881e-01 -3.82598042e-02  6.58680499e-02\n",
            "  -1.01225093e-01  9.16301906e-02]\n",
            " [-1.95134491e-01 -5.07629514e-02 -4.24229503e-02  9.38473344e-02\n",
            "   6.27076030e-02  8.75943601e-02  1.43039018e-01  1.39566898e-01\n",
            "  -1.48640767e-01  7.20673800e-03]\n",
            " [-1.52883381e-01  1.64062679e-02  8.36137533e-02  1.33897156e-01\n",
            "   2.18177617e-01 -1.25014007e-01  5.20963669e-02  8.46942663e-02\n",
            "   4.18308377e-03  1.51148140e-01]\n",
            " [-2.20242277e-01  1.29891604e-01  2.15968907e-01  1.12284601e-01\n",
            "   1.70449853e-01 -8.77001286e-02  1.13622397e-01  2.51153141e-01\n",
            "   6.27569258e-02  1.58497930e-01]\n",
            " [-4.80598211e-02 -2.34701827e-01 -2.58342773e-02  2.40341812e-01\n",
            "  -1.79931134e-01 -4.61417437e-03 -5.72434068e-02 -2.45651290e-01\n",
            "   1.36435956e-01  1.52854770e-01]\n",
            " [-2.50098556e-01 -1.78495646e-01 -2.17429742e-01 -2.34756947e-01\n",
            "  -6.62848353e-03  1.10474557e-01 -1.11729145e-01 -3.17402333e-02\n",
            "  -2.31177539e-01  7.03730583e-02]\n",
            " [ 1.24062091e-01 -1.83991939e-01  1.50637180e-01  1.31000251e-01\n",
            "  -2.40882099e-01 -2.01448888e-01 -2.57234573e-01  2.59635001e-01\n",
            "   1.13833576e-01 -8.36556256e-02]\n",
            " [ 1.33652210e-01 -1.20233610e-01  2.17047870e-01 -1.05685294e-02\n",
            "   7.66722858e-02 -9.15510505e-02  1.10994905e-01 -2.05944657e-01\n",
            "   8.82413089e-02  2.60511667e-01]\n",
            " [-7.30287135e-02  2.10251749e-01 -2.40166634e-02 -8.90787691e-02\n",
            "  -3.60973477e-02  2.42213398e-01  5.06589711e-02 -2.24301219e-03\n",
            "   1.26278460e-01  2.80335546e-03]\n",
            " [ 1.06225699e-01 -1.59145027e-01 -2.45341867e-01 -1.16781250e-01\n",
            "  -1.43372893e-01 -1.00249976e-01 -2.37811804e-01 -2.08221748e-01\n",
            "  -1.88886791e-01  1.54988945e-01]\n",
            " [ 6.75629973e-02  1.98079616e-01  1.86510742e-01 -1.56817824e-01\n",
            "   7.80643821e-02 -8.71461481e-02 -2.28002548e-01 -2.64804065e-01\n",
            "   1.82089448e-01 -4.55746055e-03]\n",
            " [-1.86976463e-01 -2.43748277e-02  2.28043646e-01  1.51165813e-01\n",
            "  -9.11360383e-02 -2.23239362e-02  1.22433215e-01  1.66577131e-01\n",
            "  -9.92056131e-02 -9.49955583e-02]\n",
            " [ 1.73684716e-01  2.08187789e-01 -1.54639304e-01  1.83339268e-01\n",
            "  -1.70946121e-04  2.24077523e-01 -1.00331411e-01  1.01626158e-01\n",
            "   2.28720814e-01 -1.74358815e-01]\n",
            " [-1.94035381e-01  1.62987769e-01  4.17048335e-02 -1.02443039e-01\n",
            "   1.38134956e-02  2.81744599e-02  8.85541737e-02 -4.47503328e-02\n",
            "  -1.12340793e-01  9.25811529e-02]\n",
            " [ 5.56639731e-02  1.57669336e-01 -1.22800633e-01 -1.94864944e-01\n",
            "   1.54404879e-01  6.91530108e-02  7.95215964e-02  2.65509456e-01\n",
            "  -2.53754884e-01  1.32942200e-01]\n",
            " [ 1.88147575e-01  1.99180692e-01 -2.31766179e-01 -8.40818882e-03\n",
            "   2.52899230e-02 -8.87396932e-03  2.45466799e-01 -2.60291606e-01\n",
            "   2.25660384e-01 -8.45736265e-03]\n",
            " [-2.17556223e-01  6.78988695e-02  1.49666518e-01  1.25604123e-01\n",
            "  -8.82295072e-02 -7.48418719e-02 -2.38308251e-01 -7.77726769e-02\n",
            "  -1.02749139e-01  1.12415284e-01]\n",
            " [ 1.69895530e-01  2.24926263e-01  1.69659019e-01  1.80902869e-01\n",
            "   7.04085529e-02  2.24225044e-01  1.39383405e-01 -9.17968750e-02\n",
            "   1.53609902e-01 -4.51613963e-02]\n",
            " [ 1.30311847e-02 -2.49606833e-01  1.02177054e-01 -7.44537562e-02\n",
            "  -6.17863387e-02 -1.92525595e-01 -2.65664399e-01 -1.84383377e-01\n",
            "  -2.79963613e-02 -1.24571919e-01]\n",
            " [-2.35474676e-01 -1.98345527e-01  1.78533256e-01  7.67014623e-02\n",
            "   4.54536080e-02  6.29898906e-03 -2.64730901e-01  1.66118741e-01\n",
            "  -7.48790801e-02  2.66954452e-01]\n",
            " [-8.64154696e-02  1.58403516e-01 -1.83899105e-01  1.00025892e-01\n",
            "  -2.53987968e-01  1.34717673e-01  1.47542357e-02 -2.29458690e-01\n",
            "  -2.05130726e-02  1.49902731e-01]\n",
            " [ 8.39753151e-02 -4.68883365e-02 -1.36646330e-02 -3.70685011e-02\n",
            "   1.47510171e-01  1.90849364e-01 -7.73100704e-02  1.96613222e-01\n",
            "   1.52036846e-01 -1.11743033e-01]\n",
            " [-2.90955305e-02 -2.20828563e-01  2.17979074e-01  7.90399313e-02\n",
            "  -2.01079756e-01 -1.14259660e-01  1.19666576e-01 -6.27559423e-03\n",
            "  -1.39520004e-01  9.41673815e-02]\n",
            " [-1.24849811e-01  2.34211832e-01  1.62833631e-01 -1.59140885e-01\n",
            "   2.31996715e-01  1.97735399e-01  6.96172714e-02 -5.03455251e-02\n",
            "  -2.39976883e-01 -1.15703359e-01]\n",
            " [ 4.49286699e-02 -1.26320407e-01  2.22019494e-01 -3.76893282e-02\n",
            "   1.28227741e-01  9.54206884e-02 -9.37342942e-02 -2.26879612e-01\n",
            "   1.01683736e-02  2.44802445e-01]\n",
            " [-2.43736237e-01  8.02158117e-02  1.94946557e-01 -1.08629555e-01\n",
            "  -2.58924037e-01 -2.40833282e-01  1.39471889e-01  7.28880763e-02\n",
            "   1.68671489e-01  1.86566949e-01]\n",
            " [ 1.67401791e-01  5.03224730e-02  2.28636324e-01  1.98174000e-01\n",
            "   4.47733402e-02  2.55364090e-01  1.77058190e-01 -1.06443122e-01\n",
            "  -2.54742354e-01  2.21022666e-02]\n",
            " [ 7.14934468e-02  1.85600430e-01  1.06927454e-02  6.65974617e-02\n",
            "  -9.03026462e-02 -3.84463817e-02  1.38592750e-01 -1.18750200e-01\n",
            "   2.31472313e-01  1.18646264e-01]\n",
            " [-1.89470947e-02  2.25822955e-01 -6.94248974e-02  1.18516862e-01\n",
            "  -2.51273304e-01  3.80990505e-02 -1.04997888e-01 -1.06457770e-02\n",
            "  -1.03337660e-01  8.50700736e-02]\n",
            " [-1.64397329e-01  1.96760595e-02  5.37071526e-02  1.21305555e-01\n",
            "   4.41504717e-02 -1.42547846e-01 -1.74815238e-01 -1.44007683e-01\n",
            "   1.50071859e-01  1.26993090e-01]\n",
            " [ 2.04838395e-01 -3.56405973e-02 -2.23094255e-01 -8.88946205e-02\n",
            "   1.96196824e-01 -2.12292820e-01 -9.25898701e-02  1.02039874e-01\n",
            "  -3.08221579e-03 -2.48041108e-01]\n",
            " [ 1.88816518e-01 -9.48084146e-02 -1.72850177e-01  7.69197643e-02\n",
            "   1.40347660e-01 -2.25873530e-01 -2.46884972e-01  8.29614699e-02\n",
            "  -2.51152307e-01 -7.29644150e-02]\n",
            " [-3.38000357e-02  2.46724337e-01  2.66665250e-01  2.10211605e-01\n",
            "   1.54142410e-01  2.06972063e-01 -8.64847302e-02  1.38943583e-01\n",
            "   1.60786837e-01 -2.57648438e-01]\n",
            " [ 2.60214776e-01 -7.64235258e-02  2.15620041e-01  1.48532957e-01\n",
            "  -2.80508399e-02 -7.85584748e-02  2.54457802e-01 -2.25358933e-01\n",
            "   2.17218399e-02 -1.46214664e-02]\n",
            " [ 2.16265321e-02  6.74758852e-02 -2.44982734e-01  1.23462886e-01\n",
            "   5.56711257e-02  2.28418440e-01  1.59541219e-01 -3.73010188e-02\n",
            "  -8.97907168e-02 -2.10817903e-01]\n",
            " [-1.38730705e-02  1.66854262e-02  5.66890836e-03  6.00256324e-02\n",
            "   1.83223099e-01 -5.09652048e-02  6.90051615e-02  9.89049673e-02\n",
            "  -2.44534910e-01  2.13338524e-01]\n",
            " [-9.86368507e-02 -5.41996956e-03 -2.32014939e-01  1.76123738e-01\n",
            "  -1.01914033e-01 -5.42878211e-02 -3.58766764e-02 -6.62350804e-02\n",
            "  -1.88675687e-01 -2.55791634e-01]\n",
            " [-9.63426083e-02 -8.26267302e-02  2.37639219e-01  6.73885345e-02\n",
            "   1.79130375e-01 -1.27849624e-01 -2.27809995e-02  1.41646802e-01\n",
            "   3.09417546e-02  2.18904734e-01]\n",
            " [-2.27066949e-01  2.49494165e-01  1.67125136e-01 -2.55707145e-01\n",
            "  -9.83168483e-02 -2.24156350e-01  2.39361852e-01 -8.06896538e-02\n",
            "   2.06053674e-01  6.09275103e-02]\n",
            " [-2.13316798e-01  1.93812162e-01 -1.96006000e-02 -2.47294560e-01\n",
            "  -1.95987433e-01 -7.35669583e-02  2.24738061e-01 -6.79521412e-02\n",
            "   7.99253285e-02 -5.47468662e-05]\n",
            " [-2.65633255e-01 -2.47002155e-01 -1.51328027e-01 -2.11473763e-01\n",
            "  -1.02912396e-01  1.62838429e-01 -1.52479708e-01 -1.40146434e-01\n",
            "   1.00521177e-01  2.79461443e-02]\n",
            " [-1.66979074e-01 -1.64650679e-02  4.37854826e-02  1.73212230e-01\n",
            "  -1.92262739e-01  1.61824822e-02 -6.81115687e-02 -2.96989530e-02\n",
            "   6.27257526e-02  2.60385871e-03]\n",
            " [ 3.50742638e-02  1.72162652e-01 -1.96551993e-01  7.18432069e-02\n",
            "  -7.12748766e-02  1.83320969e-01  1.80182457e-01  1.22460306e-01\n",
            "  -8.53116512e-02  1.76770747e-01]\n",
            " [ 2.41896540e-01  2.52448052e-01  1.26448661e-01  1.63313329e-01\n",
            "  -1.88486949e-01  1.70049995e-01 -8.05886537e-02  6.56575263e-02\n",
            "   3.95692587e-02  3.30889225e-02]\n",
            " [ 1.72531009e-01  2.53227800e-01  6.10827208e-02  2.88900733e-03\n",
            "   2.48130292e-01 -5.35613447e-02  1.41356170e-01 -2.62278914e-01\n",
            "   2.52828866e-01 -1.37876987e-01]\n",
            " [ 4.97239828e-03  1.86782569e-01  9.60384011e-02  1.77242458e-02\n",
            "  -2.01838791e-01  2.52608061e-02 -1.17609739e-01  4.73533571e-02\n",
            "   2.51813859e-01  2.50642300e-02]\n",
            " [ 2.22366452e-01  3.15063000e-02  1.61742806e-01 -5.79359829e-02\n",
            "   9.50853527e-02  3.23152244e-02  2.12060362e-01 -5.86341619e-02\n",
            "  -8.31593126e-02 -8.32262784e-02]\n",
            " [-1.81515723e-01  1.53551280e-01 -1.52635753e-01 -1.02027357e-02\n",
            "   2.36250728e-01  1.48433864e-01  1.30339921e-01 -4.08383608e-02\n",
            "  -1.71773940e-01  2.22129852e-01]\n",
            " [-2.57463187e-01 -9.32338983e-02  8.66828263e-02 -1.58630550e-01\n",
            "  -2.54985631e-01  2.22807974e-01  7.93602467e-02  1.49584204e-01\n",
            "  -5.61889112e-02  2.33853132e-01]\n",
            " [-2.63967156e-01 -2.20036849e-01  2.64741153e-01  3.14722955e-02\n",
            "   1.53087229e-01 -2.67231613e-02  1.66923910e-01 -6.24011010e-02\n",
            "  -1.20969132e-01 -1.76881939e-01]\n",
            " [ 1.77289605e-01 -1.78109184e-01  3.06831002e-02 -1.97614908e-01\n",
            "  -1.18245780e-02 -1.30656928e-01 -1.08296096e-01 -6.72139376e-02\n",
            "   2.13543177e-02  1.72032714e-01]\n",
            " [-1.48140699e-01 -2.01361656e-01 -1.59438193e-01 -1.50178462e-01\n",
            "   8.86354744e-02  1.23148233e-01  2.60412395e-02 -2.00712413e-01\n",
            "   6.21558428e-02 -1.81797147e-02]\n",
            " [-1.22197717e-01  6.69582188e-02 -4.72296178e-02  1.17745161e-01\n",
            "   2.94429362e-02  3.33338976e-03  6.41024113e-03 -2.22147122e-01\n",
            "   1.03798091e-01 -1.44885927e-01]]\n",
            "  Bias:\n",
            "    Ukuran: (10,)\n",
            "    Nilai:\n",
            "[0. 0. 0. 0. 0. 0. 0. 0. 0. 0.]\n"
          ]
        }
      ]
    },
    {
      "cell_type": "code",
      "execution_count": 11,
      "metadata": {
        "id": "RfHd4NJznjOh",
        "colab": {
          "base_uri": "https://localhost:8080/"
        },
        "outputId": "85a12834-19e6-493a-9bb1-03f097f014d8"
      },
      "outputs": [
        {
          "output_type": "stream",
          "name": "stdout",
          "text": [
            "Model: \"sequential\"\n",
            "_________________________________________________________________\n",
            " Layer (type)                Output Shape              Param #   \n",
            "=================================================================\n",
            " flatten (Flatten)           (None, 4056)              0         \n",
            "                                                                 \n",
            " dense (Dense)               (None, 548)               2223236   \n",
            "                                                                 \n",
            " dense_1 (Dense)             (None, 74)                40626     \n",
            "                                                                 \n",
            " dense_2 (Dense)             (None, 10)                750       \n",
            "                                                                 \n",
            "=================================================================\n",
            "Total params: 2264612 (8.64 MB)\n",
            "Trainable params: 2264612 (8.64 MB)\n",
            "Non-trainable params: 0 (0.00 Byte)\n",
            "_________________________________________________________________\n"
          ]
        }
      ],
      "source": [
        "model2f.summary()"
      ]
    },
    {
      "cell_type": "code",
      "execution_count": 12,
      "metadata": {
        "id": "I_Klj8ReYASB",
        "colab": {
          "base_uri": "https://localhost:8080/"
        },
        "outputId": "222c5e1f-c71b-4172-de58-eae0ce1d3a15"
      },
      "outputs": [
        {
          "output_type": "stream",
          "name": "stdout",
          "text": [
            "Epoch 1/20\n",
            "28/28 [==============================] - 4s 113ms/step - loss: 2.0487 - accuracy: 0.2984\n",
            "Epoch 2/20\n",
            "28/28 [==============================] - 2s 77ms/step - loss: 1.9596 - accuracy: 0.3466\n",
            "Epoch 3/20\n",
            "28/28 [==============================] - 2s 76ms/step - loss: 1.9138 - accuracy: 0.3761\n",
            "Epoch 4/20\n",
            "28/28 [==============================] - 2s 77ms/step - loss: 1.9151 - accuracy: 0.3602\n",
            "Epoch 5/20\n",
            "28/28 [==============================] - 2s 83ms/step - loss: 1.8839 - accuracy: 0.3755\n",
            "Epoch 6/20\n",
            "28/28 [==============================] - 3s 120ms/step - loss: 1.8528 - accuracy: 0.4016\n",
            "Epoch 7/20\n",
            "28/28 [==============================] - 2s 77ms/step - loss: 1.8218 - accuracy: 0.3880\n",
            "Epoch 8/20\n",
            "28/28 [==============================] - 2s 79ms/step - loss: 1.7948 - accuracy: 0.4107\n",
            "Epoch 9/20\n",
            "28/28 [==============================] - 2s 78ms/step - loss: 1.7810 - accuracy: 0.4067\n",
            "Epoch 10/20\n",
            "28/28 [==============================] - 3s 107ms/step - loss: 1.7792 - accuracy: 0.3953\n",
            "Epoch 11/20\n",
            "28/28 [==============================] - 3s 105ms/step - loss: 1.7562 - accuracy: 0.4158\n",
            "Epoch 12/20\n",
            "28/28 [==============================] - 2s 77ms/step - loss: 1.7624 - accuracy: 0.3965\n",
            "Epoch 13/20\n",
            "28/28 [==============================] - 2s 79ms/step - loss: 1.7464 - accuracy: 0.4169\n",
            "Epoch 14/20\n",
            "28/28 [==============================] - 3s 112ms/step - loss: 1.7418 - accuracy: 0.4129\n",
            "Epoch 15/20\n",
            "28/28 [==============================] - 3s 97ms/step - loss: 1.6965 - accuracy: 0.4328\n",
            "Epoch 16/20\n",
            "28/28 [==============================] - 5s 170ms/step - loss: 1.6753 - accuracy: 0.4339\n",
            "Epoch 17/20\n",
            "28/28 [==============================] - 4s 153ms/step - loss: 1.6939 - accuracy: 0.4299\n",
            "Epoch 18/20\n",
            "28/28 [==============================] - 2s 79ms/step - loss: 1.6462 - accuracy: 0.4538\n",
            "Epoch 19/20\n",
            "28/28 [==============================] - 3s 98ms/step - loss: 1.6755 - accuracy: 0.4373\n",
            "Epoch 20/20\n",
            "28/28 [==============================] - 3s 108ms/step - loss: 1.6258 - accuracy: 0.4594\n"
          ]
        }
      ],
      "source": [
        "history = model2f.fit(train_generator, epochs=20, verbose = 1)"
      ]
    },
    {
      "cell_type": "markdown",
      "metadata": {
        "id": "6VOcIXg0IvCs"
      },
      "source": [
        "#Matriks Konfusi"
      ]
    },
    {
      "cell_type": "code",
      "execution_count": 19,
      "metadata": {
        "id": "Lz5lA0bDIxJg",
        "colab": {
          "base_uri": "https://localhost:8080/",
          "height": 617
        },
        "outputId": "8b2cf133-055d-45ce-c20d-320306bba8f8"
      },
      "outputs": [
        {
          "output_type": "stream",
          "name": "stdout",
          "text": [
            "7/7 [==============================] - 0s 35ms/step\n"
          ]
        },
        {
          "output_type": "display_data",
          "data": {
            "text/plain": [
              "<Figure size 800x600 with 2 Axes>"
            ],
            "image/png": "[encoded data removed]"
          },
          "metadata": {}
        }
      ],
      "source": [
        "from sklearn.metrics import confusion_matrix, classification_report\n",
        "import seaborn as sns\n",
        "import matplotlib.pyplot as plt\n",
        "\n",
        "# Fungsi untuk mendapatkan prediksi model dan label sebenarnya\n",
        "def get_predictions_and_labels(model, data_generator):\n",
        "    predictions = model.predict(data_generator)\n",
        "    true_classes = data_generator.classes\n",
        "    return predictions, true_classes\n",
        "\n",
        "# Mendapatkan prediksi dan label sebenarnya untuk data uji\n",
        "y_pred_prob, y_true = get_predictions_and_labels(model2f, test_generator)\n",
        "y_pred = np.argmax(y_pred_prob, axis=1)\n",
        "\n",
        "# Membuat matriks konfusi\n",
        "cf_matrix = confusion_matrix(y_true, y_pred)\n",
        "\n",
        "# Membuat visualisasi matriks konfusi\n",
        "fig, ax = plt.subplots(figsize=(8, 6))\n",
        "sns.heatmap(cf_matrix, annot=True, fmt='g', cmap='Blues', ax=ax)\n",
        "\n",
        "# Menetapkan label dan judul\n",
        "ax.set_title('Confusion Matrix with labels')\n",
        "ax.set_xlabel('Predicted Values')\n",
        "ax.set_ylabel('Actual Values')\n",
        "\n",
        "class_labels = list(test_generator.class_indices.keys())\n",
        "\n",
        "# Menetapkan label pada sumbu x dan y sesuai dengan jenis kelas\n",
        "ax.xaxis.set_ticklabels(class_labels, rotation=45)\n",
        "ax.yaxis.set_ticklabels(class_labels, rotation=45)\n",
        "\n",
        "# Menampilkan visualisasi Matriks Konfusi\n",
        "plt.show()"
      ]
    },
    {
      "cell_type": "code",
      "execution_count": 20,
      "metadata": {
        "id": "S7iwBJlGZEUM",
        "colab": {
          "base_uri": "https://localhost:8080/"
        },
        "outputId": "f3aebe0e-3163-4f3d-e4c3-7a9ae35fca3d"
      },
      "outputs": [
        {
          "output_type": "stream",
          "name": "stdout",
          "text": [
            "Test Accuracy: 0.2651685393258427\n"
          ]
        }
      ],
      "source": [
        "from sklearn.metrics import accuracy_score\n",
        "\n",
        "test_accuracy = accuracy_score(y_true, y_pred)\n",
        "print(f\"Test Accuracy: {test_accuracy}\")"
      ]
    }
  ],
  "metadata": {
    "colab": {
      "provenance": [],
      "include_colab_link": true
    },
    "kernelspec": {
      "display_name": "Python 3",
      "name": "python3"
    },
    "language_info": {
      "name": "python"
    }
  },
  "nbformat": 4,
  "nbformat_minor": 0
}