{
  "nbformat": 4,
  "nbformat_minor": 0,
  "metadata": {
    "colab": {
      "provenance": [],
      "authorship_tag": "ABX9TyNGklEcwq45XalnJOjT226F",
      "include_colab_link": true
    },
    "kernelspec": {
      "name": "python3",
      "display_name": "Python 3"
    },
    "language_info": {
      "name": "python"
    }
  },
  "cells": [
    {
      "cell_type": "markdown",
      "metadata": {
        "id": "view-in-github",
        "colab_type": "text"
      },
      "source": [
        "<a href=\"https://colab.research.google.com/github/novtryrezki/Terbaru/blob/main/1CNN_bs_64_ep_20NonAug.ipynb\" target=\"_parent\"><img src=\"https://colab.research.google.com/assets/colab-badge.svg\" alt=\"Open In Colab\"/></a>"
      ]
    },
    {
      "cell_type": "code",
      "execution_count": 1,
      "metadata": {
        "id": "Gj0QELQHjUVZ"
      },
      "outputs": [],
      "source": [
        "import os\n",
        "import zipfile\n",
        "import random\n",
        "import shutil\n",
        "import numpy as np\n",
        "import tensorflow as tf\n",
        "import pandas as pd\n",
        "from google.colab import drive\n",
        "from sklearn.model_selection import train_test_split"
      ]
    },
    {
      "cell_type": "code",
      "source": [
        "# Melakukan mount pada Google Drive\n",
        "drive.mount('/content/drive')\n",
        "\n",
        "# Menentukan path file ZIP di Google Drive\n",
        "zip_path = '/content/drive/MyDrive/images.zip'\n",
        "\n",
        "# Membuat objek zip_ref\n",
        "zip_ref = zipfile.ZipFile(zip_path, 'r')\n",
        "\n",
        "# Mengekstrak file ZIP\n",
        "extract_path ='/content/images'\n",
        "zip_ref.extractall(extract_path)\n",
        "\n",
        "# Tutup objek zip_ref setelah selesai\n",
        "zip_ref.close()"
      ],
      "metadata": {
        "colab": {
          "base_uri": "https://localhost:8080/"
        },
        "id": "HXtZwYwdjXH4",
        "outputId": "5d4ea32d-ba6a-4746-a52b-a009d75e0299"
      },
      "execution_count": 2,
      "outputs": [
        {
          "output_type": "stream",
          "name": "stdout",
          "text": [
            "Mounted at /content/drive\n"
          ]
        }
      ]
    },
    {
      "cell_type": "code",
      "source": [
        "# Mendefinisikan path direktori dataset\n",
        "dataset_dir = os.path.join(extract_path, 'images')\n",
        "train_dir = os.path.join(dataset_dir, 'train')\n",
        "test_dir = os.path.join(dataset_dir, 'test')\n",
        "list_train = sorted(os.listdir(train_dir))\n",
        "list_test = sorted(os.listdir(test_dir))\n",
        "\n",
        "print(\"Daftar Angka pada Dataset Train yaitu : \", list_train)\n",
        "print(\"Daftar Angka pada Dataset Test yaitu : \", list_test)"
      ],
      "metadata": {
        "colab": {
          "base_uri": "https://localhost:8080/"
        },
        "id": "P9SpMwZxCMpv",
        "outputId": "4581bfdd-2780-4afa-f5bd-32f090e7a6fa"
      },
      "execution_count": 3,
      "outputs": [
        {
          "output_type": "stream",
          "name": "stdout",
          "text": [
            "Daftar Angka pada Dataset Train yaitu :  ['angka 0', 'angka 1', 'angka 2', 'angka 3', 'angka 4', 'angka 5', 'angka 6', 'angka 7', 'angka 8', 'angka 9']\n",
            "Daftar Angka pada Dataset Test yaitu :  ['angka 0', 'angka 1', 'angka 2', 'angka 3', 'angka 4', 'angka 5', 'angka 6', 'angka 7', 'angka 8', 'angka 9']\n"
          ]
        }
      ]
    },
    {
      "cell_type": "code",
      "source": [
        "def count_images(directory):\n",
        "    return sum(1 for file in os.listdir(directory) if file.endswith(('.jpg', '.jpeg', '.png', '.gif')))\n",
        "\n",
        "# Menghitung jumlah gambar di data train\n",
        "train_image_count = sum(count_images(os.path.join(train_dir, angka)) for angka in list_train)\n",
        "\n",
        "# Menghitung jumlah gambar di data test\n",
        "test_image_count = sum(count_images(os.path.join(test_dir, angka)) for angka in list_test)\n",
        "\n",
        "print(f\"Jumlah gambar di Dataset Train: {train_image_count}\")\n",
        "print(f\"Jumlah gambar di Dataset Test: {test_image_count}\")"
      ],
      "metadata": {
        "colab": {
          "base_uri": "https://localhost:8080/"
        },
        "id": "JycQg0kGCHHe",
        "outputId": "01a76ad8-f1eb-4c7d-8374-744020f2ce9d"
      },
      "execution_count": 4,
      "outputs": [
        {
          "output_type": "stream",
          "name": "stdout",
          "text": [
            "Jumlah gambar di Dataset Train: 1763\n",
            "Jumlah gambar di Dataset Test: 445\n"
          ]
        }
      ]
    },
    {
      "cell_type": "markdown",
      "source": [
        "# Preprocessing"
      ],
      "metadata": {
        "id": "Cs-YBymEElj8"
      }
    },
    {
      "cell_type": "code",
      "source": [
        "import cv2\n",
        "\n",
        "def resize_images(directory, target_resolution):\n",
        "    for angka in os.listdir(directory):\n",
        "        angka_dir = os.path.join(directory, angka)\n",
        "        for file_name in os.listdir(angka_dir):\n",
        "            file_path = os.path.join(angka_dir, file_name)\n",
        "            img = cv2.imread(file_path)\n",
        "            resized_img = cv2.resize(img, (target_resolution[0], target_resolution[1]))\n",
        "            cv2.imwrite(file_path, resized_img)\n",
        "\n",
        "target_resolution = (52, 78)\n",
        "resize_images(train_dir, target_resolution)\n",
        "resize_images(test_dir, target_resolution)"
      ],
      "metadata": {
        "id": "j-iPjxpXF_bf"
      },
      "execution_count": 5,
      "outputs": []
    },
    {
      "cell_type": "code",
      "source": [
        "from tensorflow.keras.preprocessing.image import ImageDataGenerator\n",
        "\n",
        "# Membuat generator data dengan augmentasi\n",
        "image_size = (52, 78)\n",
        "batch_size = 64\n",
        "\n",
        "train_datagen = ImageDataGenerator(\n",
        "    rescale = 1./255,\n",
        ")\n",
        "\n",
        "test_datagen = ImageDataGenerator(\n",
        "    rescale=1./255,\n",
        ")\n",
        "\n",
        "train_generator = train_datagen.flow_from_directory(\n",
        "    train_dir,\n",
        "    target_size=image_size,\n",
        "    batch_size=batch_size,\n",
        "    class_mode='categorical',\n",
        "    color_mode='grayscale'\n",
        ")\n",
        "\n",
        "test_generator = test_datagen.flow_from_directory(\n",
        "    test_dir,\n",
        "    target_size=image_size,\n",
        "    batch_size=batch_size,\n",
        "    class_mode='categorical',\n",
        "    color_mode='grayscale'\n",
        ")"
      ],
      "metadata": {
        "colab": {
          "base_uri": "https://localhost:8080/"
        },
        "id": "MrR6ROkiF9Uj",
        "outputId": "9424b84c-525a-42f8-c73c-0e2be9b1a2a9"
      },
      "execution_count": 6,
      "outputs": [
        {
          "output_type": "stream",
          "name": "stdout",
          "text": [
            "Found 1763 images belonging to 10 classes.\n",
            "Found 445 images belonging to 10 classes.\n"
          ]
        }
      ]
    },
    {
      "cell_type": "markdown",
      "source": [
        "# Membuat Model CNN"
      ],
      "metadata": {
        "id": "gPqE7ywQJ01c"
      }
    },
    {
      "cell_type": "code",
      "source": [
        "from tensorflow.keras.models import Sequential\n",
        "from tensorflow.keras.layers import Conv2D, AveragePooling2D, Flatten, Dense\n",
        "import math\n",
        "\n",
        "img_size = 52*78*1\n",
        "\n",
        "# Perhitungan jumlah neuron pada lapisan tersembunyi\n",
        "hidden_neurons = 201\n",
        "\n",
        "model1c = Sequential()\n",
        "model1c.add(Conv2D(32, (3, 3), activation='relu', input_shape=(52, 78, 1)))\n",
        "model1c.add(AveragePooling2D((2, 2)))\n",
        "model1c.add(Conv2D(64, (3, 3), activation='relu'))\n",
        "model1c.add(AveragePooling2D((2, 2)))\n",
        "model1c.add(Flatten())\n",
        "model1c.add(Dense(hidden_neurons, activation='relu'))\n",
        "model1c.add(Dense(10, activation='softmax'))\n",
        "\n",
        "model1c.compile(optimizer='SGD', loss='categorical_crossentropy', metrics=['accuracy'])"
      ],
      "metadata": {
        "id": "SvNzs3QB71R6"
      },
      "execution_count": 15,
      "outputs": []
    },
    {
      "cell_type": "code",
      "source": [
        "# Mendapatkan bobot dari model\n",
        "weights = []\n",
        "for layer in model1c.layers:\n",
        "    weights.append(layer.get_weights())\n",
        "\n",
        "print(\"Bobot dari model:\")\n",
        "for i, layer_weights in enumerate(weights):\n",
        "    print(\"Layer\", i+1)\n",
        "    for j, w in enumerate(layer_weights):\n",
        "        print(\"  Bobot {}: {}\".format(j+1, w.shape))"
      ],
      "metadata": {
        "id": "s-0vjqD9Jdew",
        "outputId": "8ab2238f-ccc1-4bc8-c618-5deb2b5442bf",
        "colab": {
          "base_uri": "https://localhost:8080/"
        }
      },
      "execution_count": 16,
      "outputs": [
        {
          "output_type": "stream",
          "name": "stdout",
          "text": [
            "Bobot dari model:\n",
            "Layer 1\n",
            "  Bobot 1: (3, 3, 1, 32)\n",
            "  Bobot 2: (32,)\n",
            "Layer 2\n",
            "Layer 3\n",
            "  Bobot 1: (3, 3, 32, 64)\n",
            "  Bobot 2: (64,)\n",
            "Layer 4\n",
            "Layer 5\n",
            "Layer 6\n",
            "  Bobot 1: (12672, 201)\n",
            "  Bobot 2: (201,)\n",
            "Layer 7\n",
            "  Bobot 1: (201, 10)\n",
            "  Bobot 2: (10,)\n"
          ]
        }
      ]
    },
    {
      "cell_type": "code",
      "source": [
        "# Menampilkan matriks bobot dan vektor bias dari setiap layer\n",
        "for i, layer in enumerate(model1c.layers):\n",
        "    weights = layer.get_weights()\n",
        "    if weights:\n",
        "        print(\"Layer\", i+1)\n",
        "        for j, w in enumerate(weights):\n",
        "            if j == 0:\n",
        "                print(\"  Bobot:\")\n",
        "            else:\n",
        "                print(\"  Bias:\")\n",
        "            print(\"    Ukuran:\", w.shape)\n",
        "            print(\"    Nilai:\")\n",
        "            print(w)"
      ],
      "metadata": {
        "id": "ts5zaL-JJmKd",
        "outputId": "05e29d12-acfb-4974-87bc-2e34475a0979",
        "colab": {
          "base_uri": "https://localhost:8080/"
        }
      },
      "execution_count": 17,
      "outputs": [
        {
          "output_type": "stream",
          "name": "stdout",
          "text": [
            "Layer 1\n",
            "  Bobot:\n",
            "    Ukuran: (3, 3, 1, 32)\n",
            "    Nilai:\n",
            "[[[[ 0.00669584 -0.02615062  0.0502854   0.0717902  -0.07962377\n",
            "     0.10435513  0.03881562  0.05844794  0.04831101 -0.07915328\n",
            "    -0.00743085  0.02731618 -0.10003001 -0.05704273  0.02001908\n",
            "    -0.00360161  0.00422809 -0.10452937  0.07533878 -0.11289084\n",
            "    -0.03249789 -0.09400698 -0.0098988   0.06949647  0.1044354\n",
            "     0.08109915 -0.06492249 -0.06194233 -0.00549622 -0.069607\n",
            "     0.04445934 -0.11993049]]\n",
            "\n",
            "  [[-0.02434304  0.03487286 -0.08755907 -0.01721172  0.01077285\n",
            "     0.06226088  0.10782878  0.12248324 -0.01337968  0.10158402\n",
            "    -0.00590135 -0.07527724  0.13056277  0.13825206 -0.10118669\n",
            "     0.05417007  0.11025052  0.13174559  0.06920534 -0.01131807\n",
            "    -0.06455041 -0.1105559   0.08914974  0.089755   -0.05585437\n",
            "    -0.06182935  0.09793307 -0.00518164 -0.05220203  0.0547365\n",
            "    -0.06277559 -0.05565149]]\n",
            "\n",
            "  [[-0.09357556  0.09243488 -0.02115932  0.08813627  0.0888148\n",
            "    -0.09583263 -0.10321464 -0.04948084  0.03722003 -0.02756695\n",
            "     0.0673129   0.04280663 -0.07909811  0.04407035  0.02181487\n",
            "     0.10476804  0.09441471 -0.07379894  0.12349792  0.12147658\n",
            "     0.0885763   0.09400319  0.01966245 -0.12505545 -0.01179293\n",
            "     0.1111653  -0.03306703 -0.07330924  0.04435077 -0.0033132\n",
            "     0.10329577  0.1013543 ]]]\n",
            "\n",
            "\n",
            " [[[-0.09613019  0.08383495  0.02842979  0.01471327  0.09528348\n",
            "    -0.04036884  0.10159923  0.07613316 -0.01629849  0.0182928\n",
            "     0.13964309 -0.06144246  0.1093324  -0.03518214  0.1400866\n",
            "     0.07576315  0.02904335 -0.02739982  0.11375003 -0.06258561\n",
            "     0.13571824  0.07268439 -0.03938658 -0.12769848  0.00098866\n",
            "     0.07245232 -0.08992528 -0.10577036  0.02932119 -0.14064908\n",
            "    -0.02566129  0.0091695 ]]\n",
            "\n",
            "  [[ 0.10477705  0.12931915  0.05988073  0.00239356  0.07657726\n",
            "    -0.0625169   0.12732472  0.11711623 -0.04068793 -0.0683426\n",
            "     0.03257814 -0.12919956  0.02009845 -0.06022357  0.00170806\n",
            "     0.0238044  -0.00284925  0.12723874  0.1414754   0.13111524\n",
            "     0.03732128 -0.11326617 -0.03291389  0.1005592  -0.07261881\n",
            "     0.03682162 -0.05596847 -0.0133466   0.09452319 -0.0036657\n",
            "    -0.02059781 -0.03089709]]\n",
            "\n",
            "  [[-0.06242889  0.07685237  0.05560124  0.10488583 -0.05474175\n",
            "    -0.10955977  0.10890047 -0.0173655   0.11118309 -0.08603871\n",
            "     0.05724579  0.03813559 -0.04955298  0.08087292  0.01348785\n",
            "     0.04736854 -0.01094554 -0.08206396 -0.07881477 -0.11068942\n",
            "    -0.05939143  0.08939932  0.12893318  0.05625939  0.07223636\n",
            "     0.04759592  0.02959298 -0.03319096 -0.02668171  0.09554946\n",
            "    -0.0273803   0.07907493]]]\n",
            "\n",
            "\n",
            " [[[ 0.09354539  0.05319801 -0.06882936 -0.03286574 -0.04919101\n",
            "    -0.06412952 -0.00128409 -0.13558516  0.02921157 -0.09651701\n",
            "     0.05412225  0.05464981 -0.13764764  0.09560551 -0.05328476\n",
            "     0.12146528 -0.02260513 -0.04501598 -0.01717245 -0.14202212\n",
            "     0.1126435   0.02203734 -0.06714757 -0.00280611 -0.03929362\n",
            "     0.03603828 -0.02014934  0.13931467  0.10360554 -0.09810589\n",
            "    -0.12038831 -0.11289822]]\n",
            "\n",
            "  [[-0.11222587 -0.12497208 -0.04304401 -0.13427612 -0.01293778\n",
            "    -0.06284353  0.02800752 -0.11155425 -0.13994694  0.02712817\n",
            "     0.10329136 -0.00568596  0.0380684  -0.13580929  0.12104242\n",
            "    -0.1021969  -0.01712151 -0.05732427 -0.03750037 -0.01077336\n",
            "    -0.12188803  0.11399756 -0.00104827 -0.02195767  0.00432585\n",
            "     0.11888589  0.07133831 -0.08101346  0.03524444  0.09989859\n",
            "    -0.05496188 -0.12966532]]\n",
            "\n",
            "  [[-0.02892668 -0.02210908  0.13255079 -0.13090649 -0.01462311\n",
            "     0.08437169  0.07058913  0.06708318 -0.03695483 -0.11327231\n",
            "     0.11258145 -0.06184325  0.11858411  0.109964   -0.08268657\n",
            "     0.08576408 -0.03986588 -0.02305617 -0.06109241 -0.01576377\n",
            "    -0.11121605  0.08392343 -0.09172019  0.05175059 -0.12593824\n",
            "    -0.08356415 -0.03546958  0.02094184  0.06210889 -0.05370846\n",
            "     0.05663501  0.10372411]]]]\n",
            "  Bias:\n",
            "    Ukuran: (32,)\n",
            "    Nilai:\n",
            "[0. 0. 0. 0. 0. 0. 0. 0. 0. 0. 0. 0. 0. 0. 0. 0. 0. 0. 0. 0. 0. 0. 0. 0.\n",
            " 0. 0. 0. 0. 0. 0. 0. 0.]\n",
            "Layer 3\n",
            "  Bobot:\n",
            "    Ukuran: (3, 3, 32, 64)\n",
            "    Nilai:\n",
            "[[[[ 0.00281479 -0.06738359 -0.01634643 ... -0.08002464 -0.07159015\n",
            "    -0.08033451]\n",
            "   [-0.05079828  0.02841798 -0.06170384 ...  0.03925566  0.03812893\n",
            "     0.03557362]\n",
            "   [-0.07430588  0.03775343 -0.04786782 ... -0.00068456  0.08129772\n",
            "    -0.06134675]\n",
            "   ...\n",
            "   [-0.0542687  -0.05715972  0.04390893 ... -0.01192369  0.04110205\n",
            "     0.07858417]\n",
            "   [-0.02839128 -0.02008232 -0.01311048 ... -0.02965758  0.00639049\n",
            "    -0.06183064]\n",
            "   [-0.07594721  0.02633337 -0.07979771 ... -0.04739326 -0.06225717\n",
            "    -0.02140301]]\n",
            "\n",
            "  [[ 0.02621534 -0.01949304  0.06744165 ... -0.05808216 -0.04469619\n",
            "    -0.07429928]\n",
            "   [-0.00991162  0.05326559  0.02348596 ... -0.08054676 -0.07640626\n",
            "     0.07254378]\n",
            "   [-0.04142976  0.06081691 -0.06973436 ...  0.06097648  0.01896401\n",
            "    -0.03935441]\n",
            "   ...\n",
            "   [-0.00564887  0.065767   -0.01895729 ...  0.01250851  0.08314956\n",
            "     0.07153782]\n",
            "   [ 0.02791929 -0.06425371 -0.00125104 ... -0.00872026 -0.04167598\n",
            "    -0.00770435]\n",
            "   [-0.00375134 -0.05601998  0.02783845 ... -0.02873769  0.08314497\n",
            "     0.03714192]]\n",
            "\n",
            "  [[-0.03392377 -0.00822929 -0.0259672  ... -0.01063808 -0.02019387\n",
            "    -0.03744785]\n",
            "   [ 0.02380941 -0.00182394  0.05273918 ... -0.0367954   0.04714078\n",
            "     0.0406427 ]\n",
            "   [ 0.03636209  0.00575504 -0.01411843 ... -0.04037941  0.02243284\n",
            "     0.05564173]\n",
            "   ...\n",
            "   [ 0.00800218  0.00380697 -0.04912718 ...  0.06274445 -0.03338049\n",
            "     0.03155067]\n",
            "   [-0.03537148  0.03389657 -0.00146864 ... -0.02385287 -0.06914596\n",
            "     0.04205414]\n",
            "   [-0.01274097  0.02180519 -0.07204726 ...  0.06898721  0.04532967\n",
            "    -0.01996436]]]\n",
            "\n",
            "\n",
            " [[[ 0.02887803 -0.03541958 -0.0565502  ... -0.05486667 -0.02061627\n",
            "    -0.0581494 ]\n",
            "   [-0.06426275 -0.05419075 -0.06187487 ...  0.07688553 -0.01343983\n",
            "    -0.01042559]\n",
            "   [-0.04273921  0.05616359 -0.01083308 ...  0.05056544  0.04621834\n",
            "    -0.06405519]\n",
            "   ...\n",
            "   [ 0.04855218 -0.02709089 -0.0545873  ...  0.06141127 -0.07992743\n",
            "     0.02588814]\n",
            "   [ 0.08239449 -0.03228317  0.01587411 ...  0.0811883   0.00744563\n",
            "    -0.0649693 ]\n",
            "   [-0.04790082 -0.08302628 -0.08262067 ... -0.04356323 -0.00698483\n",
            "     0.00132313]]\n",
            "\n",
            "  [[ 0.06058355 -0.01111671  0.00333794 ...  0.02453855 -0.08280753\n",
            "    -0.04474173]\n",
            "   [-0.03574246  0.0309355   0.01724539 ...  0.04031345  0.06023789\n",
            "     0.00482895]\n",
            "   [ 0.03924759  0.05017785 -0.0602598  ...  0.06419864  0.03146998\n",
            "    -0.047414  ]\n",
            "   ...\n",
            "   [-0.07517791 -0.08332893  0.01943449 ...  0.02551556 -0.05781875\n",
            "     0.00565445]\n",
            "   [ 0.02474799  0.04353376  0.04929627 ...  0.02089301  0.00855217\n",
            "    -0.01409187]\n",
            "   [-0.02081814 -0.05136631  0.04359815 ...  0.0684075  -0.0427177\n",
            "     0.05360999]]\n",
            "\n",
            "  [[ 0.01518206  0.02524187  0.03339341 ... -0.02649532  0.04648039\n",
            "     0.06341126]\n",
            "   [-0.04806811  0.07977343  0.0649533  ...  0.04961369 -0.0595604\n",
            "     0.07444043]\n",
            "   [-0.01609024 -0.06799048  0.04301361 ... -0.04422468 -0.02908119\n",
            "     0.04952718]\n",
            "   ...\n",
            "   [-0.04075909 -0.05947268  0.00405729 ... -0.0637027   0.01024282\n",
            "     0.02311277]\n",
            "   [ 0.02562024  0.06138641 -0.03432546 ... -0.04762119 -0.04625225\n",
            "    -0.02943723]\n",
            "   [-0.00403335 -0.04127779 -0.03839628 ... -0.00879455 -0.03265562\n",
            "    -0.0501471 ]]]\n",
            "\n",
            "\n",
            " [[[ 0.05575613  0.00744937  0.04633988 ...  0.00332984 -0.0479732\n",
            "     0.00229069]\n",
            "   [ 0.03450833 -0.01769235  0.05338413 ...  0.07688477 -0.0597873\n",
            "     0.01966705]\n",
            "   [ 0.02994958  0.07544055 -0.03816372 ...  0.0406844   0.04617401\n",
            "    -0.04961705]\n",
            "   ...\n",
            "   [ 0.05011835  0.06663872  0.07251034 ...  0.05027521  0.02640239\n",
            "     0.06928597]\n",
            "   [-0.02105687 -0.0604105   0.06880219 ...  0.05644944 -0.06721755\n",
            "    -0.05675083]\n",
            "   [ 0.07778881  0.07521028  0.02688579 ...  0.07678279 -0.00436147\n",
            "     0.05124738]]\n",
            "\n",
            "  [[-0.03272577 -0.02626616 -0.03318169 ...  0.08046236 -0.03210499\n",
            "     0.0505142 ]\n",
            "   [-0.00906976 -0.05845859 -0.05776072 ... -0.06918919  0.06822211\n",
            "    -0.05195302]\n",
            "   [ 0.03992164  0.05589636  0.03023654 ...  0.01033805 -0.06586044\n",
            "     0.03514206]\n",
            "   ...\n",
            "   [-0.06066877  0.00295082 -0.06045628 ... -0.03337795 -0.041246\n",
            "     0.01193783]\n",
            "   [-0.06341332 -0.04193547 -0.03125384 ... -0.0509125   0.02105502\n",
            "    -0.03644107]\n",
            "   [ 0.03824824  0.07565404 -0.04512982 ... -0.00919767 -0.07099688\n",
            "    -0.00875739]]\n",
            "\n",
            "  [[ 0.0401662  -0.05905132  0.08190341 ... -0.06756525  0.00988489\n",
            "     0.0609263 ]\n",
            "   [ 0.01798496 -0.07633881  0.03140944 ... -0.06738786  0.01879355\n",
            "     0.05573419]\n",
            "   [ 0.02209789 -0.03432882 -0.01666614 ... -0.06893071 -0.01805089\n",
            "     0.03717738]\n",
            "   ...\n",
            "   [ 0.01724366  0.06826886  0.00101499 ...  0.03976103  0.01780929\n",
            "     0.07433159]\n",
            "   [ 0.04027019 -0.04474636 -0.06876318 ...  0.01191755  0.01356141\n",
            "     0.02564166]\n",
            "   [-0.04545089  0.04313124  0.07909181 ...  0.06939245 -0.06307273\n",
            "     0.05295116]]]]\n",
            "  Bias:\n",
            "    Ukuran: (64,)\n",
            "    Nilai:\n",
            "[0. 0. 0. 0. 0. 0. 0. 0. 0. 0. 0. 0. 0. 0. 0. 0. 0. 0. 0. 0. 0. 0. 0. 0.\n",
            " 0. 0. 0. 0. 0. 0. 0. 0. 0. 0. 0. 0. 0. 0. 0. 0. 0. 0. 0. 0. 0. 0. 0. 0.\n",
            " 0. 0. 0. 0. 0. 0. 0. 0. 0. 0. 0. 0. 0. 0. 0. 0.]\n",
            "Layer 6\n",
            "  Bobot:\n",
            "    Ukuran: (12672, 201)\n",
            "    Nilai:\n",
            "[[-0.01845004 -0.00721862  0.0077913  ... -0.01790662  0.00089161\n",
            "   0.00213124]\n",
            " [-0.01951799 -0.01013981 -0.01042039 ...  0.00635534 -0.01297407\n",
            "   0.01622098]\n",
            " [ 0.00713542  0.00335399 -0.00322351 ...  0.00021267  0.01096205\n",
            "  -0.01857849]\n",
            " ...\n",
            " [ 0.0081998  -0.00202652 -0.00112591 ...  0.00669283 -0.01609164\n",
            "   0.00346104]\n",
            " [ 0.00171929 -0.00904602 -0.00507379 ... -0.01218306 -0.00558192\n",
            "   0.00374039]\n",
            " [ 0.00365848 -0.00342468 -0.0087514  ...  0.00475466 -0.01759137\n",
            "  -0.01766169]]\n",
            "  Bias:\n",
            "    Ukuran: (201,)\n",
            "    Nilai:\n",
            "[0. 0. 0. 0. 0. 0. 0. 0. 0. 0. 0. 0. 0. 0. 0. 0. 0. 0. 0. 0. 0. 0. 0. 0.\n",
            " 0. 0. 0. 0. 0. 0. 0. 0. 0. 0. 0. 0. 0. 0. 0. 0. 0. 0. 0. 0. 0. 0. 0. 0.\n",
            " 0. 0. 0. 0. 0. 0. 0. 0. 0. 0. 0. 0. 0. 0. 0. 0. 0. 0. 0. 0. 0. 0. 0. 0.\n",
            " 0. 0. 0. 0. 0. 0. 0. 0. 0. 0. 0. 0. 0. 0. 0. 0. 0. 0. 0. 0. 0. 0. 0. 0.\n",
            " 0. 0. 0. 0. 0. 0. 0. 0. 0. 0. 0. 0. 0. 0. 0. 0. 0. 0. 0. 0. 0. 0. 0. 0.\n",
            " 0. 0. 0. 0. 0. 0. 0. 0. 0. 0. 0. 0. 0. 0. 0. 0. 0. 0. 0. 0. 0. 0. 0. 0.\n",
            " 0. 0. 0. 0. 0. 0. 0. 0. 0. 0. 0. 0. 0. 0. 0. 0. 0. 0. 0. 0. 0. 0. 0. 0.\n",
            " 0. 0. 0. 0. 0. 0. 0. 0. 0. 0. 0. 0. 0. 0. 0. 0. 0. 0. 0. 0. 0. 0. 0. 0.\n",
            " 0. 0. 0. 0. 0. 0. 0. 0. 0.]\n",
            "Layer 7\n",
            "  Bobot:\n",
            "    Ukuran: (201, 10)\n",
            "    Nilai:\n",
            "[[ 0.1254127  -0.13916686 -0.04760159 ...  0.10031348 -0.06564399\n",
            "  -0.02415481]\n",
            " [ 0.03362228 -0.04488155  0.13552067 ...  0.08449495 -0.04881198\n",
            "  -0.0885314 ]\n",
            " [ 0.01147082 -0.05302007 -0.00702128 ... -0.04470754 -0.04926983\n",
            "  -0.14785469]\n",
            " ...\n",
            " [-0.06005693 -0.09272709 -0.14687558 ...  0.08371469  0.07103835\n",
            "   0.11591938]\n",
            " [ 0.09874821 -0.10126283 -0.07886447 ...  0.07054484  0.0859296\n",
            "  -0.16212189]\n",
            " [ 0.02694428  0.00629944  0.10501462 ...  0.06349562  0.0208609\n",
            "  -0.10742739]]\n",
            "  Bias:\n",
            "    Ukuran: (10,)\n",
            "    Nilai:\n",
            "[0. 0. 0. 0. 0. 0. 0. 0. 0. 0.]\n"
          ]
        }
      ]
    },
    {
      "cell_type": "code",
      "source": [
        "model1c.summary()"
      ],
      "metadata": {
        "colab": {
          "base_uri": "https://localhost:8080/"
        },
        "id": "RfHd4NJznjOh",
        "outputId": "e71a99ab-b238-4f79-c6d7-0b1f4948b00e"
      },
      "execution_count": 18,
      "outputs": [
        {
          "output_type": "stream",
          "name": "stdout",
          "text": [
            "Model: \"sequential_1\"\n",
            "_________________________________________________________________\n",
            " Layer (type)                Output Shape              Param #   \n",
            "=================================================================\n",
            " conv2d_2 (Conv2D)           (None, 50, 76, 32)        320       \n",
            "                                                                 \n",
            " average_pooling2d_2 (Avera  (None, 25, 38, 32)        0         \n",
            " gePooling2D)                                                    \n",
            "                                                                 \n",
            " conv2d_3 (Conv2D)           (None, 23, 36, 64)        18496     \n",
            "                                                                 \n",
            " average_pooling2d_3 (Avera  (None, 11, 18, 64)        0         \n",
            " gePooling2D)                                                    \n",
            "                                                                 \n",
            " flatten_1 (Flatten)         (None, 12672)             0         \n",
            "                                                                 \n",
            " dense_2 (Dense)             (None, 201)               2547273   \n",
            "                                                                 \n",
            " dense_3 (Dense)             (None, 10)                2020      \n",
            "                                                                 \n",
            "=================================================================\n",
            "Total params: 2568109 (9.80 MB)\n",
            "Trainable params: 2568109 (9.80 MB)\n",
            "Non-trainable params: 0 (0.00 Byte)\n",
            "_________________________________________________________________\n"
          ]
        }
      ]
    },
    {
      "cell_type": "code",
      "source": [
        "history = model1c.fit(train_generator, epochs=20, verbose = 1)"
      ],
      "metadata": {
        "colab": {
          "base_uri": "https://localhost:8080/"
        },
        "id": "I_Klj8ReYASB",
        "outputId": "36d27e78-bccb-4868-c5c2-8f44c6aed8b2"
      },
      "execution_count": 19,
      "outputs": [
        {
          "output_type": "stream",
          "name": "stdout",
          "text": [
            "Epoch 1/20\n",
            "28/28 [==============================] - 8s 277ms/step - loss: 2.1043 - accuracy: 0.3341\n",
            "Epoch 2/20\n",
            "28/28 [==============================] - 6s 214ms/step - loss: 1.9115 - accuracy: 0.4141\n",
            "Epoch 3/20\n",
            "28/28 [==============================] - 7s 241ms/step - loss: 1.7561 - accuracy: 0.4555\n",
            "Epoch 4/20\n",
            "28/28 [==============================] - 7s 237ms/step - loss: 1.5619 - accuracy: 0.5014\n",
            "Epoch 5/20\n",
            "28/28 [==============================] - 6s 216ms/step - loss: 1.4516 - accuracy: 0.5258\n",
            "Epoch 6/20\n",
            "28/28 [==============================] - 8s 274ms/step - loss: 1.2983 - accuracy: 0.5854\n",
            "Epoch 7/20\n",
            "28/28 [==============================] - 6s 212ms/step - loss: 1.2253 - accuracy: 0.6177\n",
            "Epoch 8/20\n",
            "28/28 [==============================] - 8s 278ms/step - loss: 1.1143 - accuracy: 0.6551\n",
            "Epoch 9/20\n",
            "28/28 [==============================] - 6s 213ms/step - loss: 0.9946 - accuracy: 0.6869\n",
            "Epoch 10/20\n",
            "28/28 [==============================] - 8s 274ms/step - loss: 1.0134 - accuracy: 0.6756\n",
            "Epoch 11/20\n",
            "28/28 [==============================] - 6s 211ms/step - loss: 0.8969 - accuracy: 0.7266\n",
            "Epoch 12/20\n",
            "28/28 [==============================] - 8s 280ms/step - loss: 0.8537 - accuracy: 0.7431\n",
            "Epoch 13/20\n",
            "28/28 [==============================] - 6s 211ms/step - loss: 0.8594 - accuracy: 0.7499\n",
            "Epoch 14/20\n",
            "28/28 [==============================] - 8s 271ms/step - loss: 0.7501 - accuracy: 0.7731\n",
            "Epoch 15/20\n",
            "28/28 [==============================] - 6s 213ms/step - loss: 0.7492 - accuracy: 0.7737\n",
            "Epoch 16/20\n",
            "28/28 [==============================] - 8s 272ms/step - loss: 0.7011 - accuracy: 0.7845\n",
            "Epoch 17/20\n",
            "28/28 [==============================] - 6s 214ms/step - loss: 0.6830 - accuracy: 0.7998\n",
            "Epoch 18/20\n",
            "28/28 [==============================] - 8s 262ms/step - loss: 0.6477 - accuracy: 0.8071\n",
            "Epoch 19/20\n",
            "28/28 [==============================] - 6s 214ms/step - loss: 0.6520 - accuracy: 0.8077\n",
            "Epoch 20/20\n",
            "28/28 [==============================] - 8s 273ms/step - loss: 0.6302 - accuracy: 0.8117\n"
          ]
        }
      ]
    },
    {
      "cell_type": "markdown",
      "source": [
        "#Matriks Konfusi"
      ],
      "metadata": {
        "id": "6VOcIXg0IvCs"
      }
    },
    {
      "cell_type": "code",
      "source": [
        "from sklearn.metrics import confusion_matrix, classification_report\n",
        "import seaborn as sns\n",
        "import matplotlib.pyplot as plt\n",
        "\n",
        "# Fungsi untuk mendapatkan prediksi model dan label sebenarnya\n",
        "def get_predictions_and_labels(model, data_generator):\n",
        "    predictions = model.predict(data_generator)\n",
        "    predicted_classes = np.argmax(predictions, axis=1)\n",
        "    true_classes = data_generator.classes\n",
        "    class_labels = list(data_generator.class_indices.keys())\n",
        "    return predicted_classes, true_classes, class_labels\n",
        "\n",
        "# Mendapatkan prediksi dan label sebenarnya untuk data uji\n",
        "y_pred, y_true, class_labels = get_predictions_and_labels(model1c, test_generator)\n",
        "\n",
        "# Membuat matriks konfusi\n",
        "cf_matrix = confusion_matrix(y_true, y_pred)\n",
        "\n",
        "# Membuat visualisasi matriks konfusi\n",
        "fig, ax = plt.subplots(figsize=(8, 6))\n",
        "sns.heatmap(cf_matrix, annot=True, fmt='g', cmap='Blues', ax=ax)\n",
        "\n",
        "# Menetapkan label dan judul\n",
        "ax.set_title('Confusion Matrix with labels')\n",
        "ax.set_xlabel('Predicted Values')\n",
        "ax.set_ylabel('Actual Values')\n",
        "\n",
        "# Menetapkan label pada sumbu x dan y sesuai dengan jenis kelas\n",
        "ax.xaxis.set_ticklabels(class_labels, rotation=45)\n",
        "ax.yaxis.set_ticklabels(class_labels, rotation=45)\n",
        "\n",
        "# Menampilkan visualisasi Matriks Konfusi\n",
        "plt.show()"
      ],
      "metadata": {
        "colab": {
          "base_uri": "https://localhost:8080/",
          "height": 617
        },
        "id": "Lz5lA0bDIxJg",
        "outputId": "62c32e1d-94a5-4605-fb7b-b382e4685992"
      },
      "execution_count": 26,
      "outputs": [
        {
          "output_type": "stream",
          "name": "stdout",
          "text": [
            "7/7 [==============================] - 1s 78ms/step\n"
          ]
        },
        {
          "output_type": "display_data",
          "data": {
            "text/plain": [
              "<Figure size 800x600 with 2 Axes>"
            ],
            "image/png": "[encoded data removed]"
          },
          "metadata": {}
        }
      ]
    },
    {
      "cell_type": "code",
      "source": [
        "from sklearn.metrics import accuracy_score\n",
        "\n",
        "test_accuracy = accuracy_score(y_true, y_pred)\n",
        "print(f\"Test Accuracy: {test_accuracy}\")"
      ],
      "metadata": {
        "colab": {
          "base_uri": "https://localhost:8080/"
        },
        "id": "S7iwBJlGZEUM",
        "outputId": "ff69ba91-3665-4945-a2a6-5079d179d892"
      },
      "execution_count": 27,
      "outputs": [
        {
          "output_type": "stream",
          "name": "stdout",
          "text": [
            "Test Accuracy: 0.19775280898876405\n"
          ]
        }
      ]
    }
  ]
}