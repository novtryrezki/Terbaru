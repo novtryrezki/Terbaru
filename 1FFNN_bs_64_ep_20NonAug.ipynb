{
  "cells": [
    {
      "cell_type": "markdown",
      "metadata": {
        "id": "view-in-github",
        "colab_type": "text"
      },
      "source": [
        "<a href=\"https://colab.research.google.com/github/novtryrezki/Terbaru/blob/main/1FFNN_bs_64_ep_20NonAug.ipynb\" target=\"_parent\"><img src=\"https://colab.research.google.com/assets/colab-badge.svg\" alt=\"Open In Colab\"/></a>"
      ]
    },
    {
      "cell_type": "code",
      "execution_count": 1,
      "metadata": {
        "id": "Gj0QELQHjUVZ"
      },
      "outputs": [],
      "source": [
        "import os\n",
        "import zipfile\n",
        "import random\n",
        "import shutil\n",
        "import numpy as np\n",
        "import tensorflow as tf\n",
        "import pandas as pd\n",
        "from google.colab import drive\n",
        "from sklearn.model_selection import train_test_split"
      ]
    },
    {
      "cell_type": "code",
      "execution_count": 2,
      "metadata": {
        "colab": {
          "base_uri": "https://localhost:8080/"
        },
        "id": "HXtZwYwdjXH4",
        "outputId": "d0f641a5-5839-4360-fea2-2cf77109de86"
      },
      "outputs": [
        {
          "output_type": "stream",
          "name": "stdout",
          "text": [
            "Drive already mounted at /content/drive; to attempt to forcibly remount, call drive.mount(\"/content/drive\", force_remount=True).\n"
          ]
        }
      ],
      "source": [
        "# Melakukan mount pada Google Drive\n",
        "drive.mount('/content/drive')\n",
        "\n",
        "# Menentukan path file ZIP di Google Drive\n",
        "zip_path = '/content/drive/MyDrive/images.zip'\n",
        "\n",
        "# Membuat objek zip_ref\n",
        "zip_ref = zipfile.ZipFile(zip_path, 'r')\n",
        "\n",
        "# Mengekstrak file ZIP\n",
        "extract_path ='/content/images'\n",
        "zip_ref.extractall(extract_path)\n",
        "\n",
        "# Tutup objek zip_ref setelah selesai\n",
        "zip_ref.close()"
      ]
    },
    {
      "cell_type": "code",
      "execution_count": 3,
      "metadata": {
        "colab": {
          "base_uri": "https://localhost:8080/"
        },
        "id": "P9SpMwZxCMpv",
        "outputId": "5d3f27d9-6545-475b-e695-b8fb7683fba4"
      },
      "outputs": [
        {
          "output_type": "stream",
          "name": "stdout",
          "text": [
            "Daftar Angka pada Dataset Train yaitu :  ['angka 0', 'angka 1', 'angka 2', 'angka 3', 'angka 4', 'angka 5', 'angka 6', 'angka 7', 'angka 8', 'angka 9']\n",
            "Daftar Angka pada Dataset Test yaitu :  ['angka 0', 'angka 1', 'angka 2', 'angka 3', 'angka 4', 'angka 5', 'angka 6', 'angka 7', 'angka 8', 'angka 9']\n"
          ]
        }
      ],
      "source": [
        "# Mendefinisikan path direktori dataset\n",
        "dataset_dir = os.path.join(extract_path, 'images')\n",
        "train_dir = os.path.join(dataset_dir, 'train')\n",
        "test_dir = os.path.join(dataset_dir, 'test')\n",
        "list_train = sorted(os.listdir(train_dir))\n",
        "list_test = sorted(os.listdir(test_dir))\n",
        "\n",
        "print(\"Daftar Angka pada Dataset Train yaitu : \", list_train)\n",
        "print(\"Daftar Angka pada Dataset Test yaitu : \", list_test)"
      ]
    },
    {
      "cell_type": "code",
      "execution_count": 4,
      "metadata": {
        "colab": {
          "base_uri": "https://localhost:8080/"
        },
        "id": "JycQg0kGCHHe",
        "outputId": "ff04593a-0b38-4ef2-b66c-04c089aa69a3"
      },
      "outputs": [
        {
          "output_type": "stream",
          "name": "stdout",
          "text": [
            "Jumlah gambar di Dataset Train: 1763\n",
            "Jumlah gambar di Dataset Test: 445\n"
          ]
        }
      ],
      "source": [
        "def count_images(directory):\n",
        "    return sum(1 for file in os.listdir(directory) if file.endswith(('.jpg', '.jpeg', '.png', '.gif')))\n",
        "\n",
        "# Menghitung jumlah gambar di data train\n",
        "train_image_count = sum(count_images(os.path.join(train_dir, angka)) for angka in list_train)\n",
        "\n",
        "# Menghitung jumlah gambar di data test\n",
        "test_image_count = sum(count_images(os.path.join(test_dir, angka)) for angka in list_test)\n",
        "\n",
        "print(f\"Jumlah gambar di Dataset Train: {train_image_count}\")\n",
        "print(f\"Jumlah gambar di Dataset Test: {test_image_count}\")"
      ]
    },
    {
      "cell_type": "markdown",
      "metadata": {
        "id": "Cs-YBymEElj8"
      },
      "source": [
        "# Preprocessing"
      ]
    },
    {
      "cell_type": "code",
      "execution_count": 5,
      "metadata": {
        "id": "j-iPjxpXF_bf"
      },
      "outputs": [],
      "source": [
        "import cv2\n",
        "\n",
        "def resize_images(directory, target_resolution):\n",
        "    for angka in os.listdir(directory):\n",
        "        angka_dir = os.path.join(directory, angka)\n",
        "        for file_name in os.listdir(angka_dir):\n",
        "            file_path = os.path.join(angka_dir, file_name)\n",
        "            img = cv2.imread(file_path)\n",
        "            resized_img = cv2.resize(img, (target_resolution[0], target_resolution[1]))\n",
        "            cv2.imwrite(file_path, resized_img)\n",
        "\n",
        "target_resolution = (52, 78)\n",
        "resize_images(train_dir, target_resolution)\n",
        "resize_images(test_dir, target_resolution)"
      ]
    },
    {
      "cell_type": "code",
      "execution_count": 6,
      "metadata": {
        "colab": {
          "base_uri": "https://localhost:8080/"
        },
        "id": "MrR6ROkiF9Uj",
        "outputId": "bc060d08-9da2-46cc-88bb-83f9fdea3f35"
      },
      "outputs": [
        {
          "output_type": "stream",
          "name": "stdout",
          "text": [
            "Found 1763 images belonging to 10 classes.\n",
            "Found 445 images belonging to 10 classes.\n"
          ]
        }
      ],
      "source": [
        "from tensorflow.keras.preprocessing.image import ImageDataGenerator\n",
        "\n",
        "# Membuat generator data dengan augmentasi\n",
        "image_size = (52, 78)\n",
        "batch_size = 64\n",
        "\n",
        "train_datagen = ImageDataGenerator(\n",
        "    rescale = 1./255,\n",
        ")\n",
        "\n",
        "test_datagen = ImageDataGenerator(\n",
        "    rescale=1./255,\n",
        ")\n",
        "\n",
        "train_generator = train_datagen.flow_from_directory(\n",
        "    train_dir,\n",
        "    target_size=image_size,\n",
        "    batch_size=batch_size,\n",
        "    class_mode='categorical',\n",
        "    color_mode='grayscale'\n",
        ")\n",
        "\n",
        "test_generator = test_datagen.flow_from_directory(\n",
        "    test_dir,\n",
        "    target_size=image_size,\n",
        "    batch_size=batch_size,\n",
        "    class_mode='categorical',\n",
        "    color_mode='grayscale'\n",
        ")"
      ]
    },
    {
      "cell_type": "markdown",
      "metadata": {
        "id": "gPqE7ywQJ01c"
      },
      "source": [
        "# Membuat Model FFNN"
      ]
    },
    {
      "cell_type": "code",
      "execution_count": 7,
      "metadata": {
        "id": "SvNzs3QB71R6"
      },
      "outputs": [],
      "source": [
        "from tensorflow.keras.models import Sequential\n",
        "from tensorflow.keras.layers import Conv2D, AveragePooling2D, Flatten, Dense\n",
        "import math\n",
        "\n",
        "img_size = 52*78*1\n",
        "\n",
        "# Perhitungan jumlah neuron pada lapisan tersembunyi\n",
        "hidden_neurons = 201\n",
        "\n",
        "model1f = Sequential()\n",
        "model1f.add(Flatten(input_shape=(52, 78, 1)))\n",
        "model1f.add(Dense(hidden_neurons, activation='relu'))\n",
        "model1f.add(Dense(10, activation='softmax'))\n",
        "\n",
        "model1f.compile(optimizer='SGD', loss='categorical_crossentropy', metrics=['accuracy'])"
      ]
    },
    {
      "cell_type": "code",
      "source": [
        "# Mendapatkan bobot dari model\n",
        "weights = []\n",
        "for layer in model1f.layers:\n",
        "    weights.append(layer.get_weights())\n",
        "\n",
        "print(\"Bobot dari model:\")\n",
        "for i, layer_weights in enumerate(weights):\n",
        "    print(\"Layer\", i+1)\n",
        "    for j, w in enumerate(layer_weights):\n",
        "        print(\"  Bobot {}: {}\".format(j+1, w.shape))"
      ],
      "metadata": {
        "id": "gYX_k4x0Pf-i",
        "outputId": "706d9ff2-a95f-4c51-a78a-7c84603792bc",
        "colab": {
          "base_uri": "https://localhost:8080/"
        }
      },
      "execution_count": 8,
      "outputs": [
        {
          "output_type": "stream",
          "name": "stdout",
          "text": [
            "Bobot dari model:\n",
            "Layer 1\n",
            "Layer 2\n",
            "  Bobot 1: (4056, 201)\n",
            "  Bobot 2: (201,)\n",
            "Layer 3\n",
            "  Bobot 1: (201, 10)\n",
            "  Bobot 2: (10,)\n"
          ]
        }
      ]
    },
    {
      "cell_type": "code",
      "source": [
        "# Menampilkan matriks bobot dan vektor bias dari setiap layer\n",
        "for i, layer in enumerate(model1f.layers):\n",
        "    weights = layer.get_weights()\n",
        "    if weights:\n",
        "        print(\"Layer\", i+1)\n",
        "        for j, w in enumerate(weights):\n",
        "            if j == 0:\n",
        "                print(\"  Bobot:\")\n",
        "            else:\n",
        "                print(\"  Bias:\")\n",
        "            print(\"    Ukuran:\", w.shape)\n",
        "            print(\"    Nilai:\")\n",
        "            print(w)"
      ],
      "metadata": {
        "id": "UPJKHfkfPgT3",
        "outputId": "09f63526-bacc-4444-d06e-842a544c597a",
        "colab": {
          "base_uri": "https://localhost:8080/"
        }
      },
      "execution_count": 9,
      "outputs": [
        {
          "output_type": "stream",
          "name": "stdout",
          "text": [
            "Layer 2\n",
            "  Bobot:\n",
            "    Ukuran: (4056, 201)\n",
            "    Nilai:\n",
            "[[ 0.01756782  0.01083485  0.00928462 ... -0.03192732 -0.0171877\n",
            "   0.00670636]\n",
            " [-0.00846229 -0.01253572 -0.01958641 ...  0.00780785  0.01096482\n",
            "  -0.02376619]\n",
            " [ 0.03712998  0.02214502  0.00150031 ... -0.02174023 -0.00374218\n",
            "  -0.00537468]\n",
            " ...\n",
            " [-0.01367534  0.00040461 -0.03722254 ... -0.00790807  0.01525014\n",
            "  -0.0201765 ]\n",
            " [ 0.02180607  0.02361174  0.00501287 ... -0.01877999  0.00989513\n",
            "   0.03001121]\n",
            " [ 0.00663866  0.0345177   0.0149969  ... -0.03239877 -0.02200248\n",
            "  -0.03633901]]\n",
            "  Bias:\n",
            "    Ukuran: (201,)\n",
            "    Nilai:\n",
            "[0. 0. 0. 0. 0. 0. 0. 0. 0. 0. 0. 0. 0. 0. 0. 0. 0. 0. 0. 0. 0. 0. 0. 0.\n",
            " 0. 0. 0. 0. 0. 0. 0. 0. 0. 0. 0. 0. 0. 0. 0. 0. 0. 0. 0. 0. 0. 0. 0. 0.\n",
            " 0. 0. 0. 0. 0. 0. 0. 0. 0. 0. 0. 0. 0. 0. 0. 0. 0. 0. 0. 0. 0. 0. 0. 0.\n",
            " 0. 0. 0. 0. 0. 0. 0. 0. 0. 0. 0. 0. 0. 0. 0. 0. 0. 0. 0. 0. 0. 0. 0. 0.\n",
            " 0. 0. 0. 0. 0. 0. 0. 0. 0. 0. 0. 0. 0. 0. 0. 0. 0. 0. 0. 0. 0. 0. 0. 0.\n",
            " 0. 0. 0. 0. 0. 0. 0. 0. 0. 0. 0. 0. 0. 0. 0. 0. 0. 0. 0. 0. 0. 0. 0. 0.\n",
            " 0. 0. 0. 0. 0. 0. 0. 0. 0. 0. 0. 0. 0. 0. 0. 0. 0. 0. 0. 0. 0. 0. 0. 0.\n",
            " 0. 0. 0. 0. 0. 0. 0. 0. 0. 0. 0. 0. 0. 0. 0. 0. 0. 0. 0. 0. 0. 0. 0. 0.\n",
            " 0. 0. 0. 0. 0. 0. 0. 0. 0.]\n",
            "Layer 3\n",
            "  Bobot:\n",
            "    Ukuran: (201, 10)\n",
            "    Nilai:\n",
            "[[ 0.14107782 -0.0250995  -0.06484854 ... -0.09300768  0.02707696\n",
            "  -0.13436241]\n",
            " [ 0.03034848  0.01645207  0.13391301 ... -0.00567691 -0.086808\n",
            "   0.02593905]\n",
            " [ 0.06491661  0.14171529  0.04552799 ... -0.08820803 -0.04806554\n",
            "   0.08783236]\n",
            " ...\n",
            " [ 0.06034182 -0.12183639 -0.10928531 ... -0.06165687  0.16737846\n",
            "  -0.14167494]\n",
            " [-0.07642511 -0.11811152  0.16729766 ... -0.14955625  0.08616975\n",
            "  -0.06082134]\n",
            " [ 0.03306815  0.0971058  -0.05093667 ...  0.07059056  0.06089178\n",
            "  -0.06871943]]\n",
            "  Bias:\n",
            "    Ukuran: (10,)\n",
            "    Nilai:\n",
            "[0. 0. 0. 0. 0. 0. 0. 0. 0. 0.]\n"
          ]
        }
      ]
    },
    {
      "cell_type": "code",
      "execution_count": 10,
      "metadata": {
        "colab": {
          "base_uri": "https://localhost:8080/"
        },
        "id": "RfHd4NJznjOh",
        "outputId": "f333e762-99c8-46ac-9d99-baacb6ad2d97"
      },
      "outputs": [
        {
          "output_type": "stream",
          "name": "stdout",
          "text": [
            "Model: \"sequential\"\n",
            "_________________________________________________________________\n",
            " Layer (type)                Output Shape              Param #   \n",
            "=================================================================\n",
            " flatten (Flatten)           (None, 4056)              0         \n",
            "                                                                 \n",
            " dense (Dense)               (None, 201)               815457    \n",
            "                                                                 \n",
            " dense_1 (Dense)             (None, 10)                2020      \n",
            "                                                                 \n",
            "=================================================================\n",
            "Total params: 817477 (3.12 MB)\n",
            "Trainable params: 817477 (3.12 MB)\n",
            "Non-trainable params: 0 (0.00 Byte)\n",
            "_________________________________________________________________\n"
          ]
        }
      ],
      "source": [
        "model1f.summary()"
      ]
    },
    {
      "cell_type": "code",
      "execution_count": 11,
      "metadata": {
        "colab": {
          "base_uri": "https://localhost:8080/"
        },
        "id": "I_Klj8ReYASB",
        "outputId": "b14dd2bf-d16c-49e2-c6ad-9db1193c79c6"
      },
      "outputs": [
        {
          "output_type": "stream",
          "name": "stdout",
          "text": [
            "Epoch 1/20\n",
            "28/28 [==============================] - 2s 38ms/step - loss: 1.9916 - accuracy: 0.3273\n",
            "Epoch 2/20\n",
            "28/28 [==============================] - 1s 38ms/step - loss: 1.6172 - accuracy: 0.4787\n",
            "Epoch 3/20\n",
            "28/28 [==============================] - 2s 57ms/step - loss: 1.4712 - accuracy: 0.5343\n",
            "Epoch 4/20\n",
            "28/28 [==============================] - 1s 46ms/step - loss: 1.3850 - accuracy: 0.5536\n",
            "Epoch 5/20\n",
            "28/28 [==============================] - 1s 37ms/step - loss: 1.3199 - accuracy: 0.5956\n",
            "Epoch 6/20\n",
            "28/28 [==============================] - 1s 30ms/step - loss: 1.1872 - accuracy: 0.6341\n",
            "Epoch 7/20\n",
            "28/28 [==============================] - 1s 31ms/step - loss: 1.1484 - accuracy: 0.6410\n",
            "Epoch 8/20\n",
            "28/28 [==============================] - 1s 34ms/step - loss: 1.0910 - accuracy: 0.6642\n",
            "Epoch 9/20\n",
            "28/28 [==============================] - 1s 38ms/step - loss: 1.0276 - accuracy: 0.6852\n",
            "Epoch 10/20\n",
            "28/28 [==============================] - 1s 34ms/step - loss: 1.0253 - accuracy: 0.6920\n",
            "Epoch 11/20\n",
            "28/28 [==============================] - 1s 31ms/step - loss: 0.9643 - accuracy: 0.7085\n",
            "Epoch 12/20\n",
            "28/28 [==============================] - 1s 33ms/step - loss: 0.9427 - accuracy: 0.7102\n",
            "Epoch 13/20\n",
            "28/28 [==============================] - 1s 49ms/step - loss: 0.9457 - accuracy: 0.7164\n",
            "Epoch 14/20\n",
            "28/28 [==============================] - 1s 45ms/step - loss: 0.8960 - accuracy: 0.7243\n",
            "Epoch 15/20\n",
            "28/28 [==============================] - 1s 37ms/step - loss: 0.8497 - accuracy: 0.7470\n",
            "Epoch 16/20\n",
            "28/28 [==============================] - 1s 36ms/step - loss: 0.8467 - accuracy: 0.7504\n",
            "Epoch 17/20\n",
            "28/28 [==============================] - 1s 38ms/step - loss: 0.8107 - accuracy: 0.7584\n",
            "Epoch 18/20\n",
            "28/28 [==============================] - 1s 36ms/step - loss: 0.8025 - accuracy: 0.7555\n",
            "Epoch 19/20\n",
            "28/28 [==============================] - 1s 35ms/step - loss: 0.7971 - accuracy: 0.7612\n",
            "Epoch 20/20\n",
            "28/28 [==============================] - 1s 35ms/step - loss: 0.7969 - accuracy: 0.7646\n"
          ]
        }
      ],
      "source": [
        "history = model1f.fit(train_generator, epochs=20, verbose = 1)"
      ]
    },
    {
      "cell_type": "markdown",
      "metadata": {
        "id": "6VOcIXg0IvCs"
      },
      "source": [
        "#Matriks Konfusi"
      ]
    },
    {
      "cell_type": "code",
      "execution_count": 16,
      "metadata": {
        "colab": {
          "base_uri": "https://localhost:8080/",
          "height": 617
        },
        "id": "Lz5lA0bDIxJg",
        "outputId": "0e561a3c-3b3e-4295-fdf1-f9ed466dbea0"
      },
      "outputs": [
        {
          "output_type": "stream",
          "name": "stdout",
          "text": [
            "7/7 [==============================] - 0s 29ms/step\n"
          ]
        },
        {
          "output_type": "display_data",
          "data": {
            "text/plain": [
              "<Figure size 800x600 with 2 Axes>"
            ],
            "image/png": "[encoded data removed]"
          },
          "metadata": {}
        }
      ],
      "source": [
        "from sklearn.metrics import confusion_matrix, classification_report\n",
        "import seaborn as sns\n",
        "import matplotlib.pyplot as plt\n",
        "\n",
        "# Fungsi untuk mendapatkan prediksi model dan label sebenarnya\n",
        "def get_predictions_and_labels(model, data_generator):\n",
        "    predictions = model.predict(data_generator)\n",
        "    true_classes = data_generator.classes\n",
        "    return predictions, true_classes\n",
        "\n",
        "# Mendapatkan prediksi dan label sebenarnya untuk data uji\n",
        "y_pred_prob, y_true = get_predictions_and_labels(model1f, test_generator)\n",
        "y_pred = np.argmax(y_pred_prob, axis=1)\n",
        "\n",
        "# Membuat matriks konfusi\n",
        "cf_matrix = confusion_matrix(y_true, y_pred)\n",
        "\n",
        "# Membuat visualisasi matriks konfusi\n",
        "fig, ax = plt.subplots(figsize=(8, 6))\n",
        "sns.heatmap(cf_matrix, annot=True, fmt='g', cmap='Blues', ax=ax)\n",
        "\n",
        "# Menetapkan label dan judul\n",
        "ax.set_title('Confusion Matrix with labels')\n",
        "ax.set_xlabel('Predicted Values')\n",
        "ax.set_ylabel('Actual Values')\n",
        "\n",
        "class_labels = list(test_generator.class_indices.keys())\n",
        "\n",
        "# Menetapkan label pada sumbu x dan y sesuai dengan jenis kelas\n",
        "ax.xaxis.set_ticklabels(class_labels, rotation=45)\n",
        "ax.yaxis.set_ticklabels(class_labels, rotation=45)\n",
        "\n",
        "# Menampilkan visualisasi Matriks Konfusi\n",
        "plt.show()"
      ]
    },
    {
      "cell_type": "code",
      "execution_count": 17,
      "metadata": {
        "colab": {
          "base_uri": "https://localhost:8080/"
        },
        "id": "S7iwBJlGZEUM",
        "outputId": "2840672b-a808-400b-8784-a902b8d1827b"
      },
      "outputs": [
        {
          "output_type": "stream",
          "name": "stdout",
          "text": [
            "Test Accuracy: 0.19550561797752808\n"
          ]
        }
      ],
      "source": [
        "from sklearn.metrics import accuracy_score\n",
        "\n",
        "test_accuracy = accuracy_score(y_true, y_pred)\n",
        "print(f\"Test Accuracy: {test_accuracy}\")"
      ]
    }
  ],
  "metadata": {
    "colab": {
      "provenance": [],
      "include_colab_link": true
    },
    "kernelspec": {
      "display_name": "Python 3",
      "name": "python3"
    },
    "language_info": {
      "name": "python"
    }
  },
  "nbformat": 4,
  "nbformat_minor": 0
}