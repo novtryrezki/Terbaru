{
  "cells": [
    {
      "cell_type": "markdown",
      "metadata": {
        "id": "view-in-github",
        "colab_type": "text"
      },
      "source": [
        "<a href=\"https://colab.research.google.com/github/novtryrezki/Terbaru/blob/main/2FFNN_bs_32_ep_40.ipynb\" target=\"_parent\"><img src=\"https://colab.research.google.com/assets/colab-badge.svg\" alt=\"Open In Colab\"/></a>"
      ]
    },
    {
      "cell_type": "code",
      "execution_count": 1,
      "metadata": {
        "id": "Gj0QELQHjUVZ"
      },
      "outputs": [],
      "source": [
        "import os\n",
        "import zipfile\n",
        "import random\n",
        "import shutil\n",
        "import numpy as np\n",
        "import tensorflow as tf\n",
        "import pandas as pd\n",
        "from google.colab import drive\n",
        "from sklearn.model_selection import train_test_split"
      ]
    },
    {
      "cell_type": "code",
      "execution_count": 2,
      "metadata": {
        "colab": {
          "base_uri": "https://localhost:8080/"
        },
        "id": "HXtZwYwdjXH4",
        "outputId": "0549c98e-3829-40e9-f152-a76f4f9edd0e"
      },
      "outputs": [
        {
          "output_type": "stream",
          "name": "stdout",
          "text": [
            "Mounted at /content/drive\n"
          ]
        }
      ],
      "source": [
        "# Melakukan mount pada Google Drive\n",
        "drive.mount('/content/drive')\n",
        "\n",
        "# Menentukan path file ZIP di Google Drive\n",
        "zip_path = '/content/drive/MyDrive/images.zip'\n",
        "\n",
        "# Membuat objek zip_ref\n",
        "zip_ref = zipfile.ZipFile(zip_path, 'r')\n",
        "\n",
        "# Mengekstrak file ZIP\n",
        "extract_path ='/content/images'\n",
        "zip_ref.extractall(extract_path)\n",
        "\n",
        "# Tutup objek zip_ref setelah selesai\n",
        "zip_ref.close()"
      ]
    },
    {
      "cell_type": "code",
      "execution_count": 3,
      "metadata": {
        "colab": {
          "base_uri": "https://localhost:8080/"
        },
        "id": "P9SpMwZxCMpv",
        "outputId": "ec1b220c-15c5-4503-e7b8-3502af7757ca"
      },
      "outputs": [
        {
          "output_type": "stream",
          "name": "stdout",
          "text": [
            "Daftar Angka pada Dataset Train yaitu :  ['angka 0', 'angka 1', 'angka 2', 'angka 3', 'angka 4', 'angka 5', 'angka 6', 'angka 7', 'angka 8', 'angka 9']\n",
            "Daftar Angka pada Dataset Test yaitu :  ['angka 0', 'angka 1', 'angka 2', 'angka 3', 'angka 4', 'angka 5', 'angka 6', 'angka 7', 'angka 8', 'angka 9']\n"
          ]
        }
      ],
      "source": [
        "# Mendefinisikan path direktori dataset\n",
        "dataset_dir = os.path.join(extract_path, 'images')\n",
        "train_dir = os.path.join(dataset_dir, 'train')\n",
        "test_dir = os.path.join(dataset_dir, 'test')\n",
        "list_train = sorted(os.listdir(train_dir))\n",
        "list_test = sorted(os.listdir(test_dir))\n",
        "\n",
        "print(\"Daftar Angka pada Dataset Train yaitu : \", list_train)\n",
        "print(\"Daftar Angka pada Dataset Test yaitu : \", list_test)"
      ]
    },
    {
      "cell_type": "code",
      "execution_count": 4,
      "metadata": {
        "colab": {
          "base_uri": "https://localhost:8080/"
        },
        "id": "JycQg0kGCHHe",
        "outputId": "536c8b18-4008-43bf-d6cb-5b4891cd6e9b"
      },
      "outputs": [
        {
          "output_type": "stream",
          "name": "stdout",
          "text": [
            "Jumlah gambar di Dataset Train: 1763\n",
            "Jumlah gambar di Dataset Test: 445\n"
          ]
        }
      ],
      "source": [
        "def count_images(directory):\n",
        "    return sum(1 for file in os.listdir(directory) if file.endswith(('.jpg', '.jpeg', '.png', '.gif')))\n",
        "\n",
        "# Menghitung jumlah gambar di data train\n",
        "train_image_count = sum(count_images(os.path.join(train_dir, angka)) for angka in list_train)\n",
        "\n",
        "# Menghitung jumlah gambar di data test\n",
        "test_image_count = sum(count_images(os.path.join(test_dir, angka)) for angka in list_test)\n",
        "\n",
        "print(f\"Jumlah gambar di Dataset Train: {train_image_count}\")\n",
        "print(f\"Jumlah gambar di Dataset Test: {test_image_count}\")"
      ]
    },
    {
      "cell_type": "markdown",
      "metadata": {
        "id": "Cs-YBymEElj8"
      },
      "source": [
        "# Preprocessing"
      ]
    },
    {
      "cell_type": "code",
      "execution_count": 5,
      "metadata": {
        "id": "j-iPjxpXF_bf"
      },
      "outputs": [],
      "source": [
        "import cv2\n",
        "\n",
        "def resize_images(directory, target_resolution):\n",
        "    for angka in os.listdir(directory):\n",
        "        angka_dir = os.path.join(directory, angka)\n",
        "        for file_name in os.listdir(angka_dir):\n",
        "            file_path = os.path.join(angka_dir, file_name)\n",
        "            img = cv2.imread(file_path)\n",
        "            resized_img = cv2.resize(img, (target_resolution[0], target_resolution[1]))\n",
        "            cv2.imwrite(file_path, resized_img)\n",
        "\n",
        "target_resolution = (52, 78)\n",
        "resize_images(train_dir, target_resolution)\n",
        "resize_images(test_dir, target_resolution)"
      ]
    },
    {
      "cell_type": "code",
      "execution_count": 6,
      "metadata": {
        "colab": {
          "base_uri": "https://localhost:8080/"
        },
        "id": "MrR6ROkiF9Uj",
        "outputId": "50e8ca7c-88b0-4595-899b-2ffa85ee1114"
      },
      "outputs": [
        {
          "output_type": "stream",
          "name": "stdout",
          "text": [
            "Found 1763 images belonging to 10 classes.\n",
            "Found 445 images belonging to 10 classes.\n"
          ]
        }
      ],
      "source": [
        "from tensorflow.keras.preprocessing.image import ImageDataGenerator\n",
        "\n",
        "# Membuat generator data dengan augmentasi\n",
        "image_size = (52, 78)\n",
        "batch_size = 32\n",
        "\n",
        "train_datagen = ImageDataGenerator(\n",
        "    rescale = 1./255,\n",
        "    width_shift_range = 0.2,\n",
        "    height_shift_range = 0.2,\n",
        "    zoom_range = 0.2,\n",
        ")\n",
        "\n",
        "test_datagen = ImageDataGenerator(\n",
        "    rescale=1./255,\n",
        ")\n",
        "\n",
        "train_generator = train_datagen.flow_from_directory(\n",
        "    train_dir,\n",
        "    target_size=image_size,\n",
        "    batch_size=batch_size,\n",
        "    class_mode='categorical',\n",
        "    color_mode='grayscale'\n",
        ")\n",
        "\n",
        "test_generator = test_datagen.flow_from_directory(\n",
        "    test_dir,\n",
        "    target_size=image_size,\n",
        "    batch_size=batch_size,\n",
        "    class_mode='categorical',\n",
        "    color_mode='grayscale'\n",
        ")"
      ]
    },
    {
      "cell_type": "markdown",
      "metadata": {
        "id": "gPqE7ywQJ01c"
      },
      "source": [
        "# Membuat Model FFNN"
      ]
    },
    {
      "cell_type": "code",
      "execution_count": 7,
      "metadata": {
        "id": "SvNzs3QB71R6"
      },
      "outputs": [],
      "source": [
        "from tensorflow.keras.models import Sequential\n",
        "from tensorflow.keras.layers import Flatten, Dense\n",
        "import math\n",
        "\n",
        "img_size = 52*78*1\n",
        "\n",
        "# Perhitungan jumlah neuron pada lapisan tersembunyi\n",
        "r1 = (img_size/10) ** (1/2)\n",
        "r2 = (img_size/10) ** (1/3)\n",
        "\n",
        "hidden_neurons1 = 10 * r1**(2)\n",
        "hidden_neurons2 = 10 * r2**(1)\n",
        "\n",
        "model2f = Sequential()\n",
        "model2f.add(Flatten(input_shape=(52, 78, 1)))\n",
        "model2f.add(Dense(hidden_neurons1, activation='relu'))\n",
        "model2f.add(Dense(hidden_neurons2, activation='relu'))\n",
        "model2f.add(Dense(10, activation='softmax'))\n",
        "\n",
        "model2f.compile(optimizer='SGD', loss='categorical_crossentropy', metrics=['accuracy'])"
      ]
    },
    {
      "cell_type": "code",
      "execution_count": 8,
      "metadata": {
        "id": "RfHd4NJznjOh",
        "colab": {
          "base_uri": "https://localhost:8080/"
        },
        "outputId": "096af2bf-65e5-4fac-b7ce-af94cea7b0d8"
      },
      "outputs": [
        {
          "output_type": "stream",
          "name": "stdout",
          "text": [
            "Model: \"sequential\"\n",
            "_________________________________________________________________\n",
            " Layer (type)                Output Shape              Param #   \n",
            "=================================================================\n",
            " flatten (Flatten)           (None, 4056)              0         \n",
            "                                                                 \n",
            " dense (Dense)               (None, 4055)              16451135  \n",
            "                                                                 \n",
            " dense_1 (Dense)             (None, 74)                300144    \n",
            "                                                                 \n",
            " dense_2 (Dense)             (None, 10)                750       \n",
            "                                                                 \n",
            "=================================================================\n",
            "Total params: 16752029 (63.90 MB)\n",
            "Trainable params: 16752029 (63.90 MB)\n",
            "Non-trainable params: 0 (0.00 Byte)\n",
            "_________________________________________________________________\n"
          ]
        }
      ],
      "source": [
        "model2f.summary()"
      ]
    },
    {
      "cell_type": "code",
      "execution_count": 9,
      "metadata": {
        "id": "I_Klj8ReYASB",
        "colab": {
          "base_uri": "https://localhost:8080/"
        },
        "outputId": "001fa1d4-3fc1-47f0-abbd-7e7cf16a44c6"
      },
      "outputs": [
        {
          "output_type": "stream",
          "name": "stdout",
          "text": [
            "Epoch 1/40\n",
            "56/56 [==============================] - 9s 136ms/step - loss: 2.0517 - accuracy: 0.2887\n",
            "Epoch 2/40\n",
            "56/56 [==============================] - 12s 213ms/step - loss: 1.9754 - accuracy: 0.3426\n",
            "Epoch 3/40\n",
            "56/56 [==============================] - 8s 135ms/step - loss: 1.9212 - accuracy: 0.3721\n",
            "Epoch 4/40\n",
            "56/56 [==============================] - 8s 136ms/step - loss: 1.9094 - accuracy: 0.3715\n",
            "Epoch 5/40\n",
            "56/56 [==============================] - 9s 166ms/step - loss: 1.8281 - accuracy: 0.3959\n",
            "Epoch 6/40\n",
            "56/56 [==============================] - 9s 160ms/step - loss: 1.8263 - accuracy: 0.3908\n",
            "Epoch 7/40\n",
            "56/56 [==============================] - 8s 136ms/step - loss: 1.7845 - accuracy: 0.4050\n",
            "Epoch 8/40\n",
            "56/56 [==============================] - 10s 170ms/step - loss: 1.7871 - accuracy: 0.4050\n",
            "Epoch 9/40\n",
            "56/56 [==============================] - 9s 167ms/step - loss: 1.7811 - accuracy: 0.4118\n",
            "Epoch 10/40\n",
            "56/56 [==============================] - 8s 138ms/step - loss: 1.7555 - accuracy: 0.4107\n",
            "Epoch 11/40\n",
            "56/56 [==============================] - 8s 137ms/step - loss: 1.7652 - accuracy: 0.4044\n",
            "Epoch 12/40\n",
            "56/56 [==============================] - 9s 162ms/step - loss: 1.7184 - accuracy: 0.4203\n",
            "Epoch 13/40\n",
            "56/56 [==============================] - 9s 168ms/step - loss: 1.7055 - accuracy: 0.4288\n",
            "Epoch 14/40\n",
            "56/56 [==============================] - 8s 138ms/step - loss: 1.7253 - accuracy: 0.4299\n",
            "Epoch 15/40\n",
            "56/56 [==============================] - 9s 162ms/step - loss: 1.6539 - accuracy: 0.4532\n",
            "Epoch 16/40\n",
            "56/56 [==============================] - 9s 167ms/step - loss: 1.6370 - accuracy: 0.4464\n",
            "Epoch 17/40\n",
            "56/56 [==============================] - 8s 136ms/step - loss: 1.6255 - accuracy: 0.4611\n",
            "Epoch 18/40\n",
            "56/56 [==============================] - 8s 137ms/step - loss: 1.6012 - accuracy: 0.4742\n",
            "Epoch 19/40\n",
            "56/56 [==============================] - 9s 161ms/step - loss: 1.6301 - accuracy: 0.4611\n",
            "Epoch 20/40\n",
            "56/56 [==============================] - 9s 169ms/step - loss: 1.5883 - accuracy: 0.4838\n",
            "Epoch 21/40\n",
            "56/56 [==============================] - 8s 137ms/step - loss: 1.5439 - accuracy: 0.4929\n",
            "Epoch 22/40\n",
            "56/56 [==============================] - 9s 168ms/step - loss: 1.5142 - accuracy: 0.5060\n",
            "Epoch 23/40\n",
            "56/56 [==============================] - 9s 158ms/step - loss: 1.5326 - accuracy: 0.5054\n",
            "Epoch 24/40\n",
            "56/56 [==============================] - 8s 137ms/step - loss: 1.5174 - accuracy: 0.4923\n",
            "Epoch 25/40\n",
            "56/56 [==============================] - 9s 168ms/step - loss: 1.4803 - accuracy: 0.5196\n",
            "Epoch 26/40\n",
            "56/56 [==============================] - 9s 156ms/step - loss: 1.4826 - accuracy: 0.5105\n",
            "Epoch 27/40\n",
            "56/56 [==============================] - 8s 137ms/step - loss: 1.4287 - accuracy: 0.5332\n",
            "Epoch 28/40\n",
            "56/56 [==============================] - 9s 153ms/step - loss: 1.4666 - accuracy: 0.5247\n",
            "Epoch 29/40\n",
            "56/56 [==============================] - 9s 168ms/step - loss: 1.4108 - accuracy: 0.5462\n",
            "Epoch 30/40\n",
            "56/56 [==============================] - 8s 141ms/step - loss: 1.4360 - accuracy: 0.5457\n",
            "Epoch 31/40\n",
            "56/56 [==============================] - 8s 137ms/step - loss: 1.4096 - accuracy: 0.5462\n",
            "Epoch 32/40\n",
            "56/56 [==============================] - 9s 156ms/step - loss: 1.3909 - accuracy: 0.5530\n",
            "Epoch 33/40\n",
            "56/56 [==============================] - 9s 168ms/step - loss: 1.4091 - accuracy: 0.5411\n",
            "Epoch 34/40\n",
            "56/56 [==============================] - 8s 142ms/step - loss: 1.3692 - accuracy: 0.5559\n",
            "Epoch 35/40\n",
            "56/56 [==============================] - 8s 137ms/step - loss: 1.3540 - accuracy: 0.5542\n",
            "Epoch 36/40\n",
            "56/56 [==============================] - 9s 168ms/step - loss: 1.3904 - accuracy: 0.5474\n",
            "Epoch 37/40\n",
            "56/56 [==============================] - 8s 149ms/step - loss: 1.3208 - accuracy: 0.5752\n",
            "Epoch 38/40\n",
            "56/56 [==============================] - 8s 137ms/step - loss: 1.3643 - accuracy: 0.5406\n",
            "Epoch 39/40\n",
            "56/56 [==============================] - 9s 168ms/step - loss: 1.3516 - accuracy: 0.5587\n",
            "Epoch 40/40\n",
            "56/56 [==============================] - 9s 155ms/step - loss: 1.3148 - accuracy: 0.5706\n"
          ]
        }
      ],
      "source": [
        "history = model2f.fit(train_generator, epochs=40, verbose = 1)"
      ]
    },
    {
      "cell_type": "markdown",
      "metadata": {
        "id": "6VOcIXg0IvCs"
      },
      "source": [
        "#Matriks Konfusi"
      ]
    },
    {
      "cell_type": "code",
      "execution_count": 34,
      "metadata": {
        "id": "Lz5lA0bDIxJg",
        "colab": {
          "base_uri": "https://localhost:8080/",
          "height": 617
        },
        "outputId": "34296141-8006-46f7-f080-1c9e3655cb30"
      },
      "outputs": [
        {
          "output_type": "stream",
          "name": "stdout",
          "text": [
            "14/14 [==============================] - 1s 44ms/step\n"
          ]
        },
        {
          "output_type": "display_data",
          "data": {
            "text/plain": [
              "<Figure size 800x600 with 2 Axes>"
            ],
            "image/png": "[encoded data removed]"
          },
          "metadata": {}
        }
      ],
      "source": [
        "from sklearn.metrics import confusion_matrix, classification_report\n",
        "import seaborn as sns\n",
        "import matplotlib.pyplot as plt\n",
        "\n",
        "# Fungsi untuk mendapatkan prediksi model dan label sebenarnya\n",
        "def get_predictions_and_labels(model, data_generator):\n",
        "    predictions = model.predict(data_generator)\n",
        "    true_classes = data_generator.classes\n",
        "    return predictions, true_classes\n",
        "\n",
        "# Mendapatkan prediksi dan label sebenarnya untuk data uji\n",
        "y_pred_prob, y_true = get_predictions_and_labels(model2f, test_generator)\n",
        "y_pred = np.argmax(y_pred_prob, axis=1)\n",
        "\n",
        "# Membuat matriks konfusi\n",
        "cf_matrix = confusion_matrix(y_true, y_pred)\n",
        "\n",
        "# Membuat visualisasi matriks konfusi\n",
        "fig, ax = plt.subplots(figsize=(8, 6))\n",
        "sns.heatmap(cf_matrix, annot=True, fmt='g', cmap='Blues', ax=ax)\n",
        "\n",
        "# Menetapkan label dan judul\n",
        "ax.set_title('Confusion Matrix with labels')\n",
        "ax.set_xlabel('Predicted Values')\n",
        "ax.set_ylabel('Actual Values')\n",
        "\n",
        "class_labels = list(test_generator.class_indices.keys())\n",
        "\n",
        "# Menetapkan label pada sumbu x dan y sesuai dengan jenis kelas\n",
        "ax.xaxis.set_ticklabels(class_labels, rotation=45)\n",
        "ax.yaxis.set_ticklabels(class_labels, rotation=45)\n",
        "\n",
        "# Menampilkan visualisasi Matriks Konfusi\n",
        "plt.show()"
      ]
    },
    {
      "cell_type": "code",
      "execution_count": 35,
      "metadata": {
        "id": "S7iwBJlGZEUM",
        "colab": {
          "base_uri": "https://localhost:8080/"
        },
        "outputId": "312c60c2-6c18-4c4b-ffac-9c77d63792d3"
      },
      "outputs": [
        {
          "output_type": "stream",
          "name": "stdout",
          "text": [
            "Test Accuracy: 0.2202247191011236\n"
          ]
        }
      ],
      "source": [
        "from sklearn.metrics import accuracy_score\n",
        "\n",
        "test_accuracy = accuracy_score(y_true, y_pred)\n",
        "print(f\"Test Accuracy: {test_accuracy}\")"
      ]
    }
  ],
  "metadata": {
    "colab": {
      "provenance": [],
      "include_colab_link": true
    },
    "kernelspec": {
      "display_name": "Python 3",
      "name": "python3"
    },
    "language_info": {
      "name": "python"
    }
  },
  "nbformat": 4,
  "nbformat_minor": 0
}