{
  "cells": [
    {
      "cell_type": "markdown",
      "metadata": {
        "id": "view-in-github",
        "colab_type": "text"
      },
      "source": [
        "<a href=\"https://colab.research.google.com/github/novtryrezki/Terbaru/blob/main/1FFNN_bs_32_ep_40.ipynb\" target=\"_parent\"><img src=\"https://colab.research.google.com/assets/colab-badge.svg\" alt=\"Open In Colab\"/></a>"
      ]
    },
    {
      "cell_type": "code",
      "execution_count": 1,
      "metadata": {
        "id": "Gj0QELQHjUVZ"
      },
      "outputs": [],
      "source": [
        "import os\n",
        "import zipfile\n",
        "import random\n",
        "import shutil\n",
        "import numpy as np\n",
        "import tensorflow as tf\n",
        "import pandas as pd\n",
        "from google.colab import drive\n",
        "from sklearn.model_selection import train_test_split"
      ]
    },
    {
      "cell_type": "code",
      "execution_count": 2,
      "metadata": {
        "colab": {
          "base_uri": "https://localhost:8080/"
        },
        "id": "HXtZwYwdjXH4",
        "outputId": "8415c9ab-1e72-4089-d3a1-d76bbaea55be"
      },
      "outputs": [
        {
          "output_type": "stream",
          "name": "stdout",
          "text": [
            "Mounted at /content/drive\n"
          ]
        }
      ],
      "source": [
        "# Melakukan mount pada Google Drive\n",
        "drive.mount('/content/drive')\n",
        "\n",
        "# Menentukan path file ZIP di Google Drive\n",
        "zip_path = '/content/drive/MyDrive/images.zip'\n",
        "\n",
        "# Membuat objek zip_ref\n",
        "zip_ref = zipfile.ZipFile(zip_path, 'r')\n",
        "\n",
        "# Mengekstrak file ZIP\n",
        "extract_path ='/content/images'\n",
        "zip_ref.extractall(extract_path)\n",
        "\n",
        "# Tutup objek zip_ref setelah selesai\n",
        "zip_ref.close()"
      ]
    },
    {
      "cell_type": "code",
      "execution_count": 3,
      "metadata": {
        "colab": {
          "base_uri": "https://localhost:8080/"
        },
        "id": "P9SpMwZxCMpv",
        "outputId": "3b49afd0-6b37-4b6c-9d65-18d584a5d45e"
      },
      "outputs": [
        {
          "output_type": "stream",
          "name": "stdout",
          "text": [
            "Daftar Angka pada Dataset Train yaitu :  ['angka 0', 'angka 1', 'angka 2', 'angka 3', 'angka 4', 'angka 5', 'angka 6', 'angka 7', 'angka 8', 'angka 9']\n",
            "Daftar Angka pada Dataset Test yaitu :  ['angka 0', 'angka 1', 'angka 2', 'angka 3', 'angka 4', 'angka 5', 'angka 6', 'angka 7', 'angka 8', 'angka 9']\n"
          ]
        }
      ],
      "source": [
        "# Mendefinisikan path direktori dataset\n",
        "dataset_dir = os.path.join(extract_path, 'images')\n",
        "train_dir = os.path.join(dataset_dir, 'train')\n",
        "test_dir = os.path.join(dataset_dir, 'test')\n",
        "list_train = sorted(os.listdir(train_dir))\n",
        "list_test = sorted(os.listdir(test_dir))\n",
        "\n",
        "print(\"Daftar Angka pada Dataset Train yaitu : \", list_train)\n",
        "print(\"Daftar Angka pada Dataset Test yaitu : \", list_test)"
      ]
    },
    {
      "cell_type": "code",
      "execution_count": 4,
      "metadata": {
        "colab": {
          "base_uri": "https://localhost:8080/"
        },
        "id": "JycQg0kGCHHe",
        "outputId": "f766db21-bdc4-415c-f321-83ea3721c926"
      },
      "outputs": [
        {
          "output_type": "stream",
          "name": "stdout",
          "text": [
            "Jumlah gambar di Dataset Train: 1763\n",
            "Jumlah gambar di Dataset Test: 445\n"
          ]
        }
      ],
      "source": [
        "def count_images(directory):\n",
        "    return sum(1 for file in os.listdir(directory) if file.endswith(('.jpg', '.jpeg', '.png', '.gif')))\n",
        "\n",
        "# Menghitung jumlah gambar di data train\n",
        "train_image_count = sum(count_images(os.path.join(train_dir, angka)) for angka in list_train)\n",
        "\n",
        "# Menghitung jumlah gambar di data test\n",
        "test_image_count = sum(count_images(os.path.join(test_dir, angka)) for angka in list_test)\n",
        "\n",
        "print(f\"Jumlah gambar di Dataset Train: {train_image_count}\")\n",
        "print(f\"Jumlah gambar di Dataset Test: {test_image_count}\")"
      ]
    },
    {
      "cell_type": "markdown",
      "metadata": {
        "id": "Cs-YBymEElj8"
      },
      "source": [
        "# Preprocessing"
      ]
    },
    {
      "cell_type": "code",
      "execution_count": 5,
      "metadata": {
        "id": "j-iPjxpXF_bf"
      },
      "outputs": [],
      "source": [
        "import cv2\n",
        "\n",
        "def resize_images(directory, target_resolution):\n",
        "    for angka in os.listdir(directory):\n",
        "        angka_dir = os.path.join(directory, angka)\n",
        "        for file_name in os.listdir(angka_dir):\n",
        "            file_path = os.path.join(angka_dir, file_name)\n",
        "            img = cv2.imread(file_path)\n",
        "            resized_img = cv2.resize(img, (target_resolution[0], target_resolution[1]))\n",
        "            cv2.imwrite(file_path, resized_img)\n",
        "\n",
        "target_resolution = (52, 78)\n",
        "resize_images(train_dir, target_resolution)\n",
        "resize_images(test_dir, target_resolution)"
      ]
    },
    {
      "cell_type": "code",
      "execution_count": 6,
      "metadata": {
        "colab": {
          "base_uri": "https://localhost:8080/"
        },
        "id": "MrR6ROkiF9Uj",
        "outputId": "dbd31417-1026-4fef-f6b1-8d064b33bfed"
      },
      "outputs": [
        {
          "output_type": "stream",
          "name": "stdout",
          "text": [
            "Found 1763 images belonging to 10 classes.\n",
            "Found 445 images belonging to 10 classes.\n"
          ]
        }
      ],
      "source": [
        "from tensorflow.keras.preprocessing.image import ImageDataGenerator\n",
        "\n",
        "# Membuat generator data dengan augmentasi\n",
        "image_size = (52, 78)\n",
        "batch_size = 32\n",
        "\n",
        "train_datagen = ImageDataGenerator(\n",
        "    rescale = 1./255,\n",
        "    width_shift_range = 0.2,\n",
        "    height_shift_range = 0.2,\n",
        "    zoom_range = 0.2,\n",
        ")\n",
        "\n",
        "test_datagen = ImageDataGenerator(\n",
        "    rescale=1./255,\n",
        ")\n",
        "\n",
        "train_generator = train_datagen.flow_from_directory(\n",
        "    train_dir,\n",
        "    target_size=image_size,\n",
        "    batch_size=batch_size,\n",
        "    class_mode='categorical',\n",
        "    color_mode='grayscale'\n",
        ")\n",
        "\n",
        "test_generator = test_datagen.flow_from_directory(\n",
        "    test_dir,\n",
        "    target_size=image_size,\n",
        "    batch_size=batch_size,\n",
        "    class_mode='categorical',\n",
        "    color_mode='grayscale'\n",
        ")"
      ]
    },
    {
      "cell_type": "markdown",
      "metadata": {
        "id": "gPqE7ywQJ01c"
      },
      "source": [
        "# Membuat Model CNN"
      ]
    },
    {
      "cell_type": "code",
      "execution_count": 7,
      "metadata": {
        "id": "SvNzs3QB71R6"
      },
      "outputs": [],
      "source": [
        "from tensorflow.keras.models import Sequential\n",
        "from tensorflow.keras.layers import Conv2D, AveragePooling2D, Flatten, Dense\n",
        "import math\n",
        "\n",
        "img_size = 52*78*1\n",
        "\n",
        "# Perhitungan jumlah neuron pada lapisan tersembunyi\n",
        "hidden_neurons = int(math.sqrt(img_size * batch_size))\n",
        "\n",
        "model1f = Sequential()\n",
        "model1f.add(Flatten(input_shape=(52, 78, 1)))\n",
        "model1f.add(Dense(hidden_neurons, activation='relu'))\n",
        "model1f.add(Dense(10, activation='softmax'))\n",
        "\n",
        "model1f.compile(optimizer='SGD', loss='categorical_crossentropy', metrics=['accuracy'])"
      ]
    },
    {
      "cell_type": "code",
      "execution_count": 8,
      "metadata": {
        "colab": {
          "base_uri": "https://localhost:8080/"
        },
        "id": "RfHd4NJznjOh",
        "outputId": "013377b4-a690-4d38-918f-112faeed6210"
      },
      "outputs": [
        {
          "output_type": "stream",
          "name": "stdout",
          "text": [
            "Model: \"sequential\"\n",
            "_________________________________________________________________\n",
            " Layer (type)                Output Shape              Param #   \n",
            "=================================================================\n",
            " flatten (Flatten)           (None, 4056)              0         \n",
            "                                                                 \n",
            " dense (Dense)               (None, 360)               1460520   \n",
            "                                                                 \n",
            " dense_1 (Dense)             (None, 10)                3610      \n",
            "                                                                 \n",
            "=================================================================\n",
            "Total params: 1464130 (5.59 MB)\n",
            "Trainable params: 1464130 (5.59 MB)\n",
            "Non-trainable params: 0 (0.00 Byte)\n",
            "_________________________________________________________________\n"
          ]
        }
      ],
      "source": [
        "model1f.summary()"
      ]
    },
    {
      "cell_type": "code",
      "execution_count": 9,
      "metadata": {
        "colab": {
          "base_uri": "https://localhost:8080/"
        },
        "id": "I_Klj8ReYASB",
        "outputId": "7c82c068-26dc-4f92-d034-ac9e042a91b4"
      },
      "outputs": [
        {
          "output_type": "stream",
          "name": "stdout",
          "text": [
            "Epoch 1/40\n",
            "56/56 [==============================] - 3s 40ms/step - loss: 2.0954 - accuracy: 0.2904\n",
            "Epoch 2/40\n",
            "56/56 [==============================] - 2s 42ms/step - loss: 1.9563 - accuracy: 0.3579\n",
            "Epoch 3/40\n",
            "56/56 [==============================] - 3s 59ms/step - loss: 1.8984 - accuracy: 0.3693\n",
            "Epoch 4/40\n",
            "56/56 [==============================] - 2s 41ms/step - loss: 1.8743 - accuracy: 0.3851\n",
            "Epoch 5/40\n",
            "56/56 [==============================] - 2s 41ms/step - loss: 1.8815 - accuracy: 0.3817\n",
            "Epoch 6/40\n",
            "56/56 [==============================] - 2s 42ms/step - loss: 1.8057 - accuracy: 0.3971\n",
            "Epoch 7/40\n",
            "56/56 [==============================] - 4s 65ms/step - loss: 1.7977 - accuracy: 0.3971\n",
            "Epoch 8/40\n",
            "56/56 [==============================] - 3s 59ms/step - loss: 1.7869 - accuracy: 0.3993\n",
            "Epoch 9/40\n",
            "56/56 [==============================] - 2s 42ms/step - loss: 1.7567 - accuracy: 0.4129\n",
            "Epoch 10/40\n",
            "56/56 [==============================] - 2s 44ms/step - loss: 1.7728 - accuracy: 0.4084\n",
            "Epoch 11/40\n",
            "56/56 [==============================] - 2s 43ms/step - loss: 1.7042 - accuracy: 0.4328\n",
            "Epoch 12/40\n",
            "56/56 [==============================] - 5s 86ms/step - loss: 1.7391 - accuracy: 0.4186\n",
            "Epoch 13/40\n",
            "56/56 [==============================] - 2s 42ms/step - loss: 1.7079 - accuracy: 0.4118\n",
            "Epoch 14/40\n",
            "56/56 [==============================] - 2s 41ms/step - loss: 1.6799 - accuracy: 0.4379\n",
            "Epoch 15/40\n",
            "56/56 [==============================] - 2s 42ms/step - loss: 1.6908 - accuracy: 0.4254\n",
            "Epoch 16/40\n",
            "56/56 [==============================] - 3s 45ms/step - loss: 1.6920 - accuracy: 0.4328\n",
            "Epoch 17/40\n",
            "56/56 [==============================] - 4s 71ms/step - loss: 1.6401 - accuracy: 0.4532\n",
            "Epoch 18/40\n",
            "56/56 [==============================] - 2s 41ms/step - loss: 1.6368 - accuracy: 0.4464\n",
            "Epoch 19/40\n",
            "56/56 [==============================] - 2s 41ms/step - loss: 1.6186 - accuracy: 0.4532\n",
            "Epoch 20/40\n",
            "56/56 [==============================] - 2s 39ms/step - loss: 1.6076 - accuracy: 0.4634\n",
            "Epoch 21/40\n",
            "56/56 [==============================] - 3s 47ms/step - loss: 1.5841 - accuracy: 0.4731\n",
            "Epoch 22/40\n",
            "56/56 [==============================] - 2s 42ms/step - loss: 1.6025 - accuracy: 0.4674\n",
            "Epoch 23/40\n",
            "56/56 [==============================] - 2s 40ms/step - loss: 1.5524 - accuracy: 0.4804\n",
            "Epoch 24/40\n",
            "56/56 [==============================] - 2s 40ms/step - loss: 1.5454 - accuracy: 0.4748\n",
            "Epoch 25/40\n",
            "56/56 [==============================] - 2s 43ms/step - loss: 1.5550 - accuracy: 0.4912\n",
            "Epoch 26/40\n",
            "56/56 [==============================] - 4s 67ms/step - loss: 1.5128 - accuracy: 0.4969\n",
            "Epoch 27/40\n",
            "56/56 [==============================] - 2s 40ms/step - loss: 1.5177 - accuracy: 0.4980\n",
            "Epoch 28/40\n",
            "56/56 [==============================] - 2s 41ms/step - loss: 1.4961 - accuracy: 0.5071\n",
            "Epoch 29/40\n",
            "56/56 [==============================] - 2s 40ms/step - loss: 1.5050 - accuracy: 0.5077\n",
            "Epoch 30/40\n",
            "56/56 [==============================] - 3s 50ms/step - loss: 1.4734 - accuracy: 0.5224\n",
            "Epoch 31/40\n",
            "56/56 [==============================] - 4s 66ms/step - loss: 1.4904 - accuracy: 0.5156\n",
            "Epoch 32/40\n",
            "56/56 [==============================] - 2s 41ms/step - loss: 1.4296 - accuracy: 0.5332\n",
            "Epoch 33/40\n",
            "56/56 [==============================] - 2s 41ms/step - loss: 1.4589 - accuracy: 0.5179\n",
            "Epoch 34/40\n",
            "56/56 [==============================] - 2s 38ms/step - loss: 1.4338 - accuracy: 0.5445\n",
            "Epoch 35/40\n",
            "56/56 [==============================] - 3s 54ms/step - loss: 1.4647 - accuracy: 0.5303\n",
            "Epoch 36/40\n",
            "56/56 [==============================] - 2s 43ms/step - loss: 1.4102 - accuracy: 0.5457\n",
            "Epoch 37/40\n",
            "56/56 [==============================] - 2s 41ms/step - loss: 1.4140 - accuracy: 0.5383\n",
            "Epoch 38/40\n",
            "56/56 [==============================] - 2s 38ms/step - loss: 1.4269 - accuracy: 0.5474\n",
            "Epoch 39/40\n",
            "56/56 [==============================] - 2s 41ms/step - loss: 1.4126 - accuracy: 0.5440\n",
            "Epoch 40/40\n",
            "56/56 [==============================] - 4s 71ms/step - loss: 1.3688 - accuracy: 0.5644\n"
          ]
        }
      ],
      "source": [
        "history = model1f.fit(train_generator, epochs=40, verbose = 1)"
      ]
    },
    {
      "cell_type": "markdown",
      "metadata": {
        "id": "6VOcIXg0IvCs"
      },
      "source": [
        "#Matriks Konfusi"
      ]
    },
    {
      "cell_type": "code",
      "execution_count": 14,
      "metadata": {
        "colab": {
          "base_uri": "https://localhost:8080/",
          "height": 617
        },
        "id": "Lz5lA0bDIxJg",
        "outputId": "e74fcda9-f9ac-4e98-9d0a-13c86fdf0b8e"
      },
      "outputs": [
        {
          "output_type": "stream",
          "name": "stdout",
          "text": [
            "14/14 [==============================] - 0s 30ms/step\n"
          ]
        },
        {
          "output_type": "display_data",
          "data": {
            "text/plain": [
              "<Figure size 800x600 with 2 Axes>"
            ],
            "image/png": "[encoded data removed]"
          },
          "metadata": {}
        }
      ],
      "source": [
        "from sklearn.metrics import confusion_matrix, classification_report\n",
        "import seaborn as sns\n",
        "import matplotlib.pyplot as plt\n",
        "\n",
        "# Fungsi untuk mendapatkan prediksi model dan label sebenarnya\n",
        "def get_predictions_and_labels(model, data_generator):\n",
        "    predictions = model.predict(data_generator)\n",
        "    true_classes = data_generator.classes\n",
        "    return predictions, true_classes\n",
        "\n",
        "# Mendapatkan prediksi dan label sebenarnya untuk data uji\n",
        "y_pred_prob, y_true = get_predictions_and_labels(model1f, test_generator)\n",
        "y_pred = np.argmax(y_pred_prob, axis=1)\n",
        "\n",
        "# Membuat matriks konfusi\n",
        "cf_matrix = confusion_matrix(y_true, y_pred)\n",
        "\n",
        "# Membuat visualisasi matriks konfusi\n",
        "fig, ax = plt.subplots(figsize=(8, 6))\n",
        "sns.heatmap(cf_matrix, annot=True, fmt='g', cmap='Blues', ax=ax)\n",
        "\n",
        "# Menetapkan label dan judul\n",
        "ax.set_title('Confusion Matrix with labels')\n",
        "ax.set_xlabel('Predicted Values')\n",
        "ax.set_ylabel('Actual Values')\n",
        "\n",
        "class_labels = list(test_generator.class_indices.keys())\n",
        "\n",
        "# Menetapkan label pada sumbu x dan y sesuai dengan jenis kelas\n",
        "ax.xaxis.set_ticklabels(class_labels, rotation=45)\n",
        "ax.yaxis.set_ticklabels(class_labels, rotation=45)\n",
        "\n",
        "# Menampilkan visualisasi Matriks Konfusi\n",
        "plt.show()"
      ]
    },
    {
      "cell_type": "code",
      "execution_count": 15,
      "metadata": {
        "colab": {
          "base_uri": "https://localhost:8080/"
        },
        "id": "S7iwBJlGZEUM",
        "outputId": "adbf6254-eb22-4e53-aa53-7ef88d310610"
      },
      "outputs": [
        {
          "output_type": "stream",
          "name": "stdout",
          "text": [
            "Test Accuracy: 0.20674157303370785\n"
          ]
        }
      ],
      "source": [
        "from sklearn.metrics import accuracy_score\n",
        "\n",
        "test_accuracy = accuracy_score(y_true, y_pred)\n",
        "print(f\"Test Accuracy: {test_accuracy}\")"
      ]
    }
  ],
  "metadata": {
    "colab": {
      "provenance": [],
      "include_colab_link": true
    },
    "kernelspec": {
      "display_name": "Python 3",
      "name": "python3"
    },
    "language_info": {
      "name": "python"
    }
  },
  "nbformat": 4,
  "nbformat_minor": 0
}